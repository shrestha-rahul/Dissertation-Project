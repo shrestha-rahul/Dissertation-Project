{
 "cells": [
  {
   "cell_type": "code",
   "execution_count": 455,
   "metadata": {},
   "outputs": [],
   "source": [
    "#Libraries\n",
    "import numpy as np \n",
    "import pandas as pd \n",
    "import matplotlib.pyplot as plt\n",
    "from datetime import date\n",
    "import pandas_datareader as data\n",
    "import yfinance as yf\n",
    "from pandas_datareader import *\n",
    "import math\n",
    "import seaborn as sns\n",
    "import warnings\n",
    "warnings.simplefilter(action='ignore', category=FutureWarning)"
   ]
  },
  {
   "cell_type": "code",
   "execution_count": 456,
   "metadata": {},
   "outputs": [],
   "source": [
    "#Getting data for the Apple Stock\n",
    "aapl = yf.Ticker(\"AAPL\")\n",
    "# Get historical market data\n",
    "aapl.dataset  = aapl.history(period=\"max\")\n"
   ]
  },
  {
   "cell_type": "code",
   "execution_count": 457,
   "metadata": {},
   "outputs": [
    {
     "data": {
      "text/plain": [
       "{'zip': '95014',\n",
       " 'sector': 'Technology',\n",
       " 'fullTimeEmployees': 154000,\n",
       " 'longBusinessSummary': 'Apple Inc. designs, manufactures, and markets smartphones, personal computers, tablets, wearables, and accessories worldwide. It also sells various related services. In addition, the company offers iPhone, a line of smartphones; Mac, a line of personal computers; iPad, a line of multi-purpose tablets; AirPods Max, an over-ear wireless headphone; and wearables, home, and accessories comprising AirPods, Apple TV, Apple Watch, Beats products, HomePod, and iPod touch. Further, it provides AppleCare support services; cloud services store services; and operates various platforms, including the App Store that allow customers to discover and download applications and digital content, such as books, music, video, games, and podcasts. Additionally, the company offers various services, such as Apple Arcade, a game subscription service; Apple Music, which offers users a curated listening experience with on-demand radio stations; Apple News+, a subscription news and magazine service; Apple TV+, which offers exclusive original content; Apple Card, a co-branded credit card; and Apple Pay, a cashless payment service, as well as licenses its intellectual property. The company serves consumers, and small and mid-sized businesses; and the education, enterprise, and government markets. It distributes third-party applications for its products through the App Store. The company also sells its products through its retail and online stores, and direct sales force; and third-party cellular network carriers, wholesalers, retailers, and resellers. Apple Inc. was incorporated in 1977 and is headquartered in Cupertino, California.',\n",
       " 'city': 'Cupertino',\n",
       " 'phone': '408 996 1010',\n",
       " 'state': 'CA',\n",
       " 'country': 'United States',\n",
       " 'companyOfficers': [],\n",
       " 'website': 'https://www.apple.com',\n",
       " 'maxAge': 1,\n",
       " 'address1': 'One Apple Park Way',\n",
       " 'industry': 'Consumer Electronics',\n",
       " 'ebitdaMargins': 0.33842,\n",
       " 'profitMargins': 0.26407,\n",
       " 'grossMargins': 0.43322,\n",
       " 'operatingCashflow': 116425998336,\n",
       " 'revenueGrowth': 0.086,\n",
       " 'operatingMargins': 0.30926,\n",
       " 'ebitda': 130633998336,\n",
       " 'targetLowPrice': 157,\n",
       " 'recommendationKey': 'buy',\n",
       " 'grossProfits': 152836000000,\n",
       " 'freeCashflow': 83916750848,\n",
       " 'targetMedianPrice': 191,\n",
       " 'currentPrice': 161.47,\n",
       " 'earningsGrowth': 0.086,\n",
       " 'currentRatio': 0.927,\n",
       " 'returnOnAssets': 0.21695,\n",
       " 'numberOfAnalystOpinions': 43,\n",
       " 'targetMeanPrice': 190.2,\n",
       " 'debtToEquity': 178.016,\n",
       " 'returnOnEquity': 1.49271,\n",
       " 'targetHighPrice': 215,\n",
       " 'totalCash': 51511001088,\n",
       " 'totalDebt': 119980998656,\n",
       " 'totalRevenue': 386017001472,\n",
       " 'totalCashPerShare': 3.178,\n",
       " 'financialCurrency': 'USD',\n",
       " 'revenuePerShare': 23.471,\n",
       " 'quickRatio': 0.76,\n",
       " 'recommendationMean': 1.9,\n",
       " 'exchange': 'NMS',\n",
       " 'shortName': 'Apple Inc.',\n",
       " 'longName': 'Apple Inc.',\n",
       " 'exchangeTimezoneName': 'America/New_York',\n",
       " 'exchangeTimezoneShortName': 'EDT',\n",
       " 'isEsgPopulated': False,\n",
       " 'gmtOffSetMilliseconds': '-14400000',\n",
       " 'quoteType': 'EQUITY',\n",
       " 'symbol': 'AAPL',\n",
       " 'messageBoardId': 'finmb_24937',\n",
       " 'market': 'us_market',\n",
       " 'annualHoldingsTurnover': None,\n",
       " 'enterpriseToRevenue': 6.797,\n",
       " 'beta3Year': None,\n",
       " 'enterpriseToEbitda': 20.084,\n",
       " '52WeekChange': 0.27963614,\n",
       " 'morningStarRiskRating': None,\n",
       " 'forwardEps': 6.54,\n",
       " 'revenueQuarterlyGrowth': None,\n",
       " 'sharesOutstanding': 16185199616,\n",
       " 'fundInceptionDate': None,\n",
       " 'annualReportExpenseRatio': None,\n",
       " 'totalAssets': None,\n",
       " 'bookValue': 4.158,\n",
       " 'sharesShort': 103292182,\n",
       " 'sharesPercentSharesOut': 0.0064,\n",
       " 'fundFamily': None,\n",
       " 'lastFiscalYearEnd': 1632528000,\n",
       " 'heldPercentInstitutions': 0.59765,\n",
       " 'netIncomeToCommon': 101934997504,\n",
       " 'trailingEps': 6.137,\n",
       " 'lastDividendValue': 0.22,\n",
       " 'SandP52WeekChange': 0.023455262,\n",
       " 'priceToBook': 38.833572,\n",
       " 'heldPercentInsiders': 0.00071000005,\n",
       " 'nextFiscalYearEnd': 1695600000,\n",
       " 'yield': None,\n",
       " 'mostRecentQuarter': 1648252800,\n",
       " 'shortRatio': 1.18,\n",
       " 'sharesShortPreviousMonthDate': 1647302400,\n",
       " 'floatShares': 16190874205,\n",
       " 'beta': None,\n",
       " 'enterpriseValue': 2623592988672,\n",
       " 'priceHint': 2,\n",
       " 'threeYearAverageReturn': None,\n",
       " 'lastSplitDate': 1598832000,\n",
       " 'lastSplitFactor': '4:1',\n",
       " 'legalType': None,\n",
       " 'lastDividendDate': 1643932800,\n",
       " 'morningStarOverallRating': None,\n",
       " 'earningsQuarterlyGrowth': 0.058,\n",
       " 'priceToSalesTrailing12Months': 6.7698116,\n",
       " 'dateShortInterest': 1649894400,\n",
       " 'pegRatio': 2.73,\n",
       " 'ytdReturn': None,\n",
       " 'forwardPE': 24.688074,\n",
       " 'lastCapGain': None,\n",
       " 'shortPercentOfFloat': 0.0064,\n",
       " 'sharesShortPriorMonth': 111286790,\n",
       " 'impliedSharesOutstanding': 0,\n",
       " 'category': None,\n",
       " 'fiveYearAverageReturn': None,\n",
       " 'previousClose': 166.02,\n",
       " 'regularMarketOpen': 163.85,\n",
       " 'twoHundredDayAverage': 159.53865,\n",
       " 'trailingAnnualDividendYield': 0.002650283,\n",
       " 'payoutRatio': 0.14310001,\n",
       " 'volume24Hr': None,\n",
       " 'regularMarketDayHigh': 164.07,\n",
       " 'navPrice': None,\n",
       " 'averageDailyVolume10Day': 103377020,\n",
       " 'regularMarketPreviousClose': 166.02,\n",
       " 'fiftyDayAverage': 165.496,\n",
       " 'trailingAnnualDividendRate': 0.44,\n",
       " 'open': 163.85,\n",
       " 'toCurrency': None,\n",
       " 'averageVolume10days': 103377020,\n",
       " 'expireDate': None,\n",
       " 'algorithm': None,\n",
       " 'dividendRate': 0.92,\n",
       " 'exDividendDate': 1651795200,\n",
       " 'circulatingSupply': None,\n",
       " 'startDate': None,\n",
       " 'regularMarketDayLow': 161.24,\n",
       " 'currency': 'USD',\n",
       " 'trailingPE': 26.309273,\n",
       " 'regularMarketVolume': 13970597,\n",
       " 'lastMarket': None,\n",
       " 'maxSupply': None,\n",
       " 'openInterest': None,\n",
       " 'marketCap': 2613262417920,\n",
       " 'volumeAllCurrencies': None,\n",
       " 'strikePrice': None,\n",
       " 'averageVolume': 89719018,\n",
       " 'dayLow': 161.24,\n",
       " 'ask': 162.31,\n",
       " 'askSize': 1200,\n",
       " 'volume': 13970597,\n",
       " 'fiftyTwoWeekHigh': 182.94,\n",
       " 'fromCurrency': None,\n",
       " 'fiveYearAvgDividendYield': 1.1,\n",
       " 'fiftyTwoWeekLow': 122.25,\n",
       " 'bid': 162.08,\n",
       " 'tradeable': False,\n",
       " 'dividendYield': 0.0058,\n",
       " 'bidSize': 800,\n",
       " 'dayHigh': 164.07,\n",
       " 'regularMarketPrice': 161.46,\n",
       " 'preMarketPrice': 163.7,\n",
       " 'logo_url': 'https://logo.clearbit.com/apple.com',\n",
       " 'trailingPegRatio': 3.0315}"
      ]
     },
     "execution_count": 457,
     "metadata": {},
     "output_type": "execute_result"
    }
   ],
   "source": [
    "# Apple Stocks Information\n",
    "aapl.info"
   ]
  },
  {
   "cell_type": "code",
   "execution_count": 458,
   "metadata": {},
   "outputs": [
    {
     "data": {
      "text/plain": [
       "(10438, 7)"
      ]
     },
     "execution_count": 458,
     "metadata": {},
     "output_type": "execute_result"
    }
   ],
   "source": [
    "#Dataframe basic information on rows and columns\n",
    "aapl.dataset.shape"
   ]
  },
  {
   "cell_type": "code",
   "execution_count": 459,
   "metadata": {},
   "outputs": [
    {
     "data": {
      "text/plain": [
       "Index(['Open', 'High', 'Low', 'Close', 'Volume', 'Dividends', 'Stock Splits'], dtype='object')"
      ]
     },
     "execution_count": 459,
     "metadata": {},
     "output_type": "execute_result"
    }
   ],
   "source": [
    "#Dataframe columns\n",
    "aapl.dataset .columns"
   ]
  },
  {
   "cell_type": "code",
   "execution_count": 460,
   "metadata": {},
   "outputs": [
    {
     "name": "stdout",
     "output_type": "stream",
     "text": [
      "0.000000    10364\n",
      "0.001071       21\n",
      "0.000714        4\n",
      "0.000893        4\n",
      "0.000982        4\n",
      "0.108929        4\n",
      "0.117500        4\n",
      "0.130000        4\n",
      "0.142500        4\n",
      "0.157500        4\n",
      "0.182500        4\n",
      "0.192500        4\n",
      "0.205000        4\n",
      "0.220000        4\n",
      "0.094643        3\n",
      "0.000536        2\n",
      "Name: Dividends, dtype: int64\n"
     ]
    }
   ],
   "source": [
    "# Distrubition of the Divdends\n",
    "print(aapl.dataset['Dividends'].value_counts())"
   ]
  },
  {
   "cell_type": "code",
   "execution_count": 461,
   "metadata": {},
   "outputs": [
    {
     "name": "stdout",
     "output_type": "stream",
     "text": [
      "0.0    10433\n",
      "2.0        3\n",
      "7.0        1\n",
      "4.0        1\n",
      "Name: Stock Splits, dtype: int64\n"
     ]
    }
   ],
   "source": [
    "#Distrubition of Stock Splits\n",
    "print(aapl.dataset['Stock Splits'].value_counts())"
   ]
  },
  {
   "cell_type": "code",
   "execution_count": 462,
   "metadata": {},
   "outputs": [
    {
     "data": {
      "text/html": [
       "<div>\n",
       "<style scoped>\n",
       "    .dataframe tbody tr th:only-of-type {\n",
       "        vertical-align: middle;\n",
       "    }\n",
       "\n",
       "    .dataframe tbody tr th {\n",
       "        vertical-align: top;\n",
       "    }\n",
       "\n",
       "    .dataframe thead th {\n",
       "        text-align: right;\n",
       "    }\n",
       "</style>\n",
       "<table border=\"1\" class=\"dataframe\">\n",
       "  <thead>\n",
       "    <tr style=\"text-align: right;\">\n",
       "      <th></th>\n",
       "      <th>Open</th>\n",
       "      <th>High</th>\n",
       "      <th>Low</th>\n",
       "      <th>Close</th>\n",
       "      <th>Volume</th>\n",
       "    </tr>\n",
       "    <tr>\n",
       "      <th>Date</th>\n",
       "      <th></th>\n",
       "      <th></th>\n",
       "      <th></th>\n",
       "      <th></th>\n",
       "      <th></th>\n",
       "    </tr>\n",
       "  </thead>\n",
       "  <tbody>\n",
       "    <tr>\n",
       "      <th>1980-12-12</th>\n",
       "      <td>0.100326</td>\n",
       "      <td>0.100762</td>\n",
       "      <td>0.100326</td>\n",
       "      <td>0.100326</td>\n",
       "      <td>469033600</td>\n",
       "    </tr>\n",
       "    <tr>\n",
       "      <th>1980-12-15</th>\n",
       "      <td>0.095528</td>\n",
       "      <td>0.095528</td>\n",
       "      <td>0.095092</td>\n",
       "      <td>0.095092</td>\n",
       "      <td>175884800</td>\n",
       "    </tr>\n",
       "    <tr>\n",
       "      <th>1980-12-16</th>\n",
       "      <td>0.088548</td>\n",
       "      <td>0.088548</td>\n",
       "      <td>0.088112</td>\n",
       "      <td>0.088112</td>\n",
       "      <td>105728000</td>\n",
       "    </tr>\n",
       "    <tr>\n",
       "      <th>1980-12-17</th>\n",
       "      <td>0.090293</td>\n",
       "      <td>0.090729</td>\n",
       "      <td>0.090293</td>\n",
       "      <td>0.090293</td>\n",
       "      <td>86441600</td>\n",
       "    </tr>\n",
       "    <tr>\n",
       "      <th>1980-12-18</th>\n",
       "      <td>0.092911</td>\n",
       "      <td>0.093347</td>\n",
       "      <td>0.092911</td>\n",
       "      <td>0.092911</td>\n",
       "      <td>73449600</td>\n",
       "    </tr>\n",
       "    <tr>\n",
       "      <th>...</th>\n",
       "      <td>...</td>\n",
       "      <td>...</td>\n",
       "      <td>...</td>\n",
       "      <td>...</td>\n",
       "      <td>...</td>\n",
       "    </tr>\n",
       "    <tr>\n",
       "      <th>2022-04-29</th>\n",
       "      <td>161.839996</td>\n",
       "      <td>166.199997</td>\n",
       "      <td>157.250000</td>\n",
       "      <td>157.649994</td>\n",
       "      <td>131587100</td>\n",
       "    </tr>\n",
       "    <tr>\n",
       "      <th>2022-05-02</th>\n",
       "      <td>156.710007</td>\n",
       "      <td>158.229996</td>\n",
       "      <td>153.270004</td>\n",
       "      <td>157.960007</td>\n",
       "      <td>123055300</td>\n",
       "    </tr>\n",
       "    <tr>\n",
       "      <th>2022-05-03</th>\n",
       "      <td>158.149994</td>\n",
       "      <td>160.710007</td>\n",
       "      <td>156.320007</td>\n",
       "      <td>159.479996</td>\n",
       "      <td>88966500</td>\n",
       "    </tr>\n",
       "    <tr>\n",
       "      <th>2022-05-04</th>\n",
       "      <td>159.669998</td>\n",
       "      <td>166.479996</td>\n",
       "      <td>159.259995</td>\n",
       "      <td>166.020004</td>\n",
       "      <td>108101500</td>\n",
       "    </tr>\n",
       "    <tr>\n",
       "      <th>2022-05-05</th>\n",
       "      <td>163.850006</td>\n",
       "      <td>164.070007</td>\n",
       "      <td>161.240005</td>\n",
       "      <td>161.450195</td>\n",
       "      <td>13969786</td>\n",
       "    </tr>\n",
       "  </tbody>\n",
       "</table>\n",
       "<p>10438 rows × 5 columns</p>\n",
       "</div>"
      ],
      "text/plain": [
       "                  Open        High         Low       Close     Volume\n",
       "Date                                                                 \n",
       "1980-12-12    0.100326    0.100762    0.100326    0.100326  469033600\n",
       "1980-12-15    0.095528    0.095528    0.095092    0.095092  175884800\n",
       "1980-12-16    0.088548    0.088548    0.088112    0.088112  105728000\n",
       "1980-12-17    0.090293    0.090729    0.090293    0.090293   86441600\n",
       "1980-12-18    0.092911    0.093347    0.092911    0.092911   73449600\n",
       "...                ...         ...         ...         ...        ...\n",
       "2022-04-29  161.839996  166.199997  157.250000  157.649994  131587100\n",
       "2022-05-02  156.710007  158.229996  153.270004  157.960007  123055300\n",
       "2022-05-03  158.149994  160.710007  156.320007  159.479996   88966500\n",
       "2022-05-04  159.669998  166.479996  159.259995  166.020004  108101500\n",
       "2022-05-05  163.850006  164.070007  161.240005  161.450195   13969786\n",
       "\n",
       "[10438 rows x 5 columns]"
      ]
     },
     "execution_count": 462,
     "metadata": {},
     "output_type": "execute_result"
    }
   ],
   "source": [
    "# Dropping Divdends and Stock Splits Columns\n",
    "aapl.dataset.drop(['Dividends', 'Stock Splits'], axis = 1)"
   ]
  },
  {
   "cell_type": "code",
   "execution_count": 463,
   "metadata": {},
   "outputs": [
    {
     "data": {
      "text/plain": [
       "Index(['Open', 'High', 'Low', 'Close', 'Volume', 'Dividends', 'Stock Splits'], dtype='object')"
      ]
     },
     "execution_count": 463,
     "metadata": {},
     "output_type": "execute_result"
    }
   ],
   "source": [
    "#YFinance Bug\n",
    "aapl.dataset.columns"
   ]
  },
  {
   "cell_type": "code",
   "execution_count": 464,
   "metadata": {},
   "outputs": [
    {
     "data": {
      "text/html": [
       "<div>\n",
       "<style scoped>\n",
       "    .dataframe tbody tr th:only-of-type {\n",
       "        vertical-align: middle;\n",
       "    }\n",
       "\n",
       "    .dataframe tbody tr th {\n",
       "        vertical-align: top;\n",
       "    }\n",
       "\n",
       "    .dataframe thead th {\n",
       "        text-align: right;\n",
       "    }\n",
       "</style>\n",
       "<table border=\"1\" class=\"dataframe\">\n",
       "  <thead>\n",
       "    <tr style=\"text-align: right;\">\n",
       "      <th></th>\n",
       "      <th>Open</th>\n",
       "      <th>Close</th>\n",
       "      <th>High</th>\n",
       "      <th>Low</th>\n",
       "      <th>Volume</th>\n",
       "    </tr>\n",
       "    <tr>\n",
       "      <th>Date</th>\n",
       "      <th></th>\n",
       "      <th></th>\n",
       "      <th></th>\n",
       "      <th></th>\n",
       "      <th></th>\n",
       "    </tr>\n",
       "  </thead>\n",
       "  <tbody>\n",
       "    <tr>\n",
       "      <th>2022-04-29</th>\n",
       "      <td>161.839996</td>\n",
       "      <td>157.649994</td>\n",
       "      <td>166.199997</td>\n",
       "      <td>157.250000</td>\n",
       "      <td>131587100</td>\n",
       "    </tr>\n",
       "    <tr>\n",
       "      <th>2022-05-02</th>\n",
       "      <td>156.710007</td>\n",
       "      <td>157.960007</td>\n",
       "      <td>158.229996</td>\n",
       "      <td>153.270004</td>\n",
       "      <td>123055300</td>\n",
       "    </tr>\n",
       "    <tr>\n",
       "      <th>2022-05-03</th>\n",
       "      <td>158.149994</td>\n",
       "      <td>159.479996</td>\n",
       "      <td>160.710007</td>\n",
       "      <td>156.320007</td>\n",
       "      <td>88966500</td>\n",
       "    </tr>\n",
       "    <tr>\n",
       "      <th>2022-05-04</th>\n",
       "      <td>159.669998</td>\n",
       "      <td>166.020004</td>\n",
       "      <td>166.479996</td>\n",
       "      <td>159.259995</td>\n",
       "      <td>108101500</td>\n",
       "    </tr>\n",
       "    <tr>\n",
       "      <th>2022-05-05</th>\n",
       "      <td>163.850006</td>\n",
       "      <td>161.450195</td>\n",
       "      <td>164.070007</td>\n",
       "      <td>161.240005</td>\n",
       "      <td>13969786</td>\n",
       "    </tr>\n",
       "  </tbody>\n",
       "</table>\n",
       "</div>"
      ],
      "text/plain": [
       "                  Open       Close        High         Low     Volume\n",
       "Date                                                                 \n",
       "2022-04-29  161.839996  157.649994  166.199997  157.250000  131587100\n",
       "2022-05-02  156.710007  157.960007  158.229996  153.270004  123055300\n",
       "2022-05-03  158.149994  159.479996  160.710007  156.320007   88966500\n",
       "2022-05-04  159.669998  166.020004  166.479996  159.259995  108101500\n",
       "2022-05-05  163.850006  161.450195  164.070007  161.240005   13969786"
      ]
     },
     "execution_count": 464,
     "metadata": {},
     "output_type": "execute_result"
    }
   ],
   "source": [
    "#YFinance Bug- Dropped columns appears after being dropped so copying into new dataset\n",
    "dataset = aapl.dataset [['Open', 'Close', 'High', 'Low','Volume']].copy()\n",
    "dataset.tail()"
   ]
  },
  {
   "cell_type": "code",
   "execution_count": 465,
   "metadata": {},
   "outputs": [
    {
     "data": {
      "text/plain": [
       "Index(['Open', 'Close', 'High', 'Low', 'Volume'], dtype='object')"
      ]
     },
     "execution_count": 465,
     "metadata": {},
     "output_type": "execute_result"
    }
   ],
   "source": [
    "#Columns Finally Dropped\n",
    "dataset.columns"
   ]
  },
  {
   "cell_type": "markdown",
   "metadata": {},
   "source": [
    "ADDING TECHNICAL INDICATORS TO DATASET"
   ]
  },
  {
   "cell_type": "code",
   "execution_count": 466,
   "metadata": {},
   "outputs": [],
   "source": [
    "#Stochastic Oscillator Indicator\n",
    "# Calculating %K and %D\n",
    "dataset['14-high'] = dataset['High'].rolling(14).max()\n",
    "dataset['14-low'] = dataset['Low'].rolling(14).min()\n",
    "dataset['%K'] = (dataset['Close'] - dataset['14-low'])*100/(dataset['14-high'] - dataset['14-low'])\n",
    "dataset['%D'] = dataset['%K'].rolling(3).mean()\n"
   ]
  },
  {
   "cell_type": "code",
   "execution_count": 467,
   "metadata": {},
   "outputs": [],
   "source": [
    "#Dropping 14-HIGH AND 14-LOW COLUMNS\n",
    "dataset.drop(['14-high', '14-low'], axis = 1, inplace=True)"
   ]
  },
  {
   "cell_type": "code",
   "execution_count": 468,
   "metadata": {},
   "outputs": [],
   "source": [
    "#Relative Strength Index\n",
    "#Calculating the RSI\n",
    "\n",
    "delta = dataset['Close'].diff()\n",
    "close_up = delta.clip(lower=0)\n",
    "close_down = -1*delta.clip(upper=0)\n",
    "ema_up = close_up.ewm(com=13, adjust=False).mean()\n",
    "ema_down =  close_down.ewm(com=13, adjust=False).mean()\n",
    "rs = ema_up/ema_down\n",
    "\n",
    "#Adding RSI Column\n",
    "dataset['RSI'] = 100 - (100/(1 + rs))"
   ]
  },
  {
   "cell_type": "code",
   "execution_count": 469,
   "metadata": {},
   "outputs": [],
   "source": [
    "#Bollinger Bands\n",
    "\n",
    "def get_sma(prices, rate):\n",
    "    return prices.rolling(rate).mean()\n",
    "\n",
    "def get_bollinger_bands(prices, rate=20):\n",
    "    # SMA for 20 Days (Middle Band)\n",
    "    sma = get_sma(prices, rate)\n",
    "    std = prices.rolling(rate).std()\n",
    "\n",
    "    # Calculating Upper Band\n",
    "    bollinger_upper = sma + (std * 2 )\n",
    "\n",
    "    # Calculate Lower Band\n",
    "    bollinger_lower = sma - (std * 2 )\n",
    "\n",
    "    #Middle Band\n",
    "    bollinger_middle = sma\n",
    "    return bollinger_upper, bollinger_lower, bollinger_middle\n",
    "\n",
    "\n",
    "closing_prices = dataset['Close']\n",
    "bollinger_upper, bollinger_lower, bollinger_middle = get_bollinger_bands(closing_prices)\n",
    "\n",
    "#Adding Bollinger Bands to the Dataset\n",
    "dataset['Bollinger_Upper'] = bollinger_upper\n",
    "dataset['Bollinger_Lower'] = bollinger_lower\n"
   ]
  },
  {
   "cell_type": "code",
   "execution_count": 470,
   "metadata": {},
   "outputs": [
    {
     "data": {
      "text/html": [
       "<div>\n",
       "<style scoped>\n",
       "    .dataframe tbody tr th:only-of-type {\n",
       "        vertical-align: middle;\n",
       "    }\n",
       "\n",
       "    .dataframe tbody tr th {\n",
       "        vertical-align: top;\n",
       "    }\n",
       "\n",
       "    .dataframe thead th {\n",
       "        text-align: right;\n",
       "    }\n",
       "</style>\n",
       "<table border=\"1\" class=\"dataframe\">\n",
       "  <thead>\n",
       "    <tr style=\"text-align: right;\">\n",
       "      <th></th>\n",
       "      <th>Open</th>\n",
       "      <th>Close</th>\n",
       "      <th>High</th>\n",
       "      <th>Low</th>\n",
       "      <th>Volume</th>\n",
       "      <th>%K</th>\n",
       "      <th>%D</th>\n",
       "      <th>RSI</th>\n",
       "      <th>Bollinger_Upper</th>\n",
       "      <th>Bollinger_Lower</th>\n",
       "    </tr>\n",
       "    <tr>\n",
       "      <th>Date</th>\n",
       "      <th></th>\n",
       "      <th></th>\n",
       "      <th></th>\n",
       "      <th></th>\n",
       "      <th></th>\n",
       "      <th></th>\n",
       "      <th></th>\n",
       "      <th></th>\n",
       "      <th></th>\n",
       "      <th></th>\n",
       "    </tr>\n",
       "  </thead>\n",
       "  <tbody>\n",
       "    <tr>\n",
       "      <th>1980-12-12</th>\n",
       "      <td>0.100326</td>\n",
       "      <td>0.100326</td>\n",
       "      <td>0.100762</td>\n",
       "      <td>0.100326</td>\n",
       "      <td>469033600</td>\n",
       "      <td>NaN</td>\n",
       "      <td>NaN</td>\n",
       "      <td>NaN</td>\n",
       "      <td>NaN</td>\n",
       "      <td>NaN</td>\n",
       "    </tr>\n",
       "    <tr>\n",
       "      <th>1980-12-15</th>\n",
       "      <td>0.095528</td>\n",
       "      <td>0.095092</td>\n",
       "      <td>0.095528</td>\n",
       "      <td>0.095092</td>\n",
       "      <td>175884800</td>\n",
       "      <td>NaN</td>\n",
       "      <td>NaN</td>\n",
       "      <td>0.000000</td>\n",
       "      <td>NaN</td>\n",
       "      <td>NaN</td>\n",
       "    </tr>\n",
       "    <tr>\n",
       "      <th>1980-12-16</th>\n",
       "      <td>0.088548</td>\n",
       "      <td>0.088112</td>\n",
       "      <td>0.088548</td>\n",
       "      <td>0.088112</td>\n",
       "      <td>105728000</td>\n",
       "      <td>NaN</td>\n",
       "      <td>NaN</td>\n",
       "      <td>0.000000</td>\n",
       "      <td>NaN</td>\n",
       "      <td>NaN</td>\n",
       "    </tr>\n",
       "    <tr>\n",
       "      <th>1980-12-17</th>\n",
       "      <td>0.090293</td>\n",
       "      <td>0.090293</td>\n",
       "      <td>0.090729</td>\n",
       "      <td>0.090293</td>\n",
       "      <td>86441600</td>\n",
       "      <td>NaN</td>\n",
       "      <td>NaN</td>\n",
       "      <td>3.035529</td>\n",
       "      <td>NaN</td>\n",
       "      <td>NaN</td>\n",
       "    </tr>\n",
       "    <tr>\n",
       "      <th>1980-12-18</th>\n",
       "      <td>0.092911</td>\n",
       "      <td>0.092911</td>\n",
       "      <td>0.093347</td>\n",
       "      <td>0.092911</td>\n",
       "      <td>73449600</td>\n",
       "      <td>NaN</td>\n",
       "      <td>NaN</td>\n",
       "      <td>6.696748</td>\n",
       "      <td>NaN</td>\n",
       "      <td>NaN</td>\n",
       "    </tr>\n",
       "    <tr>\n",
       "      <th>...</th>\n",
       "      <td>...</td>\n",
       "      <td>...</td>\n",
       "      <td>...</td>\n",
       "      <td>...</td>\n",
       "      <td>...</td>\n",
       "      <td>...</td>\n",
       "      <td>...</td>\n",
       "      <td>...</td>\n",
       "      <td>...</td>\n",
       "      <td>...</td>\n",
       "    </tr>\n",
       "    <tr>\n",
       "      <th>2022-04-29</th>\n",
       "      <td>161.839996</td>\n",
       "      <td>157.649994</td>\n",
       "      <td>166.199997</td>\n",
       "      <td>157.250000</td>\n",
       "      <td>131587100</td>\n",
       "      <td>14.055665</td>\n",
       "      <td>23.679995</td>\n",
       "      <td>39.961846</td>\n",
       "      <td>178.823989</td>\n",
       "      <td>154.818010</td>\n",
       "    </tr>\n",
       "    <tr>\n",
       "      <th>2022-05-02</th>\n",
       "      <td>156.710007</td>\n",
       "      <td>157.960007</td>\n",
       "      <td>158.229996</td>\n",
       "      <td>153.270004</td>\n",
       "      <td>123055300</td>\n",
       "      <td>25.684578</td>\n",
       "      <td>30.035360</td>\n",
       "      <td>40.436708</td>\n",
       "      <td>178.085734</td>\n",
       "      <td>153.921266</td>\n",
       "    </tr>\n",
       "    <tr>\n",
       "      <th>2022-05-03</th>\n",
       "      <td>158.149994</td>\n",
       "      <td>159.479996</td>\n",
       "      <td>160.710007</td>\n",
       "      <td>156.320007</td>\n",
       "      <td>88966500</td>\n",
       "      <td>34.008726</td>\n",
       "      <td>24.582989</td>\n",
       "      <td>42.824495</td>\n",
       "      <td>175.945593</td>\n",
       "      <td>154.165405</td>\n",
       "    </tr>\n",
       "    <tr>\n",
       "      <th>2022-05-04</th>\n",
       "      <td>159.669998</td>\n",
       "      <td>166.020004</td>\n",
       "      <td>166.479996</td>\n",
       "      <td>159.259995</td>\n",
       "      <td>108101500</td>\n",
       "      <td>69.824775</td>\n",
       "      <td>43.172693</td>\n",
       "      <td>51.781334</td>\n",
       "      <td>174.445156</td>\n",
       "      <td>154.761843</td>\n",
       "    </tr>\n",
       "    <tr>\n",
       "      <th>2022-05-05</th>\n",
       "      <td>163.850006</td>\n",
       "      <td>161.450195</td>\n",
       "      <td>164.070007</td>\n",
       "      <td>161.240005</td>\n",
       "      <td>13969786</td>\n",
       "      <td>44.798431</td>\n",
       "      <td>49.543977</td>\n",
       "      <td>46.320911</td>\n",
       "      <td>173.402408</td>\n",
       "      <td>154.766610</td>\n",
       "    </tr>\n",
       "  </tbody>\n",
       "</table>\n",
       "<p>10438 rows × 10 columns</p>\n",
       "</div>"
      ],
      "text/plain": [
       "                  Open       Close        High         Low     Volume  \\\n",
       "Date                                                                    \n",
       "1980-12-12    0.100326    0.100326    0.100762    0.100326  469033600   \n",
       "1980-12-15    0.095528    0.095092    0.095528    0.095092  175884800   \n",
       "1980-12-16    0.088548    0.088112    0.088548    0.088112  105728000   \n",
       "1980-12-17    0.090293    0.090293    0.090729    0.090293   86441600   \n",
       "1980-12-18    0.092911    0.092911    0.093347    0.092911   73449600   \n",
       "...                ...         ...         ...         ...        ...   \n",
       "2022-04-29  161.839996  157.649994  166.199997  157.250000  131587100   \n",
       "2022-05-02  156.710007  157.960007  158.229996  153.270004  123055300   \n",
       "2022-05-03  158.149994  159.479996  160.710007  156.320007   88966500   \n",
       "2022-05-04  159.669998  166.020004  166.479996  159.259995  108101500   \n",
       "2022-05-05  163.850006  161.450195  164.070007  161.240005   13969786   \n",
       "\n",
       "                   %K         %D        RSI  Bollinger_Upper  Bollinger_Lower  \n",
       "Date                                                                           \n",
       "1980-12-12        NaN        NaN        NaN              NaN              NaN  \n",
       "1980-12-15        NaN        NaN   0.000000              NaN              NaN  \n",
       "1980-12-16        NaN        NaN   0.000000              NaN              NaN  \n",
       "1980-12-17        NaN        NaN   3.035529              NaN              NaN  \n",
       "1980-12-18        NaN        NaN   6.696748              NaN              NaN  \n",
       "...               ...        ...        ...              ...              ...  \n",
       "2022-04-29  14.055665  23.679995  39.961846       178.823989       154.818010  \n",
       "2022-05-02  25.684578  30.035360  40.436708       178.085734       153.921266  \n",
       "2022-05-03  34.008726  24.582989  42.824495       175.945593       154.165405  \n",
       "2022-05-04  69.824775  43.172693  51.781334       174.445156       154.761843  \n",
       "2022-05-05  44.798431  49.543977  46.320911       173.402408       154.766610  \n",
       "\n",
       "[10438 rows x 10 columns]"
      ]
     },
     "execution_count": 470,
     "metadata": {},
     "output_type": "execute_result"
    }
   ],
   "source": [
    "#Dataset after Bollinger \n",
    "dataset"
   ]
  },
  {
   "cell_type": "code",
   "execution_count": 471,
   "metadata": {},
   "outputs": [],
   "source": [
    "# Calculating the MACD Line and the Signal Line\n",
    "ema12 = dataset['Close'].ewm(span=12, adjust=False).mean()\n",
    "ema26 = dataset['Close'].ewm(span=26, adjust=False).mean()\n",
    "macd = ema12 - ema26\n",
    "signal = macd.ewm(span=9, adjust=False).mean()\n",
    "\n",
    "\n",
    "#Appeding the MACD and Signal Data to Dataset\n",
    "dataset['MACD'] = macd\n",
    "dataset['Signal'] = signal"
   ]
  },
  {
   "cell_type": "code",
   "execution_count": 472,
   "metadata": {},
   "outputs": [
    {
     "data": {
      "text/html": [
       "<div>\n",
       "<style scoped>\n",
       "    .dataframe tbody tr th:only-of-type {\n",
       "        vertical-align: middle;\n",
       "    }\n",
       "\n",
       "    .dataframe tbody tr th {\n",
       "        vertical-align: top;\n",
       "    }\n",
       "\n",
       "    .dataframe thead th {\n",
       "        text-align: right;\n",
       "    }\n",
       "</style>\n",
       "<table border=\"1\" class=\"dataframe\">\n",
       "  <thead>\n",
       "    <tr style=\"text-align: right;\">\n",
       "      <th></th>\n",
       "      <th>Open</th>\n",
       "      <th>Close</th>\n",
       "      <th>High</th>\n",
       "      <th>Low</th>\n",
       "      <th>Volume</th>\n",
       "      <th>%K</th>\n",
       "      <th>%D</th>\n",
       "      <th>RSI</th>\n",
       "      <th>Bollinger_Upper</th>\n",
       "      <th>Bollinger_Lower</th>\n",
       "      <th>MACD</th>\n",
       "      <th>Signal</th>\n",
       "    </tr>\n",
       "    <tr>\n",
       "      <th>Date</th>\n",
       "      <th></th>\n",
       "      <th></th>\n",
       "      <th></th>\n",
       "      <th></th>\n",
       "      <th></th>\n",
       "      <th></th>\n",
       "      <th></th>\n",
       "      <th></th>\n",
       "      <th></th>\n",
       "      <th></th>\n",
       "      <th></th>\n",
       "      <th></th>\n",
       "    </tr>\n",
       "  </thead>\n",
       "  <tbody>\n",
       "    <tr>\n",
       "      <th>1980-12-12</th>\n",
       "      <td>0.100326</td>\n",
       "      <td>0.100326</td>\n",
       "      <td>0.100762</td>\n",
       "      <td>0.100326</td>\n",
       "      <td>469033600</td>\n",
       "      <td>NaN</td>\n",
       "      <td>NaN</td>\n",
       "      <td>NaN</td>\n",
       "      <td>NaN</td>\n",
       "      <td>NaN</td>\n",
       "      <td>0.000000</td>\n",
       "      <td>0.000000</td>\n",
       "    </tr>\n",
       "    <tr>\n",
       "      <th>1980-12-15</th>\n",
       "      <td>0.095528</td>\n",
       "      <td>0.095092</td>\n",
       "      <td>0.095528</td>\n",
       "      <td>0.095092</td>\n",
       "      <td>175884800</td>\n",
       "      <td>NaN</td>\n",
       "      <td>NaN</td>\n",
       "      <td>0.000000</td>\n",
       "      <td>NaN</td>\n",
       "      <td>NaN</td>\n",
       "      <td>-0.000418</td>\n",
       "      <td>-0.000084</td>\n",
       "    </tr>\n",
       "    <tr>\n",
       "      <th>1980-12-16</th>\n",
       "      <td>0.088548</td>\n",
       "      <td>0.088112</td>\n",
       "      <td>0.088548</td>\n",
       "      <td>0.088112</td>\n",
       "      <td>105728000</td>\n",
       "      <td>NaN</td>\n",
       "      <td>NaN</td>\n",
       "      <td>0.000000</td>\n",
       "      <td>NaN</td>\n",
       "      <td>NaN</td>\n",
       "      <td>-0.001297</td>\n",
       "      <td>-0.000326</td>\n",
       "    </tr>\n",
       "    <tr>\n",
       "      <th>1980-12-17</th>\n",
       "      <td>0.090293</td>\n",
       "      <td>0.090293</td>\n",
       "      <td>0.090729</td>\n",
       "      <td>0.090293</td>\n",
       "      <td>86441600</td>\n",
       "      <td>NaN</td>\n",
       "      <td>NaN</td>\n",
       "      <td>3.035529</td>\n",
       "      <td>NaN</td>\n",
       "      <td>NaN</td>\n",
       "      <td>-0.001797</td>\n",
       "      <td>-0.000620</td>\n",
       "    </tr>\n",
       "    <tr>\n",
       "      <th>1980-12-18</th>\n",
       "      <td>0.092911</td>\n",
       "      <td>0.092911</td>\n",
       "      <td>0.093347</td>\n",
       "      <td>0.092911</td>\n",
       "      <td>73449600</td>\n",
       "      <td>NaN</td>\n",
       "      <td>NaN</td>\n",
       "      <td>6.696748</td>\n",
       "      <td>NaN</td>\n",
       "      <td>NaN</td>\n",
       "      <td>-0.001959</td>\n",
       "      <td>-0.000888</td>\n",
       "    </tr>\n",
       "    <tr>\n",
       "      <th>...</th>\n",
       "      <td>...</td>\n",
       "      <td>...</td>\n",
       "      <td>...</td>\n",
       "      <td>...</td>\n",
       "      <td>...</td>\n",
       "      <td>...</td>\n",
       "      <td>...</td>\n",
       "      <td>...</td>\n",
       "      <td>...</td>\n",
       "      <td>...</td>\n",
       "      <td>...</td>\n",
       "      <td>...</td>\n",
       "    </tr>\n",
       "    <tr>\n",
       "      <th>2022-04-29</th>\n",
       "      <td>161.839996</td>\n",
       "      <td>157.649994</td>\n",
       "      <td>166.199997</td>\n",
       "      <td>157.250000</td>\n",
       "      <td>131587100</td>\n",
       "      <td>14.055665</td>\n",
       "      <td>23.679995</td>\n",
       "      <td>39.961846</td>\n",
       "      <td>178.823989</td>\n",
       "      <td>154.818010</td>\n",
       "      <td>-2.538138</td>\n",
       "      <td>-1.357149</td>\n",
       "    </tr>\n",
       "    <tr>\n",
       "      <th>2022-05-02</th>\n",
       "      <td>156.710007</td>\n",
       "      <td>157.960007</td>\n",
       "      <td>158.229996</td>\n",
       "      <td>153.270004</td>\n",
       "      <td>123055300</td>\n",
       "      <td>25.684578</td>\n",
       "      <td>30.035360</td>\n",
       "      <td>40.436708</td>\n",
       "      <td>178.085734</td>\n",
       "      <td>153.921266</td>\n",
       "      <td>-2.738726</td>\n",
       "      <td>-1.633464</td>\n",
       "    </tr>\n",
       "    <tr>\n",
       "      <th>2022-05-03</th>\n",
       "      <td>158.149994</td>\n",
       "      <td>159.479996</td>\n",
       "      <td>160.710007</td>\n",
       "      <td>156.320007</td>\n",
       "      <td>88966500</td>\n",
       "      <td>34.008726</td>\n",
       "      <td>24.582989</td>\n",
       "      <td>42.824495</td>\n",
       "      <td>175.945593</td>\n",
       "      <td>154.165405</td>\n",
       "      <td>-2.743419</td>\n",
       "      <td>-1.855455</td>\n",
       "    </tr>\n",
       "    <tr>\n",
       "      <th>2022-05-04</th>\n",
       "      <td>159.669998</td>\n",
       "      <td>166.020004</td>\n",
       "      <td>166.479996</td>\n",
       "      <td>159.259995</td>\n",
       "      <td>108101500</td>\n",
       "      <td>69.824775</td>\n",
       "      <td>43.172693</td>\n",
       "      <td>51.781334</td>\n",
       "      <td>174.445156</td>\n",
       "      <td>154.761843</td>\n",
       "      <td>-2.194122</td>\n",
       "      <td>-1.923189</td>\n",
       "    </tr>\n",
       "    <tr>\n",
       "      <th>2022-05-05</th>\n",
       "      <td>163.850006</td>\n",
       "      <td>161.450195</td>\n",
       "      <td>164.070007</td>\n",
       "      <td>161.240005</td>\n",
       "      <td>13969786</td>\n",
       "      <td>44.798431</td>\n",
       "      <td>49.543977</td>\n",
       "      <td>46.320911</td>\n",
       "      <td>173.402408</td>\n",
       "      <td>154.766610</td>\n",
       "      <td>-2.103300</td>\n",
       "      <td>-1.959211</td>\n",
       "    </tr>\n",
       "  </tbody>\n",
       "</table>\n",
       "<p>10438 rows × 12 columns</p>\n",
       "</div>"
      ],
      "text/plain": [
       "                  Open       Close        High         Low     Volume  \\\n",
       "Date                                                                    \n",
       "1980-12-12    0.100326    0.100326    0.100762    0.100326  469033600   \n",
       "1980-12-15    0.095528    0.095092    0.095528    0.095092  175884800   \n",
       "1980-12-16    0.088548    0.088112    0.088548    0.088112  105728000   \n",
       "1980-12-17    0.090293    0.090293    0.090729    0.090293   86441600   \n",
       "1980-12-18    0.092911    0.092911    0.093347    0.092911   73449600   \n",
       "...                ...         ...         ...         ...        ...   \n",
       "2022-04-29  161.839996  157.649994  166.199997  157.250000  131587100   \n",
       "2022-05-02  156.710007  157.960007  158.229996  153.270004  123055300   \n",
       "2022-05-03  158.149994  159.479996  160.710007  156.320007   88966500   \n",
       "2022-05-04  159.669998  166.020004  166.479996  159.259995  108101500   \n",
       "2022-05-05  163.850006  161.450195  164.070007  161.240005   13969786   \n",
       "\n",
       "                   %K         %D        RSI  Bollinger_Upper  Bollinger_Lower  \\\n",
       "Date                                                                            \n",
       "1980-12-12        NaN        NaN        NaN              NaN              NaN   \n",
       "1980-12-15        NaN        NaN   0.000000              NaN              NaN   \n",
       "1980-12-16        NaN        NaN   0.000000              NaN              NaN   \n",
       "1980-12-17        NaN        NaN   3.035529              NaN              NaN   \n",
       "1980-12-18        NaN        NaN   6.696748              NaN              NaN   \n",
       "...               ...        ...        ...              ...              ...   \n",
       "2022-04-29  14.055665  23.679995  39.961846       178.823989       154.818010   \n",
       "2022-05-02  25.684578  30.035360  40.436708       178.085734       153.921266   \n",
       "2022-05-03  34.008726  24.582989  42.824495       175.945593       154.165405   \n",
       "2022-05-04  69.824775  43.172693  51.781334       174.445156       154.761843   \n",
       "2022-05-05  44.798431  49.543977  46.320911       173.402408       154.766610   \n",
       "\n",
       "                MACD    Signal  \n",
       "Date                            \n",
       "1980-12-12  0.000000  0.000000  \n",
       "1980-12-15 -0.000418 -0.000084  \n",
       "1980-12-16 -0.001297 -0.000326  \n",
       "1980-12-17 -0.001797 -0.000620  \n",
       "1980-12-18 -0.001959 -0.000888  \n",
       "...              ...       ...  \n",
       "2022-04-29 -2.538138 -1.357149  \n",
       "2022-05-02 -2.738726 -1.633464  \n",
       "2022-05-03 -2.743419 -1.855455  \n",
       "2022-05-04 -2.194122 -1.923189  \n",
       "2022-05-05 -2.103300 -1.959211  \n",
       "\n",
       "[10438 rows x 12 columns]"
      ]
     },
     "execution_count": 472,
     "metadata": {},
     "output_type": "execute_result"
    }
   ],
   "source": [
    "#Dataset after MACD\n",
    "dataset"
   ]
  },
  {
   "cell_type": "markdown",
   "metadata": {},
   "source": [
    "Exploratory Data Analysis"
   ]
  },
  {
   "cell_type": "code",
   "execution_count": 473,
   "metadata": {},
   "outputs": [
    {
     "data": {
      "text/plain": [
       "(10438, 12)"
      ]
     },
     "execution_count": 473,
     "metadata": {},
     "output_type": "execute_result"
    }
   ],
   "source": [
    "#Dataset shape after adding all the technical indicators \n",
    "dataset.shape"
   ]
  },
  {
   "cell_type": "code",
   "execution_count": 474,
   "metadata": {},
   "outputs": [
    {
     "data": {
      "text/plain": [
       "Index(['Open', 'Close', 'High', 'Low', 'Volume', '%K', '%D', 'RSI',\n",
       "       'Bollinger_Upper', 'Bollinger_Lower', 'MACD', 'Signal'],\n",
       "      dtype='object')"
      ]
     },
     "execution_count": 474,
     "metadata": {},
     "output_type": "execute_result"
    }
   ],
   "source": [
    "#Columns After Adding All The Technical Indicators\n",
    "dataset.columns"
   ]
  },
  {
   "cell_type": "code",
   "execution_count": 475,
   "metadata": {},
   "outputs": [
    {
     "name": "stdout",
     "output_type": "stream",
     "text": [
      "<class 'pandas.core.frame.DataFrame'>\n",
      "DatetimeIndex: 10438 entries, 1980-12-12 to 2022-05-05\n",
      "Data columns (total 12 columns):\n",
      " #   Column           Non-Null Count  Dtype  \n",
      "---  ------           --------------  -----  \n",
      " 0   Open             10438 non-null  float64\n",
      " 1   Close            10438 non-null  float64\n",
      " 2   High             10438 non-null  float64\n",
      " 3   Low              10438 non-null  float64\n",
      " 4   Volume           10438 non-null  int64  \n",
      " 5   %K               10425 non-null  float64\n",
      " 6   %D               10423 non-null  float64\n",
      " 7   RSI              10437 non-null  float64\n",
      " 8   Bollinger_Upper  10419 non-null  float64\n",
      " 9   Bollinger_Lower  10419 non-null  float64\n",
      " 10  MACD             10438 non-null  float64\n",
      " 11  Signal           10438 non-null  float64\n",
      "dtypes: float64(11), int64(1)\n",
      "memory usage: 1.0 MB\n"
     ]
    }
   ],
   "source": [
    "#Information regarding the dataset\n",
    "dataset.info()"
   ]
  },
  {
   "cell_type": "code",
   "execution_count": 476,
   "metadata": {},
   "outputs": [
    {
     "data": {
      "text/html": [
       "<div>\n",
       "<style scoped>\n",
       "    .dataframe tbody tr th:only-of-type {\n",
       "        vertical-align: middle;\n",
       "    }\n",
       "\n",
       "    .dataframe tbody tr th {\n",
       "        vertical-align: top;\n",
       "    }\n",
       "\n",
       "    .dataframe thead th {\n",
       "        text-align: right;\n",
       "    }\n",
       "</style>\n",
       "<table border=\"1\" class=\"dataframe\">\n",
       "  <thead>\n",
       "    <tr style=\"text-align: right;\">\n",
       "      <th></th>\n",
       "      <th>Open</th>\n",
       "      <th>Close</th>\n",
       "      <th>High</th>\n",
       "      <th>Low</th>\n",
       "      <th>Volume</th>\n",
       "      <th>%K</th>\n",
       "      <th>%D</th>\n",
       "      <th>RSI</th>\n",
       "      <th>Bollinger_Upper</th>\n",
       "      <th>Bollinger_Lower</th>\n",
       "      <th>MACD</th>\n",
       "      <th>Signal</th>\n",
       "    </tr>\n",
       "  </thead>\n",
       "  <tbody>\n",
       "    <tr>\n",
       "      <th>count</th>\n",
       "      <td>10438.000000</td>\n",
       "      <td>10438.000000</td>\n",
       "      <td>10438.000000</td>\n",
       "      <td>10438.000000</td>\n",
       "      <td>1.043800e+04</td>\n",
       "      <td>1.042500e+04</td>\n",
       "      <td>1.042300e+04</td>\n",
       "      <td>10437.000000</td>\n",
       "      <td>10419.000000</td>\n",
       "      <td>10419.000000</td>\n",
       "      <td>10438.000000</td>\n",
       "      <td>10438.000000</td>\n",
       "    </tr>\n",
       "    <tr>\n",
       "      <th>mean</th>\n",
       "      <td>13.772616</td>\n",
       "      <td>13.779139</td>\n",
       "      <td>13.923630</td>\n",
       "      <td>13.623109</td>\n",
       "      <td>3.314934e+08</td>\n",
       "      <td>5.474419e+01</td>\n",
       "      <td>5.474165e+01</td>\n",
       "      <td>53.126740</td>\n",
       "      <td>14.504863</td>\n",
       "      <td>12.807990</td>\n",
       "      <td>0.111234</td>\n",
       "      <td>0.111985</td>\n",
       "    </tr>\n",
       "    <tr>\n",
       "      <th>std</th>\n",
       "      <td>30.936882</td>\n",
       "      <td>30.956693</td>\n",
       "      <td>31.294611</td>\n",
       "      <td>30.589036</td>\n",
       "      <td>3.391126e+08</td>\n",
       "      <td>3.097479e+01</td>\n",
       "      <td>2.899978e+01</td>\n",
       "      <td>13.146520</td>\n",
       "      <td>32.552082</td>\n",
       "      <td>28.748780</td>\n",
       "      <td>0.681129</td>\n",
       "      <td>0.639825</td>\n",
       "    </tr>\n",
       "    <tr>\n",
       "      <th>min</th>\n",
       "      <td>0.038822</td>\n",
       "      <td>0.038385</td>\n",
       "      <td>0.038822</td>\n",
       "      <td>0.038385</td>\n",
       "      <td>0.000000e+00</td>\n",
       "      <td>-1.223658e-13</td>\n",
       "      <td>-5.312164e-14</td>\n",
       "      <td>0.000000</td>\n",
       "      <td>0.048078</td>\n",
       "      <td>0.023337</td>\n",
       "      <td>-4.586029</td>\n",
       "      <td>-3.736176</td>\n",
       "    </tr>\n",
       "    <tr>\n",
       "      <th>25%</th>\n",
       "      <td>0.235547</td>\n",
       "      <td>0.235547</td>\n",
       "      <td>0.240391</td>\n",
       "      <td>0.229562</td>\n",
       "      <td>1.241297e+08</td>\n",
       "      <td>2.666647e+01</td>\n",
       "      <td>2.806502e+01</td>\n",
       "      <td>43.500074</td>\n",
       "      <td>0.259714</td>\n",
       "      <td>0.212560</td>\n",
       "      <td>-0.005042</td>\n",
       "      <td>-0.004546</td>\n",
       "    </tr>\n",
       "    <tr>\n",
       "      <th>50%</th>\n",
       "      <td>0.388485</td>\n",
       "      <td>0.389346</td>\n",
       "      <td>0.397250</td>\n",
       "      <td>0.381741</td>\n",
       "      <td>2.190580e+08</td>\n",
       "      <td>5.787010e+01</td>\n",
       "      <td>5.780574e+01</td>\n",
       "      <td>52.955720</td>\n",
       "      <td>0.428636</td>\n",
       "      <td>0.348957</td>\n",
       "      <td>0.002969</td>\n",
       "      <td>0.003083</td>\n",
       "    </tr>\n",
       "    <tr>\n",
       "      <th>75%</th>\n",
       "      <td>12.373543</td>\n",
       "      <td>12.386457</td>\n",
       "      <td>12.514141</td>\n",
       "      <td>12.271249</td>\n",
       "      <td>4.118296e+08</td>\n",
       "      <td>8.333268e+01</td>\n",
       "      <td>8.139889e+01</td>\n",
       "      <td>62.731210</td>\n",
       "      <td>13.071756</td>\n",
       "      <td>11.542768</td>\n",
       "      <td>0.046676</td>\n",
       "      <td>0.045412</td>\n",
       "    </tr>\n",
       "    <tr>\n",
       "      <th>max</th>\n",
       "      <td>182.397624</td>\n",
       "      <td>181.778397</td>\n",
       "      <td>182.707227</td>\n",
       "      <td>178.892080</td>\n",
       "      <td>7.421641e+09</td>\n",
       "      <td>1.000000e+02</td>\n",
       "      <td>9.974569e+01</td>\n",
       "      <td>91.502608</td>\n",
       "      <td>186.083449</td>\n",
       "      <td>169.520649</td>\n",
       "      <td>7.476590</td>\n",
       "      <td>6.870826</td>\n",
       "    </tr>\n",
       "  </tbody>\n",
       "</table>\n",
       "</div>"
      ],
      "text/plain": [
       "               Open         Close          High           Low        Volume  \\\n",
       "count  10438.000000  10438.000000  10438.000000  10438.000000  1.043800e+04   \n",
       "mean      13.772616     13.779139     13.923630     13.623109  3.314934e+08   \n",
       "std       30.936882     30.956693     31.294611     30.589036  3.391126e+08   \n",
       "min        0.038822      0.038385      0.038822      0.038385  0.000000e+00   \n",
       "25%        0.235547      0.235547      0.240391      0.229562  1.241297e+08   \n",
       "50%        0.388485      0.389346      0.397250      0.381741  2.190580e+08   \n",
       "75%       12.373543     12.386457     12.514141     12.271249  4.118296e+08   \n",
       "max      182.397624    181.778397    182.707227    178.892080  7.421641e+09   \n",
       "\n",
       "                 %K            %D           RSI  Bollinger_Upper  \\\n",
       "count  1.042500e+04  1.042300e+04  10437.000000     10419.000000   \n",
       "mean   5.474419e+01  5.474165e+01     53.126740        14.504863   \n",
       "std    3.097479e+01  2.899978e+01     13.146520        32.552082   \n",
       "min   -1.223658e-13 -5.312164e-14      0.000000         0.048078   \n",
       "25%    2.666647e+01  2.806502e+01     43.500074         0.259714   \n",
       "50%    5.787010e+01  5.780574e+01     52.955720         0.428636   \n",
       "75%    8.333268e+01  8.139889e+01     62.731210        13.071756   \n",
       "max    1.000000e+02  9.974569e+01     91.502608       186.083449   \n",
       "\n",
       "       Bollinger_Lower          MACD        Signal  \n",
       "count     10419.000000  10438.000000  10438.000000  \n",
       "mean         12.807990      0.111234      0.111985  \n",
       "std          28.748780      0.681129      0.639825  \n",
       "min           0.023337     -4.586029     -3.736176  \n",
       "25%           0.212560     -0.005042     -0.004546  \n",
       "50%           0.348957      0.002969      0.003083  \n",
       "75%          11.542768      0.046676      0.045412  \n",
       "max         169.520649      7.476590      6.870826  "
      ]
     },
     "execution_count": 476,
     "metadata": {},
     "output_type": "execute_result"
    }
   ],
   "source": [
    "#Summary of Statistics\n",
    "dataset.describe()"
   ]
  },
  {
   "cell_type": "code",
   "execution_count": 477,
   "metadata": {},
   "outputs": [
    {
     "data": {
      "text/html": [
       "<div>\n",
       "<style scoped>\n",
       "    .dataframe tbody tr th:only-of-type {\n",
       "        vertical-align: middle;\n",
       "    }\n",
       "\n",
       "    .dataframe tbody tr th {\n",
       "        vertical-align: top;\n",
       "    }\n",
       "\n",
       "    .dataframe thead th {\n",
       "        text-align: right;\n",
       "    }\n",
       "</style>\n",
       "<table border=\"1\" class=\"dataframe\">\n",
       "  <thead>\n",
       "    <tr style=\"text-align: right;\">\n",
       "      <th></th>\n",
       "      <th>Open</th>\n",
       "      <th>Close</th>\n",
       "      <th>High</th>\n",
       "      <th>Low</th>\n",
       "      <th>Volume</th>\n",
       "      <th>%K</th>\n",
       "      <th>%D</th>\n",
       "      <th>RSI</th>\n",
       "      <th>Bollinger_Upper</th>\n",
       "      <th>Bollinger_Lower</th>\n",
       "      <th>MACD</th>\n",
       "      <th>Signal</th>\n",
       "    </tr>\n",
       "    <tr>\n",
       "      <th>Date</th>\n",
       "      <th></th>\n",
       "      <th></th>\n",
       "      <th></th>\n",
       "      <th></th>\n",
       "      <th></th>\n",
       "      <th></th>\n",
       "      <th></th>\n",
       "      <th></th>\n",
       "      <th></th>\n",
       "      <th></th>\n",
       "      <th></th>\n",
       "      <th></th>\n",
       "    </tr>\n",
       "  </thead>\n",
       "  <tbody>\n",
       "    <tr>\n",
       "      <th>2022-04-29</th>\n",
       "      <td>161.839996</td>\n",
       "      <td>157.649994</td>\n",
       "      <td>166.199997</td>\n",
       "      <td>157.250000</td>\n",
       "      <td>131587100</td>\n",
       "      <td>14.055665</td>\n",
       "      <td>23.679995</td>\n",
       "      <td>39.961846</td>\n",
       "      <td>178.823989</td>\n",
       "      <td>154.818010</td>\n",
       "      <td>-2.538138</td>\n",
       "      <td>-1.357149</td>\n",
       "    </tr>\n",
       "    <tr>\n",
       "      <th>2022-05-02</th>\n",
       "      <td>156.710007</td>\n",
       "      <td>157.960007</td>\n",
       "      <td>158.229996</td>\n",
       "      <td>153.270004</td>\n",
       "      <td>123055300</td>\n",
       "      <td>25.684578</td>\n",
       "      <td>30.035360</td>\n",
       "      <td>40.436708</td>\n",
       "      <td>178.085734</td>\n",
       "      <td>153.921266</td>\n",
       "      <td>-2.738726</td>\n",
       "      <td>-1.633464</td>\n",
       "    </tr>\n",
       "    <tr>\n",
       "      <th>2022-05-03</th>\n",
       "      <td>158.149994</td>\n",
       "      <td>159.479996</td>\n",
       "      <td>160.710007</td>\n",
       "      <td>156.320007</td>\n",
       "      <td>88966500</td>\n",
       "      <td>34.008726</td>\n",
       "      <td>24.582989</td>\n",
       "      <td>42.824495</td>\n",
       "      <td>175.945593</td>\n",
       "      <td>154.165405</td>\n",
       "      <td>-2.743419</td>\n",
       "      <td>-1.855455</td>\n",
       "    </tr>\n",
       "    <tr>\n",
       "      <th>2022-05-04</th>\n",
       "      <td>159.669998</td>\n",
       "      <td>166.020004</td>\n",
       "      <td>166.479996</td>\n",
       "      <td>159.259995</td>\n",
       "      <td>108101500</td>\n",
       "      <td>69.824775</td>\n",
       "      <td>43.172693</td>\n",
       "      <td>51.781334</td>\n",
       "      <td>174.445156</td>\n",
       "      <td>154.761843</td>\n",
       "      <td>-2.194122</td>\n",
       "      <td>-1.923189</td>\n",
       "    </tr>\n",
       "    <tr>\n",
       "      <th>2022-05-05</th>\n",
       "      <td>163.850006</td>\n",
       "      <td>161.450195</td>\n",
       "      <td>164.070007</td>\n",
       "      <td>161.240005</td>\n",
       "      <td>13969786</td>\n",
       "      <td>44.798431</td>\n",
       "      <td>49.543977</td>\n",
       "      <td>46.320911</td>\n",
       "      <td>173.402408</td>\n",
       "      <td>154.766610</td>\n",
       "      <td>-2.103300</td>\n",
       "      <td>-1.959211</td>\n",
       "    </tr>\n",
       "  </tbody>\n",
       "</table>\n",
       "</div>"
      ],
      "text/plain": [
       "                  Open       Close        High         Low     Volume  \\\n",
       "Date                                                                    \n",
       "2022-04-29  161.839996  157.649994  166.199997  157.250000  131587100   \n",
       "2022-05-02  156.710007  157.960007  158.229996  153.270004  123055300   \n",
       "2022-05-03  158.149994  159.479996  160.710007  156.320007   88966500   \n",
       "2022-05-04  159.669998  166.020004  166.479996  159.259995  108101500   \n",
       "2022-05-05  163.850006  161.450195  164.070007  161.240005   13969786   \n",
       "\n",
       "                   %K         %D        RSI  Bollinger_Upper  Bollinger_Lower  \\\n",
       "Date                                                                            \n",
       "2022-04-29  14.055665  23.679995  39.961846       178.823989       154.818010   \n",
       "2022-05-02  25.684578  30.035360  40.436708       178.085734       153.921266   \n",
       "2022-05-03  34.008726  24.582989  42.824495       175.945593       154.165405   \n",
       "2022-05-04  69.824775  43.172693  51.781334       174.445156       154.761843   \n",
       "2022-05-05  44.798431  49.543977  46.320911       173.402408       154.766610   \n",
       "\n",
       "                MACD    Signal  \n",
       "Date                            \n",
       "2022-04-29 -2.538138 -1.357149  \n",
       "2022-05-02 -2.738726 -1.633464  \n",
       "2022-05-03 -2.743419 -1.855455  \n",
       "2022-05-04 -2.194122 -1.923189  \n",
       "2022-05-05 -2.103300 -1.959211  "
      ]
     },
     "execution_count": 477,
     "metadata": {},
     "output_type": "execute_result"
    }
   ],
   "source": [
    "#Latest Stock Data in the Dataset\n",
    "dataset.tail()"
   ]
  },
  {
   "cell_type": "code",
   "execution_count": 478,
   "metadata": {},
   "outputs": [
    {
     "data": {
      "text/html": [
       "<div>\n",
       "<style scoped>\n",
       "    .dataframe tbody tr th:only-of-type {\n",
       "        vertical-align: middle;\n",
       "    }\n",
       "\n",
       "    .dataframe tbody tr th {\n",
       "        vertical-align: top;\n",
       "    }\n",
       "\n",
       "    .dataframe thead th {\n",
       "        text-align: right;\n",
       "    }\n",
       "</style>\n",
       "<table border=\"1\" class=\"dataframe\">\n",
       "  <thead>\n",
       "    <tr style=\"text-align: right;\">\n",
       "      <th></th>\n",
       "      <th>Open</th>\n",
       "      <th>Close</th>\n",
       "      <th>High</th>\n",
       "      <th>Low</th>\n",
       "      <th>Volume</th>\n",
       "      <th>%K</th>\n",
       "      <th>%D</th>\n",
       "      <th>RSI</th>\n",
       "      <th>Bollinger_Upper</th>\n",
       "      <th>Bollinger_Lower</th>\n",
       "      <th>MACD</th>\n",
       "      <th>Signal</th>\n",
       "    </tr>\n",
       "    <tr>\n",
       "      <th>Date</th>\n",
       "      <th></th>\n",
       "      <th></th>\n",
       "      <th></th>\n",
       "      <th></th>\n",
       "      <th></th>\n",
       "      <th></th>\n",
       "      <th></th>\n",
       "      <th></th>\n",
       "      <th></th>\n",
       "      <th></th>\n",
       "      <th></th>\n",
       "      <th></th>\n",
       "    </tr>\n",
       "  </thead>\n",
       "  <tbody>\n",
       "    <tr>\n",
       "      <th>1980-12-12</th>\n",
       "      <td>0.100326</td>\n",
       "      <td>0.100326</td>\n",
       "      <td>0.100762</td>\n",
       "      <td>0.100326</td>\n",
       "      <td>469033600</td>\n",
       "      <td>NaN</td>\n",
       "      <td>NaN</td>\n",
       "      <td>NaN</td>\n",
       "      <td>NaN</td>\n",
       "      <td>NaN</td>\n",
       "      <td>0.000000</td>\n",
       "      <td>0.000000</td>\n",
       "    </tr>\n",
       "    <tr>\n",
       "      <th>1980-12-15</th>\n",
       "      <td>0.095528</td>\n",
       "      <td>0.095092</td>\n",
       "      <td>0.095528</td>\n",
       "      <td>0.095092</td>\n",
       "      <td>175884800</td>\n",
       "      <td>NaN</td>\n",
       "      <td>NaN</td>\n",
       "      <td>0.000000</td>\n",
       "      <td>NaN</td>\n",
       "      <td>NaN</td>\n",
       "      <td>-0.000418</td>\n",
       "      <td>-0.000084</td>\n",
       "    </tr>\n",
       "    <tr>\n",
       "      <th>1980-12-16</th>\n",
       "      <td>0.088548</td>\n",
       "      <td>0.088112</td>\n",
       "      <td>0.088548</td>\n",
       "      <td>0.088112</td>\n",
       "      <td>105728000</td>\n",
       "      <td>NaN</td>\n",
       "      <td>NaN</td>\n",
       "      <td>0.000000</td>\n",
       "      <td>NaN</td>\n",
       "      <td>NaN</td>\n",
       "      <td>-0.001297</td>\n",
       "      <td>-0.000326</td>\n",
       "    </tr>\n",
       "    <tr>\n",
       "      <th>1980-12-17</th>\n",
       "      <td>0.090293</td>\n",
       "      <td>0.090293</td>\n",
       "      <td>0.090729</td>\n",
       "      <td>0.090293</td>\n",
       "      <td>86441600</td>\n",
       "      <td>NaN</td>\n",
       "      <td>NaN</td>\n",
       "      <td>3.035529</td>\n",
       "      <td>NaN</td>\n",
       "      <td>NaN</td>\n",
       "      <td>-0.001797</td>\n",
       "      <td>-0.000620</td>\n",
       "    </tr>\n",
       "    <tr>\n",
       "      <th>1980-12-18</th>\n",
       "      <td>0.092911</td>\n",
       "      <td>0.092911</td>\n",
       "      <td>0.093347</td>\n",
       "      <td>0.092911</td>\n",
       "      <td>73449600</td>\n",
       "      <td>NaN</td>\n",
       "      <td>NaN</td>\n",
       "      <td>6.696748</td>\n",
       "      <td>NaN</td>\n",
       "      <td>NaN</td>\n",
       "      <td>-0.001959</td>\n",
       "      <td>-0.000888</td>\n",
       "    </tr>\n",
       "  </tbody>\n",
       "</table>\n",
       "</div>"
      ],
      "text/plain": [
       "                Open     Close      High       Low     Volume  %K  %D  \\\n",
       "Date                                                                    \n",
       "1980-12-12  0.100326  0.100326  0.100762  0.100326  469033600 NaN NaN   \n",
       "1980-12-15  0.095528  0.095092  0.095528  0.095092  175884800 NaN NaN   \n",
       "1980-12-16  0.088548  0.088112  0.088548  0.088112  105728000 NaN NaN   \n",
       "1980-12-17  0.090293  0.090293  0.090729  0.090293   86441600 NaN NaN   \n",
       "1980-12-18  0.092911  0.092911  0.093347  0.092911   73449600 NaN NaN   \n",
       "\n",
       "                 RSI  Bollinger_Upper  Bollinger_Lower      MACD    Signal  \n",
       "Date                                                                        \n",
       "1980-12-12       NaN              NaN              NaN  0.000000  0.000000  \n",
       "1980-12-15  0.000000              NaN              NaN -0.000418 -0.000084  \n",
       "1980-12-16  0.000000              NaN              NaN -0.001297 -0.000326  \n",
       "1980-12-17  3.035529              NaN              NaN -0.001797 -0.000620  \n",
       "1980-12-18  6.696748              NaN              NaN -0.001959 -0.000888  "
      ]
     },
     "execution_count": 478,
     "metadata": {},
     "output_type": "execute_result"
    }
   ],
   "source": [
    "#Start Stock Data in the Dataset\n",
    "dataset.head()"
   ]
  },
  {
   "cell_type": "code",
   "execution_count": 479,
   "metadata": {},
   "outputs": [
    {
     "data": {
      "text/plain": [
       "Open                0\n",
       "Close               0\n",
       "High                0\n",
       "Low                 0\n",
       "Volume              0\n",
       "%K                 13\n",
       "%D                 15\n",
       "RSI                 1\n",
       "Bollinger_Upper    19\n",
       "Bollinger_Lower    19\n",
       "MACD                0\n",
       "Signal              0\n",
       "dtype: int64"
      ]
     },
     "execution_count": 479,
     "metadata": {},
     "output_type": "execute_result"
    }
   ],
   "source": [
    "#Checking for Null Values\n",
    "dataset.isna().sum()"
   ]
  },
  {
   "cell_type": "code",
   "execution_count": 480,
   "metadata": {},
   "outputs": [
    {
     "data": {
      "text/plain": [
       "Open               0\n",
       "Close              0\n",
       "High               0\n",
       "Low                0\n",
       "Volume             0\n",
       "%K                 0\n",
       "%D                 0\n",
       "RSI                0\n",
       "Bollinger_Upper    0\n",
       "Bollinger_Lower    0\n",
       "MACD               0\n",
       "Signal             0\n",
       "dtype: int64"
      ]
     },
     "execution_count": 480,
     "metadata": {},
     "output_type": "execute_result"
    }
   ],
   "source": [
    "#Dropping Null Values\n",
    "dataset = dataset.dropna()\n",
    "dataset.isna().sum()"
   ]
  },
  {
   "cell_type": "code",
   "execution_count": 481,
   "metadata": {},
   "outputs": [
    {
     "data": {
      "text/plain": [
       "(10419, 12)"
      ]
     },
     "execution_count": 481,
     "metadata": {},
     "output_type": "execute_result"
    }
   ],
   "source": [
    "#Dataframe shape after dopping null values\n",
    "dataset.shape"
   ]
  },
  {
   "cell_type": "code",
   "execution_count": 482,
   "metadata": {},
   "outputs": [
    {
     "name": "stdout",
     "output_type": "stream",
     "text": [
      "False\n",
      "0\n"
     ]
    }
   ],
   "source": [
    "#let's check if there is any duplicate data\n",
    "print(dataset.duplicated().any())\n",
    "print(dataset.duplicated().sum())"
   ]
  },
  {
   "cell_type": "code",
   "execution_count": 483,
   "metadata": {},
   "outputs": [
    {
     "data": {
      "text/plain": [
       "<AxesSubplot:>"
      ]
     },
     "execution_count": 483,
     "metadata": {},
     "output_type": "execute_result"
    },
    {
     "data": {
      "image/png": "[encoded data removed]",
      "text/plain": [
       "<Figure size 864x360 with 2 Axes>"
      ]
     },
     "metadata": {
      "needs_background": "light"
     },
     "output_type": "display_data"
    }
   ],
   "source": [
    "#Plottin Heat Map for Correlation\n",
    "#Comparing Variables We Want\n",
    "heatmap = dataset[['Close', 'Volume', '%K', '%D', 'RSI', 'Bollinger_Upper', 'Bollinger_Lower', 'MACD', 'Signal']].copy()\n",
    "plt.figure(figsize=(12, 5))\n",
    "sns.heatmap(heatmap.corr(),cmap='crest',annot=True)"
   ]
  },
  {
   "cell_type": "code",
   "execution_count": 484,
   "metadata": {},
   "outputs": [
    {
     "data": {
      "image/png": "[encoded data removed]",
      "text/plain": [
       "<Figure size 864x360 with 1 Axes>"
      ]
     },
     "metadata": {
      "needs_background": "light"
     },
     "output_type": "display_data"
    }
   ],
   "source": [
    "#Plotting Open and Closing Prices of AAPL Stock\n",
    "plt.figure(figsize=(12, 5))\n",
    "plt.title(\"Open and Close Price of AAPL Stock\")\n",
    "plt.plot(dataset['Open'], label='Open Prices', color = 'red')\n",
    "plt.plot(dataset['Close'],label='Close Prices', color = 'black')\n",
    "plt.legend()\n",
    "plt.xlabel('Date')\n",
    "plt.ylabel('Price')\n",
    "plt.show()"
   ]
  },
  {
   "cell_type": "code",
   "execution_count": 485,
   "metadata": {},
   "outputs": [],
   "source": [
    "# As it is hard to interept the graph becuase the the dataset being too large, we will look at the past 2 years of data\n",
    "\n",
    "#Getting data for the Apple Stock for 2 years for visualisation purposes\n",
    "aapl = yf.Ticker(\"AAPL\")\n",
    "# Get historical market data\n",
    "aapl_dataset = aapl.history(period=\"2y\")"
   ]
  },
  {
   "cell_type": "code",
   "execution_count": 486,
   "metadata": {},
   "outputs": [
    {
     "data": {
      "image/png": "[encoded data removed]",
      "text/plain": [
       "<Figure size 864x360 with 1 Axes>"
      ]
     },
     "metadata": {
      "needs_background": "light"
     },
     "output_type": "display_data"
    }
   ],
   "source": [
    "#Plotting Open and Closing Prices of AAPL Stock\n",
    "plt.figure(figsize=(12, 5))\n",
    "plt.title(\"Open and Close Price of AAPL Stock: 1 Year\")\n",
    "plt.plot(aapl_dataset['Open'], label='Open Prices', color = 'red')\n",
    "plt.plot(aapl_dataset['Close'],label='Close Prices', color = 'black')\n",
    "plt.legend()\n",
    "plt.xlabel('Date')\n",
    "plt.ylabel('Price')\n",
    "plt.show()"
   ]
  },
  {
   "cell_type": "code",
   "execution_count": 487,
   "metadata": {},
   "outputs": [
    {
     "data": {
      "image/png": "[encoded data removed]",
      "text/plain": [
       "<Figure size 864x360 with 1 Axes>"
      ]
     },
     "metadata": {
      "needs_background": "light"
     },
     "output_type": "display_data"
    }
   ],
   "source": [
    "#Plotting High and Low Price Prices\n",
    "plt.figure(figsize=(12, 5))\n",
    "plt.title(\"High and Low Price of AAPL Stock: 1 Year\")\n",
    "plt.plot(aapl_dataset['High'], label='High Prices', color = 'green')\n",
    "plt.plot(aapl_dataset['Low'], label='Low Prices', color = 'yellow')\n",
    "plt.legend()\n",
    "plt.xlabel('Date')\n",
    "plt.ylabel('Price')\n",
    "plt.show()"
   ]
  },
  {
   "cell_type": "code",
   "execution_count": 488,
   "metadata": {},
   "outputs": [
    {
     "data": {
      "image/png": "[encoded data removed]",
      "text/plain": [
       "<Figure size 864x360 with 1 Axes>"
      ]
     },
     "metadata": {
      "needs_background": "light"
     },
     "output_type": "display_data"
    }
   ],
   "source": [
    "#Plotting Total Volume of HSBC being traded\n",
    "plt.figure(figsize=(12, 5))\n",
    "plt.title(\"Volume Traded Since The Beginning\")\n",
    "plt.plot(dataset['Volume'], 'black')\n",
    "plt.ylabel('Volume')\n",
    "plt.xlabel('Date')\n",
    "plt.show()\n"
   ]
  },
  {
   "cell_type": "code",
   "execution_count": 489,
   "metadata": {},
   "outputs": [
    {
     "data": {
      "image/png": "[encoded data removed]",
      "text/plain": [
       "<Figure size 720x360 with 1 Axes>"
      ]
     },
     "metadata": {
      "needs_background": "light"
     },
     "output_type": "display_data"
    }
   ],
   "source": [
    "#Plotting Total Volume of HSBC being traded\n",
    "plt.figure(figsize=(10, 5))\n",
    "plt.title(\"Volume Traded 1 Year\")\n",
    "plt.plot(aapl_dataset['Volume'], 'darkorange', linestyle='-', marker='x')\n",
    "plt.ylabel('Volume')\n",
    "plt.xlabel('Date')\n",
    "plt.show()\n"
   ]
  },
  {
   "cell_type": "code",
   "execution_count": 490,
   "metadata": {},
   "outputs": [
    {
     "data": {
      "text/plain": [
       "Text(0, 0.5, 'Returns')"
      ]
     },
     "execution_count": 490,
     "metadata": {},
     "output_type": "execute_result"
    },
    {
     "data": {
      "image/png": "[encoded data removed]",
      "text/plain": [
       "<Figure size 720x360 with 1 Axes>"
      ]
     },
     "metadata": {
      "needs_background": "light"
     },
     "output_type": "display_data"
    }
   ],
   "source": [
    "#Plotting Returns Since The Beginning\n",
    "plt.figure(figsize=(10, 5))\n",
    "prices = dataset.Close\n",
    "returns = prices.pct_change()\n",
    "plt.plot(returns, 'slategray')\n",
    "plt.title(\"Returns over a duration of 1 year\")\n",
    "plt.ylabel('Returns')"
   ]
  },
  {
   "cell_type": "code",
   "execution_count": 491,
   "metadata": {},
   "outputs": [
    {
     "data": {
      "text/plain": [
       "Text(0, 0.5, 'Returns')"
      ]
     },
     "execution_count": 491,
     "metadata": {},
     "output_type": "execute_result"
    },
    {
     "data": {
      "image/png": "[encoded data removed]",
      "text/plain": [
       "<Figure size 720x360 with 1 Axes>"
      ]
     },
     "metadata": {
      "needs_background": "light"
     },
     "output_type": "display_data"
    }
   ],
   "source": [
    "#Plotting Returns over a year\n",
    "plt.figure(figsize=(10, 5))\n",
    "prices = aapl_dataset.Close\n",
    "returns = prices.pct_change()\n",
    "plt.plot(returns, 'teal', linestyle='-', marker='o')\n",
    "plt.title(\"Returns over a duration of 1 year\")\n",
    "plt.ylabel('Returns')"
   ]
  },
  {
   "cell_type": "code",
   "execution_count": 492,
   "metadata": {},
   "outputs": [
    {
     "data": {
      "image/png": "[encoded data removed]",
      "text/plain": [
       "<Figure size 720x360 with 1 Axes>"
      ]
     },
     "metadata": {
      "needs_background": "light"
     },
     "output_type": "display_data"
    }
   ],
   "source": [
    "#Moving Average of 50 Days, 100 Days and 200 days\n",
    "\n",
    "moving_average_50 = aapl_dataset.Close.rolling(50).mean()\n",
    "moving_average_100 = aapl_dataset.Close.rolling(100).mean()\n",
    "moving_average_200 = aapl_dataset.Close.rolling(200).mean()\n",
    "\n",
    "\n",
    "#Plotting 5/100/200 Days Moving Average\n",
    "plt.figure(figsize=(10, 5))\n",
    "plt.title(\"AAPL 1 YEAR Closing Price vs MA50, M100, M200 \")\n",
    "plt.plot(aapl_dataset['Close'], label='Close', color='black')\n",
    "plt.plot(moving_average_50, label='M50', color='green')\n",
    "plt.plot(moving_average_100, label='M100', color='orange')\n",
    "plt.plot(moving_average_200, label='M200', color='pink')\n",
    "plt.legend()\n",
    "plt.xlabel('Date')\n",
    "plt.ylabel('Close Price')\n",
    "plt.show()"
   ]
  },
  {
   "cell_type": "code",
   "execution_count": 493,
   "metadata": {},
   "outputs": [
    {
     "data": {
      "text/html": [
       "<div>\n",
       "<style scoped>\n",
       "    .dataframe tbody tr th:only-of-type {\n",
       "        vertical-align: middle;\n",
       "    }\n",
       "\n",
       "    .dataframe tbody tr th {\n",
       "        vertical-align: top;\n",
       "    }\n",
       "\n",
       "    .dataframe thead th {\n",
       "        text-align: right;\n",
       "    }\n",
       "</style>\n",
       "<table border=\"1\" class=\"dataframe\">\n",
       "  <thead>\n",
       "    <tr style=\"text-align: right;\">\n",
       "      <th></th>\n",
       "      <th>Open</th>\n",
       "      <th>Close</th>\n",
       "      <th>High</th>\n",
       "      <th>Low</th>\n",
       "      <th>Volume</th>\n",
       "      <th>%K</th>\n",
       "      <th>%D</th>\n",
       "      <th>RSI</th>\n",
       "      <th>Bollinger_Upper</th>\n",
       "      <th>Bollinger_Lower</th>\n",
       "      <th>MACD</th>\n",
       "      <th>Signal</th>\n",
       "    </tr>\n",
       "    <tr>\n",
       "      <th>Date</th>\n",
       "      <th></th>\n",
       "      <th></th>\n",
       "      <th></th>\n",
       "      <th></th>\n",
       "      <th></th>\n",
       "      <th></th>\n",
       "      <th></th>\n",
       "      <th></th>\n",
       "      <th></th>\n",
       "      <th></th>\n",
       "      <th></th>\n",
       "      <th></th>\n",
       "    </tr>\n",
       "  </thead>\n",
       "  <tbody>\n",
       "    <tr>\n",
       "      <th>1981-01-12</th>\n",
       "      <td>0.111231</td>\n",
       "      <td>0.110358</td>\n",
       "      <td>0.111231</td>\n",
       "      <td>0.110358</td>\n",
       "      <td>23699200</td>\n",
       "      <td>30.770567</td>\n",
       "      <td>38.320443</td>\n",
       "      <td>36.709614</td>\n",
       "      <td>0.131222</td>\n",
       "      <td>0.085438</td>\n",
       "      <td>0.002858</td>\n",
       "      <td>0.003609</td>\n",
       "    </tr>\n",
       "    <tr>\n",
       "      <th>1981-01-13</th>\n",
       "      <td>0.106869</td>\n",
       "      <td>0.106433</td>\n",
       "      <td>0.106869</td>\n",
       "      <td>0.106433</td>\n",
       "      <td>23049600</td>\n",
       "      <td>4.255282</td>\n",
       "      <td>27.019360</td>\n",
       "      <td>34.255175</td>\n",
       "      <td>0.131239</td>\n",
       "      <td>0.086032</td>\n",
       "      <td>0.002257</td>\n",
       "      <td>0.003338</td>\n",
       "    </tr>\n",
       "    <tr>\n",
       "      <th>1981-01-14</th>\n",
       "      <td>0.106869</td>\n",
       "      <td>0.106869</td>\n",
       "      <td>0.107305</td>\n",
       "      <td>0.106869</td>\n",
       "      <td>14291200</td>\n",
       "      <td>6.382651</td>\n",
       "      <td>13.802833</td>\n",
       "      <td>34.776941</td>\n",
       "      <td>0.130938</td>\n",
       "      <td>0.087510</td>\n",
       "      <td>0.001795</td>\n",
       "      <td>0.003030</td>\n",
       "    </tr>\n",
       "    <tr>\n",
       "      <th>1981-01-15</th>\n",
       "      <td>0.109050</td>\n",
       "      <td>0.109050</td>\n",
       "      <td>0.109922</td>\n",
       "      <td>0.109050</td>\n",
       "      <td>14067200</td>\n",
       "      <td>17.020766</td>\n",
       "      <td>9.219566</td>\n",
       "      <td>37.450237</td>\n",
       "      <td>0.129586</td>\n",
       "      <td>0.090956</td>\n",
       "      <td>0.001587</td>\n",
       "      <td>0.002741</td>\n",
       "    </tr>\n",
       "    <tr>\n",
       "      <th>1981-01-16</th>\n",
       "      <td>0.108614</td>\n",
       "      <td>0.108177</td>\n",
       "      <td>0.108614</td>\n",
       "      <td>0.108177</td>\n",
       "      <td>13395200</td>\n",
       "      <td>12.765411</td>\n",
       "      <td>12.056276</td>\n",
       "      <td>36.800474</td>\n",
       "      <td>0.128094</td>\n",
       "      <td>0.094237</td>\n",
       "      <td>0.001336</td>\n",
       "      <td>0.002460</td>\n",
       "    </tr>\n",
       "    <tr>\n",
       "      <th>...</th>\n",
       "      <td>...</td>\n",
       "      <td>...</td>\n",
       "      <td>...</td>\n",
       "      <td>...</td>\n",
       "      <td>...</td>\n",
       "      <td>...</td>\n",
       "      <td>...</td>\n",
       "      <td>...</td>\n",
       "      <td>...</td>\n",
       "      <td>...</td>\n",
       "      <td>...</td>\n",
       "      <td>...</td>\n",
       "    </tr>\n",
       "    <tr>\n",
       "      <th>2022-04-29</th>\n",
       "      <td>161.839996</td>\n",
       "      <td>157.649994</td>\n",
       "      <td>166.199997</td>\n",
       "      <td>157.250000</td>\n",
       "      <td>131587100</td>\n",
       "      <td>14.055665</td>\n",
       "      <td>23.679995</td>\n",
       "      <td>39.961846</td>\n",
       "      <td>178.823989</td>\n",
       "      <td>154.818010</td>\n",
       "      <td>-2.538138</td>\n",
       "      <td>-1.357149</td>\n",
       "    </tr>\n",
       "    <tr>\n",
       "      <th>2022-05-02</th>\n",
       "      <td>156.710007</td>\n",
       "      <td>157.960007</td>\n",
       "      <td>158.229996</td>\n",
       "      <td>153.270004</td>\n",
       "      <td>123055300</td>\n",
       "      <td>25.684578</td>\n",
       "      <td>30.035360</td>\n",
       "      <td>40.436708</td>\n",
       "      <td>178.085734</td>\n",
       "      <td>153.921266</td>\n",
       "      <td>-2.738726</td>\n",
       "      <td>-1.633464</td>\n",
       "    </tr>\n",
       "    <tr>\n",
       "      <th>2022-05-03</th>\n",
       "      <td>158.149994</td>\n",
       "      <td>159.479996</td>\n",
       "      <td>160.710007</td>\n",
       "      <td>156.320007</td>\n",
       "      <td>88966500</td>\n",
       "      <td>34.008726</td>\n",
       "      <td>24.582989</td>\n",
       "      <td>42.824495</td>\n",
       "      <td>175.945593</td>\n",
       "      <td>154.165405</td>\n",
       "      <td>-2.743419</td>\n",
       "      <td>-1.855455</td>\n",
       "    </tr>\n",
       "    <tr>\n",
       "      <th>2022-05-04</th>\n",
       "      <td>159.669998</td>\n",
       "      <td>166.020004</td>\n",
       "      <td>166.479996</td>\n",
       "      <td>159.259995</td>\n",
       "      <td>108101500</td>\n",
       "      <td>69.824775</td>\n",
       "      <td>43.172693</td>\n",
       "      <td>51.781334</td>\n",
       "      <td>174.445156</td>\n",
       "      <td>154.761843</td>\n",
       "      <td>-2.194122</td>\n",
       "      <td>-1.923189</td>\n",
       "    </tr>\n",
       "    <tr>\n",
       "      <th>2022-05-05</th>\n",
       "      <td>163.850006</td>\n",
       "      <td>161.450195</td>\n",
       "      <td>164.070007</td>\n",
       "      <td>161.240005</td>\n",
       "      <td>13969786</td>\n",
       "      <td>44.798431</td>\n",
       "      <td>49.543977</td>\n",
       "      <td>46.320911</td>\n",
       "      <td>173.402408</td>\n",
       "      <td>154.766610</td>\n",
       "      <td>-2.103300</td>\n",
       "      <td>-1.959211</td>\n",
       "    </tr>\n",
       "  </tbody>\n",
       "</table>\n",
       "<p>10419 rows × 12 columns</p>\n",
       "</div>"
      ],
      "text/plain": [
       "                  Open       Close        High         Low     Volume  \\\n",
       "Date                                                                    \n",
       "1981-01-12    0.111231    0.110358    0.111231    0.110358   23699200   \n",
       "1981-01-13    0.106869    0.106433    0.106869    0.106433   23049600   \n",
       "1981-01-14    0.106869    0.106869    0.107305    0.106869   14291200   \n",
       "1981-01-15    0.109050    0.109050    0.109922    0.109050   14067200   \n",
       "1981-01-16    0.108614    0.108177    0.108614    0.108177   13395200   \n",
       "...                ...         ...         ...         ...        ...   \n",
       "2022-04-29  161.839996  157.649994  166.199997  157.250000  131587100   \n",
       "2022-05-02  156.710007  157.960007  158.229996  153.270004  123055300   \n",
       "2022-05-03  158.149994  159.479996  160.710007  156.320007   88966500   \n",
       "2022-05-04  159.669998  166.020004  166.479996  159.259995  108101500   \n",
       "2022-05-05  163.850006  161.450195  164.070007  161.240005   13969786   \n",
       "\n",
       "                   %K         %D        RSI  Bollinger_Upper  Bollinger_Lower  \\\n",
       "Date                                                                            \n",
       "1981-01-12  30.770567  38.320443  36.709614         0.131222         0.085438   \n",
       "1981-01-13   4.255282  27.019360  34.255175         0.131239         0.086032   \n",
       "1981-01-14   6.382651  13.802833  34.776941         0.130938         0.087510   \n",
       "1981-01-15  17.020766   9.219566  37.450237         0.129586         0.090956   \n",
       "1981-01-16  12.765411  12.056276  36.800474         0.128094         0.094237   \n",
       "...               ...        ...        ...              ...              ...   \n",
       "2022-04-29  14.055665  23.679995  39.961846       178.823989       154.818010   \n",
       "2022-05-02  25.684578  30.035360  40.436708       178.085734       153.921266   \n",
       "2022-05-03  34.008726  24.582989  42.824495       175.945593       154.165405   \n",
       "2022-05-04  69.824775  43.172693  51.781334       174.445156       154.761843   \n",
       "2022-05-05  44.798431  49.543977  46.320911       173.402408       154.766610   \n",
       "\n",
       "                MACD    Signal  \n",
       "Date                            \n",
       "1981-01-12  0.002858  0.003609  \n",
       "1981-01-13  0.002257  0.003338  \n",
       "1981-01-14  0.001795  0.003030  \n",
       "1981-01-15  0.001587  0.002741  \n",
       "1981-01-16  0.001336  0.002460  \n",
       "...              ...       ...  \n",
       "2022-04-29 -2.538138 -1.357149  \n",
       "2022-05-02 -2.738726 -1.633464  \n",
       "2022-05-03 -2.743419 -1.855455  \n",
       "2022-05-04 -2.194122 -1.923189  \n",
       "2022-05-05 -2.103300 -1.959211  \n",
       "\n",
       "[10419 rows x 12 columns]"
      ]
     },
     "execution_count": 493,
     "metadata": {},
     "output_type": "execute_result"
    }
   ],
   "source": [
    "dataset"
   ]
  },
  {
   "cell_type": "markdown",
   "metadata": {},
   "source": [
    "ARIMA-Univariate (Closing Price)"
   ]
  },
  {
   "cell_type": "code",
   "execution_count": 494,
   "metadata": {},
   "outputs": [
    {
     "data": {
      "image/png": "[encoded data removed]",
      "text/plain": [
       "<Figure size 432x288 with 1 Axes>"
      ]
     },
     "metadata": {
      "needs_background": "light"
     },
     "output_type": "display_data"
    }
   ],
   "source": [
    "from pandas.plotting import lag_plot\n",
    "\n",
    "plt.figure()\n",
    "lag_plot(dataset['Close'], lag=3)\n",
    "plt.title('AAPL Stock - Autocorrelation plot with lag = 3')\n",
    "plt.show()"
   ]
  },
  {
   "cell_type": "code",
   "execution_count": 495,
   "metadata": {},
   "outputs": [
    {
     "data": {
      "text/html": [
       "<div>\n",
       "<style scoped>\n",
       "    .dataframe tbody tr th:only-of-type {\n",
       "        vertical-align: middle;\n",
       "    }\n",
       "\n",
       "    .dataframe tbody tr th {\n",
       "        vertical-align: top;\n",
       "    }\n",
       "\n",
       "    .dataframe thead th {\n",
       "        text-align: right;\n",
       "    }\n",
       "</style>\n",
       "<table border=\"1\" class=\"dataframe\">\n",
       "  <thead>\n",
       "    <tr style=\"text-align: right;\">\n",
       "      <th></th>\n",
       "      <th>Open</th>\n",
       "      <th>Close</th>\n",
       "      <th>High</th>\n",
       "      <th>Low</th>\n",
       "      <th>Volume</th>\n",
       "      <th>%K</th>\n",
       "      <th>%D</th>\n",
       "      <th>RSI</th>\n",
       "      <th>Bollinger_Upper</th>\n",
       "      <th>Bollinger_Lower</th>\n",
       "      <th>MACD</th>\n",
       "      <th>Signal</th>\n",
       "    </tr>\n",
       "    <tr>\n",
       "      <th>Date</th>\n",
       "      <th></th>\n",
       "      <th></th>\n",
       "      <th></th>\n",
       "      <th></th>\n",
       "      <th></th>\n",
       "      <th></th>\n",
       "      <th></th>\n",
       "      <th></th>\n",
       "      <th></th>\n",
       "      <th></th>\n",
       "      <th></th>\n",
       "      <th></th>\n",
       "    </tr>\n",
       "  </thead>\n",
       "  <tbody>\n",
       "    <tr>\n",
       "      <th>1981-01-12</th>\n",
       "      <td>0.111231</td>\n",
       "      <td>0.110358</td>\n",
       "      <td>0.111231</td>\n",
       "      <td>0.110358</td>\n",
       "      <td>23699200</td>\n",
       "      <td>30.770567</td>\n",
       "      <td>38.320443</td>\n",
       "      <td>36.709614</td>\n",
       "      <td>0.131222</td>\n",
       "      <td>0.085438</td>\n",
       "      <td>0.002858</td>\n",
       "      <td>0.003609</td>\n",
       "    </tr>\n",
       "    <tr>\n",
       "      <th>1981-01-13</th>\n",
       "      <td>0.106869</td>\n",
       "      <td>0.106433</td>\n",
       "      <td>0.106869</td>\n",
       "      <td>0.106433</td>\n",
       "      <td>23049600</td>\n",
       "      <td>4.255282</td>\n",
       "      <td>27.019360</td>\n",
       "      <td>34.255175</td>\n",
       "      <td>0.131239</td>\n",
       "      <td>0.086032</td>\n",
       "      <td>0.002257</td>\n",
       "      <td>0.003338</td>\n",
       "    </tr>\n",
       "    <tr>\n",
       "      <th>1981-01-14</th>\n",
       "      <td>0.106869</td>\n",
       "      <td>0.106869</td>\n",
       "      <td>0.107305</td>\n",
       "      <td>0.106869</td>\n",
       "      <td>14291200</td>\n",
       "      <td>6.382651</td>\n",
       "      <td>13.802833</td>\n",
       "      <td>34.776941</td>\n",
       "      <td>0.130938</td>\n",
       "      <td>0.087510</td>\n",
       "      <td>0.001795</td>\n",
       "      <td>0.003030</td>\n",
       "    </tr>\n",
       "    <tr>\n",
       "      <th>1981-01-15</th>\n",
       "      <td>0.109050</td>\n",
       "      <td>0.109050</td>\n",
       "      <td>0.109922</td>\n",
       "      <td>0.109050</td>\n",
       "      <td>14067200</td>\n",
       "      <td>17.020766</td>\n",
       "      <td>9.219566</td>\n",
       "      <td>37.450237</td>\n",
       "      <td>0.129586</td>\n",
       "      <td>0.090956</td>\n",
       "      <td>0.001587</td>\n",
       "      <td>0.002741</td>\n",
       "    </tr>\n",
       "    <tr>\n",
       "      <th>1981-01-16</th>\n",
       "      <td>0.108614</td>\n",
       "      <td>0.108177</td>\n",
       "      <td>0.108614</td>\n",
       "      <td>0.108177</td>\n",
       "      <td>13395200</td>\n",
       "      <td>12.765411</td>\n",
       "      <td>12.056276</td>\n",
       "      <td>36.800474</td>\n",
       "      <td>0.128094</td>\n",
       "      <td>0.094237</td>\n",
       "      <td>0.001336</td>\n",
       "      <td>0.002460</td>\n",
       "    </tr>\n",
       "    <tr>\n",
       "      <th>...</th>\n",
       "      <td>...</td>\n",
       "      <td>...</td>\n",
       "      <td>...</td>\n",
       "      <td>...</td>\n",
       "      <td>...</td>\n",
       "      <td>...</td>\n",
       "      <td>...</td>\n",
       "      <td>...</td>\n",
       "      <td>...</td>\n",
       "      <td>...</td>\n",
       "      <td>...</td>\n",
       "      <td>...</td>\n",
       "    </tr>\n",
       "    <tr>\n",
       "      <th>2022-04-29</th>\n",
       "      <td>161.839996</td>\n",
       "      <td>157.649994</td>\n",
       "      <td>166.199997</td>\n",
       "      <td>157.250000</td>\n",
       "      <td>131587100</td>\n",
       "      <td>14.055665</td>\n",
       "      <td>23.679995</td>\n",
       "      <td>39.961846</td>\n",
       "      <td>178.823989</td>\n",
       "      <td>154.818010</td>\n",
       "      <td>-2.538138</td>\n",
       "      <td>-1.357149</td>\n",
       "    </tr>\n",
       "    <tr>\n",
       "      <th>2022-05-02</th>\n",
       "      <td>156.710007</td>\n",
       "      <td>157.960007</td>\n",
       "      <td>158.229996</td>\n",
       "      <td>153.270004</td>\n",
       "      <td>123055300</td>\n",
       "      <td>25.684578</td>\n",
       "      <td>30.035360</td>\n",
       "      <td>40.436708</td>\n",
       "      <td>178.085734</td>\n",
       "      <td>153.921266</td>\n",
       "      <td>-2.738726</td>\n",
       "      <td>-1.633464</td>\n",
       "    </tr>\n",
       "    <tr>\n",
       "      <th>2022-05-03</th>\n",
       "      <td>158.149994</td>\n",
       "      <td>159.479996</td>\n",
       "      <td>160.710007</td>\n",
       "      <td>156.320007</td>\n",
       "      <td>88966500</td>\n",
       "      <td>34.008726</td>\n",
       "      <td>24.582989</td>\n",
       "      <td>42.824495</td>\n",
       "      <td>175.945593</td>\n",
       "      <td>154.165405</td>\n",
       "      <td>-2.743419</td>\n",
       "      <td>-1.855455</td>\n",
       "    </tr>\n",
       "    <tr>\n",
       "      <th>2022-05-04</th>\n",
       "      <td>159.669998</td>\n",
       "      <td>166.020004</td>\n",
       "      <td>166.479996</td>\n",
       "      <td>159.259995</td>\n",
       "      <td>108101500</td>\n",
       "      <td>69.824775</td>\n",
       "      <td>43.172693</td>\n",
       "      <td>51.781334</td>\n",
       "      <td>174.445156</td>\n",
       "      <td>154.761843</td>\n",
       "      <td>-2.194122</td>\n",
       "      <td>-1.923189</td>\n",
       "    </tr>\n",
       "    <tr>\n",
       "      <th>2022-05-05</th>\n",
       "      <td>163.850006</td>\n",
       "      <td>161.450195</td>\n",
       "      <td>164.070007</td>\n",
       "      <td>161.240005</td>\n",
       "      <td>13969786</td>\n",
       "      <td>44.798431</td>\n",
       "      <td>49.543977</td>\n",
       "      <td>46.320911</td>\n",
       "      <td>173.402408</td>\n",
       "      <td>154.766610</td>\n",
       "      <td>-2.103300</td>\n",
       "      <td>-1.959211</td>\n",
       "    </tr>\n",
       "  </tbody>\n",
       "</table>\n",
       "<p>10419 rows × 12 columns</p>\n",
       "</div>"
      ],
      "text/plain": [
       "                  Open       Close        High         Low     Volume  \\\n",
       "Date                                                                    \n",
       "1981-01-12    0.111231    0.110358    0.111231    0.110358   23699200   \n",
       "1981-01-13    0.106869    0.106433    0.106869    0.106433   23049600   \n",
       "1981-01-14    0.106869    0.106869    0.107305    0.106869   14291200   \n",
       "1981-01-15    0.109050    0.109050    0.109922    0.109050   14067200   \n",
       "1981-01-16    0.108614    0.108177    0.108614    0.108177   13395200   \n",
       "...                ...         ...         ...         ...        ...   \n",
       "2022-04-29  161.839996  157.649994  166.199997  157.250000  131587100   \n",
       "2022-05-02  156.710007  157.960007  158.229996  153.270004  123055300   \n",
       "2022-05-03  158.149994  159.479996  160.710007  156.320007   88966500   \n",
       "2022-05-04  159.669998  166.020004  166.479996  159.259995  108101500   \n",
       "2022-05-05  163.850006  161.450195  164.070007  161.240005   13969786   \n",
       "\n",
       "                   %K         %D        RSI  Bollinger_Upper  Bollinger_Lower  \\\n",
       "Date                                                                            \n",
       "1981-01-12  30.770567  38.320443  36.709614         0.131222         0.085438   \n",
       "1981-01-13   4.255282  27.019360  34.255175         0.131239         0.086032   \n",
       "1981-01-14   6.382651  13.802833  34.776941         0.130938         0.087510   \n",
       "1981-01-15  17.020766   9.219566  37.450237         0.129586         0.090956   \n",
       "1981-01-16  12.765411  12.056276  36.800474         0.128094         0.094237   \n",
       "...               ...        ...        ...              ...              ...   \n",
       "2022-04-29  14.055665  23.679995  39.961846       178.823989       154.818010   \n",
       "2022-05-02  25.684578  30.035360  40.436708       178.085734       153.921266   \n",
       "2022-05-03  34.008726  24.582989  42.824495       175.945593       154.165405   \n",
       "2022-05-04  69.824775  43.172693  51.781334       174.445156       154.761843   \n",
       "2022-05-05  44.798431  49.543977  46.320911       173.402408       154.766610   \n",
       "\n",
       "                MACD    Signal  \n",
       "Date                            \n",
       "1981-01-12  0.002858  0.003609  \n",
       "1981-01-13  0.002257  0.003338  \n",
       "1981-01-14  0.001795  0.003030  \n",
       "1981-01-15  0.001587  0.002741  \n",
       "1981-01-16  0.001336  0.002460  \n",
       "...              ...       ...  \n",
       "2022-04-29 -2.538138 -1.357149  \n",
       "2022-05-02 -2.738726 -1.633464  \n",
       "2022-05-03 -2.743419 -1.855455  \n",
       "2022-05-04 -2.194122 -1.923189  \n",
       "2022-05-05 -2.103300 -1.959211  \n",
       "\n",
       "[10419 rows x 12 columns]"
      ]
     },
     "execution_count": 495,
     "metadata": {},
     "output_type": "execute_result"
    }
   ],
   "source": [
    "dataset"
   ]
  },
  {
   "cell_type": "markdown",
   "metadata": {},
   "source": [
    "Finding the D value"
   ]
  },
  {
   "cell_type": "code",
   "execution_count": 496,
   "metadata": {},
   "outputs": [
    {
     "name": "stdout",
     "output_type": "stream",
     "text": [
      "ADF Statistics: 4.6416043669000455\n",
      "P-Value: 1.0\n"
     ]
    }
   ],
   "source": [
    "from statsmodels.tsa.stattools import adfuller\n",
    "\n",
    "result = adfuller(dataset.Close.dropna())\n",
    "print (f\"ADF Statistics: {result[0]}\")\n",
    "print (f\"P-Value: {result[1]}\")"
   ]
  },
  {
   "cell_type": "code",
   "execution_count": 497,
   "metadata": {},
   "outputs": [
    {
     "data": {
      "text/plain": [
       "1"
      ]
     },
     "execution_count": 497,
     "metadata": {},
     "output_type": "execute_result"
    }
   ],
   "source": [
    "from pmdarima.arima.utils import ndiffs\n",
    "ndiffs(dataset.Close, test=\"adf\")"
   ]
  },
  {
   "cell_type": "markdown",
   "metadata": {},
   "source": [
    "Finding the P Value"
   ]
  },
  {
   "cell_type": "code",
   "execution_count": 498,
   "metadata": {},
   "outputs": [
    {
     "data": {
      "image/png": "[encoded data removed]",
      "text/plain": [
       "<Figure size 1152x288 with 2 Axes>"
      ]
     },
     "execution_count": 498,
     "metadata": {},
     "output_type": "execute_result"
    },
    {
     "data": {
      "image/png": "[encoded data removed]",
      "text/plain": [
       "<Figure size 1152x288 with 2 Axes>"
      ]
     },
     "metadata": {
      "needs_background": "light"
     },
     "output_type": "display_data"
    }
   ],
   "source": [
    "from statsmodels.graphics.tsaplots import plot_pacf\n",
    "diff = dataset.Close.diff().dropna()\n",
    "\n",
    "fig, (ax1, ax2) = plt.subplots(1,2, figsize=(16,4))\n",
    "ax1.plot(diff)\n",
    "ax1.set_title(\"Difference\")\n",
    "ax2.set_ylim(0,1)\n",
    "plot_pacf(diff, ax=ax2)"
   ]
  },
  {
   "cell_type": "markdown",
   "metadata": {},
   "source": [
    "Finding Q value"
   ]
  },
  {
   "cell_type": "code",
   "execution_count": 499,
   "metadata": {},
   "outputs": [
    {
     "data": {
      "image/png": "[encoded data removed]",
      "text/plain": [
       "<Figure size 1152x288 with 2 Axes>"
      ]
     },
     "execution_count": 499,
     "metadata": {},
     "output_type": "execute_result"
    },
    {
     "data": {
      "image/png": "[encoded data removed]",
      "text/plain": [
       "<Figure size 1152x288 with 2 Axes>"
      ]
     },
     "metadata": {
      "needs_background": "light"
     },
     "output_type": "display_data"
    }
   ],
   "source": [
    "from statsmodels.graphics.tsaplots import plot_acf\n",
    "diff = dataset.Close.diff().dropna()\n",
    "\n",
    "fig, (ax1, ax2) = plt.subplots(1,2, figsize=(16,4))\n",
    "ax1.plot(diff)\n",
    "ax1.set_title(\"Difference Once\")\n",
    "ax2.set_ylim(0,1)\n",
    "plot_acf(diff, ax=ax2)"
   ]
  },
  {
   "cell_type": "code",
   "execution_count": 500,
   "metadata": {},
   "outputs": [],
   "source": [
    "#Spltting Data into Train and Test Data\n",
    "train_data=dataset.iloc[:int(dataset.shape[0]*0.80)]\n",
    "test_data=dataset.iloc[int(dataset.shape[0]*0.80):]\n",
    "prediction=test_data.copy()"
   ]
  },
  {
   "cell_type": "code",
   "execution_count": 501,
   "metadata": {},
   "outputs": [
    {
     "name": "stdout",
     "output_type": "stream",
     "text": [
      " ARIMA(0,1,0)(0,0,0)[0] intercept   : AIC=-16227.165, Time=1.06 sec\n",
      " ARIMA(0,1,1)(0,0,0)[0] intercept   : AIC=-16226.929, Time=2.94 sec\n",
      " ARIMA(0,1,2)(0,0,0)[0] intercept   : AIC=-16230.183, Time=5.21 sec\n",
      " ARIMA(0,1,3)(0,0,0)[0] intercept   : AIC=-16233.167, Time=2.87 sec\n",
      " ARIMA(0,1,4)(0,0,0)[0] intercept   : AIC=-16272.375, Time=5.85 sec\n",
      " ARIMA(0,1,5)(0,0,0)[0] intercept   : AIC=-16275.592, Time=7.19 sec\n",
      " ARIMA(1,1,0)(0,0,0)[0] intercept   : AIC=-16226.833, Time=0.58 sec\n",
      " ARIMA(1,1,1)(0,0,0)[0] intercept   : AIC=-16223.821, Time=1.96 sec\n",
      " ARIMA(1,1,2)(0,0,0)[0] intercept   : AIC=-16223.119, Time=3.50 sec\n",
      " ARIMA(1,1,3)(0,0,0)[0] intercept   : AIC=-16277.020, Time=12.41 sec\n",
      " ARIMA(1,1,4)(0,0,0)[0] intercept   : AIC=-16277.631, Time=10.84 sec\n",
      " ARIMA(2,1,0)(0,0,0)[0] intercept   : AIC=-16231.173, Time=1.85 sec\n",
      " ARIMA(2,1,1)(0,0,0)[0] intercept   : AIC=-16223.729, Time=4.86 sec\n",
      " ARIMA(2,1,2)(0,0,0)[0] intercept   : AIC=-16220.774, Time=3.13 sec\n",
      " ARIMA(2,1,3)(0,0,0)[0] intercept   : AIC=-16295.825, Time=12.85 sec\n",
      " ARIMA(3,1,0)(0,0,0)[0] intercept   : AIC=-16232.831, Time=2.05 sec\n",
      " ARIMA(3,1,1)(0,0,0)[0] intercept   : AIC=-16276.774, Time=8.67 sec\n",
      " ARIMA(3,1,2)(0,0,0)[0] intercept   : AIC=-16277.448, Time=10.45 sec\n",
      " ARIMA(4,1,0)(0,0,0)[0] intercept   : AIC=-16265.789, Time=3.22 sec\n",
      " ARIMA(4,1,1)(0,0,0)[0] intercept   : AIC=-16282.285, Time=12.50 sec\n",
      " ARIMA(5,1,0)(0,0,0)[0] intercept   : AIC=-16271.259, Time=3.68 sec\n",
      "\n",
      "Best model:  ARIMA(2,1,3)(0,0,0)[0] intercept\n",
      "Total fit time: 117.671 seconds\n"
     ]
    },
    {
     "data": {
      "text/plain": [
       "ARIMA(order=(2, 1, 3), scoring_args={}, suppress_warnings=True)"
      ]
     },
     "execution_count": 501,
     "metadata": {},
     "output_type": "execute_result"
    }
   ],
   "source": [
    "from pmdarima.arima import auto_arima\n",
    "#Model Training\n",
    "model= auto_arima(train_data[\"Close\"],trace=True, error_action='ignore', start_p=0,start_q=0,max_p=6,max_q=6,d=1, \n",
    "              suppress_warnings=True,stepwise=False,seasonal=False)\n",
    "model.fit(train_data[\"Close\"])"
   ]
  },
  {
   "cell_type": "code",
   "execution_count": 502,
   "metadata": {},
   "outputs": [
    {
     "name": "stdout",
     "output_type": "stream",
     "text": [
      "Root Mean Square Error ARIMA:  59.978275131159364\n"
     ]
    }
   ],
   "source": [
    "from sklearn.metrics import mean_squared_error\n",
    "#Forecasting \n",
    "y_prediction=model.predict(len(test_data))\n",
    "prediction[\"Predictions\"]=y_prediction\n",
    "rmse_arima=np.sqrt(mean_squared_error(prediction[\"Close\"],prediction[\"Predictions\"]))\n",
    "print(\"Root Mean Square Error ARIMA: \",rmse_arima)"
   ]
  },
  {
   "cell_type": "code",
   "execution_count": 503,
   "metadata": {},
   "outputs": [
    {
     "name": "stdout",
     "output_type": "stream",
     "text": [
      "MAE:  40.40606103198367\n",
      "MSE:  3597.3934877090496\n",
      "RMSE:  59.978275131159364\n",
      "R2:  -0.7427742965419393\n"
     ]
    }
   ],
   "source": [
    "#Scikit-Learn for Modeling\n",
    "from sklearn.metrics import mean_squared_error,r2_score, mean_absolute_error,mean_squared_log_error\n",
    "\n",
    "mae =mean_absolute_error(prediction[\"Close\"],prediction[\"Predictions\"])\n",
    "mse= mean_squared_error(prediction[\"Close\"],prediction[\"Predictions\"])\n",
    "rmse = np.sqrt(mean_squared_error(prediction[\"Close\"],prediction[\"Predictions\"]))\n",
    "r2 = r2_score(prediction[\"Close\"],prediction[\"Predictions\"])\n",
    "\n",
    "print(\"MAE: \",mae)\n",
    "print(\"MSE: \",mse)\n",
    "print(\"RMSE: \",rmse)\n",
    "print(\"R2: \",r2)\n"
   ]
  },
  {
   "cell_type": "code",
   "execution_count": 504,
   "metadata": {},
   "outputs": [
    {
     "data": {
      "image/png": "[encoded data removed]",
      "text/plain": [
       "<Figure size 1152x432 with 1 Axes>"
      ]
     },
     "metadata": {
      "needs_background": "light"
     },
     "output_type": "display_data"
    }
   ],
   "source": [
    "# Visualisations\n",
    "plt.figure(figsize=(16,6))\n",
    "plt.plot(train_data[\"Close\"], color='Blue', label='Train')\n",
    "plt.plot(test_data[\"Close\"], color='Red', label='Original')\n",
    "plt.plot(prediction[\"Predictions\"], color='Green', label='Prediction')\n",
    "plt.title('Stock Price Prediction')\n",
    "plt.xlabel('Time')\n",
    "plt.ylabel('Stock Price')\n",
    "plt.legend()\n",
    "plt.show()"
   ]
  },
  {
   "cell_type": "markdown",
   "metadata": {},
   "source": [
    "LSTM-Univariate"
   ]
  },
  {
   "cell_type": "code",
   "execution_count": 505,
   "metadata": {},
   "outputs": [],
   "source": [
    "#Creating a new dataframe which contains only the 'Close'\n",
    "#Converting DataFrame into Numpy Array\n",
    "close_data = dataset.filter(['Close'])\n",
    "close_dataset = close_data.values\n",
    "len(close_dataset)\n",
    "\n",
    "#Scale the data\n",
    "from sklearn.preprocessing import MinMaxScaler\n",
    "\n",
    "scaler = MinMaxScaler(feature_range=(0,1))\n",
    "scaled_data = scaler.fit_transform(close_dataset)\n"
   ]
  },
  {
   "cell_type": "code",
   "execution_count": 506,
   "metadata": {},
   "outputs": [],
   "source": [
    "#Splitting the dataset into training and test sets \n",
    "training_data_len = int(np.ceil( len(close_dataset) * .7 ))\n",
    "\n",
    "#Splitting Scaled Data into Training and Test Sets\n",
    "# Create the training dataset\n",
    "training_data = scaled_data[0:int(training_data_len), :]\n",
    "\n",
    "#Splitting into X-train and y-train\n",
    "x_train =  []\n",
    "y_train = []\n",
    "\n",
    "for i in range(100, len(training_data)):\n",
    "    x_train.append(training_data[i-100:i, 0])\n",
    "    y_train.append(training_data[i,0])\n",
    "\n",
    "\n",
    "#Converting the X_Train and Y_Train to Numpy Array in-order to train the LSTM Model\n",
    "x_train, y_train = np.array(x_train), np.array(y_train)\n",
    "\n",
    "#Reshaping the X_Train as LTSM Model expects 3D dimensional array and it is currently 2D\n",
    "x_train = np.reshape(x_train, (x_train.shape[0], x_train.shape[1], 1))"
   ]
  },
  {
   "cell_type": "code",
   "execution_count": 507,
   "metadata": {},
   "outputs": [
    {
     "name": "stdout",
     "output_type": "stream",
     "text": [
      "Model: \"sequential_5\"\n",
      "_________________________________________________________________\n",
      " Layer (type)                Output Shape              Param #   \n",
      "=================================================================\n",
      " lstm_20 (LSTM)              (None, 100, 50)           10400     \n",
      "                                                                 \n",
      " dropout_20 (Dropout)        (None, 100, 50)           0         \n",
      "                                                                 \n",
      " lstm_21 (LSTM)              (None, 100, 60)           26640     \n",
      "                                                                 \n",
      " dropout_21 (Dropout)        (None, 100, 60)           0         \n",
      "                                                                 \n",
      " lstm_22 (LSTM)              (None, 100, 80)           45120     \n",
      "                                                                 \n",
      " dropout_22 (Dropout)        (None, 100, 80)           0         \n",
      "                                                                 \n",
      " lstm_23 (LSTM)              (None, 120)               96480     \n",
      "                                                                 \n",
      " dropout_23 (Dropout)        (None, 120)               0         \n",
      "                                                                 \n",
      " dense_5 (Dense)             (None, 1)                 121       \n",
      "                                                                 \n",
      "=================================================================\n",
      "Total params: 178,761\n",
      "Trainable params: 178,761\n",
      "Non-trainable params: 0\n",
      "_________________________________________________________________\n"
     ]
    }
   ],
   "source": [
    "#LSTM Model Imports\n",
    "from keras.models import Sequential\n",
    "from keras.layers import Dense, LSTM, Dropout\n",
    "\n",
    "#Building Model\n",
    "model = Sequential()\n",
    "\n",
    "#Adding the first layer to the model and some Dropout Regularaisation\n",
    "model.add(LSTM(units = 50,  return_sequences=True, input_shape= (x_train.shape[1], 1)))\n",
    "model.add(Dropout(0.2))\n",
    "\n",
    "#Adding the second layer to the model and some Dropout Regularaisation\n",
    "model.add(LSTM(units = 60,  return_sequences=True))\n",
    "model.add(Dropout(0.3))\n",
    "\n",
    "#Adding the third layer to the model and some Dropout Regularaisation\n",
    "model.add(LSTM(units = 80,  return_sequences=True))\n",
    "model.add(Dropout(0.4))\n",
    "\n",
    "#Adding the fourth layer to the model and some Dropout Regularaisation\n",
    "model.add(LSTM(units = 120))\n",
    "model.add(Dropout(0.5))\n",
    "\n",
    "#Only need one output\n",
    "model.add(Dense(1))\n",
    "\n",
    "#Getting summary of model\n",
    "model.summary()"
   ]
  },
  {
   "cell_type": "code",
   "execution_count": 509,
   "metadata": {},
   "outputs": [
    {
     "name": "stdout",
     "output_type": "stream",
     "text": [
      "Epoch 1/5\n",
      "7194/7194 [==============================] - 834s 115ms/step - loss: 3.3319e-05\n",
      "Epoch 2/5\n",
      "7194/7194 [==============================] - 871s 121ms/step - loss: 1.3349e-05\n",
      "Epoch 3/5\n",
      "7194/7194 [==============================] - 874s 121ms/step - loss: 8.9870e-06\n",
      "Epoch 4/5\n",
      "7194/7194 [==============================] - 756s 105ms/step - loss: 7.4122e-06\n",
      "Epoch 5/5\n",
      "7194/7194 [==============================] - 667s 93ms/step - loss: 6.9071e-06\n"
     ]
    },
    {
     "data": {
      "text/plain": [
       "<keras.callbacks.History at 0x13a905b77c0>"
      ]
     },
     "execution_count": 509,
     "metadata": {},
     "output_type": "execute_result"
    }
   ],
   "source": [
    "#Compiling the Model\n",
    "model.compile(optimizer = \"adam\", loss = \"mean_squared_error\")\n",
    "\n",
    "#Training the Model\n",
    "model.fit(x_train, y_train, batch_size=1, epochs=5)"
   ]
  },
  {
   "cell_type": "code",
   "execution_count": 510,
   "metadata": {},
   "outputs": [],
   "source": [
    "# # #Saving the model\n",
    "model.save('lstm_model.h5')"
   ]
  },
  {
   "cell_type": "code",
   "execution_count": 511,
   "metadata": {},
   "outputs": [
    {
     "name": "stdout",
     "output_type": "stream",
     "text": [
      "32.60314506054027\n",
      "MAE:  15.70348991256714\n",
      "MSE:  1062.9650678386315\n",
      "RMSE:  32.60314506054027\n",
      "R2:  -2.820984317807399\n"
     ]
    }
   ],
   "source": [
    "#Creating Test Data set\n",
    "test_data = scaled_data[training_data_len - 100:, :]\n",
    "\n",
    "#X_Test and Y_Test\n",
    "x_test = []\n",
    "y_test = close_dataset[training_data_len:, :]\n",
    "for i in range(100, len(test_data)):\n",
    "    x_test.append(test_data[i-100:i, 0])\n",
    "\n",
    "\n",
    "#Converting the data into numpy array\n",
    "x_test, y_test = np.array(x_test), np.array(y_test)\n",
    "\n",
    "#Reshaping the data so it is in 3d\n",
    "x_test = np.reshape(x_test, (x_test.shape[0], x_test.shape[1],1))\n",
    "\n",
    "#Using the Models to make Predictions\n",
    "y_predictions = model.predict(x_test)\n",
    "y_predictions = scaler.inverse_transform(y_predictions)\n",
    "\n",
    "# Get the root mean squared error (RMSE)\n",
    "rmse_test = np.sqrt(np.mean(((y_predictions - y_test)**2)))\n",
    "\n",
    "print(rmse_test)\n",
    "\n",
    "\n",
    "\n",
    "mae =mean_absolute_error(y_predictions,y_test)\n",
    "mse= mean_squared_error(y_predictions,y_test)\n",
    "rmse = np.sqrt(mean_squared_error(y_predictions,y_test))\n",
    "r2 = r2_score(y_predictions,y_test)\n",
    "\n",
    "print(\"MAE: \",mae)\n",
    "print(\"MSE: \",mse)\n",
    "print(\"RMSE: \",rmse)\n",
    "print(\"R2: \",r2)\n"
   ]
  },
  {
   "cell_type": "code",
   "execution_count": 512,
   "metadata": {},
   "outputs": [
    {
     "name": "stderr",
     "output_type": "stream",
     "text": [
      "C:\\Users\\RAHUL\\AppData\\Local\\Temp/ipykernel_10824/621336294.py:4: SettingWithCopyWarning: \n",
      "A value is trying to be set on a copy of a slice from a DataFrame.\n",
      "Try using .loc[row_indexer,col_indexer] = value instead\n",
      "\n",
      "See the caveats in the documentation: https://pandas.pydata.org/pandas-docs/stable/user_guide/indexing.html#returning-a-view-versus-a-copy\n",
      "  original['Predictions'] = y_predictions\n"
     ]
    },
    {
     "data": {
      "image/png": "[encoded data removed]",
      "text/plain": [
       "<Figure size 1152x432 with 1 Axes>"
      ]
     },
     "metadata": {
      "needs_background": "light"
     },
     "output_type": "display_data"
    }
   ],
   "source": [
    "#Plotting the data\n",
    "train = close_data[:training_data_len]\n",
    "original = close_data[training_data_len:]\n",
    "original['Predictions'] = y_predictions\n",
    "# Visualize the data\n",
    "plt.figure(figsize=(16,6))\n",
    "plt.title('Model')\n",
    "plt.xlabel('Date', fontsize=18)\n",
    "plt.ylabel('Close Price', fontsize=18)\n",
    "plt.plot(train['Close'])\n",
    "plt.plot(original[['Close', 'Predictions']])\n",
    "plt.legend(['Train', 'Original', 'Predictions'], loc='lower right')\n",
    "plt.show()"
   ]
  }
 ],
 "metadata": {
  "interpreter": {
   "hash": "e9292ea86ddae4deca668d01fcf516d5d89bf271153c9a9a4d4b10b3d781426d"
  },
  "kernelspec": {
   "display_name": "Python 3.9.7 64-bit",
   "language": "python",
   "name": "python3"
  },
  "language_info": {
   "codemirror_mode": {
    "name": "ipython",
    "version": 3
   },
   "file_extension": ".py",
   "mimetype": "text/x-python",
   "name": "python",
   "nbconvert_exporter": "python",
   "pygments_lexer": "ipython3",
   "version": "3.9.7"
  },
  "orig_nbformat": 4
 },
 "nbformat": 4,
 "nbformat_minor": 2
}
