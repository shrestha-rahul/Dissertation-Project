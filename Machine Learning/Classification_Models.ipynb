{
 "cells": [
  {
   "cell_type": "code",
   "execution_count": 47,
   "metadata": {},
   "outputs": [],
   "source": [
    "#Libraries\n",
    "import numpy as np \n",
    "import pandas as pd \n",
    "import yfinance as yf\n",
    "import matplotlib.pyplot as plt\n",
    "from datetime import date\n",
    "import pandas_datareader as data\n",
    "from pandas_datareader import *\n",
    "import math\n",
    "import seaborn as sns\n",
    "import warnings\n",
    "warnings.simplefilter(action='ignore', category=FutureWarning)\n",
    "\n",
    "#Models\n",
    "from sklearn.linear_model import LogisticRegression\n",
    "from sklearn.naive_bayes import GaussianNB\n",
    "from sklearn.linear_model import SGDClassifier\n",
    "from sklearn.neighbors import KNeighborsClassifier\n",
    "from sklearn.tree import DecisionTreeClassifier\n",
    "from sklearn.ensemble import RandomForestClassifier\n",
    "from sklearn.svm import SVC\n",
    "from sklearn.neural_network import MLPClassifier\n",
    "from sklearn.model_selection import StratifiedKFold\n",
    "from sklearn.model_selection import KFold\n",
    "\n",
    "\n",
    "#Model Result Analysis\n",
    "from sklearn.metrics import accuracy_score, confusion_matrix, roc_auc_score, ConfusionMatrixDisplay, precision_score, recall_score, f1_score, classification_report, roc_curve, plot_roc_curve, auc, precision_recall_curve, plot_precision_recall_curve, average_precision_score\n",
    "from sklearn.model_selection import cross_val_score"
   ]
  },
  {
   "cell_type": "code",
   "execution_count": 48,
   "metadata": {},
   "outputs": [
    {
     "data": {
      "text/html": [
       "<div>\n",
       "<style scoped>\n",
       "    .dataframe tbody tr th:only-of-type {\n",
       "        vertical-align: middle;\n",
       "    }\n",
       "\n",
       "    .dataframe tbody tr th {\n",
       "        vertical-align: top;\n",
       "    }\n",
       "\n",
       "    .dataframe thead th {\n",
       "        text-align: right;\n",
       "    }\n",
       "</style>\n",
       "<table border=\"1\" class=\"dataframe\">\n",
       "  <thead>\n",
       "    <tr style=\"text-align: right;\">\n",
       "      <th></th>\n",
       "      <th>Open</th>\n",
       "      <th>High</th>\n",
       "      <th>Low</th>\n",
       "      <th>Close</th>\n",
       "      <th>Volume</th>\n",
       "      <th>Dividends</th>\n",
       "      <th>Stock Splits</th>\n",
       "    </tr>\n",
       "    <tr>\n",
       "      <th>Date</th>\n",
       "      <th></th>\n",
       "      <th></th>\n",
       "      <th></th>\n",
       "      <th></th>\n",
       "      <th></th>\n",
       "      <th></th>\n",
       "      <th></th>\n",
       "    </tr>\n",
       "  </thead>\n",
       "  <tbody>\n",
       "    <tr>\n",
       "      <th>2022-04-21</th>\n",
       "      <td>168.910004</td>\n",
       "      <td>171.529999</td>\n",
       "      <td>165.910004</td>\n",
       "      <td>166.419998</td>\n",
       "      <td>87227800</td>\n",
       "      <td>0.0</td>\n",
       "      <td>0.0</td>\n",
       "    </tr>\n",
       "    <tr>\n",
       "      <th>2022-04-22</th>\n",
       "      <td>166.460007</td>\n",
       "      <td>167.869995</td>\n",
       "      <td>161.500000</td>\n",
       "      <td>161.789993</td>\n",
       "      <td>84882400</td>\n",
       "      <td>0.0</td>\n",
       "      <td>0.0</td>\n",
       "    </tr>\n",
       "    <tr>\n",
       "      <th>2022-04-25</th>\n",
       "      <td>161.119995</td>\n",
       "      <td>163.169998</td>\n",
       "      <td>158.460007</td>\n",
       "      <td>162.880005</td>\n",
       "      <td>96046400</td>\n",
       "      <td>0.0</td>\n",
       "      <td>0.0</td>\n",
       "    </tr>\n",
       "    <tr>\n",
       "      <th>2022-04-26</th>\n",
       "      <td>162.250000</td>\n",
       "      <td>162.339996</td>\n",
       "      <td>156.720001</td>\n",
       "      <td>156.800003</td>\n",
       "      <td>95623200</td>\n",
       "      <td>0.0</td>\n",
       "      <td>0.0</td>\n",
       "    </tr>\n",
       "    <tr>\n",
       "      <th>2022-04-27</th>\n",
       "      <td>155.910004</td>\n",
       "      <td>159.789993</td>\n",
       "      <td>155.380005</td>\n",
       "      <td>156.570007</td>\n",
       "      <td>88063200</td>\n",
       "      <td>0.0</td>\n",
       "      <td>0.0</td>\n",
       "    </tr>\n",
       "    <tr>\n",
       "      <th>2022-04-28</th>\n",
       "      <td>159.250000</td>\n",
       "      <td>164.520004</td>\n",
       "      <td>158.929993</td>\n",
       "      <td>163.639999</td>\n",
       "      <td>130216800</td>\n",
       "      <td>0.0</td>\n",
       "      <td>0.0</td>\n",
       "    </tr>\n",
       "    <tr>\n",
       "      <th>2022-04-29</th>\n",
       "      <td>161.839996</td>\n",
       "      <td>166.199997</td>\n",
       "      <td>157.250000</td>\n",
       "      <td>157.649994</td>\n",
       "      <td>131587100</td>\n",
       "      <td>0.0</td>\n",
       "      <td>0.0</td>\n",
       "    </tr>\n",
       "    <tr>\n",
       "      <th>2022-05-02</th>\n",
       "      <td>156.710007</td>\n",
       "      <td>158.229996</td>\n",
       "      <td>153.270004</td>\n",
       "      <td>157.960007</td>\n",
       "      <td>123055300</td>\n",
       "      <td>0.0</td>\n",
       "      <td>0.0</td>\n",
       "    </tr>\n",
       "    <tr>\n",
       "      <th>2022-05-03</th>\n",
       "      <td>158.149994</td>\n",
       "      <td>160.710007</td>\n",
       "      <td>156.320007</td>\n",
       "      <td>159.479996</td>\n",
       "      <td>88912900</td>\n",
       "      <td>0.0</td>\n",
       "      <td>0.0</td>\n",
       "    </tr>\n",
       "    <tr>\n",
       "      <th>2022-05-04</th>\n",
       "      <td>159.669998</td>\n",
       "      <td>161.309998</td>\n",
       "      <td>159.259995</td>\n",
       "      <td>160.788498</td>\n",
       "      <td>35534323</td>\n",
       "      <td>0.0</td>\n",
       "      <td>0.0</td>\n",
       "    </tr>\n",
       "  </tbody>\n",
       "</table>\n",
       "</div>"
      ],
      "text/plain": [
       "                  Open        High         Low       Close     Volume  \\\n",
       "Date                                                                    \n",
       "2022-04-21  168.910004  171.529999  165.910004  166.419998   87227800   \n",
       "2022-04-22  166.460007  167.869995  161.500000  161.789993   84882400   \n",
       "2022-04-25  161.119995  163.169998  158.460007  162.880005   96046400   \n",
       "2022-04-26  162.250000  162.339996  156.720001  156.800003   95623200   \n",
       "2022-04-27  155.910004  159.789993  155.380005  156.570007   88063200   \n",
       "2022-04-28  159.250000  164.520004  158.929993  163.639999  130216800   \n",
       "2022-04-29  161.839996  166.199997  157.250000  157.649994  131587100   \n",
       "2022-05-02  156.710007  158.229996  153.270004  157.960007  123055300   \n",
       "2022-05-03  158.149994  160.710007  156.320007  159.479996   88912900   \n",
       "2022-05-04  159.669998  161.309998  159.259995  160.788498   35534323   \n",
       "\n",
       "            Dividends  Stock Splits  \n",
       "Date                                 \n",
       "2022-04-21        0.0           0.0  \n",
       "2022-04-22        0.0           0.0  \n",
       "2022-04-25        0.0           0.0  \n",
       "2022-04-26        0.0           0.0  \n",
       "2022-04-27        0.0           0.0  \n",
       "2022-04-28        0.0           0.0  \n",
       "2022-04-29        0.0           0.0  \n",
       "2022-05-02        0.0           0.0  \n",
       "2022-05-03        0.0           0.0  \n",
       "2022-05-04        0.0           0.0  "
      ]
     },
     "execution_count": 48,
     "metadata": {},
     "output_type": "execute_result"
    }
   ],
   "source": [
    "#Scraping Dataset from Yahoo Finance using yfinance\n",
    "#Getting data for the Apple Stock\n",
    "aapl = yf.Ticker(\"AAPL\")\n",
    "\n",
    "# Apple Company Information\n",
    "# aapl.info\n",
    "\n",
    "# Apple's Historical Stock Prices (10 Year Period)\n",
    "aapl.dataset = aapl.history(period=\"10y\")\n",
    "\n",
    "aapl.dataset.tail(10)"
   ]
  },
  {
   "cell_type": "code",
   "execution_count": 49,
   "metadata": {},
   "outputs": [
    {
     "data": {
      "text/plain": [
       "(2517, 7)"
      ]
     },
     "execution_count": 49,
     "metadata": {},
     "output_type": "execute_result"
    }
   ],
   "source": [
    "#Dataframe basic information on rows and columns\n",
    "aapl.dataset.shape"
   ]
  },
  {
   "cell_type": "code",
   "execution_count": 50,
   "metadata": {},
   "outputs": [
    {
     "data": {
      "text/html": [
       "<div>\n",
       "<style scoped>\n",
       "    .dataframe tbody tr th:only-of-type {\n",
       "        vertical-align: middle;\n",
       "    }\n",
       "\n",
       "    .dataframe tbody tr th {\n",
       "        vertical-align: top;\n",
       "    }\n",
       "\n",
       "    .dataframe thead th {\n",
       "        text-align: right;\n",
       "    }\n",
       "</style>\n",
       "<table border=\"1\" class=\"dataframe\">\n",
       "  <thead>\n",
       "    <tr style=\"text-align: right;\">\n",
       "      <th></th>\n",
       "      <th>Open</th>\n",
       "      <th>High</th>\n",
       "      <th>Low</th>\n",
       "      <th>Close</th>\n",
       "      <th>Volume</th>\n",
       "    </tr>\n",
       "    <tr>\n",
       "      <th>Date</th>\n",
       "      <th></th>\n",
       "      <th></th>\n",
       "      <th></th>\n",
       "      <th></th>\n",
       "      <th></th>\n",
       "    </tr>\n",
       "  </thead>\n",
       "  <tbody>\n",
       "    <tr>\n",
       "      <th>2012-05-04</th>\n",
       "      <td>17.647816</td>\n",
       "      <td>17.686959</td>\n",
       "      <td>17.283593</td>\n",
       "      <td>17.286039</td>\n",
       "      <td>529992400</td>\n",
       "    </tr>\n",
       "    <tr>\n",
       "      <th>2012-05-07</th>\n",
       "      <td>17.171354</td>\n",
       "      <td>17.516004</td>\n",
       "      <td>17.163096</td>\n",
       "      <td>17.415392</td>\n",
       "      <td>460118400</td>\n",
       "    </tr>\n",
       "    <tr>\n",
       "      <th>2012-05-08</th>\n",
       "      <td>17.418452</td>\n",
       "      <td>17.477168</td>\n",
       "      <td>17.086647</td>\n",
       "      <td>17.375639</td>\n",
       "      <td>497252000</td>\n",
       "    </tr>\n",
       "    <tr>\n",
       "      <th>2012-05-09</th>\n",
       "      <td>17.238639</td>\n",
       "      <td>17.553015</td>\n",
       "      <td>17.151483</td>\n",
       "      <td>17.406223</td>\n",
       "      <td>480704000</td>\n",
       "    </tr>\n",
       "    <tr>\n",
       "      <th>2012-05-10</th>\n",
       "      <td>17.571355</td>\n",
       "      <td>17.611111</td>\n",
       "      <td>17.383588</td>\n",
       "      <td>17.447195</td>\n",
       "      <td>333200000</td>\n",
       "    </tr>\n",
       "    <tr>\n",
       "      <th>...</th>\n",
       "      <td>...</td>\n",
       "      <td>...</td>\n",
       "      <td>...</td>\n",
       "      <td>...</td>\n",
       "      <td>...</td>\n",
       "    </tr>\n",
       "    <tr>\n",
       "      <th>2022-04-28</th>\n",
       "      <td>159.250000</td>\n",
       "      <td>164.520004</td>\n",
       "      <td>158.929993</td>\n",
       "      <td>163.639999</td>\n",
       "      <td>130216800</td>\n",
       "    </tr>\n",
       "    <tr>\n",
       "      <th>2022-04-29</th>\n",
       "      <td>161.839996</td>\n",
       "      <td>166.199997</td>\n",
       "      <td>157.250000</td>\n",
       "      <td>157.649994</td>\n",
       "      <td>131587100</td>\n",
       "    </tr>\n",
       "    <tr>\n",
       "      <th>2022-05-02</th>\n",
       "      <td>156.710007</td>\n",
       "      <td>158.229996</td>\n",
       "      <td>153.270004</td>\n",
       "      <td>157.960007</td>\n",
       "      <td>123055300</td>\n",
       "    </tr>\n",
       "    <tr>\n",
       "      <th>2022-05-03</th>\n",
       "      <td>158.149994</td>\n",
       "      <td>160.710007</td>\n",
       "      <td>156.320007</td>\n",
       "      <td>159.479996</td>\n",
       "      <td>88912900</td>\n",
       "    </tr>\n",
       "    <tr>\n",
       "      <th>2022-05-04</th>\n",
       "      <td>159.669998</td>\n",
       "      <td>161.309998</td>\n",
       "      <td>159.259995</td>\n",
       "      <td>160.788498</td>\n",
       "      <td>35534323</td>\n",
       "    </tr>\n",
       "  </tbody>\n",
       "</table>\n",
       "<p>2517 rows × 5 columns</p>\n",
       "</div>"
      ],
      "text/plain": [
       "                  Open        High         Low       Close     Volume\n",
       "Date                                                                 \n",
       "2012-05-04   17.647816   17.686959   17.283593   17.286039  529992400\n",
       "2012-05-07   17.171354   17.516004   17.163096   17.415392  460118400\n",
       "2012-05-08   17.418452   17.477168   17.086647   17.375639  497252000\n",
       "2012-05-09   17.238639   17.553015   17.151483   17.406223  480704000\n",
       "2012-05-10   17.571355   17.611111   17.383588   17.447195  333200000\n",
       "...                ...         ...         ...         ...        ...\n",
       "2022-04-28  159.250000  164.520004  158.929993  163.639999  130216800\n",
       "2022-04-29  161.839996  166.199997  157.250000  157.649994  131587100\n",
       "2022-05-02  156.710007  158.229996  153.270004  157.960007  123055300\n",
       "2022-05-03  158.149994  160.710007  156.320007  159.479996   88912900\n",
       "2022-05-04  159.669998  161.309998  159.259995  160.788498   35534323\n",
       "\n",
       "[2517 rows x 5 columns]"
      ]
     },
     "execution_count": 50,
     "metadata": {},
     "output_type": "execute_result"
    }
   ],
   "source": [
    "#Dropped Columns 'Dividends' and 'Stock Splits'\n",
    "aapl.dataset.drop(['Dividends', 'Stock Splits'], axis=1)"
   ]
  },
  {
   "cell_type": "code",
   "execution_count": 51,
   "metadata": {},
   "outputs": [
    {
     "data": {
      "text/html": [
       "<div>\n",
       "<style scoped>\n",
       "    .dataframe tbody tr th:only-of-type {\n",
       "        vertical-align: middle;\n",
       "    }\n",
       "\n",
       "    .dataframe tbody tr th {\n",
       "        vertical-align: top;\n",
       "    }\n",
       "\n",
       "    .dataframe thead th {\n",
       "        text-align: right;\n",
       "    }\n",
       "</style>\n",
       "<table border=\"1\" class=\"dataframe\">\n",
       "  <thead>\n",
       "    <tr style=\"text-align: right;\">\n",
       "      <th></th>\n",
       "      <th>Open</th>\n",
       "      <th>Close</th>\n",
       "      <th>High</th>\n",
       "      <th>Low</th>\n",
       "      <th>Volume</th>\n",
       "    </tr>\n",
       "    <tr>\n",
       "      <th>Date</th>\n",
       "      <th></th>\n",
       "      <th></th>\n",
       "      <th></th>\n",
       "      <th></th>\n",
       "      <th></th>\n",
       "    </tr>\n",
       "  </thead>\n",
       "  <tbody>\n",
       "    <tr>\n",
       "      <th>2022-04-28</th>\n",
       "      <td>159.250000</td>\n",
       "      <td>163.639999</td>\n",
       "      <td>164.520004</td>\n",
       "      <td>158.929993</td>\n",
       "      <td>130216800</td>\n",
       "    </tr>\n",
       "    <tr>\n",
       "      <th>2022-04-29</th>\n",
       "      <td>161.839996</td>\n",
       "      <td>157.649994</td>\n",
       "      <td>166.199997</td>\n",
       "      <td>157.250000</td>\n",
       "      <td>131587100</td>\n",
       "    </tr>\n",
       "    <tr>\n",
       "      <th>2022-05-02</th>\n",
       "      <td>156.710007</td>\n",
       "      <td>157.960007</td>\n",
       "      <td>158.229996</td>\n",
       "      <td>153.270004</td>\n",
       "      <td>123055300</td>\n",
       "    </tr>\n",
       "    <tr>\n",
       "      <th>2022-05-03</th>\n",
       "      <td>158.149994</td>\n",
       "      <td>159.479996</td>\n",
       "      <td>160.710007</td>\n",
       "      <td>156.320007</td>\n",
       "      <td>88912900</td>\n",
       "    </tr>\n",
       "    <tr>\n",
       "      <th>2022-05-04</th>\n",
       "      <td>159.669998</td>\n",
       "      <td>160.788498</td>\n",
       "      <td>161.309998</td>\n",
       "      <td>159.259995</td>\n",
       "      <td>35534323</td>\n",
       "    </tr>\n",
       "  </tbody>\n",
       "</table>\n",
       "</div>"
      ],
      "text/plain": [
       "                  Open       Close        High         Low     Volume\n",
       "Date                                                                 \n",
       "2022-04-28  159.250000  163.639999  164.520004  158.929993  130216800\n",
       "2022-04-29  161.839996  157.649994  166.199997  157.250000  131587100\n",
       "2022-05-02  156.710007  157.960007  158.229996  153.270004  123055300\n",
       "2022-05-03  158.149994  159.479996  160.710007  156.320007   88912900\n",
       "2022-05-04  159.669998  160.788498  161.309998  159.259995   35534323"
      ]
     },
     "execution_count": 51,
     "metadata": {},
     "output_type": "execute_result"
    }
   ],
   "source": [
    "#YFinance Bug- Dropped columns appears after being dropped so copying into new dataset\n",
    "dataset = aapl.dataset [['Open', 'Close', 'High', 'Low','Volume']].copy()\n",
    "dataset.tail()"
   ]
  },
  {
   "cell_type": "markdown",
   "metadata": {},
   "source": [
    "ADDING TECHNICAL INDICATORS TO DATASET"
   ]
  },
  {
   "cell_type": "markdown",
   "metadata": {},
   "source": [
    "Stochastic Oscillator Indicator"
   ]
  },
  {
   "cell_type": "code",
   "execution_count": 52,
   "metadata": {},
   "outputs": [],
   "source": [
    "# Calculating %K and %D\n",
    "dataset['14-high'] = dataset['High'].rolling(14).max()\n",
    "dataset['14-low'] = dataset['Low'].rolling(14).min()\n",
    "dataset['%K'] = (dataset['Close'] - dataset['14-low'])*100/(dataset['14-high'] - dataset['14-low'])\n",
    "dataset['%D'] = dataset['%K'].rolling(3).mean()\n"
   ]
  },
  {
   "cell_type": "code",
   "execution_count": 53,
   "metadata": {},
   "outputs": [],
   "source": [
    "#Dropping 14-HIGH AND 14-LOW COLUMNS\n",
    "dataset.drop(['14-high', '14-low'], axis = 1, inplace=True)"
   ]
  },
  {
   "cell_type": "code",
   "execution_count": 54,
   "metadata": {},
   "outputs": [
    {
     "data": {
      "image/png": "[encoded data removed]",
      "text/plain": [
       "<Figure size 864x360 with 1 Axes>"
      ]
     },
     "metadata": {},
     "output_type": "display_data"
    }
   ],
   "source": [
    "#Plotting SO Graph\n",
    "plt.figure(figsize=(12, 5))\n",
    "plt.title(' Stochastic Oscillator for AAPL')\n",
    "plt.xlabel('Months')\n",
    "plt.plot(dataset['%K'], label='%K', c='black')\n",
    "plt.plot(dataset['%D'], label='%D',  c='yellow')\n",
    "plt.axhline(20, linestyle='--', color=\"r\")\n",
    "plt.axhline(80, linestyle=\"--\", color=\"r\")\n",
    "plt.legend()\n",
    "plt.show()\n"
   ]
  },
  {
   "cell_type": "code",
   "execution_count": 55,
   "metadata": {},
   "outputs": [],
   "source": [
    "# Adding Buy/Sell Signals from Sotchastic Oscillator Indicator\n",
    "def categorise_so(row):  \n",
    "    if row['%K'] <= 20 and row['%D'] <= 20:\n",
    "        return 'Buy'\n",
    "    elif row['%K'] >= 80 and  row['%D']>= 80:\n",
    "        return 'Sell'\n",
    "    else:\n",
    "        return 'Hold'\n",
    "\n",
    "    \n",
    "   \n",
    "dataset['SO Indicator'] = dataset.apply(lambda row: categorise_so(row), axis=1)\n"
   ]
  },
  {
   "cell_type": "code",
   "execution_count": 56,
   "metadata": {},
   "outputs": [
    {
     "name": "stdout",
     "output_type": "stream",
     "text": [
      "Hold    1552\n",
      "Sell     725\n",
      "Buy      240\n",
      "Name: SO Indicator, dtype: int64\n"
     ]
    }
   ],
   "source": [
    "# Distrubition of the Indicator\n",
    "print(dataset['SO Indicator'].value_counts())"
   ]
  },
  {
   "cell_type": "code",
   "execution_count": 57,
   "metadata": {},
   "outputs": [
    {
     "data": {
      "image/png": "[encoded data removed]",
      "text/plain": [
       "<Figure size 576x396 with 1 Axes>"
      ]
     },
     "metadata": {},
     "output_type": "display_data"
    }
   ],
   "source": [
    "#Distrubition of the SO Indicator\n",
    "labels = [\"Hold\", \"Sell\", \"Buy\"]\n",
    "values = dataset['SO Indicator'].value_counts().tolist()\n",
    "colours = sns.color_palette(\"pastel\")\n",
    "plt.pie(x=values, labels=labels, autopct='%.0f%%', colors= colours, shadow=True, rotatelabels='true')\n",
    "plt.title(\"Distribution of Buy/Sell/Hold Signals from SO\")\n",
    "plt.show()"
   ]
  },
  {
   "cell_type": "markdown",
   "metadata": {},
   "source": [
    "Relative Strength Index"
   ]
  },
  {
   "cell_type": "code",
   "execution_count": 58,
   "metadata": {},
   "outputs": [],
   "source": [
    "delta = dataset['Close'].diff()\n",
    "up = delta.clip(lower=0)\n",
    "down = -1*delta.clip(upper=0)\n",
    "ema_up = up.ewm(com=13, adjust=False).mean()\n",
    "ema_down = down.ewm(com=13, adjust=False).mean()\n",
    "rs = ema_up/ema_down\n",
    "dataset['RSI'] = 100 - (100/(1 + rs))"
   ]
  },
  {
   "cell_type": "code",
   "execution_count": 59,
   "metadata": {},
   "outputs": [
    {
     "data": {
      "image/png": "[encoded data removed]",
      "text/plain": [
       "<Figure size 864x360 with 1 Axes>"
      ]
     },
     "metadata": {},
     "output_type": "display_data"
    }
   ],
   "source": [
    "#Plotting RSI Graph\n",
    "plt.figure(figsize=(12, 5))\n",
    "plt.title(' RSI for AAPL')\n",
    "plt.xlabel('Months')\n",
    "plt.plot(dataset['RSI'], label='RSI')\n",
    "plt.axhline(30, linestyle='--', color=\"r\")\n",
    "plt.axhline(70, linestyle=\"--\", color=\"r\")\n",
    "plt.legend()\n",
    "plt.show()\n",
    "\n"
   ]
  },
  {
   "cell_type": "code",
   "execution_count": 60,
   "metadata": {},
   "outputs": [],
   "source": [
    "# Adding Buy/Sell Signals from RSI Indicator\n",
    "def categorise_rsi(row):  \n",
    "    if row['RSI'] <= 30:\n",
    "        return 'Buy'\n",
    "    elif row['RSI'] >= 70:\n",
    "        return 'Sell'\n",
    "    else:\n",
    "        return 'Hold'\n",
    "  \n",
    "dataset['RSI Indicator'] = dataset.apply(lambda row: categorise_rsi(row), axis=1)"
   ]
  },
  {
   "cell_type": "code",
   "execution_count": 61,
   "metadata": {},
   "outputs": [
    {
     "name": "stdout",
     "output_type": "stream",
     "text": [
      "Hold    2086\n",
      "Sell     369\n",
      "Buy       62\n",
      "Name: RSI Indicator, dtype: int64\n"
     ]
    }
   ],
   "source": [
    "# Distrubition of the Indicator\n",
    "print(dataset['RSI Indicator'].value_counts())"
   ]
  },
  {
   "cell_type": "code",
   "execution_count": 62,
   "metadata": {},
   "outputs": [
    {
     "data": {
      "image/png": "[encoded data removed]",
      "text/plain": [
       "<Figure size 576x396 with 1 Axes>"
      ]
     },
     "metadata": {},
     "output_type": "display_data"
    }
   ],
   "source": [
    "#Distrubition of the Indicator\n",
    "labels = [\"Hold\", \"Sell\", \"Buy\"]\n",
    "values = dataset['RSI Indicator'].value_counts().tolist()\n",
    "plt.style.use(\"seaborn\")\n",
    "colours = sns.color_palette(\"Set3\")\n",
    "plt.pie(x=values, labels=labels, autopct='%.0f%%', colors= colours, shadow=True, rotatelabels='true')\n",
    "plt.title(\"Distribution of Buy/Sell/Hold Signals from RSI\", fontdict={'fontsize': 14})\n",
    "plt.show()"
   ]
  },
  {
   "cell_type": "markdown",
   "metadata": {},
   "source": [
    "Bollinger Bands"
   ]
  },
  {
   "cell_type": "code",
   "execution_count": 63,
   "metadata": {},
   "outputs": [
    {
     "data": {
      "image/png": "[encoded data removed]",
      "text/plain": [
       "<Figure size 864x360 with 1 Axes>"
      ]
     },
     "metadata": {},
     "output_type": "display_data"
    }
   ],
   "source": [
    "def get_sma(prices, rate):\n",
    "    return prices.rolling(rate).mean()\n",
    "\n",
    "def get_bollinger_bands(prices, rate=20):\n",
    "    # SMA for 20 Days (Middle Band)\n",
    "    sma = get_sma(prices, rate)\n",
    "    std = prices.rolling(rate).std()\n",
    "\n",
    "    # Calculating Upper Band\n",
    "    bollinger_upper = sma + (std * 2 )\n",
    "\n",
    "    # Calculate Lower Band\n",
    "    bollinger_lower = sma - (std * 2 )\n",
    "\n",
    "    #Middle Band\n",
    "    bollinger_middle = sma\n",
    "    return bollinger_upper, bollinger_lower, bollinger_middle\n",
    "\n",
    "\n",
    "closing_prices = dataset['Close']\n",
    "bollinger_upper, bollinger_lower, bollinger_middle = get_bollinger_bands(closing_prices)\n",
    "\n",
    "#Plotting the  Bollinger Bands\n",
    "plt.figure(figsize=(12, 5))\n",
    "plt.title(' Bollinger Bands for AAPL')\n",
    "plt.xlabel('Months')\n",
    "plt.ylabel('Closing Prices')\n",
    "plt.plot(closing_prices, label='Price')\n",
    "plt.plot(bollinger_upper, label='Upper Band', c='g')\n",
    "plt.plot(bollinger_lower, label='Lower Band', c='r')\n",
    "plt.plot(bollinger_middle, label='Middle Band', c='y')\n",
    "\n",
    "plt.legend()\n",
    "plt.show()"
   ]
  },
  {
   "cell_type": "code",
   "execution_count": 64,
   "metadata": {},
   "outputs": [],
   "source": [
    "#Adding Bollinger Bands to the Dataset\n",
    "dataset['Bollinger_Upper'] = bollinger_upper\n",
    "dataset['Bollinger_Lower'] = bollinger_lower\n"
   ]
  },
  {
   "cell_type": "code",
   "execution_count": 65,
   "metadata": {},
   "outputs": [],
   "source": [
    "# Adding Buy/Sell Signals from Bollinger Bands Indicator\n",
    "def categorise_bollinger(row):  \n",
    "    if row['Close'] < row['Bollinger_Lower']:\n",
    "        return 'Buy'\n",
    "    elif row['Close'] > row['Bollinger_Upper']:\n",
    "        return 'Sell'\n",
    "    else:\n",
    "        return 'Hold'\n",
    "    \n",
    "   \n",
    "dataset['Bollinger Indicator'] = dataset.apply(lambda row: categorise_bollinger(row), axis=1)\n"
   ]
  },
  {
   "cell_type": "code",
   "execution_count": 66,
   "metadata": {},
   "outputs": [
    {
     "name": "stdout",
     "output_type": "stream",
     "text": [
      "Hold    2219\n",
      "Sell     188\n",
      "Buy      110\n",
      "Name: Bollinger Indicator, dtype: int64\n"
     ]
    }
   ],
   "source": [
    "# Distrubition of the Indicator\n",
    "print(dataset['Bollinger Indicator'].value_counts())"
   ]
  },
  {
   "cell_type": "code",
   "execution_count": 67,
   "metadata": {},
   "outputs": [
    {
     "data": {
      "image/png": "[encoded data removed]",
      "text/plain": [
       "<Figure size 576x396 with 1 Axes>"
      ]
     },
     "metadata": {},
     "output_type": "display_data"
    }
   ],
   "source": [
    "#Distrubition of the Indicator\n",
    "labels = [\"Hold\", \"Sell\", \"Buy\"]\n",
    "values = dataset['Bollinger Indicator'].value_counts().tolist()\n",
    "plt.style.use(\"seaborn\")\n",
    "colours = sns.color_palette(\"Set2\")\n",
    "plt.pie(x=values, labels=labels, autopct='%.0f%%', colors= colours, shadow=True, rotatelabels='true')\n",
    "plt.title(\"Distribution of Buy/Sell/Hold Signals from Bollinger Indicator\", fontdict={'fontsize': 14})\n",
    "plt.show()"
   ]
  },
  {
   "cell_type": "markdown",
   "metadata": {},
   "source": [
    "Moving Average Convergence Divergence"
   ]
  },
  {
   "cell_type": "code",
   "execution_count": 68,
   "metadata": {},
   "outputs": [],
   "source": [
    "# Calculating the MACD Line and the Signal Line\n",
    "ema12 = dataset['Close'].ewm(span=12, adjust=False).mean()\n",
    "ema26 = dataset['Close'].ewm(span=26, adjust=False).mean()\n",
    "macd = ema12 - ema26\n",
    "signal = macd.ewm(span=9, adjust=False).mean()\n",
    "\n",
    "\n",
    "#Appeding the MACD and Signal Data to Dataset\n",
    "dataset['MACD'] = macd\n",
    "dataset['Signal'] = signal\n"
   ]
  },
  {
   "cell_type": "code",
   "execution_count": 69,
   "metadata": {},
   "outputs": [],
   "source": [
    "# Adding Buy/Sell Signals from MACD\n",
    "signal = []\n",
    "\n",
    "for i in range(len(dataset)):\n",
    "   if dataset['MACD'][i] > dataset['Signal'][i] and dataset['MACD'][i-1] < dataset['Signal'][i-1]:\n",
    "      signal.append('Buy')\n",
    "   elif dataset['MACD'][i] < dataset['Signal'][i] and dataset['MACD'][i-1] > dataset['Signal'][i-1]:\n",
    "      signal.append('Sell')\n",
    "   else:\n",
    "      signal.append('Hold')\n",
    "\n",
    "  \n",
    "    \n",
    "dataset['MACD Indicator'] = signal"
   ]
  },
  {
   "cell_type": "code",
   "execution_count": 70,
   "metadata": {},
   "outputs": [
    {
     "name": "stdout",
     "output_type": "stream",
     "text": [
      "Hold    2342\n",
      "Sell      88\n",
      "Buy       87\n",
      "Name: MACD Indicator, dtype: int64\n"
     ]
    }
   ],
   "source": [
    "# Distrubition of the Indicator\n",
    "print(dataset['MACD Indicator'].value_counts())"
   ]
  },
  {
   "cell_type": "code",
   "execution_count": 71,
   "metadata": {},
   "outputs": [
    {
     "data": {
      "image/png": "[encoded data removed]",
      "text/plain": [
       "<Figure size 576x396 with 1 Axes>"
      ]
     },
     "metadata": {},
     "output_type": "display_data"
    }
   ],
   "source": [
    "#Distrubition of the MACD Indicator\n",
    "labels = [\"Hold\", \"Sell\", \"Buy\"]\n",
    "values = dataset['MACD Indicator'].value_counts().tolist()\n",
    "colours = sns.color_palette(\"pastel\", 10)\n",
    "plt.pie(x=values, labels=labels, autopct='%.0f%%', colors= colours, shadow=True, rotatelabels='true')\n",
    "plt.title(\"Distribution of Buy/Sell/Hold Signals from MACD Indicator\", fontdict={'fontsize': 14})\n",
    "plt.show()"
   ]
  },
  {
   "cell_type": "markdown",
   "metadata": {},
   "source": [
    "Addding Target Variable"
   ]
  },
  {
   "cell_type": "code",
   "execution_count": 72,
   "metadata": {},
   "outputs": [],
   "source": [
    "# Recommender Based on the three indicators\n",
    "def recommender(row): \n",
    "    # If All Share the Same Signal OutPut That Signal (Buy)\n",
    "    if row['RSI Indicator'] == \"Buy\" and row['SO Indicator'] == 'Buy' and  row['Bollinger Indicator'] == 'Buy':\n",
    "        return 'Buy'\n",
    "     # If Any 2 Indicators Share the Same Signal Output That Signal (buy)\n",
    "    elif row['RSI Indicator'] == 'Buy' and row['SO Indicator'] == 'Buy':\n",
    "        return 'Buy'\n",
    "    elif row['RSI Indicator'] == 'Buy' and row['Bollinger Indicator'] == 'Buy':\n",
    "        return 'Buy'\n",
    "    elif row['SO Indicator'] == 'Buy' and row['Bollinger Indicator'] == 'Buy':\n",
    "        return 'Buy'   \n",
    "    # If All Share the Same Signal Output That Signal (Sell)\n",
    "    elif row['RSI Indicator'] == 'Sell' and row['SO Indicator'] == 'Sell' and  row['Bollinger Indicator'] == 'Sell':\n",
    "        return 'Sell'\n",
    "    # If Any 2 Indicators Share the Same Signal Output That Signal (Sell)\n",
    "    elif row['RSI Indicator'] == 'Sell' and row['SO Indicator'] == 'Sell':\n",
    "        return 'Sell'\n",
    "    elif row['RSI Indicator'] == 'Sell' and row['Bollinger Indicator'] == 'Sell':\n",
    "        return 'Sell'\n",
    "    elif row['SO Indicator'] == 'Sell' and row['Bollinger Indicator'] == 'Sell':\n",
    "        return 'Sell'    \n",
    "    # If All Share the Same Signal OutPut That Signal (Hold)\n",
    "    elif row['RSI Indicator'] == 'Hold' and row['SO Indicator'] == 'Hold' and  row['Bollinger Indicator'] == 'Hold':\n",
    "        return 'Hold'\n",
    "    # If Any 2 Indicators Share the Same Signal Output That Signal (Hold)\n",
    "    elif row['RSI Indicator'] == 'Hold' and row['SO Indicator'] == 'Hold':\n",
    "        return 'Hold'\n",
    "    elif row['RSI Indicator'] == 'Hold' and row['Bollinger Indicator'] == 'Hold':\n",
    "        return 'Hold'\n",
    "    elif row['SO Indicator'] == 'Hold' and row['Bollinger Indicator'] == 'Hold':\n",
    "        return 'Hold'      \n",
    "    else:\n",
    "        return 'Unclassed'\n",
    "\n",
    "dataset['Recommender'] = dataset.apply(lambda row: recommender(row), axis=1)"
   ]
  },
  {
   "cell_type": "code",
   "execution_count": 73,
   "metadata": {},
   "outputs": [
    {
     "name": "stdout",
     "output_type": "stream",
     "text": [
      "Hold    2016\n",
      "Sell     390\n",
      "Buy      111\n",
      "Name: Recommender, dtype: int64\n"
     ]
    }
   ],
   "source": [
    "# Distrubition of the Recommender\n",
    "print(dataset['Recommender'].value_counts())\n"
   ]
  },
  {
   "cell_type": "code",
   "execution_count": 74,
   "metadata": {},
   "outputs": [
    {
     "data": {
      "image/png": "[encoded data removed]",
      "text/plain": [
       "<Figure size 576x396 with 1 Axes>"
      ]
     },
     "metadata": {},
     "output_type": "display_data"
    }
   ],
   "source": [
    "#Distrubition of the Recommender\n",
    "labels = [\"Hold\", \"Sell\", \"Buy\"]\n",
    "values = dataset['Recommender'].value_counts().tolist()\n",
    "plt.style.use(\"seaborn\")\n",
    "colours = sns.color_palette(\"colorblind\" )\n",
    "plt.pie(x=values, labels=labels, autopct='%.0f%%', colors= colours, shadow=True, rotatelabels='true')\n",
    "plt.title(\"Distribution of Buy/Sell/Hold Signals: Recommender\", fontdict={'fontsize': 14})\n",
    "plt.show()"
   ]
  },
  {
   "cell_type": "markdown",
   "metadata": {},
   "source": [
    "Data Cleaning and Preprocessing"
   ]
  },
  {
   "cell_type": "code",
   "execution_count": 75,
   "metadata": {},
   "outputs": [],
   "source": [
    "dataset.drop(['RSI Indicator', 'SO Indicator', 'MACD Indicator' , 'Bollinger Indicator'], axis = 1, inplace=True)"
   ]
  },
  {
   "cell_type": "code",
   "execution_count": 76,
   "metadata": {},
   "outputs": [
    {
     "data": {
      "text/plain": [
       "(2517, 13)"
      ]
     },
     "execution_count": 76,
     "metadata": {},
     "output_type": "execute_result"
    }
   ],
   "source": [
    "#Dataset shape after adding all the technical indicators \n",
    "dataset.shape"
   ]
  },
  {
   "cell_type": "code",
   "execution_count": 77,
   "metadata": {},
   "outputs": [
    {
     "data": {
      "text/plain": [
       "Index(['Open', 'Close', 'High', 'Low', 'Volume', '%K', '%D', 'RSI',\n",
       "       'Bollinger_Upper', 'Bollinger_Lower', 'MACD', 'Signal', 'Recommender'],\n",
       "      dtype='object')"
      ]
     },
     "execution_count": 77,
     "metadata": {},
     "output_type": "execute_result"
    }
   ],
   "source": [
    "#Columns After Adding All The Technical Indicators\n",
    "dataset.columns"
   ]
  },
  {
   "cell_type": "code",
   "execution_count": 78,
   "metadata": {},
   "outputs": [
    {
     "name": "stdout",
     "output_type": "stream",
     "text": [
      "<class 'pandas.core.frame.DataFrame'>\n",
      "DatetimeIndex: 2517 entries, 2012-05-04 to 2022-05-04\n",
      "Data columns (total 13 columns):\n",
      " #   Column           Non-Null Count  Dtype  \n",
      "---  ------           --------------  -----  \n",
      " 0   Open             2517 non-null   float64\n",
      " 1   Close            2517 non-null   float64\n",
      " 2   High             2517 non-null   float64\n",
      " 3   Low              2517 non-null   float64\n",
      " 4   Volume           2517 non-null   int64  \n",
      " 5   %K               2504 non-null   float64\n",
      " 6   %D               2502 non-null   float64\n",
      " 7   RSI              2516 non-null   float64\n",
      " 8   Bollinger_Upper  2498 non-null   float64\n",
      " 9   Bollinger_Lower  2498 non-null   float64\n",
      " 10  MACD             2517 non-null   float64\n",
      " 11  Signal           2517 non-null   float64\n",
      " 12  Recommender      2517 non-null   object \n",
      "dtypes: float64(11), int64(1), object(1)\n",
      "memory usage: 275.3+ KB\n"
     ]
    }
   ],
   "source": [
    "#Information regarding the dataset\n",
    "dataset.info()"
   ]
  },
  {
   "cell_type": "code",
   "execution_count": 79,
   "metadata": {},
   "outputs": [
    {
     "data": {
      "text/plain": [
       "Open                0\n",
       "Close               0\n",
       "High                0\n",
       "Low                 0\n",
       "Volume              0\n",
       "%K                 13\n",
       "%D                 15\n",
       "RSI                 1\n",
       "Bollinger_Upper    19\n",
       "Bollinger_Lower    19\n",
       "MACD                0\n",
       "Signal              0\n",
       "Recommender         0\n",
       "dtype: int64"
      ]
     },
     "execution_count": 79,
     "metadata": {},
     "output_type": "execute_result"
    }
   ],
   "source": [
    "#Checking for Null Values\n",
    "dataset.isna().sum()"
   ]
  },
  {
   "cell_type": "code",
   "execution_count": 80,
   "metadata": {},
   "outputs": [
    {
     "data": {
      "text/plain": [
       "Open               0\n",
       "Close              0\n",
       "High               0\n",
       "Low                0\n",
       "Volume             0\n",
       "%K                 0\n",
       "%D                 0\n",
       "RSI                0\n",
       "Bollinger_Upper    0\n",
       "Bollinger_Lower    0\n",
       "MACD               0\n",
       "Signal             0\n",
       "Recommender        0\n",
       "dtype: int64"
      ]
     },
     "execution_count": 80,
     "metadata": {},
     "output_type": "execute_result"
    }
   ],
   "source": [
    "#Dropping Null Values\n",
    "dataset = dataset.dropna()\n",
    "dataset.isna().sum()"
   ]
  },
  {
   "cell_type": "code",
   "execution_count": 81,
   "metadata": {},
   "outputs": [
    {
     "name": "stdout",
     "output_type": "stream",
     "text": [
      "False\n",
      "0\n"
     ]
    }
   ],
   "source": [
    "#let's check if there is any duplicate data\n",
    "print(dataset.duplicated().any())\n",
    "print(dataset.duplicated().sum())"
   ]
  },
  {
   "cell_type": "code",
   "execution_count": 82,
   "metadata": {},
   "outputs": [
    {
     "name": "stdout",
     "output_type": "stream",
     "text": [
      "<class 'pandas.core.frame.DataFrame'>\n",
      "DatetimeIndex: 2498 entries, 2012-06-01 to 2022-05-04\n",
      "Data columns (total 13 columns):\n",
      " #   Column           Non-Null Count  Dtype  \n",
      "---  ------           --------------  -----  \n",
      " 0   Open             2498 non-null   float64\n",
      " 1   Close            2498 non-null   float64\n",
      " 2   High             2498 non-null   float64\n",
      " 3   Low              2498 non-null   float64\n",
      " 4   Volume           2498 non-null   int64  \n",
      " 5   %K               2498 non-null   float64\n",
      " 6   %D               2498 non-null   float64\n",
      " 7   RSI              2498 non-null   float64\n",
      " 8   Bollinger_Upper  2498 non-null   float64\n",
      " 9   Bollinger_Lower  2498 non-null   float64\n",
      " 10  MACD             2498 non-null   float64\n",
      " 11  Signal           2498 non-null   float64\n",
      " 12  Recommender      2498 non-null   object \n",
      "dtypes: float64(11), int64(1), object(1)\n",
      "memory usage: 273.2+ KB\n"
     ]
    }
   ],
   "source": [
    "#Dataframe after dopping null values\n",
    "dataset.info()"
   ]
  },
  {
   "cell_type": "code",
   "execution_count": 83,
   "metadata": {},
   "outputs": [
    {
     "name": "stdout",
     "output_type": "stream",
     "text": [
      "<class 'pandas.core.frame.DataFrame'>\n",
      "DatetimeIndex: 2498 entries, 2012-06-01 to 2022-05-04\n",
      "Data columns (total 13 columns):\n",
      " #   Column           Non-Null Count  Dtype  \n",
      "---  ------           --------------  -----  \n",
      " 0   Open             2498 non-null   float64\n",
      " 1   Close            2498 non-null   float64\n",
      " 2   High             2498 non-null   float64\n",
      " 3   Low              2498 non-null   float64\n",
      " 4   Volume           2498 non-null   int64  \n",
      " 5   %K               2498 non-null   float64\n",
      " 6   %D               2498 non-null   float64\n",
      " 7   RSI              2498 non-null   float64\n",
      " 8   Bollinger_Upper  2498 non-null   float64\n",
      " 9   Bollinger_Lower  2498 non-null   float64\n",
      " 10  MACD             2498 non-null   float64\n",
      " 11  Signal           2498 non-null   float64\n",
      " 12  Recommender      2498 non-null   int64  \n",
      "dtypes: float64(11), int64(2)\n",
      "memory usage: 273.2 KB\n"
     ]
    }
   ],
   "source": [
    "# #Encode Categorical Variables\n",
    "signal_dict = {'Hold': 0, 'Sell': 1, 'Buy': 2}\n",
    "\n",
    "dataset['Recommender'] = dataset['Recommender'].map(signal_dict)\n",
    "\n",
    "dataset.info()"
   ]
  },
  {
   "cell_type": "code",
   "execution_count": 84,
   "metadata": {},
   "outputs": [],
   "source": [
    "# #Splitting the dataset into training and test sets\n",
    "# #Feature Scaling\n",
    "from sklearn.preprocessing import MinMaxScaler\n",
    "from sklearn.model_selection import train_test_split\n",
    "# from imblearn.over_sampling import SMOTE\n",
    "\n",
    "#Independant and Dependent Variable\n",
    "y=dataset.iloc[:,12:13] #Dependent variable\n",
    "X=dataset.iloc[:,0:12] #Independent variable\n",
    "\n",
    "#Spliting the data into train and test\n",
    "X_train, X_test, y_train, y_test = train_test_split( X, y, test_size=0.3, random_state=42)\n",
    "\n",
    "\n",
    "#Scaling\n",
    "scaler = MinMaxScaler(feature_range=(0,1))\n",
    "X_train = scaler.fit_transform(X_train)\n",
    "X_test = scaler.transform(X_test)"
   ]
  },
  {
   "cell_type": "code",
   "execution_count": 85,
   "metadata": {},
   "outputs": [
    {
     "name": "stdout",
     "output_type": "stream",
     "text": [
      "x_train dataset:  (1748, 12)\n",
      " y_train dataset:  (1748, 1)\n",
      " x_test dataset:  (750, 12)\n",
      "y_test dataset:  (750, 1)\n"
     ]
    }
   ],
   "source": [
    "# Shape of Training and Test sets\n",
    "print(\"x_train dataset: \", X_train.shape)\n",
    "print(\" y_train dataset: \", y_train.shape)\n",
    "print(\" x_test dataset: \", X_test.shape)\n",
    "print(\"y_test dataset: \", y_test.shape)"
   ]
  },
  {
   "cell_type": "code",
   "execution_count": 86,
   "metadata": {},
   "outputs": [
    {
     "data": {
      "text/plain": [
       "0    1394\n",
       "1     277\n",
       "2      77\n",
       "Name: Recommender, dtype: int64"
      ]
     },
     "execution_count": 86,
     "metadata": {},
     "output_type": "execute_result"
    }
   ],
   "source": [
    "y_train['Recommender'].value_counts()\n"
   ]
  },
  {
   "cell_type": "code",
   "execution_count": 87,
   "metadata": {},
   "outputs": [
    {
     "data": {
      "text/plain": [
       "0    603\n",
       "1    113\n",
       "2     34\n",
       "Name: Recommender, dtype: int64"
      ]
     },
     "execution_count": 87,
     "metadata": {},
     "output_type": "execute_result"
    }
   ],
   "source": [
    "y_test['Recommender'].value_counts()"
   ]
  },
  {
   "cell_type": "code",
   "execution_count": 88,
   "metadata": {},
   "outputs": [
    {
     "data": {
      "text/plain": [
       "Text(0.5, 0, 'Trade Signals')"
      ]
     },
     "execution_count": 88,
     "metadata": {},
     "output_type": "execute_result"
    },
    {
     "data": {
      "image/png": "[encoded data removed]",
      "text/plain": [
       "<Figure size 576x396 with 2 Axes>"
      ]
     },
     "metadata": {},
     "output_type": "display_data"
    }
   ],
   "source": [
    "#Original Dataset  \n",
    "fig, (ax1, ax2) = plt.subplots(1, 2)\n",
    "sns.barplot(x=['0', '1','2'], y =[sum(y_train['Recommender'] == 0), sum(y_train['Recommender'] == 1), sum(y_train['Recommender'] == 2)], ax = ax1)\n",
    "ax1.set_title(\"Y-Train\")\n",
    "ax1.set_xlabel('Trade Signals')\n",
    "\n",
    "sns.barplot(x=['0', '1', '2'], y =[sum(y_test['Recommender'] == 0), sum(y_test['Recommender'] == 1), sum(y_test['Recommender'] == 2)], ax = ax2)\n",
    "ax2.set_title(\"Y-Test\")\n",
    "ax2.set_xlabel('Trade Signals')"
   ]
  },
  {
   "cell_type": "code",
   "execution_count": 89,
   "metadata": {},
   "outputs": [
    {
     "data": {
      "text/plain": [
       "Text(0.5, 0, 'Trade Signals')"
      ]
     },
     "execution_count": 89,
     "metadata": {},
     "output_type": "execute_result"
    },
    {
     "data": {
      "image/png": "[encoded data removed]",
      "text/plain": [
       "<Figure size 576x396 with 1 Axes>"
      ]
     },
     "metadata": {},
     "output_type": "display_data"
    }
   ],
   "source": [
    "#Handling Imbalance data using SMOTE\n",
    "from imblearn import under_sampling, over_sampling\n",
    "from imblearn.over_sampling import SMOTE\n",
    "\n",
    "\n",
    "oversample = SMOTE()\n",
    "Xsmote, ysmote = oversample.fit_resample(X_train, y_train)\n",
    "\n",
    "\n",
    "fig = sns.barplot(x=['0', '1', '2'],  y =[sum(ysmote['Recommender'] == 0), sum(ysmote['Recommender'] == 1), sum(ysmote['Recommender'] == 2)])\n",
    "fig.set_title(\"Y-Train\")\n",
    "fig.set_xlabel('Trade Signals')"
   ]
  },
  {
   "cell_type": "markdown",
   "metadata": {},
   "source": [
    "Exploring Models on Original Dataset without using SMOTE"
   ]
  },
  {
   "cell_type": "code",
   "execution_count": 90,
   "metadata": {},
   "outputs": [
    {
     "name": "stderr",
     "output_type": "stream",
     "text": [
      "C:\\Users\\RAHUL\\AppData\\Local\\Programs\\Python\\Python39\\lib\\site-packages\\sklearn\\metrics\\_classification.py:1308: UndefinedMetricWarning: Precision is ill-defined and being set to 0.0 in labels with no predicted samples. Use `zero_division` parameter to control this behavior.\n",
      "  _warn_prf(average, modifier, msg_start, len(result))\n",
      "C:\\Users\\RAHUL\\AppData\\Local\\Programs\\Python\\Python39\\lib\\site-packages\\sklearn\\metrics\\_classification.py:1308: UndefinedMetricWarning: Precision is ill-defined and being set to 0.0 in labels with no predicted samples. Use `zero_division` parameter to control this behavior.\n",
      "  _warn_prf(average, modifier, msg_start, len(result))\n",
      "C:\\Users\\RAHUL\\AppData\\Local\\Programs\\Python\\Python39\\lib\\site-packages\\sklearn\\metrics\\_classification.py:1308: UndefinedMetricWarning: Precision is ill-defined and being set to 0.0 in labels with no predicted samples. Use `zero_division` parameter to control this behavior.\n",
      "  _warn_prf(average, modifier, msg_start, len(result))\n",
      "C:\\Users\\RAHUL\\AppData\\Local\\Programs\\Python\\Python39\\lib\\site-packages\\sklearn\\metrics\\_classification.py:1308: UndefinedMetricWarning: Precision is ill-defined and being set to 0.0 in labels with no predicted samples. Use `zero_division` parameter to control this behavior.\n",
      "  _warn_prf(average, modifier, msg_start, len(result))\n",
      "C:\\Users\\RAHUL\\AppData\\Local\\Programs\\Python\\Python39\\lib\\site-packages\\sklearn\\metrics\\_classification.py:1308: UndefinedMetricWarning: Precision is ill-defined and being set to 0.0 in labels with no predicted samples. Use `zero_division` parameter to control this behavior.\n",
      "  _warn_prf(average, modifier, msg_start, len(result))\n",
      "C:\\Users\\RAHUL\\AppData\\Local\\Programs\\Python\\Python39\\lib\\site-packages\\sklearn\\metrics\\_classification.py:1308: UndefinedMetricWarning: Precision is ill-defined and being set to 0.0 in labels with no predicted samples. Use `zero_division` parameter to control this behavior.\n",
      "  _warn_prf(average, modifier, msg_start, len(result))\n",
      "C:\\Users\\RAHUL\\AppData\\Local\\Programs\\Python\\Python39\\lib\\site-packages\\sklearn\\metrics\\_classification.py:1308: UndefinedMetricWarning: Precision is ill-defined and being set to 0.0 in labels with no predicted samples. Use `zero_division` parameter to control this behavior.\n",
      "  _warn_prf(average, modifier, msg_start, len(result))\n",
      "C:\\Users\\RAHUL\\AppData\\Local\\Programs\\Python\\Python39\\lib\\site-packages\\sklearn\\metrics\\_classification.py:1308: UndefinedMetricWarning: Precision is ill-defined and being set to 0.0 in labels with no predicted samples. Use `zero_division` parameter to control this behavior.\n",
      "  _warn_prf(average, modifier, msg_start, len(result))\n",
      "C:\\Users\\RAHUL\\AppData\\Local\\Programs\\Python\\Python39\\lib\\site-packages\\sklearn\\metrics\\_classification.py:1308: UndefinedMetricWarning: Precision is ill-defined and being set to 0.0 in labels with no predicted samples. Use `zero_division` parameter to control this behavior.\n",
      "  _warn_prf(average, modifier, msg_start, len(result))\n"
     ]
    },
    {
     "name": "stdout",
     "output_type": "stream",
     "text": [
      "Accuracy of each fold - [0.892, 0.904, 0.892, 0.912, 0.884, 0.868, 0.864, 0.904, 0.9036144578313253, 0.9196787148594378]\n",
      "Precision of each fold - [0.6270190895741556, 0.6309523809523809, 0.6148148148148148, 0.6336336336336337, 0.6110579071697632, 0.5897969085742011, 0.6007343550446999, 0.6307922272047833, 0.6031586021505376, 0.6362252663622526]\n",
      "Recall of each fold - [0.5299145299145299, 0.5555555555555555, 0.5367948717948718, 0.5726495726495727, 0.5197008547008547, 0.4923931623931624, 0.47696581196581195, 0.5641025641025641, 0.5761714555684405, 0.5897435897435898]\n",
      "F1 of each fold - [0.5595678779179573, 0.5811320754716981, 0.562156862745098, 0.5945627313668623, 0.5472539094961094, 0.5188034188034188, 0.5059291747888239, 0.5871032600890421, 0.5864030335861322, 0.6072394424797171]\n",
      "Avg Accuracy : 0.8943\n",
      "Avg Recall : 0.5414\n",
      "Avg Precision: 0.6178\n",
      "Avg F1 : 0.565\n"
     ]
    },
    {
     "name": "stderr",
     "output_type": "stream",
     "text": [
      "C:\\Users\\RAHUL\\AppData\\Local\\Programs\\Python\\Python39\\lib\\site-packages\\sklearn\\metrics\\_classification.py:1308: UndefinedMetricWarning: Precision is ill-defined and being set to 0.0 in labels with no predicted samples. Use `zero_division` parameter to control this behavior.\n",
      "  _warn_prf(average, modifier, msg_start, len(result))\n"
     ]
    }
   ],
   "source": [
    "#SKFOLD Cross Validation\n",
    "skf = StratifiedKFold(n_splits=10, shuffle=True, random_state=1)\n",
    "k = 10\n",
    "#Logistic Regression\n",
    "lr = LogisticRegression(multi_class = \"ovr\")\n",
    " \n",
    "acc_score = []\n",
    "prec_score = []\n",
    "rec_score = []\n",
    "f1_scor = []\n",
    " \n",
    "for train_index , test_index in skf.split(X,y):\n",
    "    X_train , X_test = X.iloc[train_index,:],X.iloc[test_index,:]\n",
    "    y_train , y_test = y.iloc[train_index] , y.iloc[test_index]\n",
    "\n",
    "    #Scaling\n",
    "    scaler = MinMaxScaler(feature_range=(0,1))\n",
    "    X_train = scaler.fit_transform(X_train)\n",
    "    X_test = scaler.transform(X_test)    \n",
    "     \n",
    "    lr.fit(X_train,y_train.values.ravel())\n",
    "    y_pred = lr.predict(X_test)\n",
    "\n",
    "    #Accuracy Score \n",
    "    acc = accuracy_score(y_pred , y_test)\n",
    "    acc_score.append(acc)\n",
    "    #Precision\n",
    "    precision = precision_score(y_test, y_pred,  average='macro')\n",
    "    prec_score.append(precision)\n",
    "    #Recall\n",
    "    recall = recall_score(y_test, y_pred,  average='macro')\n",
    "    rec_score.append(recall)\n",
    "    #F1 Score\n",
    "    f1 = f1_score(y_test, y_pred,average='macro')\n",
    "    f1_scor.append(f1)\n",
    "\n",
    "\n",
    "#Displaying Results    \n",
    "avg_acc_score = sum(acc_score)/k\n",
    "avg_acc_score = round(avg_acc_score, 4)\n",
    "print('Accuracy of each fold - {}'.format(acc_score))\n",
    "\n",
    "avg_prec_score = sum(prec_score)/k\n",
    "avg_prec_score = round(avg_prec_score, 4)\n",
    "print('Precision of each fold - {}'.format(prec_score))\n",
    "\n",
    "avg_rec_score = sum(rec_score)/k\n",
    "avg_rec_score = round(avg_rec_score, 4)\n",
    "print('Recall of each fold - {}'.format(rec_score))\n",
    "\n",
    "\n",
    "\n",
    "avg_f1_score = sum(f1_scor)/k\n",
    "avg_f1_score = round(avg_f1_score, 4)\n",
    "print('F1 of each fold - {}'.format(f1_scor))\n",
    "\n",
    "print('Avg Accuracy : {}'.format(avg_acc_score))\n",
    "print('Avg Recall : {}'.format(avg_rec_score))\n",
    "print('Avg Precision: {}'.format(avg_prec_score))\n",
    "print('Avg F1 : {}'.format(avg_f1_score))\n",
    "\n",
    "#Storing Results for the Model\n",
    "list_1 = []\n",
    "list_2 = []\n",
    "\n",
    "#Results\n",
    "list_2.append(\"Logistic Regression\")\n",
    "list_2.append(avg_acc_score) \n",
    "list_2.append(avg_prec_score) \n",
    "list_2.append(avg_rec_score)\n",
    "list_2.append(avg_f1_score)\n",
    "list_1.append(list_2)\n",
    "list_2 = []\n",
    "\n"
   ]
  },
  {
   "cell_type": "code",
   "execution_count": 91,
   "metadata": {},
   "outputs": [
    {
     "name": "stdout",
     "output_type": "stream",
     "text": [
      "Accuracy of each fold - [0.936, 0.936, 0.924, 0.936, 0.912, 0.928, 0.908, 0.916, 0.9518072289156626, 0.9477911646586346]\n",
      "Precision of each fold - [0.8542815542815543, 0.9015780486368721, 0.8601174345076784, 0.826352960499302, 0.8320498716538319, 0.89592643961576, 0.8308393759613272, 0.8014662524629301, 0.8549482844166253, 0.8232305069394497]\n",
      "Recall of each fold - [0.9251709401709401, 0.8392618492618492, 0.7987451437451437, 0.8381468531468531, 0.8372571872571872, 0.8221678321678322, 0.7565617715617715, 0.8068225744105142, 0.9020276206205855, 0.8637125019034566]\n",
      "F1 of each fold - [0.8826860347622049, 0.8675004342539516, 0.8265843621399177, 0.8320542104461702, 0.8337385536087677, 0.8554919451471176, 0.7880875027073856, 0.8030632105990846, 0.874920634920635, 0.8422787613206367]\n",
      "Avg Accuracy : 0.9296\n",
      "Avg Recall : 0.839\n",
      "Avg Precision: 0.8481\n",
      "Avg F1 : 0.8406\n"
     ]
    }
   ],
   "source": [
    "#SKFOLD Cross Validation\n",
    "skf = StratifiedKFold(n_splits=10, shuffle=True, random_state=1)\n",
    "k = 10\n",
    "\n",
    "#Decision Tree\n",
    "decision_tree = DecisionTreeClassifier()\n",
    " \n",
    "acc_score = []\n",
    "prec_score = []\n",
    "rec_score = []\n",
    "f1_scor = []\n",
    " \n",
    "for train_index , test_index in skf.split(X,y):\n",
    "    X_train , X_test = X.iloc[train_index,:],X.iloc[test_index,:]\n",
    "    y_train , y_test = y.iloc[train_index] , y.iloc[test_index]\n",
    "\n",
    "    #Scaling\n",
    "    scaler = MinMaxScaler(feature_range=(0,1))\n",
    "    X_train = scaler.fit_transform(X_train)\n",
    "    X_test = scaler.transform(X_test)    \n",
    "     \n",
    "    decision_tree.fit(X_train,y_train)\n",
    "    y_pred = decision_tree.predict(X_test)\n",
    "\n",
    "    #Accuracy Score \n",
    "    acc = accuracy_score(y_pred , y_test)\n",
    "    acc_score.append(acc)\n",
    "    #Precision\n",
    "    precision = precision_score(y_test, y_pred,  average='macro')\n",
    "    prec_score.append(precision)\n",
    "    #Recall\n",
    "    recall = recall_score(y_test, y_pred,  average='macro')\n",
    "    rec_score.append(recall)\n",
    "    #F1 Score\n",
    "    f1 = f1_score(y_test, y_pred,average='macro')\n",
    "    f1_scor.append(f1)\n",
    "\n",
    "\n",
    "#Displaying Results    \n",
    "avg_acc_score = sum(acc_score)/k\n",
    "avg_acc_score = round(avg_acc_score, 4)\n",
    "print('Accuracy of each fold - {}'.format(acc_score))\n",
    "\n",
    "avg_prec_score = sum(prec_score)/k\n",
    "avg_prec_score = round(avg_prec_score, 4)\n",
    "print('Precision of each fold - {}'.format(prec_score))\n",
    "\n",
    "avg_rec_score = sum(rec_score)/k\n",
    "avg_rec_score = round(avg_rec_score, 4)\n",
    "print('Recall of each fold - {}'.format(rec_score))\n",
    "\n",
    "\n",
    "\n",
    "avg_f1_score = sum(f1_scor)/k\n",
    "avg_f1_score = round(avg_f1_score, 4)\n",
    "print('F1 of each fold - {}'.format(f1_scor))\n",
    "\n",
    "print('Avg Accuracy : {}'.format(avg_acc_score))\n",
    "print('Avg Recall : {}'.format(avg_rec_score))\n",
    "print('Avg Precision: {}'.format(avg_prec_score))\n",
    "print('Avg F1 : {}'.format(avg_f1_score))\n",
    "\n",
    "\n",
    "#Results\n",
    "list_2.append(\"Decision Tree\")\n",
    "list_2.append(avg_acc_score) \n",
    "list_2.append(avg_prec_score) \n",
    "list_2.append(avg_rec_score)\n",
    "list_2.append(avg_f1_score)\n",
    "list_1.append(list_2)\n",
    "list_2 = []\n",
    "\n"
   ]
  },
  {
   "cell_type": "code",
   "execution_count": 92,
   "metadata": {},
   "outputs": [
    {
     "name": "stdout",
     "output_type": "stream",
     "text": [
      "Accuracy of each fold - [0.944, 0.956, 0.944, 0.96, 0.944, 0.924, 0.932, 0.94, 0.963855421686747, 0.9598393574297188]\n",
      "Precision of each fold - [0.9601190476190476, 0.9826224328593997, 0.8823529411764706, 0.9234323432343233, 0.9074298813376483, 0.849960876369327, 0.914711053355756, 0.8672123969153672, 0.9782830863566684, 0.8773946360153256]\n",
      "Recall of each fold - [0.828834498834499, 0.8407148407148407, 0.8712315462315462, 0.855027195027195, 0.8861072261072261, 0.7277117327117327, 0.7883177933177933, 0.8361035948975647, 0.7994127592117541, 0.8263657057626906]\n",
      "F1 of each fold - [0.8843431147432305, 0.9003518528681802, 0.8748891863575875, 0.8828917813773681, 0.8933842937686086, 0.77775070777642, 0.8413503344736538, 0.850994177409261, 0.8546055796055795, 0.8496028628785895]\n",
      "Avg Accuracy : 0.9468\n",
      "Avg Recall : 0.826\n",
      "Avg Precision: 0.9144\n",
      "Avg F1 : 0.861\n"
     ]
    }
   ],
   "source": [
    "#SKFOLD Cross Validation\n",
    "skf = StratifiedKFold(n_splits=10, shuffle=True, random_state=1)\n",
    "k = 10\n",
    "\n",
    "#Random Forest\n",
    "rf= RandomForestClassifier()\n",
    " \n",
    "acc_score = []\n",
    "prec_score = []\n",
    "rec_score = []\n",
    "f1_scor = []\n",
    " \n",
    "for train_index , test_index in skf.split(X,y):\n",
    "    X_train , X_test = X.iloc[train_index,:],X.iloc[test_index,:]\n",
    "    y_train , y_test = y.iloc[train_index] , y.iloc[test_index]\n",
    "\n",
    "    #Scaling\n",
    "    scaler = MinMaxScaler(feature_range=(0,1))\n",
    "    X_train = scaler.fit_transform(X_train)\n",
    "    X_test = scaler.transform(X_test)    \n",
    "     \n",
    "    rf.fit(X_train,y_train.values.ravel())\n",
    "    y_pred = rf.predict(X_test)\n",
    "\n",
    "    #Accuracy Score \n",
    "    acc = accuracy_score(y_pred , y_test)\n",
    "    acc_score.append(acc)\n",
    "    #Precision\n",
    "    precision = precision_score(y_test, y_pred,  average='macro')\n",
    "    prec_score.append(precision)\n",
    "    #Recall\n",
    "    recall = recall_score(y_test, y_pred,  average='macro')\n",
    "    rec_score.append(recall)\n",
    "    #F1 Score\n",
    "    f1 = f1_score(y_test, y_pred,average='macro')\n",
    "    f1_scor.append(f1)\n",
    "\n",
    "\n",
    "#Displaying Results    \n",
    "avg_acc_score = sum(acc_score)/k\n",
    "avg_acc_score = round(avg_acc_score, 4)\n",
    "print('Accuracy of each fold - {}'.format(acc_score))\n",
    "\n",
    "avg_prec_score = sum(prec_score)/k\n",
    "avg_prec_score = round(avg_prec_score, 4)\n",
    "print('Precision of each fold - {}'.format(prec_score))\n",
    "\n",
    "avg_rec_score = sum(rec_score)/k\n",
    "avg_rec_score = round(avg_rec_score, 4)\n",
    "print('Recall of each fold - {}'.format(rec_score))\n",
    "\n",
    "\n",
    "\n",
    "avg_f1_score = sum(f1_scor)/k\n",
    "avg_f1_score = round(avg_f1_score, 4)\n",
    "print('F1 of each fold - {}'.format(f1_scor))\n",
    "\n",
    "print('Avg Accuracy : {}'.format(avg_acc_score))\n",
    "print('Avg Recall : {}'.format(avg_rec_score))\n",
    "print('Avg Precision: {}'.format(avg_prec_score))\n",
    "print('Avg F1 : {}'.format(avg_f1_score))\n",
    "\n",
    "\n",
    "#Results\n",
    "list_2.append(\"Random Forest\")\n",
    "list_2.append(avg_acc_score) \n",
    "list_2.append(avg_prec_score) \n",
    "list_2.append(avg_rec_score)\n",
    "list_2.append(avg_f1_score)\n",
    "list_1.append(list_2)\n",
    "list_2 = []"
   ]
  },
  {
   "cell_type": "code",
   "execution_count": 93,
   "metadata": {},
   "outputs": [
    {
     "name": "stdout",
     "output_type": "stream",
     "text": [
      "Accuracy of each fold - [0.912, 0.948, 0.932, 0.944, 0.92, 0.888, 0.904, 0.944, 0.927710843373494, 0.9357429718875502]\n",
      "Precision of each fold - [0.9177148846960167, 0.9493298176225006, 0.8987804878048781, 0.9425590749120162, 0.8581790611493583, 0.7823412698412698, 0.8714285714285714, 0.8894294916034046, 0.9363309798092407, 0.9582752532292537]\n",
      "Recall of each fold - [0.7810994560994562, 0.8511421911421913, 0.8307148407148407, 0.8277195027195027, 0.8474708624708626, 0.6920707070707071, 0.6780963480963481, 0.7855731649701498, 0.7064655054604803, 0.7246996442976342]\n",
      "F1 of each fold - [0.8377816286882961, 0.8928091834524583, 0.8615637860082304, 0.8716397280753716, 0.8526347528704167, 0.7301391575813461, 0.7467827274278888, 0.8281453867660765, 0.752010441665614, 0.7903404239521846]\n",
      "Avg Accuracy : 0.9255\n",
      "Avg Recall : 0.7725\n",
      "Avg Precision: 0.9004\n",
      "Avg F1 : 0.8164\n"
     ]
    }
   ],
   "source": [
    "#SKFOLD Cross Validation\n",
    "skf = StratifiedKFold(n_splits=10, shuffle=True, random_state=1)\n",
    "k = 10 \n",
    "#Support Vector Machine\n",
    "svc = SVC()\n",
    " \n",
    "acc_score = []\n",
    "prec_score = []\n",
    "rec_score = []\n",
    "f1_scor = []\n",
    " \n",
    "for train_index , test_index in skf.split(X,y):\n",
    "    X_train , X_test = X.iloc[train_index,:],X.iloc[test_index,:]\n",
    "    y_train , y_test = y.iloc[train_index] , y.iloc[test_index]\n",
    "\n",
    "    #Scaling\n",
    "    scaler = MinMaxScaler(feature_range=(0,1))\n",
    "    X_train = scaler.fit_transform(X_train)\n",
    "    X_test = scaler.transform(X_test)    \n",
    "     \n",
    "    svc.fit(X_train,y_train.values.ravel())\n",
    "    y_pred = svc.predict(X_test)\n",
    "    #Accuracy Score \n",
    "    acc = accuracy_score(y_pred , y_test)\n",
    "    acc_score.append(acc)\n",
    "    #Precision\n",
    "    precision = precision_score(y_test, y_pred,  average='macro')\n",
    "    prec_score.append(precision)\n",
    "    #Recall\n",
    "    recall = recall_score(y_test, y_pred,  average='macro')\n",
    "    rec_score.append(recall)\n",
    "    #F1 Score\n",
    "    f1 = f1_score(y_test, y_pred,average='macro')\n",
    "    f1_scor.append(f1)\n",
    "\n",
    "\n",
    "#Displaying Results    \n",
    "avg_acc_score = sum(acc_score)/k\n",
    "avg_acc_score = round(avg_acc_score, 4)\n",
    "print('Accuracy of each fold - {}'.format(acc_score))\n",
    "\n",
    "avg_prec_score = sum(prec_score)/k\n",
    "avg_prec_score = round(avg_prec_score, 4)\n",
    "print('Precision of each fold - {}'.format(prec_score))\n",
    "\n",
    "avg_rec_score = sum(rec_score)/k\n",
    "avg_rec_score = round(avg_rec_score, 4)\n",
    "print('Recall of each fold - {}'.format(rec_score))\n",
    "\n",
    "\n",
    "\n",
    "avg_f1_score = sum(f1_scor)/k\n",
    "avg_f1_score = round(avg_f1_score, 4)\n",
    "print('F1 of each fold - {}'.format(f1_scor))\n",
    "\n",
    "print('Avg Accuracy : {}'.format(avg_acc_score))\n",
    "print('Avg Recall : {}'.format(avg_rec_score))\n",
    "print('Avg Precision: {}'.format(avg_prec_score))\n",
    "print('Avg F1 : {}'.format(avg_f1_score))\n",
    "\n",
    "\n",
    "#Results\n",
    "list_2.append(\"Support Vector Machine\")\n",
    "list_2.append(avg_acc_score) \n",
    "list_2.append(avg_prec_score) \n",
    "list_2.append(avg_rec_score)\n",
    "list_2.append(avg_f1_score)\n",
    "list_1.append(list_2)\n",
    "list_2 = []"
   ]
  },
  {
   "cell_type": "code",
   "execution_count": 94,
   "metadata": {},
   "outputs": [
    {
     "name": "stdout",
     "output_type": "stream",
     "text": [
      "Accuracy of each fold - [0.932, 0.956, 0.928, 0.924, 0.916, 0.892, 0.912, 0.94, 0.9317269076305221, 0.9598393574297188]\n",
      "Precision of each fold - [0.9186238371072495, 0.9534180278281911, 0.8795724232617438, 0.873650198040442, 0.8550522648083625, 0.7568120226656813, 0.900167745027558, 0.8892156862745099, 0.8692126355492693, 0.9438546150167384]\n",
      "Recall of each fold - [0.810073815073815, 0.88999222999223, 0.8439238539238539, 0.7552331002331002, 0.8102874902874904, 0.7361344211344211, 0.795975135975136, 0.8292316282266031, 0.750512469105434, 0.8847618043597943]\n",
      "F1 of each fold - [0.8567438908283086, 0.9186071992523606, 0.8598007994559719, 0.7958251866748599, 0.8312788979455646, 0.7442834138486313, 0.8372316894056024, 0.85668396120009, 0.7821649579754318, 0.9121666569788095]\n",
      "Avg Accuracy : 0.9292\n",
      "Avg Recall : 0.8106\n",
      "Avg Precision: 0.884\n",
      "Avg F1 : 0.8395\n"
     ]
    }
   ],
   "source": [
    "#SKFOLD Cross Validation\n",
    "skf = StratifiedKFold(n_splits=10, shuffle=True, random_state=1)\n",
    "k = 10\n",
    "#K-Nearest Neighbour\n",
    "knn = KNeighborsClassifier()\n",
    " \n",
    "acc_score = []\n",
    "prec_score = []\n",
    "rec_score = []\n",
    "f1_scor = []\n",
    " \n",
    "for train_index , test_index in skf.split(X,y):\n",
    "    X_train , X_test = X.iloc[train_index,:],X.iloc[test_index,:]\n",
    "    y_train , y_test = y.iloc[train_index] , y.iloc[test_index]\n",
    "\n",
    "    #Scaling\n",
    "    scaler = MinMaxScaler(feature_range=(0,1))\n",
    "    X_train = scaler.fit_transform(X_train)\n",
    "    X_test = scaler.transform(X_test)    \n",
    "     \n",
    "    knn.fit(X_train, y_train.values.ravel())\n",
    "    y_pred = knn.predict(X_test)\n",
    "    #Accuracy Score \n",
    "    acc = accuracy_score(y_pred , y_test)\n",
    "    acc_score.append(acc)\n",
    "    #Precision\n",
    "    precision = precision_score(y_test, y_pred,  average='macro')\n",
    "    prec_score.append(precision)\n",
    "    #Recall\n",
    "    recall = recall_score(y_test, y_pred,  average='macro')\n",
    "    rec_score.append(recall)\n",
    "    #F1 Score\n",
    "    f1 = f1_score(y_test, y_pred,average='macro')\n",
    "    f1_scor.append(f1)\n",
    "\n",
    "\n",
    "#Displaying Results    \n",
    "avg_acc_score = sum(acc_score)/k\n",
    "avg_acc_score = round(avg_acc_score, 4)\n",
    "print('Accuracy of each fold - {}'.format(acc_score))\n",
    "\n",
    "avg_prec_score = sum(prec_score)/k\n",
    "avg_prec_score = round(avg_prec_score, 4)\n",
    "print('Precision of each fold - {}'.format(prec_score))\n",
    "\n",
    "avg_rec_score = sum(rec_score)/k\n",
    "avg_rec_score = round(avg_rec_score, 4)\n",
    "print('Recall of each fold - {}'.format(rec_score))\n",
    "\n",
    "\n",
    "\n",
    "avg_f1_score = sum(f1_scor)/k\n",
    "avg_f1_score = round(avg_f1_score, 4)\n",
    "print('F1 of each fold - {}'.format(f1_scor))\n",
    "\n",
    "print('Avg Accuracy : {}'.format(avg_acc_score))\n",
    "print('Avg Recall : {}'.format(avg_rec_score))\n",
    "print('Avg Precision: {}'.format(avg_prec_score))\n",
    "print('Avg F1 : {}'.format(avg_f1_score))\n",
    "\n",
    "\n",
    "#Results\n",
    "list_2.append(\"K-Nearest Neighbour\")\n",
    "list_2.append(avg_acc_score) \n",
    "list_2.append(avg_prec_score) \n",
    "list_2.append(avg_rec_score)\n",
    "list_2.append(avg_f1_score)\n",
    "list_1.append(list_2)\n",
    "list_2 = []"
   ]
  },
  {
   "cell_type": "code",
   "execution_count": 95,
   "metadata": {},
   "outputs": [
    {
     "name": "stdout",
     "output_type": "stream",
     "text": [
      "Accuracy of each fold - [0.812, 0.824, 0.86, 0.812, 0.788, 0.772, 0.824, 0.82, 0.8273092369477911, 0.8473895582329317]\n",
      "Precision of each fold - [0.6478821094836228, 0.6552884615384615, 0.6955929772096656, 0.6531702761371094, 0.6281240854550775, 0.6024947319547126, 0.6502366463826911, 0.6446749710707236, 0.6477945971921876, 0.6826566646925928]\n",
      "Recall of each fold - [0.8231118881118881, 0.8911499611499613, 0.9061499611499612, 0.8930303030303031, 0.8910256410256411, 0.8270862470862471, 0.8567482517482518, 0.825699007859812, 0.8065892789510879, 0.9157325086973328]\n",
      "F1 of each fold - [0.7044246291925286, 0.718727465329407, 0.7622399538775846, 0.7160417047740992, 0.6885630019376787, 0.6471685451951862, 0.7048048048048048, 0.6992975642682101, 0.6985732107602679, 0.7495547316082259]\n",
      "Avg Accuracy : 0.8187\n",
      "Avg Recall : 0.8636\n",
      "Avg Precision: 0.6508\n",
      "Avg F1 : 0.7089\n"
     ]
    }
   ],
   "source": [
    "#SKFOLD Cross Validation\n",
    "skf = StratifiedKFold(n_splits=10, shuffle=True, random_state=1)\n",
    "k = 10\n",
    "\n",
    "#GaussianNB\n",
    "gnb = GaussianNB()\n",
    " \n",
    "acc_score = []\n",
    "prec_score = []\n",
    "rec_score = []\n",
    "f1_scor = []\n",
    " \n",
    "for train_index , test_index in skf.split(X,y):\n",
    "    X_train , X_test = X.iloc[train_index,:],X.iloc[test_index,:]\n",
    "    y_train , y_test = y.iloc[train_index] , y.iloc[test_index]\n",
    "\n",
    "    #Scaling\n",
    "    scaler = MinMaxScaler(feature_range=(0,1))\n",
    "    X_train = scaler.fit_transform(X_train)\n",
    "    X_test = scaler.transform(X_test)    \n",
    "     \n",
    "    gnb.fit(X_train, y_train.values.ravel())\n",
    "    y_pred = gnb.predict(X_test)\n",
    "    #Accuracy Score \n",
    "    acc = accuracy_score(y_pred , y_test)\n",
    "    acc_score.append(acc)\n",
    "    #Precision\n",
    "    precision = precision_score(y_test, y_pred,  average='macro')\n",
    "    prec_score.append(precision)\n",
    "    #Recall\n",
    "    recall = recall_score(y_test, y_pred,  average='macro')\n",
    "    rec_score.append(recall)\n",
    "    #F1 Score\n",
    "    f1 = f1_score(y_test, y_pred,average='macro')\n",
    "    f1_scor.append(f1)\n",
    "\n",
    "\n",
    "#Displaying Results    \n",
    "avg_acc_score = sum(acc_score)/k\n",
    "avg_acc_score = round(avg_acc_score, 4)\n",
    "print('Accuracy of each fold - {}'.format(acc_score))\n",
    "\n",
    "avg_prec_score = sum(prec_score)/k\n",
    "avg_prec_score = round(avg_prec_score, 4)\n",
    "print('Precision of each fold - {}'.format(prec_score))\n",
    "\n",
    "avg_rec_score = sum(rec_score)/k\n",
    "avg_rec_score = round(avg_rec_score, 4)\n",
    "print('Recall of each fold - {}'.format(rec_score))\n",
    "\n",
    "\n",
    "\n",
    "avg_f1_score = sum(f1_scor)/k\n",
    "avg_f1_score = round(avg_f1_score, 4)\n",
    "print('F1 of each fold - {}'.format(f1_scor))\n",
    "\n",
    "print('Avg Accuracy : {}'.format(avg_acc_score))\n",
    "print('Avg Recall : {}'.format(avg_rec_score))\n",
    "print('Avg Precision: {}'.format(avg_prec_score))\n",
    "print('Avg F1 : {}'.format(avg_f1_score))\n",
    "\n",
    "\n",
    "#Results\n",
    "list_2.append(\"GaussianNB\")\n",
    "list_2.append(avg_acc_score) \n",
    "list_2.append(avg_prec_score) \n",
    "list_2.append(avg_rec_score)\n",
    "list_2.append(avg_f1_score)\n",
    "list_1.append(list_2)\n",
    "list_2 = []"
   ]
  },
  {
   "cell_type": "code",
   "execution_count": 96,
   "metadata": {},
   "outputs": [
    {
     "name": "stderr",
     "output_type": "stream",
     "text": [
      "C:\\Users\\RAHUL\\AppData\\Local\\Programs\\Python\\Python39\\lib\\site-packages\\sklearn\\neural_network\\_multilayer_perceptron.py:692: ConvergenceWarning: Stochastic Optimizer: Maximum iterations (200) reached and the optimization hasn't converged yet.\n",
      "  warnings.warn(\n",
      "C:\\Users\\RAHUL\\AppData\\Local\\Programs\\Python\\Python39\\lib\\site-packages\\sklearn\\neural_network\\_multilayer_perceptron.py:692: ConvergenceWarning: Stochastic Optimizer: Maximum iterations (200) reached and the optimization hasn't converged yet.\n",
      "  warnings.warn(\n",
      "C:\\Users\\RAHUL\\AppData\\Local\\Programs\\Python\\Python39\\lib\\site-packages\\sklearn\\neural_network\\_multilayer_perceptron.py:692: ConvergenceWarning: Stochastic Optimizer: Maximum iterations (200) reached and the optimization hasn't converged yet.\n",
      "  warnings.warn(\n",
      "C:\\Users\\RAHUL\\AppData\\Local\\Programs\\Python\\Python39\\lib\\site-packages\\sklearn\\neural_network\\_multilayer_perceptron.py:692: ConvergenceWarning: Stochastic Optimizer: Maximum iterations (200) reached and the optimization hasn't converged yet.\n",
      "  warnings.warn(\n",
      "C:\\Users\\RAHUL\\AppData\\Local\\Programs\\Python\\Python39\\lib\\site-packages\\sklearn\\neural_network\\_multilayer_perceptron.py:692: ConvergenceWarning: Stochastic Optimizer: Maximum iterations (200) reached and the optimization hasn't converged yet.\n",
      "  warnings.warn(\n",
      "C:\\Users\\RAHUL\\AppData\\Local\\Programs\\Python\\Python39\\lib\\site-packages\\sklearn\\neural_network\\_multilayer_perceptron.py:692: ConvergenceWarning: Stochastic Optimizer: Maximum iterations (200) reached and the optimization hasn't converged yet.\n",
      "  warnings.warn(\n",
      "C:\\Users\\RAHUL\\AppData\\Local\\Programs\\Python\\Python39\\lib\\site-packages\\sklearn\\neural_network\\_multilayer_perceptron.py:692: ConvergenceWarning: Stochastic Optimizer: Maximum iterations (200) reached and the optimization hasn't converged yet.\n",
      "  warnings.warn(\n",
      "C:\\Users\\RAHUL\\AppData\\Local\\Programs\\Python\\Python39\\lib\\site-packages\\sklearn\\neural_network\\_multilayer_perceptron.py:692: ConvergenceWarning: Stochastic Optimizer: Maximum iterations (200) reached and the optimization hasn't converged yet.\n",
      "  warnings.warn(\n",
      "C:\\Users\\RAHUL\\AppData\\Local\\Programs\\Python\\Python39\\lib\\site-packages\\sklearn\\neural_network\\_multilayer_perceptron.py:692: ConvergenceWarning: Stochastic Optimizer: Maximum iterations (200) reached and the optimization hasn't converged yet.\n",
      "  warnings.warn(\n"
     ]
    },
    {
     "name": "stdout",
     "output_type": "stream",
     "text": [
      "Accuracy of each fold - [0.904, 0.944, 0.924, 0.944, 0.932, 0.888, 0.916, 0.96, 0.9236947791164659, 0.9477911646586346]\n",
      "Precision of each fold - [0.8496598639455782, 0.9367986798679868, 0.8390736634639073, 0.9327777777777778, 0.8493284493284493, 0.7497573286740439, 0.8582604630699006, 0.9062890674830975, 0.9312678062678064, 0.8845811051693405]\n",
      "Recall of each fold - [0.8259285159285158, 0.8563558663558664, 0.8205011655011655, 0.8632362082362083, 0.9086285936285936, 0.7631041181041182, 0.8182828282828284, 0.8650947042906841, 0.7414305404255153, 0.8511086903046703]\n",
      "F1 of each fold - [0.8337662337662337, 0.8893462953940049, 0.8273573089998211, 0.8904342646740308, 0.8766005104964316, 0.7524905154592335, 0.8319899449096105, 0.8836635586635585, 0.8016612066612067, 0.8663747505992315]\n",
      "Avg Accuracy : 0.9283\n",
      "Avg Recall : 0.8314\n",
      "Avg Precision: 0.8738\n",
      "Avg F1 : 0.8454\n"
     ]
    },
    {
     "name": "stderr",
     "output_type": "stream",
     "text": [
      "C:\\Users\\RAHUL\\AppData\\Local\\Programs\\Python\\Python39\\lib\\site-packages\\sklearn\\neural_network\\_multilayer_perceptron.py:692: ConvergenceWarning: Stochastic Optimizer: Maximum iterations (200) reached and the optimization hasn't converged yet.\n",
      "  warnings.warn(\n"
     ]
    }
   ],
   "source": [
    "\n",
    "#SKFOLD Cross Validation\n",
    "skf = StratifiedKFold(n_splits=10, shuffle=True, random_state=1)\n",
    "k = 10\n",
    "\n",
    "\n",
    "#MLP\n",
    "mlp = MLPClassifier()\n",
    "\n",
    "\n",
    "acc_score = []\n",
    "prec_score = []\n",
    "rec_score = []\n",
    "f1_scor = []\n",
    " \n",
    "for train_index , test_index in skf.split(X,y):\n",
    "    X_train , X_test = X.iloc[train_index,:],X.iloc[test_index,:]\n",
    "    y_train , y_test = y.iloc[train_index] , y.iloc[test_index]\n",
    "\n",
    "    #Scaling\n",
    "    scaler = MinMaxScaler(feature_range=(0,1))\n",
    "    X_train = scaler.fit_transform(X_train)\n",
    "    X_test = scaler.transform(X_test)    \n",
    "     \n",
    "    mlp.fit(X_train,y_train.values.ravel())\n",
    "    y_pred = mlp.predict(X_test)\n",
    "    #Accuracy Score \n",
    "    acc = accuracy_score(y_pred , y_test.values.ravel())\n",
    "    acc_score.append(acc)\n",
    "    #Precision\n",
    "    precision = precision_score(y_test, y_pred,  average='macro')\n",
    "    prec_score.append(precision)\n",
    "    #Recall\n",
    "    recall = recall_score(y_test.values.ravel(), y_pred,  average='macro')\n",
    "    rec_score.append(recall)\n",
    "    #F1 Score\n",
    "    f1 = f1_score(y_test, y_pred,average='macro')\n",
    "    f1_scor.append(f1)\n",
    "\n",
    "\n",
    "#Displaying Results    \n",
    "avg_acc_score = sum(acc_score)/k\n",
    "avg_acc_score = round(avg_acc_score, 4)\n",
    "print('Accuracy of each fold - {}'.format(acc_score))\n",
    "\n",
    "avg_prec_score = sum(prec_score)/k\n",
    "avg_prec_score = round(avg_prec_score, 4)\n",
    "print('Precision of each fold - {}'.format(prec_score))\n",
    "\n",
    "avg_rec_score = sum(rec_score)/k\n",
    "avg_rec_score = round(avg_rec_score, 4)\n",
    "print('Recall of each fold - {}'.format(rec_score))\n",
    "\n",
    "\n",
    "\n",
    "avg_f1_score = sum(f1_scor)/k\n",
    "avg_f1_score = round(avg_f1_score, 4)\n",
    "print('F1 of each fold - {}'.format(f1_scor))\n",
    "\n",
    "print('Avg Accuracy : {}'.format(avg_acc_score))\n",
    "print('Avg Recall : {}'.format(avg_rec_score))\n",
    "print('Avg Precision: {}'.format(avg_prec_score))\n",
    "print('Avg F1 : {}'.format(avg_f1_score))\n",
    "\n",
    "\n",
    "#Results\n",
    "list_2.append(\"MLP\")\n",
    "list_2.append(avg_acc_score) \n",
    "list_2.append(avg_prec_score) \n",
    "list_2.append(avg_rec_score)\n",
    "list_2.append(avg_f1_score)\n",
    "list_1.append(list_2)\n",
    "list_2 = []"
   ]
  },
  {
   "cell_type": "code",
   "execution_count": 97,
   "metadata": {},
   "outputs": [
    {
     "data": {
      "text/html": [
       "<div>\n",
       "<style scoped>\n",
       "    .dataframe tbody tr th:only-of-type {\n",
       "        vertical-align: middle;\n",
       "    }\n",
       "\n",
       "    .dataframe tbody tr th {\n",
       "        vertical-align: top;\n",
       "    }\n",
       "\n",
       "    .dataframe thead th {\n",
       "        text-align: right;\n",
       "    }\n",
       "</style>\n",
       "<table border=\"1\" class=\"dataframe\">\n",
       "  <thead>\n",
       "    <tr style=\"text-align: right;\">\n",
       "      <th></th>\n",
       "      <th>Model</th>\n",
       "      <th>Accuracy</th>\n",
       "      <th>Precision</th>\n",
       "      <th>Recall</th>\n",
       "      <th>F1</th>\n",
       "    </tr>\n",
       "  </thead>\n",
       "  <tbody>\n",
       "    <tr>\n",
       "      <th>2</th>\n",
       "      <td>Random Forest</td>\n",
       "      <td>0.9468</td>\n",
       "      <td>0.9144</td>\n",
       "      <td>0.8260</td>\n",
       "      <td>0.8610</td>\n",
       "    </tr>\n",
       "    <tr>\n",
       "      <th>6</th>\n",
       "      <td>MLP</td>\n",
       "      <td>0.9283</td>\n",
       "      <td>0.8738</td>\n",
       "      <td>0.8314</td>\n",
       "      <td>0.8454</td>\n",
       "    </tr>\n",
       "    <tr>\n",
       "      <th>1</th>\n",
       "      <td>Decision Tree</td>\n",
       "      <td>0.9296</td>\n",
       "      <td>0.8481</td>\n",
       "      <td>0.8390</td>\n",
       "      <td>0.8406</td>\n",
       "    </tr>\n",
       "    <tr>\n",
       "      <th>4</th>\n",
       "      <td>K-Nearest Neighbour</td>\n",
       "      <td>0.9292</td>\n",
       "      <td>0.8840</td>\n",
       "      <td>0.8106</td>\n",
       "      <td>0.8395</td>\n",
       "    </tr>\n",
       "    <tr>\n",
       "      <th>3</th>\n",
       "      <td>Support Vector Machine</td>\n",
       "      <td>0.9255</td>\n",
       "      <td>0.9004</td>\n",
       "      <td>0.7725</td>\n",
       "      <td>0.8164</td>\n",
       "    </tr>\n",
       "    <tr>\n",
       "      <th>5</th>\n",
       "      <td>GaussianNB</td>\n",
       "      <td>0.8187</td>\n",
       "      <td>0.6508</td>\n",
       "      <td>0.8636</td>\n",
       "      <td>0.7089</td>\n",
       "    </tr>\n",
       "    <tr>\n",
       "      <th>0</th>\n",
       "      <td>Logistic Regression</td>\n",
       "      <td>0.8943</td>\n",
       "      <td>0.6178</td>\n",
       "      <td>0.5414</td>\n",
       "      <td>0.5650</td>\n",
       "    </tr>\n",
       "  </tbody>\n",
       "</table>\n",
       "</div>"
      ],
      "text/plain": [
       "                    Model  Accuracy  Precision  Recall      F1\n",
       "2           Random Forest    0.9468     0.9144  0.8260  0.8610\n",
       "6                     MLP    0.9283     0.8738  0.8314  0.8454\n",
       "1           Decision Tree    0.9296     0.8481  0.8390  0.8406\n",
       "4     K-Nearest Neighbour    0.9292     0.8840  0.8106  0.8395\n",
       "3  Support Vector Machine    0.9255     0.9004  0.7725  0.8164\n",
       "5              GaussianNB    0.8187     0.6508  0.8636  0.7089\n",
       "0     Logistic Regression    0.8943     0.6178  0.5414  0.5650"
      ]
     },
     "execution_count": 97,
     "metadata": {},
     "output_type": "execute_result"
    }
   ],
   "source": [
    "#Displaying all the results from the model\n",
    "model_results = pd.DataFrame(list_1, columns= ['Model', 'Accuracy', 'Precision', 'Recall', 'F1'])\n",
    "model_results.sort_values(by= ['F1'], inplace= True, ascending= False)\n",
    "model_results"
   ]
  },
  {
   "cell_type": "markdown",
   "metadata": {},
   "source": [
    "Models using SMOTE to balance dataset so there are equal amount of trading signals"
   ]
  },
  {
   "cell_type": "code",
   "execution_count": 98,
   "metadata": {},
   "outputs": [
    {
     "name": "stdout",
     "output_type": "stream",
     "text": [
      "Accuracy of each fold - [0.772, 0.8, 0.82, 0.804, 0.756, 0.732, 0.78, 0.78, 0.8032128514056225, 0.7991967871485943]\n",
      "Precision of each fold - [0.6149118858478465, 0.6369001547987616, 0.6522318023319168, 0.6427893738140417, 0.6033676759181384, 0.5975676823852006, 0.620727910794136, 0.6299272866437046, 0.6405954790823212, 0.6387281669958561]\n",
      "Recall of each fold - [0.8694832944832944, 0.9097863247863248, 0.9043589743589745, 0.9183333333333333, 0.8776923076923078, 0.8745726495726496, 0.8876923076923077, 0.9078726968174204, 0.9110509814027402, 0.9093759395266933]\n",
      "F1 of each fold - [0.6694337473328061, 0.6949025040044458, 0.7123247224548518, 0.7043934489417355, 0.6484314850292056, 0.6291109591345091, 0.6701925235258569, 0.6820291458901621, 0.7009319993816118, 0.6912664055521197]\n",
      "Avg Accuracy : 0.7846\n",
      "Avg Recall : 0.897\n",
      "Avg Precision: 0.6278\n",
      "Avg F1 : 0.6803\n"
     ]
    }
   ],
   "source": [
    "#SKFOLD Cross Validation\n",
    "skf = StratifiedKFold(n_splits=10, shuffle=True, random_state=1)\n",
    "kf = KFold(n_splits=10, shuffle=True, random_state=None)\n",
    "k = 10\n",
    "\n",
    "#Logistic Regression\n",
    "lr = LogisticRegression(multi_class = \"ovr\")\n",
    " \n",
    "acc_score = []\n",
    "prec_score = []\n",
    "rec_score = []\n",
    "f1_scor = []\n",
    " \n",
    "for train_index , test_index in skf.split(X,y):\n",
    "    X_train , X_test = X.iloc[train_index,:],X.iloc[test_index,:]\n",
    "    y_train , y_test = y.iloc[train_index] , y.iloc[test_index]\n",
    "\n",
    "    #Scaling\n",
    "    scaler = MinMaxScaler(feature_range=(0,1))\n",
    "    X_train = scaler.fit_transform(X_train)\n",
    "    X_test = scaler.transform(X_test)   \n",
    "\n",
    "    #Smote\n",
    "    oversample = SMOTE()\n",
    "    Xsmote, ysmote = oversample.fit_resample(X_train, y_train) \n",
    "\n",
    "     \n",
    "    lr.fit(Xsmote,ysmote.values.ravel())\n",
    "    y_pred = lr.predict(X_test)\n",
    "\n",
    "    #Accuracy Score \n",
    "    acc = accuracy_score(y_pred , y_test)\n",
    "    acc_score.append(acc)\n",
    "    #Precision\n",
    "    precision = precision_score(y_test, y_pred,  average='macro')\n",
    "    prec_score.append(precision)\n",
    "    #Recall\n",
    "    recall = recall_score(y_test, y_pred,  average='macro')\n",
    "    rec_score.append(recall)\n",
    "    #F1 Score\n",
    "    f1 = f1_score(y_test, y_pred,average='macro')\n",
    "    f1_scor.append(f1)\n",
    "\n",
    "#Displaying Results    \n",
    "avg_acc_score = sum(acc_score)/k\n",
    "avg_acc_score = round(avg_acc_score, 4)\n",
    "print('Accuracy of each fold - {}'.format(acc_score))\n",
    "\n",
    "avg_prec_score = sum(prec_score)/k\n",
    "avg_prec_score = round(avg_prec_score, 4)\n",
    "print('Precision of each fold - {}'.format(prec_score))\n",
    "\n",
    "avg_rec_score = sum(rec_score)/k\n",
    "avg_rec_score = round(avg_rec_score, 4)\n",
    "print('Recall of each fold - {}'.format(rec_score))\n",
    "\n",
    "\n",
    "\n",
    "avg_f1_score = sum(f1_scor)/k\n",
    "avg_f1_score = round(avg_f1_score, 4)\n",
    "print('F1 of each fold - {}'.format(f1_scor))\n",
    "\n",
    "print('Avg Accuracy : {}'.format(avg_acc_score))\n",
    "print('Avg Recall : {}'.format(avg_rec_score))\n",
    "print('Avg Precision: {}'.format(avg_prec_score))\n",
    "print('Avg F1 : {}'.format(avg_f1_score))\n",
    "\n",
    "#Storing Results for the Model\n",
    "list_1 = []\n",
    "list_2 = []\n",
    "\n",
    "#Results\n",
    "list_2.append(\"Logistic Regression\")\n",
    "list_2.append(avg_acc_score) \n",
    "list_2.append(avg_prec_score) \n",
    "list_2.append(avg_rec_score)\n",
    "list_2.append(avg_f1_score)\n",
    "list_1.append(list_2)\n",
    "list_2 = []\n"
   ]
  },
  {
   "cell_type": "code",
   "execution_count": 99,
   "metadata": {},
   "outputs": [
    {
     "name": "stdout",
     "output_type": "stream",
     "text": [
      "Accuracy of each fold - [0.94, 0.94, 0.936, 0.9, 0.888, 0.92, 0.924, 0.928, 0.9196787148594378, 0.9518072289156626]\n",
      "Precision of each fold - [0.8570005755935405, 0.8526239296783343, 0.8417696025778733, 0.7555172600022585, 0.757463768115942, 0.7882672882672882, 0.8243207097162473, 0.8129671182027204, 0.802299358582081, 0.8506185335132703]\n",
      "Recall of each fold - [0.9050815850815851, 0.9326029526029526, 0.932051282051282, 0.8655439005439005, 0.8902952602952604, 0.8177195027195027, 0.8273815073815074, 0.8777971051840399, 0.8817553189412486, 0.9306556090475689]\n",
      "F1 of each fold - [0.8769423558897244, 0.8885194657573173, 0.8771845438512105, 0.8002709350285692, 0.8106230059647662, 0.8016256496155995, 0.8229451110582353, 0.8423687423687425, 0.8373638142312841, 0.8817829410045991]\n",
      "Avg Accuracy : 0.9247\n",
      "Avg Recall : 0.8861\n",
      "Avg Precision: 0.8143\n",
      "Avg F1 : 0.844\n"
     ]
    }
   ],
   "source": [
    "#SKFOLD Cross Validation\n",
    "skf = StratifiedKFold(n_splits=10, shuffle=True, random_state=1)\n",
    "kf = KFold(n_splits=10, shuffle=True, random_state=1)\n",
    "k = 10\n",
    "\n",
    "#Decision Tree\n",
    "decision_tree = DecisionTreeClassifier()\n",
    " \n",
    "acc_score = []\n",
    "prec_score = []\n",
    "rec_score = []\n",
    "f1_scor = []\n",
    " \n",
    "for train_index , test_index in skf.split(X,y):\n",
    "    X_train , X_test = X.iloc[train_index,:],X.iloc[test_index,:]\n",
    "    y_train , y_test = y.iloc[train_index] , y.iloc[test_index]\n",
    "\n",
    "    #Scaling\n",
    "    scaler = MinMaxScaler(feature_range=(0,1))\n",
    "    X_train = scaler.fit_transform(X_train)\n",
    "    X_test = scaler.transform(X_test)   \n",
    "\n",
    "    #Smote\n",
    "    oversample = SMOTE()\n",
    "    Xsmote, ysmote = oversample.fit_resample(X_train, y_train)  \n",
    "     \n",
    "    decision_tree.fit(Xsmote,ysmote)\n",
    "    y_pred = decision_tree.predict(X_test)\n",
    "\n",
    "    #Accuracy Score \n",
    "    acc = accuracy_score(y_pred , y_test)\n",
    "    acc_score.append(acc)\n",
    "    #Precision\n",
    "    precision = precision_score(y_test, y_pred,  average='macro')\n",
    "    prec_score.append(precision)\n",
    "    #Recall\n",
    "    recall = recall_score(y_test, y_pred,  average='macro')\n",
    "    rec_score.append(recall)\n",
    "    #F1 Score\n",
    "    f1 = f1_score(y_test, y_pred,average='macro')\n",
    "    f1_scor.append(f1)\n",
    "\n",
    "#Displaying Results    \n",
    "avg_acc_score = sum(acc_score)/k\n",
    "avg_acc_score = round(avg_acc_score, 4)\n",
    "print('Accuracy of each fold - {}'.format(acc_score))\n",
    "\n",
    "avg_prec_score = sum(prec_score)/k\n",
    "avg_prec_score = round(avg_prec_score, 4)\n",
    "print('Precision of each fold - {}'.format(prec_score))\n",
    "\n",
    "avg_rec_score = sum(rec_score)/k\n",
    "avg_rec_score = round(avg_rec_score, 4)\n",
    "print('Recall of each fold - {}'.format(rec_score))\n",
    "\n",
    "\n",
    "\n",
    "avg_f1_score = sum(f1_scor)/k\n",
    "avg_f1_score = round(avg_f1_score, 4)\n",
    "print('F1 of each fold - {}'.format(f1_scor))\n",
    "\n",
    "print('Avg Accuracy : {}'.format(avg_acc_score))\n",
    "print('Avg Recall : {}'.format(avg_rec_score))\n",
    "print('Avg Precision: {}'.format(avg_prec_score))\n",
    "print('Avg F1 : {}'.format(avg_f1_score))\n",
    "\n",
    "#Results\n",
    "list_2.append(\"Decision Tree\")\n",
    "list_2.append(avg_acc_score) \n",
    "list_2.append(avg_prec_score) \n",
    "list_2.append(avg_rec_score)\n",
    "list_2.append(avg_f1_score)\n",
    "list_1.append(list_2)\n",
    "list_2 = []\n"
   ]
  },
  {
   "cell_type": "code",
   "execution_count": 100,
   "metadata": {},
   "outputs": [
    {
     "name": "stdout",
     "output_type": "stream",
     "text": [
      "Accuracy of each fold - [0.944, 0.948, 0.932, 0.944, 0.928, 0.928, 0.94, 0.916, 0.9477911646586346, 0.9759036144578314]\n",
      "Precision of each fold - [0.8649740649740649, 0.8729500195236236, 0.8466352005224568, 0.8172123015873015, 0.8345238095238096, 0.8178417841784178, 0.843595746756414, 0.7960336634515489, 0.8799768518518518, 0.8941239316239317]\n",
      "Recall of each fold - [0.9353846153846154, 0.9221756021756021, 0.9235042735042734, 0.9125135975135975, 0.9000815850815851, 0.8359285159285159, 0.8764452214452215, 0.832925310312245, 0.9358525338424836, 0.983077782072757]\n",
      "F1 of each fold - [0.8931330064628135, 0.8955545635869585, 0.8781671728775002, 0.856407995296884, 0.8633294975067128, 0.8198324616235064, 0.8530035991860881, 0.8134078073605164, 0.9057565055007509, 0.9288664584772875]\n",
      "Avg Accuracy : 0.9404\n",
      "Avg Recall : 0.9058\n",
      "Avg Precision: 0.8468\n",
      "Avg F1 : 0.8707\n"
     ]
    }
   ],
   "source": [
    "#SKFOLD Cross Validation\n",
    "skf = StratifiedKFold(n_splits=10, shuffle=True, random_state=1)\n",
    "kf = KFold(n_splits=10, shuffle=True, random_state=1)\n",
    "k = 10\n",
    "\n",
    "\n",
    "#Random Forest\n",
    "rf= RandomForestClassifier()\n",
    " \n",
    "acc_score = []\n",
    "prec_score = []\n",
    "rec_score = []\n",
    "f1_scor = []\n",
    " \n",
    "for train_index , test_index in skf.split(X,y):\n",
    "    X_train , X_test = X.iloc[train_index,:],X.iloc[test_index,:]\n",
    "    y_train , y_test = y.iloc[train_index] , y.iloc[test_index]\n",
    "\n",
    "    #Scaling\n",
    "    scaler = MinMaxScaler(feature_range=(0,1))\n",
    "    X_train = scaler.fit_transform(X_train)\n",
    "    X_test = scaler.transform(X_test)    \n",
    "\n",
    "    oversample = SMOTE()\n",
    "    Xsmote, ysmote = oversample.fit_resample(X_train, y_train)  \n",
    "     \n",
    "    rf.fit(Xsmote,ysmote.values.ravel())\n",
    "    y_pred = rf.predict(X_test)\n",
    "\n",
    "    #Accuracy Score \n",
    "    acc = accuracy_score(y_pred , y_test)\n",
    "    acc_score.append(acc)\n",
    "    #Precision\n",
    "    precision = precision_score(y_test, y_pred,  average='macro')\n",
    "    prec_score.append(precision)\n",
    "    #Recall\n",
    "    recall = recall_score(y_test, y_pred,  average='macro')\n",
    "    rec_score.append(recall)\n",
    "    #F1 Score\n",
    "    f1 = f1_score(y_test, y_pred,average='macro')\n",
    "    f1_scor.append(f1)\n",
    "\n",
    "#Displaying Results    \n",
    "avg_acc_score = sum(acc_score)/k\n",
    "avg_acc_score = round(avg_acc_score, 4)\n",
    "print('Accuracy of each fold - {}'.format(acc_score))\n",
    "\n",
    "avg_prec_score = sum(prec_score)/k\n",
    "avg_prec_score = round(avg_prec_score, 4)\n",
    "print('Precision of each fold - {}'.format(prec_score))\n",
    "\n",
    "avg_rec_score = sum(rec_score)/k\n",
    "avg_rec_score = round(avg_rec_score, 4)\n",
    "print('Recall of each fold - {}'.format(rec_score))\n",
    "\n",
    "\n",
    "\n",
    "avg_f1_score = sum(f1_scor)/k\n",
    "avg_f1_score = round(avg_f1_score, 4)\n",
    "print('F1 of each fold - {}'.format(f1_scor))\n",
    "\n",
    "print('Avg Accuracy : {}'.format(avg_acc_score))\n",
    "print('Avg Recall : {}'.format(avg_rec_score))\n",
    "print('Avg Precision: {}'.format(avg_prec_score))\n",
    "print('Avg F1 : {}'.format(avg_f1_score))\n",
    "\n",
    "#Results\n",
    "list_2.append(\"Random Forest\")\n",
    "list_2.append(avg_acc_score) \n",
    "list_2.append(avg_prec_score) \n",
    "list_2.append(avg_rec_score)\n",
    "list_2.append(avg_f1_score)\n",
    "list_1.append(list_2)\n",
    "list_2 = []\n"
   ]
  },
  {
   "cell_type": "code",
   "execution_count": 101,
   "metadata": {},
   "outputs": [
    {
     "name": "stdout",
     "output_type": "stream",
     "text": [
      "Accuracy of each fold - [0.86, 0.892, 0.876, 0.86, 0.88, 0.848, 0.852, 0.868, 0.8875502008032129, 0.891566265060241]\n",
      "Precision of each fold - [0.7037055000485014, 0.7446839320523532, 0.7247625256099832, 0.7063492063492064, 0.7242524916943521, 0.6770885547201336, 0.6874201988487703, 0.708264915161467, 0.7321428571428571, 0.7291358024691358]\n",
      "Recall of each fold - [0.9061499611499612, 0.9263636363636364, 0.9208119658119659, 0.9416666666666668, 0.9431196581196581, 0.8942696192696192, 0.897051282051282, 0.9186208821887214, 0.9530988274706867, 0.9547738693467336]\n",
      "F1 of each fold - [0.7701034472710319, 0.8100517241379311, 0.7915008841732979, 0.7784940460202345, 0.7953405017921146, 0.7410426731078905, 0.7486426426426426, 0.7751055221068422, 0.8040145408566461, 0.7941918608265417]\n",
      "Avg Accuracy : 0.8715\n",
      "Avg Recall : 0.9256\n",
      "Avg Precision: 0.7138\n",
      "Avg F1 : 0.7808\n"
     ]
    }
   ],
   "source": [
    "#SKFOLD Cross Validation\n",
    "skf = StratifiedKFold(n_splits=10, shuffle=True, random_state=1)\n",
    "kf = KFold(n_splits=10, shuffle=True, random_state=1)\n",
    "k = 10\n",
    "\n",
    "#Support Vector Machine\n",
    "svc = SVC()\n",
    " \n",
    "acc_score = []\n",
    "prec_score = []\n",
    "rec_score = []\n",
    "f1_scor = []\n",
    " \n",
    "for train_index , test_index in skf.split(X,y):\n",
    "    X_train , X_test = X.iloc[train_index,:],X.iloc[test_index,:]\n",
    "    y_train , y_test = y.iloc[train_index] , y.iloc[test_index]\n",
    "\n",
    "    #Scaling\n",
    "    scaler = MinMaxScaler(feature_range=(0,1))\n",
    "    X_train = scaler.fit_transform(X_train)\n",
    "    X_test = scaler.transform(X_test)  \n",
    "\n",
    "    oversample = SMOTE()\n",
    "    Xsmote, ysmote = oversample.fit_resample(X_train, y_train)    \n",
    "     \n",
    "    svc.fit(Xsmote,ysmote.values.ravel())\n",
    "    y_pred = svc.predict(X_test)\n",
    "    #Accuracy Score \n",
    "    acc = accuracy_score(y_pred , y_test)\n",
    "    acc_score.append(acc)\n",
    "    #Precision\n",
    "    precision = precision_score(y_test, y_pred,  average='macro')\n",
    "    prec_score.append(precision)\n",
    "    #Recall\n",
    "    recall = recall_score(y_test, y_pred,  average='macro')\n",
    "    rec_score.append(recall)\n",
    "    #F1 Score\n",
    "    f1 = f1_score(y_test, y_pred,average='macro')\n",
    "    f1_scor.append(f1)\n",
    "\n",
    "#Displaying Results    \n",
    "avg_acc_score = sum(acc_score)/k\n",
    "avg_acc_score = round(avg_acc_score, 4)\n",
    "print('Accuracy of each fold - {}'.format(acc_score))\n",
    "\n",
    "avg_prec_score = sum(prec_score)/k\n",
    "avg_prec_score = round(avg_prec_score, 4)\n",
    "print('Precision of each fold - {}'.format(prec_score))\n",
    "\n",
    "avg_rec_score = sum(rec_score)/k\n",
    "avg_rec_score = round(avg_rec_score, 4)\n",
    "print('Recall of each fold - {}'.format(rec_score))\n",
    "\n",
    "\n",
    "\n",
    "avg_f1_score = sum(f1_scor)/k\n",
    "avg_f1_score = round(avg_f1_score, 4)\n",
    "print('F1 of each fold - {}'.format(f1_scor))\n",
    "\n",
    "print('Avg Accuracy : {}'.format(avg_acc_score))\n",
    "print('Avg Recall : {}'.format(avg_rec_score))\n",
    "print('Avg Precision: {}'.format(avg_prec_score))\n",
    "print('Avg F1 : {}'.format(avg_f1_score))\n",
    "\n",
    "#Results\n",
    "list_2.append(\"Support Vector Machine\")\n",
    "list_2.append(avg_acc_score) \n",
    "list_2.append(avg_prec_score) \n",
    "list_2.append(avg_rec_score)\n",
    "list_2.append(avg_f1_score)\n",
    "list_1.append(list_2)\n",
    "list_2 = []\n"
   ]
  },
  {
   "cell_type": "code",
   "execution_count": 102,
   "metadata": {},
   "outputs": [
    {
     "name": "stdout",
     "output_type": "stream",
     "text": [
      "Accuracy of each fold - [0.892, 0.892, 0.916, 0.88, 0.904, 0.864, 0.88, 0.912, 0.891566265060241, 0.9317269076305221]\n",
      "Precision of each fold - [0.7503003003003004, 0.7522202342555064, 0.8137032085561496, 0.733247200689061, 0.7611721611721611, 0.6960858585858585, 0.7322923855532552, 0.7622963388920835, 0.7455183861082738, 0.7940037016123972]\n",
      "Recall of each fold - [0.9137179487179488, 0.9126029526029527, 0.9374786324786325, 0.9213636363636364, 0.9393589743589743, 0.8871756021756022, 0.9018376068376068, 0.8779689043508139, 0.8906459258218052, 0.9646523214362409]\n",
      "F1 of each fold - [0.8084206116464182, 0.812914844492, 0.8654959938039329, 0.7989629330007529, 0.8248121337068334, 0.7558399644820873, 0.7904265873015873, 0.8088097545219638, 0.8011864226097535, 0.8529254092086361]\n",
      "Avg Accuracy : 0.8963\n",
      "Avg Recall : 0.9147\n",
      "Avg Precision: 0.7541\n",
      "Avg F1 : 0.812\n"
     ]
    }
   ],
   "source": [
    "#SKFOLD Cross Validation\n",
    "skf = StratifiedKFold(n_splits=10, shuffle=True, random_state=1)\n",
    "kf = KFold(n_splits=10, shuffle=True, random_state=1)\n",
    "k = 10\n",
    "\n",
    "#K-Nearest Neighbour\n",
    "knn = KNeighborsClassifier()\n",
    " \n",
    "acc_score = []\n",
    "prec_score = []\n",
    "rec_score = []\n",
    "f1_scor = []\n",
    " \n",
    "for train_index , test_index in skf.split(X,y):\n",
    "    X_train , X_test = X.iloc[train_index,:],X.iloc[test_index,:]\n",
    "    y_train , y_test = y.iloc[train_index] , y.iloc[test_index]\n",
    "\n",
    "    #Scaling\n",
    "    scaler = MinMaxScaler(feature_range=(0,1))\n",
    "    X_train = scaler.fit_transform(X_train)\n",
    "    X_test = scaler.transform(X_test)    \n",
    "\n",
    "    oversample = SMOTE()\n",
    "    Xsmote, ysmote = oversample.fit_resample(X_train, y_train)    \n",
    "     \n",
    "    knn.fit(Xsmote, ysmote.values.ravel())\n",
    "    y_pred = knn.predict(X_test)\n",
    "    #Accuracy Score \n",
    "    acc = accuracy_score(y_pred , y_test)\n",
    "    acc_score.append(acc)\n",
    "    #Precision\n",
    "    precision = precision_score(y_test, y_pred,  average='macro')\n",
    "    prec_score.append(precision)\n",
    "    #Recall\n",
    "    recall = recall_score(y_test, y_pred,  average='macro')\n",
    "    rec_score.append(recall)\n",
    "    #F1 Score\n",
    "    f1 = f1_score(y_test, y_pred,average='macro')\n",
    "    f1_scor.append(f1)\n",
    "\n",
    "#Displaying Results    \n",
    "avg_acc_score = sum(acc_score)/k\n",
    "avg_acc_score = round(avg_acc_score, 4)\n",
    "print('Accuracy of each fold - {}'.format(acc_score))\n",
    "\n",
    "avg_prec_score = sum(prec_score)/k\n",
    "avg_prec_score = round(avg_prec_score, 4)\n",
    "print('Precision of each fold - {}'.format(prec_score))\n",
    "\n",
    "avg_rec_score = sum(rec_score)/k\n",
    "avg_rec_score = round(avg_rec_score, 4)\n",
    "print('Recall of each fold - {}'.format(rec_score))\n",
    "\n",
    "\n",
    "\n",
    "avg_f1_score = sum(f1_scor)/k\n",
    "avg_f1_score = round(avg_f1_score, 4)\n",
    "print('F1 of each fold - {}'.format(f1_scor))\n",
    "\n",
    "print('Avg Accuracy : {}'.format(avg_acc_score))\n",
    "print('Avg Recall : {}'.format(avg_rec_score))\n",
    "print('Avg Precision: {}'.format(avg_prec_score))\n",
    "print('Avg F1 : {}'.format(avg_f1_score))\n",
    "\n",
    "#Results\n",
    "list_2.append(\"K-Nearest Neighbour\")\n",
    "list_2.append(avg_acc_score) \n",
    "list_2.append(avg_prec_score) \n",
    "list_2.append(avg_rec_score)\n",
    "list_2.append(avg_f1_score)\n",
    "list_1.append(list_2)\n",
    "list_2 = []\n",
    "\n"
   ]
  },
  {
   "cell_type": "code",
   "execution_count": 103,
   "metadata": {},
   "outputs": [
    {
     "name": "stdout",
     "output_type": "stream",
     "text": [
      "Accuracy of each fold - [0.796, 0.804, 0.844, 0.792, 0.764, 0.748, 0.82, 0.808, 0.8072289156626506, 0.8313253012048193]\n",
      "Precision of each fold - [0.6353367433930094, 0.647909534184044, 0.6869881992581379, 0.6410526315789474, 0.6090702947845804, 0.5855582178890449, 0.6463048745276742, 0.6368667810177243, 0.6293632632305401, 0.6653239521078723]\n",
      "Recall of each fold - [0.8302059052059052, 0.9114529914529914, 0.9063636363636364, 0.8846969696969698, 0.8810256410256411, 0.8170862470862471, 0.8619619269619271, 0.8344178155735945, 0.7982140695708534, 0.9227762745350686]\n",
      "F1 of each fold - [0.6918104564164963, 0.7124616255142625, 0.7534730421094058, 0.7003726708074535, 0.6635072134239307, 0.6260328117059283, 0.7014398363388917, 0.6920725993351692, 0.6790123456790124, 0.7308938547486034]\n",
      "Avg Accuracy : 0.8015\n",
      "Avg Recall : 0.8648\n",
      "Avg Precision: 0.6384\n",
      "Avg F1 : 0.6951\n"
     ]
    }
   ],
   "source": [
    "#SKFOLD Cross Validation\n",
    "skf = StratifiedKFold(n_splits=10, shuffle=True, random_state=1)\n",
    "kf = KFold(n_splits=10, shuffle=True, random_state=1)\n",
    "k = 10 \n",
    "#GaussianNB\n",
    "gnb = GaussianNB()\n",
    " \n",
    "acc_score = []\n",
    "prec_score = []\n",
    "rec_score = []\n",
    "f1_scor = []\n",
    " \n",
    "for train_index , test_index in skf.split(X,y):\n",
    "    X_train , X_test = X.iloc[train_index,:],X.iloc[test_index,:]\n",
    "    y_train , y_test = y.iloc[train_index] , y.iloc[test_index]\n",
    "\n",
    "    #Scaling\n",
    "    scaler = MinMaxScaler(feature_range=(0,1))\n",
    "    X_train = scaler.fit_transform(X_train)\n",
    "    X_test = scaler.transform(X_test)    \n",
    "\n",
    "    oversample = SMOTE()\n",
    "    Xsmote, ysmote = oversample.fit_resample(X_train, y_train)    \n",
    "     \n",
    "    gnb.fit(Xsmote, ysmote.values.ravel())\n",
    "    y_pred = gnb.predict(X_test)\n",
    "    #Accuracy Score \n",
    "    acc = accuracy_score(y_pred , y_test)\n",
    "    acc_score.append(acc)\n",
    "    #Precision\n",
    "    precision = precision_score(y_test, y_pred,  average='macro')\n",
    "    prec_score.append(precision)\n",
    "    #Recall\n",
    "    recall = recall_score(y_test, y_pred,  average='macro')\n",
    "    rec_score.append(recall)\n",
    "    #F1 Score\n",
    "    f1 = f1_score(y_test, y_pred,average='macro')\n",
    "    f1_scor.append(f1)\n",
    "\n",
    "#Displaying Results    \n",
    "avg_acc_score = sum(acc_score)/k\n",
    "avg_acc_score = round(avg_acc_score, 4)\n",
    "print('Accuracy of each fold - {}'.format(acc_score))\n",
    "\n",
    "avg_prec_score = sum(prec_score)/k\n",
    "avg_prec_score = round(avg_prec_score, 4)\n",
    "print('Precision of each fold - {}'.format(prec_score))\n",
    "\n",
    "avg_rec_score = sum(rec_score)/k\n",
    "avg_rec_score = round(avg_rec_score, 4)\n",
    "print('Recall of each fold - {}'.format(rec_score))\n",
    "\n",
    "\n",
    "\n",
    "avg_f1_score = sum(f1_scor)/k\n",
    "avg_f1_score = round(avg_f1_score, 4)\n",
    "print('F1 of each fold - {}'.format(f1_scor))\n",
    "\n",
    "print('Avg Accuracy : {}'.format(avg_acc_score))\n",
    "print('Avg Recall : {}'.format(avg_rec_score))\n",
    "print('Avg Precision: {}'.format(avg_prec_score))\n",
    "print('Avg F1 : {}'.format(avg_f1_score))\n",
    "\n",
    "#Results\n",
    "list_2.append(\"GaussianNB\")\n",
    "list_2.append(avg_acc_score) \n",
    "list_2.append(avg_prec_score) \n",
    "list_2.append(avg_rec_score)\n",
    "list_2.append(avg_f1_score)\n",
    "list_1.append(list_2)\n",
    "list_2 = []\n",
    "\n"
   ]
  },
  {
   "cell_type": "code",
   "execution_count": 104,
   "metadata": {},
   "outputs": [
    {
     "name": "stderr",
     "output_type": "stream",
     "text": [
      "C:\\Users\\RAHUL\\AppData\\Local\\Programs\\Python\\Python39\\lib\\site-packages\\sklearn\\neural_network\\_multilayer_perceptron.py:692: ConvergenceWarning: Stochastic Optimizer: Maximum iterations (200) reached and the optimization hasn't converged yet.\n",
      "  warnings.warn(\n",
      "C:\\Users\\RAHUL\\AppData\\Local\\Programs\\Python\\Python39\\lib\\site-packages\\sklearn\\neural_network\\_multilayer_perceptron.py:692: ConvergenceWarning: Stochastic Optimizer: Maximum iterations (200) reached and the optimization hasn't converged yet.\n",
      "  warnings.warn(\n",
      "C:\\Users\\RAHUL\\AppData\\Local\\Programs\\Python\\Python39\\lib\\site-packages\\sklearn\\neural_network\\_multilayer_perceptron.py:692: ConvergenceWarning: Stochastic Optimizer: Maximum iterations (200) reached and the optimization hasn't converged yet.\n",
      "  warnings.warn(\n"
     ]
    },
    {
     "name": "stdout",
     "output_type": "stream",
     "text": [
      "Accuracy of each fold - [0.856, 0.892, 0.888, 0.884, 0.88, 0.872, 0.9, 0.884, 0.8995983935742972, 0.9076305220883534]\n",
      "Precision of each fold - [0.7124669312169312, 0.7522202342555064, 0.7406715714016223, 0.7252556129440286, 0.7389509389330864, 0.7122448979591837, 0.7676623260392894, 0.7302048726467332, 0.7654461279461279, 0.7508333333333334]\n",
      "Recall of each fold - [0.9044832944832945, 0.9126029526029527, 0.8834149184149185, 0.8806332556332556, 0.9224786324786325, 0.8836285936285937, 0.9032905982905982, 0.9253210496929088, 0.9512519864278658, 0.9614740368509214]\n",
      "F1 of each fold - [0.7765643877090581, 0.812914844492, 0.7932806974257751, 0.7828401102878639, 0.8049459397285483, 0.7711722488038277, 0.8135368651002675, 0.7966481130684647, 0.8334882204287927, 0.8154431673052364]\n",
      "Avg Accuracy : 0.8863\n",
      "Avg Recall : 0.9129\n",
      "Avg Precision: 0.7396\n",
      "Avg F1 : 0.8001\n"
     ]
    }
   ],
   "source": [
    "#SKFOLD Cross Validation\n",
    "skf = StratifiedKFold(n_splits=10, shuffle=True, random_state=1)\n",
    "kf = KFold(n_splits=10, shuffle=True, random_state=1)\n",
    "kf = KFold\n",
    "k = 10\n",
    "#MLP\n",
    "mlp = MLPClassifier()\n",
    "\n",
    "\n",
    "acc_score = []\n",
    "prec_score = []\n",
    "rec_score = []\n",
    "f1_scor = []\n",
    "\n",
    "\n",
    " \n",
    "for train_index , test_index in skf.split(X,y):\n",
    "    X_train , X_test = X.iloc[train_index,:],X.iloc[test_index,:]\n",
    "    y_train , y_test = y.iloc[train_index] , y.iloc[test_index]\n",
    "\n",
    "    #Scaling\n",
    "    scaler = MinMaxScaler(feature_range=(0,1))\n",
    "    X_train = scaler.fit_transform(X_train)\n",
    "    X_test = scaler.transform(X_test)  \n",
    "\n",
    "    oversample = SMOTE()\n",
    "    Xsmote, ysmote = oversample.fit_resample(X_train, y_train)    \n",
    "     \n",
    "    mlp.fit(Xsmote,ysmote.values.ravel())\n",
    "    y_pred = mlp.predict(X_test)\n",
    "    #Accuracy Score \n",
    "    acc = accuracy_score(y_pred , y_test.values.ravel())\n",
    "    acc_score.append(acc)\n",
    "    #Precision\n",
    "    precision = precision_score(y_test, y_pred,  average='macro')\n",
    "    prec_score.append(precision)\n",
    "    #Recall\n",
    "    recall = recall_score(y_test.values.ravel(), y_pred,  average='macro')\n",
    "    rec_score.append(recall)\n",
    "    #F1 Score\n",
    "    f1 = f1_score(y_test, y_pred,average='macro')\n",
    "    f1_scor.append(f1)\n",
    "\n",
    "#Displaying Results    \n",
    "avg_acc_score = sum(acc_score)/k\n",
    "avg_acc_score = round(avg_acc_score, 4)\n",
    "print('Accuracy of each fold - {}'.format(acc_score))\n",
    "\n",
    "avg_prec_score = sum(prec_score)/k\n",
    "avg_prec_score = round(avg_prec_score, 4)\n",
    "print('Precision of each fold - {}'.format(prec_score))\n",
    "\n",
    "avg_rec_score = sum(rec_score)/k\n",
    "avg_rec_score = round(avg_rec_score, 4)\n",
    "print('Recall of each fold - {}'.format(rec_score))\n",
    "\n",
    "\n",
    "\n",
    "avg_f1_score = sum(f1_scor)/k\n",
    "avg_f1_score = round(avg_f1_score, 4)\n",
    "print('F1 of each fold - {}'.format(f1_scor))\n",
    "\n",
    "print('Avg Accuracy : {}'.format(avg_acc_score))\n",
    "print('Avg Recall : {}'.format(avg_rec_score))\n",
    "print('Avg Precision: {}'.format(avg_prec_score))\n",
    "print('Avg F1 : {}'.format(avg_f1_score))\n",
    "\n",
    "#Results\n",
    "list_2.append(\"MLP\")\n",
    "list_2.append(avg_acc_score) \n",
    "list_2.append(avg_prec_score) \n",
    "list_2.append(avg_rec_score)\n",
    "list_2.append(avg_f1_score)\n",
    "list_1.append(list_2)\n",
    "list_2 = []\n",
    "\n"
   ]
  },
  {
   "cell_type": "code",
   "execution_count": 105,
   "metadata": {},
   "outputs": [
    {
     "data": {
      "text/html": [
       "<div>\n",
       "<style scoped>\n",
       "    .dataframe tbody tr th:only-of-type {\n",
       "        vertical-align: middle;\n",
       "    }\n",
       "\n",
       "    .dataframe tbody tr th {\n",
       "        vertical-align: top;\n",
       "    }\n",
       "\n",
       "    .dataframe thead th {\n",
       "        text-align: right;\n",
       "    }\n",
       "</style>\n",
       "<table border=\"1\" class=\"dataframe\">\n",
       "  <thead>\n",
       "    <tr style=\"text-align: right;\">\n",
       "      <th></th>\n",
       "      <th>Models with SMOTE</th>\n",
       "      <th>Accuracy</th>\n",
       "      <th>Precision</th>\n",
       "      <th>Recall</th>\n",
       "      <th>F1</th>\n",
       "    </tr>\n",
       "  </thead>\n",
       "  <tbody>\n",
       "    <tr>\n",
       "      <th>2</th>\n",
       "      <td>Random Forest</td>\n",
       "      <td>0.9404</td>\n",
       "      <td>0.8468</td>\n",
       "      <td>0.9058</td>\n",
       "      <td>0.8707</td>\n",
       "    </tr>\n",
       "    <tr>\n",
       "      <th>1</th>\n",
       "      <td>Decision Tree</td>\n",
       "      <td>0.9247</td>\n",
       "      <td>0.8143</td>\n",
       "      <td>0.8861</td>\n",
       "      <td>0.8440</td>\n",
       "    </tr>\n",
       "    <tr>\n",
       "      <th>4</th>\n",
       "      <td>K-Nearest Neighbour</td>\n",
       "      <td>0.8963</td>\n",
       "      <td>0.7541</td>\n",
       "      <td>0.9147</td>\n",
       "      <td>0.8120</td>\n",
       "    </tr>\n",
       "    <tr>\n",
       "      <th>6</th>\n",
       "      <td>MLP</td>\n",
       "      <td>0.8863</td>\n",
       "      <td>0.7396</td>\n",
       "      <td>0.9129</td>\n",
       "      <td>0.8001</td>\n",
       "    </tr>\n",
       "    <tr>\n",
       "      <th>3</th>\n",
       "      <td>Support Vector Machine</td>\n",
       "      <td>0.8715</td>\n",
       "      <td>0.7138</td>\n",
       "      <td>0.9256</td>\n",
       "      <td>0.7808</td>\n",
       "    </tr>\n",
       "    <tr>\n",
       "      <th>5</th>\n",
       "      <td>GaussianNB</td>\n",
       "      <td>0.8015</td>\n",
       "      <td>0.6384</td>\n",
       "      <td>0.8648</td>\n",
       "      <td>0.6951</td>\n",
       "    </tr>\n",
       "    <tr>\n",
       "      <th>0</th>\n",
       "      <td>Logistic Regression</td>\n",
       "      <td>0.7846</td>\n",
       "      <td>0.6278</td>\n",
       "      <td>0.8970</td>\n",
       "      <td>0.6803</td>\n",
       "    </tr>\n",
       "  </tbody>\n",
       "</table>\n",
       "</div>"
      ],
      "text/plain": [
       "        Models with SMOTE  Accuracy  Precision  Recall      F1\n",
       "2           Random Forest    0.9404     0.8468  0.9058  0.8707\n",
       "1           Decision Tree    0.9247     0.8143  0.8861  0.8440\n",
       "4     K-Nearest Neighbour    0.8963     0.7541  0.9147  0.8120\n",
       "6                     MLP    0.8863     0.7396  0.9129  0.8001\n",
       "3  Support Vector Machine    0.8715     0.7138  0.9256  0.7808\n",
       "5              GaussianNB    0.8015     0.6384  0.8648  0.6951\n",
       "0     Logistic Regression    0.7846     0.6278  0.8970  0.6803"
      ]
     },
     "execution_count": 105,
     "metadata": {},
     "output_type": "execute_result"
    }
   ],
   "source": [
    "#Displaying all the results from the model\n",
    "model_results = pd.DataFrame(list_1, columns= ['Models with SMOTE', 'Accuracy', 'Precision', 'Recall', 'F1'])\n",
    "model_results.sort_values(by= ['F1'], inplace= True, ascending= False)\n",
    "model_results"
   ]
  },
  {
   "cell_type": "markdown",
   "metadata": {},
   "source": [
    "Expirement: Trading Signal: 60% Hold, 20% Buy , 20% Sell."
   ]
  },
  {
   "cell_type": "code",
   "execution_count": 106,
   "metadata": {},
   "outputs": [],
   "source": [
    "#Spliting the data into train and test\n",
    "from sklearn.model_selection import train_test_split\n",
    "X_train, X_test, y_train, y_test = train_test_split( X, y, test_size=0.3, random_state=42)"
   ]
  },
  {
   "cell_type": "code",
   "execution_count": 107,
   "metadata": {},
   "outputs": [
    {
     "data": {
      "text/plain": [
       "0    1394\n",
       "1     277\n",
       "2      77\n",
       "Name: Recommender, dtype: int64"
      ]
     },
     "execution_count": 107,
     "metadata": {},
     "output_type": "execute_result"
    }
   ],
   "source": [
    "y_train['Recommender'].value_counts()"
   ]
  },
  {
   "cell_type": "code",
   "execution_count": 108,
   "metadata": {},
   "outputs": [
    {
     "data": {
      "text/plain": [
       "0    603\n",
       "1    113\n",
       "2     34\n",
       "Name: Recommender, dtype: int64"
      ]
     },
     "execution_count": 108,
     "metadata": {},
     "output_type": "execute_result"
    }
   ],
   "source": [
    "y_test['Recommender'].value_counts()"
   ]
  },
  {
   "cell_type": "code",
   "execution_count": 109,
   "metadata": {},
   "outputs": [
    {
     "name": "stderr",
     "output_type": "stream",
     "text": [
      "C:\\Users\\RAHUL\\AppData\\Local\\Programs\\Python\\Python39\\lib\\site-packages\\imblearn\\utils\\_validation.py:299: UserWarning: After over-sampling, the number of samples (1799) in class 0 will be larger than the number of samples in the majority class (class #0 -> 1394)\n",
      "  warnings.warn(\n"
     ]
    }
   ],
   "source": [
    "#Scaling\n",
    "scaler = MinMaxScaler(feature_range=(0,1))\n",
    "X_train = scaler.fit_transform(X_train)\n",
    "X_test = scaler.transform(X_test) \n",
    "\n",
    "#SMOTE\n",
    "strategy = {0:1799, 1:899, 2:899}\n",
    "oversample = SMOTE(sampling_strategy=strategy)\n",
    "\n",
    "Xsmote, ysmote = oversample.fit_resample(X_train, y_train)"
   ]
  },
  {
   "cell_type": "code",
   "execution_count": 110,
   "metadata": {},
   "outputs": [
    {
     "data": {
      "text/plain": [
       "0    1799\n",
       "2     899\n",
       "1     899\n",
       "Name: Recommender, dtype: int64"
      ]
     },
     "execution_count": 110,
     "metadata": {},
     "output_type": "execute_result"
    }
   ],
   "source": [
    "ysmote['Recommender'].value_counts()"
   ]
  },
  {
   "cell_type": "code",
   "execution_count": 111,
   "metadata": {},
   "outputs": [
    {
     "data": {
      "text/plain": [
       "Text(0.5, 0, 'Trade Signals')"
      ]
     },
     "execution_count": 111,
     "metadata": {},
     "output_type": "execute_result"
    },
    {
     "data": {
      "image/png": "[encoded data removed]",
      "text/plain": [
       "<Figure size 576x396 with 1 Axes>"
      ]
     },
     "metadata": {},
     "output_type": "display_data"
    }
   ],
   "source": [
    "fig = sns.barplot(x=['0', '1', '2'],  y =[sum(ysmote['Recommender'] == 0), sum(ysmote['Recommender'] == 1), sum(ysmote['Recommender'] == 2)])\n",
    "fig.set_title(\"Y-Train\")\n",
    "fig.set_xlabel('Trade Signals')"
   ]
  },
  {
   "cell_type": "code",
   "execution_count": 112,
   "metadata": {},
   "outputs": [
    {
     "name": "stderr",
     "output_type": "stream",
     "text": [
      "C:\\Users\\RAHUL\\AppData\\Local\\Programs\\Python\\Python39\\lib\\site-packages\\sklearn\\utils\\validation.py:985: DataConversionWarning: A column-vector y was passed when a 1d array was expected. Please change the shape of y to (n_samples, ), for example using ravel().\n",
      "  y = column_or_1d(y, warn=True)\n"
     ]
    },
    {
     "name": "stdout",
     "output_type": "stream",
     "text": [
      "0.8693333333333333\n",
      "Test Data Precision Score : 0.7042202460921673\n",
      "Test Data Recall Score :  0.8776601117266348\n",
      "Test  Data F1 Score:  0.7631264792263449\n"
     ]
    },
    {
     "name": "stderr",
     "output_type": "stream",
     "text": [
      "C:\\Users\\RAHUL\\AppData\\Local\\Programs\\Python\\Python39\\lib\\site-packages\\sklearn\\utils\\validation.py:985: DataConversionWarning: A column-vector y was passed when a 1d array was expected. Please change the shape of y to (n_samples, ), for example using ravel().\n",
      "  y = column_or_1d(y, warn=True)\n"
     ]
    },
    {
     "name": "stdout",
     "output_type": "stream",
     "text": [
      "0.888\n",
      "Test Data Precision Score : 0.7396542436669994\n",
      "Test Data Recall Score :  0.8761480641215232\n",
      "Test  Data F1 Score:  0.7928138440177452\n",
      "0.9133333333333333\n",
      "Test Data Precision Score : 0.7885488007005034\n",
      "Test Data Recall Score :  0.8845911572336709\n",
      "Test  Data F1 Score:  0.829948161720263\n",
      "0.8053333333333333\n",
      "Test Data Precision Score : 0.6358101298141271\n",
      "Test Data Recall Score :  0.8631114195924191\n",
      "Test  Data F1 Score:  0.6964521371315527\n",
      "0.9226666666666666\n",
      "Test Data Precision Score : 0.8524469470592911\n",
      "Test Data Recall Score :  0.8483848902862632\n",
      "Test  Data F1 Score:  0.8499902345504503\n"
     ]
    },
    {
     "name": "stderr",
     "output_type": "stream",
     "text": [
      "C:\\Users\\RAHUL\\AppData\\Local\\Programs\\Python\\Python39\\lib\\site-packages\\sklearn\\neighbors\\_classification.py:198: DataConversionWarning: A column-vector y was passed when a 1d array was expected. Please change the shape of y to (n_samples,), for example using ravel().\n",
      "  return self._fit(X, y)\n",
      "C:\\Users\\RAHUL\\AppData\\Local\\Programs\\Python\\Python39\\lib\\site-packages\\sklearn\\utils\\validation.py:985: DataConversionWarning: A column-vector y was passed when a 1d array was expected. Please change the shape of y to (n_samples, ), for example using ravel().\n",
      "  y = column_or_1d(y, warn=True)\n",
      "C:\\Users\\RAHUL\\AppData\\Local\\Temp/ipykernel_12452/1504728737.py:17: DataConversionWarning: A column-vector y was passed when a 1d array was expected. Please change the shape of y to (n_samples,), for example using ravel().\n",
      "  model.fit(Xsmote, ysmote)\n"
     ]
    },
    {
     "name": "stdout",
     "output_type": "stream",
     "text": [
      "0.9386666666666666\n",
      "Test Data Precision Score : 0.8735997080824668\n",
      "Test Data Recall Score :  0.8711235884893883\n",
      "Test  Data F1 Score:  0.871752404598258\n"
     ]
    },
    {
     "name": "stderr",
     "output_type": "stream",
     "text": [
      "C:\\Users\\RAHUL\\AppData\\Local\\Programs\\Python\\Python39\\lib\\site-packages\\sklearn\\neural_network\\_multilayer_perceptron.py:1109: DataConversionWarning: A column-vector y was passed when a 1d array was expected. Please change the shape of y to (n_samples, ), for example using ravel().\n",
      "  y = column_or_1d(y, warn=True)\n"
     ]
    },
    {
     "name": "stdout",
     "output_type": "stream",
     "text": [
      "0.9106666666666666\n",
      "Test Data Precision Score : 0.7991496598639456\n",
      "Test Data Recall Score :  0.8595149649404662\n",
      "Test  Data F1 Score:  0.8262900397915723\n"
     ]
    },
    {
     "name": "stderr",
     "output_type": "stream",
     "text": [
      "C:\\Users\\RAHUL\\AppData\\Local\\Programs\\Python\\Python39\\lib\\site-packages\\sklearn\\neural_network\\_multilayer_perceptron.py:692: ConvergenceWarning: Stochastic Optimizer: Maximum iterations (200) reached and the optimization hasn't converged yet.\n",
      "  warnings.warn(\n"
     ]
    }
   ],
   "source": [
    "models = []\n",
    "models.append(['Logistic Regreesion', LogisticRegression()])\n",
    "models.append(['SVM', SVC()])\n",
    "models.append(['KNeighbors', KNeighborsClassifier()])\n",
    "models.append(['GaussianNB', GaussianNB()])\n",
    "models.append(['Decision Tree', DecisionTreeClassifier()])\n",
    "models.append(['Random Forest', RandomForestClassifier()])\n",
    "models.append(['MLP', MLPClassifier()])\n",
    "\n",
    "\n",
    "list_1= []\n",
    "\n",
    "for m in range(len(models)):\n",
    "    list_2= []\n",
    "    \n",
    "    model = models[m][1]\n",
    "    model.fit(Xsmote, ysmote)\n",
    "    y_pred = model.predict(X_test)\n",
    "\n",
    "    #Accuracy\n",
    "    accuracy = accuracy_score(y_pred , y_test.values.ravel())\n",
    "    print(accuracy)\n",
    "    #Precision\n",
    "    test_precision = precision_score(y_test, y_pred,  average='macro')\n",
    "    print(\"Test Data Precision Score :\", test_precision) \n",
    "    #Recall\n",
    "    test_recall = recall_score(y_test, y_pred,  average='macro')\n",
    "    print(\"Test Data Recall Score : \", test_recall)\n",
    "    #F1 Score\n",
    "    test_f1 = f1_score(y_test, y_pred,average='macro')\n",
    "    print(\"Test  Data F1 Score: \", test_f1)\n",
    "\n",
    "    list_2.append(models[m][0])\n",
    "    list_2.append(accuracy) \n",
    "    list_2.append(test_precision)\n",
    "    list_2.append(test_recall)\n",
    "    list_2.append(test_f1)\n",
    "    list_1.append(list_2)\n",
    "\n",
    "\n",
    "\n"
   ]
  },
  {
   "cell_type": "code",
   "execution_count": 113,
   "metadata": {},
   "outputs": [
    {
     "data": {
      "text/html": [
       "<div>\n",
       "<style scoped>\n",
       "    .dataframe tbody tr th:only-of-type {\n",
       "        vertical-align: middle;\n",
       "    }\n",
       "\n",
       "    .dataframe tbody tr th {\n",
       "        vertical-align: top;\n",
       "    }\n",
       "\n",
       "    .dataframe thead th {\n",
       "        text-align: right;\n",
       "    }\n",
       "</style>\n",
       "<table border=\"1\" class=\"dataframe\">\n",
       "  <thead>\n",
       "    <tr style=\"text-align: right;\">\n",
       "      <th></th>\n",
       "      <th>Models with SMOTE 2</th>\n",
       "      <th>Accuracy</th>\n",
       "      <th>Precision</th>\n",
       "      <th>Recall</th>\n",
       "      <th>F1</th>\n",
       "    </tr>\n",
       "  </thead>\n",
       "  <tbody>\n",
       "    <tr>\n",
       "      <th>5</th>\n",
       "      <td>Random Forest</td>\n",
       "      <td>0.938667</td>\n",
       "      <td>0.873600</td>\n",
       "      <td>0.871124</td>\n",
       "      <td>0.871752</td>\n",
       "    </tr>\n",
       "    <tr>\n",
       "      <th>4</th>\n",
       "      <td>Decision Tree</td>\n",
       "      <td>0.922667</td>\n",
       "      <td>0.852447</td>\n",
       "      <td>0.848385</td>\n",
       "      <td>0.849990</td>\n",
       "    </tr>\n",
       "    <tr>\n",
       "      <th>2</th>\n",
       "      <td>KNeighbors</td>\n",
       "      <td>0.913333</td>\n",
       "      <td>0.788549</td>\n",
       "      <td>0.884591</td>\n",
       "      <td>0.829948</td>\n",
       "    </tr>\n",
       "    <tr>\n",
       "      <th>6</th>\n",
       "      <td>MLP</td>\n",
       "      <td>0.910667</td>\n",
       "      <td>0.799150</td>\n",
       "      <td>0.859515</td>\n",
       "      <td>0.826290</td>\n",
       "    </tr>\n",
       "    <tr>\n",
       "      <th>1</th>\n",
       "      <td>SVM</td>\n",
       "      <td>0.888000</td>\n",
       "      <td>0.739654</td>\n",
       "      <td>0.876148</td>\n",
       "      <td>0.792814</td>\n",
       "    </tr>\n",
       "    <tr>\n",
       "      <th>0</th>\n",
       "      <td>Logistic Regreesion</td>\n",
       "      <td>0.869333</td>\n",
       "      <td>0.704220</td>\n",
       "      <td>0.877660</td>\n",
       "      <td>0.763126</td>\n",
       "    </tr>\n",
       "    <tr>\n",
       "      <th>3</th>\n",
       "      <td>GaussianNB</td>\n",
       "      <td>0.805333</td>\n",
       "      <td>0.635810</td>\n",
       "      <td>0.863111</td>\n",
       "      <td>0.696452</td>\n",
       "    </tr>\n",
       "  </tbody>\n",
       "</table>\n",
       "</div>"
      ],
      "text/plain": [
       "   Models with SMOTE 2  Accuracy  Precision    Recall        F1\n",
       "5        Random Forest  0.938667   0.873600  0.871124  0.871752\n",
       "4        Decision Tree  0.922667   0.852447  0.848385  0.849990\n",
       "2           KNeighbors  0.913333   0.788549  0.884591  0.829948\n",
       "6                  MLP  0.910667   0.799150  0.859515  0.826290\n",
       "1                  SVM  0.888000   0.739654  0.876148  0.792814\n",
       "0  Logistic Regreesion  0.869333   0.704220  0.877660  0.763126\n",
       "3           GaussianNB  0.805333   0.635810  0.863111  0.696452"
      ]
     },
     "execution_count": 113,
     "metadata": {},
     "output_type": "execute_result"
    }
   ],
   "source": [
    "#Displaying all the results from the model\n",
    "model_results = pd.DataFrame(list_1, columns= ['Models with SMOTE 2', 'Accuracy', 'Precision', 'Recall', 'F1'])\n",
    "model_results.sort_values(by= ['F1'], inplace= True, ascending= False)\n",
    "model_results"
   ]
  },
  {
   "cell_type": "markdown",
   "metadata": {},
   "source": [
    "Hyperparameter Tuning The Best Performing Model: Random Forest"
   ]
  },
  {
   "cell_type": "code",
   "execution_count": 114,
   "metadata": {},
   "outputs": [
    {
     "data": {
      "text/plain": [
       "(2498, 12)"
      ]
     },
     "execution_count": 114,
     "metadata": {},
     "output_type": "execute_result"
    }
   ],
   "source": [
    "X.shape\n"
   ]
  },
  {
   "cell_type": "code",
   "execution_count": 115,
   "metadata": {},
   "outputs": [
    {
     "data": {
      "text/plain": [
       "(2498, 1)"
      ]
     },
     "execution_count": 115,
     "metadata": {},
     "output_type": "execute_result"
    }
   ],
   "source": [
    "y.shape"
   ]
  },
  {
   "cell_type": "code",
   "execution_count": 116,
   "metadata": {},
   "outputs": [
    {
     "name": "stdout",
     "output_type": "stream",
     "text": [
      "Accuracy of each fold - [0.952, 0.948, 0.936, 0.948, 0.932, 0.924, 0.932, 0.924, 0.9477911646586346, 0.9678714859437751]\n",
      "Precision of each fold - [0.9026819126819127, 0.8572738914202329, 0.8542815542815543, 0.8332112332112332, 0.8375949253998035, 0.8015912897822446, 0.837455579246624, 0.8055038144944643, 0.8632821865260129, 0.872078816912709]\n",
      "Recall of each fold - [0.9387179487179487, 0.929055944055944, 0.9251709401709401, 0.8855439005439005, 0.9086285936285936, 0.8411421911421911, 0.8662315462315462, 0.8431473607353004, 0.9072245454155002, 0.9797276983206631]\n",
      "F1 of each fold - [0.9183625730994152, 0.8890295358649789, 0.8826860347622049, 0.8573422930666249, 0.868987341772152, 0.8159218559218558, 0.8474902833007572, 0.8232342415027204, 0.8839896132117643, 0.9132216989359847]\n",
      "Avg Accuracy Score:  0.9412\n",
      "Avg Recall Score:  0.9025\n",
      "Avg Precision Score:  0.8465\n",
      "Avg F1 Score:  0.87\n"
     ]
    }
   ],
   "source": [
    "#This Setup Achieved best performing model, we are running it again to check the models parameteres.\n",
    "\n",
    "#SKFOLD Cross Validation\n",
    "skf = StratifiedKFold(n_splits=10, shuffle=True, random_state=1)\n",
    "kf = KFold(n_splits=10, shuffle=True, random_state=1)\n",
    "k = 10\n",
    "\n",
    "\n",
    "#Random Forest\n",
    "rf= RandomForestClassifier()\n",
    "\n",
    "acc_score = []\n",
    "prec_score = []\n",
    "rec_score = []\n",
    "f1_scor = []\n",
    " \n",
    "\n",
    "for train_index , test_index in skf.split(X,y):\n",
    "    X_train , X_test = X.iloc[train_index,:],X.iloc[test_index,:]\n",
    "    y_train , y_test = y.iloc[train_index] , y.iloc[test_index]\n",
    "\n",
    "    #Scaling\n",
    "    scaler = MinMaxScaler(feature_range=(0,1))\n",
    "    X_train = scaler.fit_transform(X_train)\n",
    "    X_test = scaler.transform(X_test)    \n",
    "\n",
    "    oversample = SMOTE()\n",
    "    Xsmote, ysmote = oversample.fit_resample(X_train, y_train)  \n",
    "     \n",
    "    rf.fit(Xsmote,ysmote.values.ravel())\n",
    "    y_pred = rf.predict(X_test)\n",
    "\n",
    "    #Accuracy Score \n",
    "    acc = accuracy_score(y_pred , y_test)\n",
    "    acc_score.append(acc)\n",
    "    #Precision\n",
    "    precision = precision_score(y_test, y_pred,  average='macro')\n",
    "    prec_score.append(precision)\n",
    "    #Recall\n",
    "    recall = recall_score(y_test, y_pred,  average='macro')\n",
    "    rec_score.append(recall)\n",
    "    #F1 Score\n",
    "    f1 = f1_score(y_test, y_pred,average='macro')\n",
    "    f1_scor.append(f1)\n",
    "\n",
    "#Displaying Results    \n",
    "avg_acc_score = sum(acc_score)/k\n",
    "avg_acc_score = round(avg_acc_score, 4)\n",
    "print('Accuracy of each fold - {}'.format(acc_score))\n",
    "\n",
    "avg_prec_score = sum(prec_score)/k\n",
    "avg_prec_score = round(avg_prec_score, 4)\n",
    "print('Precision of each fold - {}'.format(prec_score))\n",
    "\n",
    "avg_rec_score = sum(rec_score)/k\n",
    "avg_rec_score = round(avg_rec_score, 4)\n",
    "print('Recall of each fold - {}'.format(rec_score))\n",
    "\n",
    "avg_f1_score = sum(f1_scor)/k\n",
    "avg_f1_score = round(avg_f1_score, 4)\n",
    "print('F1 of each fold - {}'.format(f1_scor))\n",
    "\n",
    "print(\"Avg Accuracy Score: \", avg_acc_score)\n",
    "print(\"Avg Recall Score: \", avg_rec_score)\n",
    "print(\"Avg Precision Score: \", avg_prec_score)\n",
    "print(\"Avg F1 Score: \", avg_f1_score)\n",
    "\n",
    "\n",
    "\n",
    "\n",
    "\n"
   ]
  },
  {
   "cell_type": "code",
   "execution_count": 117,
   "metadata": {},
   "outputs": [],
   "source": [
    "#Independant and Dependent Variable\n",
    "y=dataset.iloc[:,12:13] #Dependent variable\n",
    "X=dataset.iloc[:,0:12] #Independent variable\n",
    "\n",
    "\n",
    "#Spliting the data into train and test\n",
    "from sklearn.model_selection import train_test_split\n",
    "X_train, X_test, y_train, y_test = train_test_split( X, y, test_size=0.3, random_state=42)\n",
    "\n",
    "#Scaling\n",
    "scaler = MinMaxScaler(feature_range=(0,1))\n",
    "X_train = scaler.fit_transform(X_train)\n",
    "X_test = scaler.transform(X_test) \n",
    "\n",
    "oversample = SMOTE()\n",
    "Xsmote, ysmote = oversample.fit_resample(X_train, y_train)"
   ]
  },
  {
   "cell_type": "code",
   "execution_count": 118,
   "metadata": {},
   "outputs": [
    {
     "data": {
      "text/plain": [
       "0    1394\n",
       "2    1394\n",
       "1    1394\n",
       "Name: Recommender, dtype: int64"
      ]
     },
     "execution_count": 118,
     "metadata": {},
     "output_type": "execute_result"
    }
   ],
   "source": [
    "ysmote['Recommender'].value_counts()"
   ]
  },
  {
   "cell_type": "code",
   "execution_count": 119,
   "metadata": {},
   "outputs": [
    {
     "name": "stdout",
     "output_type": "stream",
     "text": [
      "Parameters currently in use:\n",
      "\n",
      "{'bootstrap': True, 'ccp_alpha': 0.0, 'class_weight': None, 'criterion': 'gini', 'max_depth': None, 'max_features': 'auto', 'max_leaf_nodes': None, 'max_samples': None, 'min_impurity_decrease': 0.0, 'min_samples_leaf': 1, 'min_samples_split': 2, 'min_weight_fraction_leaf': 0.0, 'n_estimators': 100, 'n_jobs': None, 'oob_score': False, 'random_state': None, 'verbose': 0, 'warm_start': False}\n"
     ]
    }
   ],
   "source": [
    "# Look at parameters used by our current RF Model\n",
    "print('Parameters currently in use:\\n')\n",
    "print(rf.get_params())\n"
   ]
  },
  {
   "cell_type": "code",
   "execution_count": 120,
   "metadata": {},
   "outputs": [
    {
     "name": "stdout",
     "output_type": "stream",
     "text": [
      "{'n_estimators': [200, 400, 600, 800, 1000, 1200, 1400, 1600, 1800, 2000], 'max_features': ['auto', 'sqrt'], 'max_depth': [10, 20, 30, 40, 50, 60, 70, 80, 90, 100, 110, None], 'min_samples_split': [2, 5, 10], 'min_samples_leaf': [1, 2, 4]}\n"
     ]
    }
   ],
   "source": [
    "from sklearn.model_selection import RandomizedSearchCV\n",
    "\n",
    "#5 Most Important Hyper Parameters\n",
    "# Number of trees in random forest\n",
    "n_estimators = [int(x) for x in np.linspace(start = 200, stop = 2000, num = 10)]\n",
    "\n",
    "# Number of features to consider at every split\n",
    "max_features = ['auto', 'sqrt']\n",
    "\n",
    "# Maximum number of levels in tree\n",
    "max_depth = [int(x) for x in np.linspace(10, 110, num = 11)]\n",
    "max_depth.append(None)\n",
    "\n",
    "# Minimum number of samples required to split a node\n",
    "min_samples_split = [2, 5, 10]\n",
    "\n",
    "# Minimum number of samples required at each leaf node\n",
    "min_samples_leaf = [1, 2, 4]\n",
    "\n",
    "\n",
    "# Create the random grid\n",
    "random_grid = {'n_estimators': n_estimators,\n",
    "               'max_features': max_features,\n",
    "               'max_depth': max_depth,\n",
    "               'min_samples_split': min_samples_split,\n",
    "               'min_samples_leaf': min_samples_leaf,\n",
    "                }\n",
    "\n",
    "print(random_grid)"
   ]
  },
  {
   "cell_type": "code",
   "execution_count": 123,
   "metadata": {},
   "outputs": [
    {
     "name": "stdout",
     "output_type": "stream",
     "text": [
      "Fitting 3 folds for each of 100 candidates, totalling 300 fits\n"
     ]
    },
    {
     "name": "stderr",
     "output_type": "stream",
     "text": [
      "C:\\Users\\RAHUL\\AppData\\Local\\Programs\\Python\\Python39\\lib\\site-packages\\sklearn\\model_selection\\_search.py:926: DataConversionWarning: A column-vector y was passed when a 1d array was expected. Please change the shape of y to (n_samples,), for example using ravel().\n",
      "  self.best_estimator_.fit(X, y, **fit_params)\n"
     ]
    },
    {
     "data": {
      "text/plain": [
       "RandomizedSearchCV(cv=3, estimator=RandomForestClassifier(), n_iter=100,\n",
       "                   n_jobs=-1,\n",
       "                   param_distributions={'max_depth': [10, 20, 30, 40, 50, 60,\n",
       "                                                      70, 80, 90, 100, 110,\n",
       "                                                      None],\n",
       "                                        'max_features': ['auto', 'sqrt'],\n",
       "                                        'min_samples_leaf': [1, 2, 4],\n",
       "                                        'min_samples_split': [2, 5, 10],\n",
       "                                        'n_estimators': [200, 400, 600, 800,\n",
       "                                                         1000, 1200, 1400, 1600,\n",
       "                                                         1800, 2000]},\n",
       "                   random_state=42, verbose=2)"
      ]
     },
     "execution_count": 123,
     "metadata": {},
     "output_type": "execute_result"
    }
   ],
   "source": [
    "# Use the random grid to search for best hyperparameters\n",
    "# First create the base model to tune\n",
    "rf = RandomForestClassifier()\n",
    "\n",
    "# Random search of parameters, using 3 fold cross validation, \n",
    "rf_random_search = RandomizedSearchCV(estimator = rf, param_distributions = random_grid, n_iter = 100, cv = 3, verbose=2, random_state=42, n_jobs = -1)\n",
    "# Fit the random search model\n",
    "rf_random_search.fit(Xsmote, ysmote)"
   ]
  },
  {
   "cell_type": "code",
   "execution_count": 124,
   "metadata": {},
   "outputs": [
    {
     "name": "stdout",
     "output_type": "stream",
     "text": [
      "Best Parameters:  {'n_estimators': 800, 'min_samples_split': 2, 'min_samples_leaf': 1, 'max_features': 'sqrt', 'max_depth': None}  \n",
      "\n"
     ]
    }
   ],
   "source": [
    "#Random Search Best Paramters\n",
    "# print the best parameters\n",
    "print ('Best Parameters: ', rf_random_search.best_params_, ' \\n')"
   ]
  },
  {
   "cell_type": "code",
   "execution_count": 125,
   "metadata": {},
   "outputs": [
    {
     "name": "stdout",
     "output_type": "stream",
     "text": [
      "Accuracy Score : 0.9426666666666667\n",
      "Precision Score : 0.8609392082350725\n",
      "Recall Score :  0.9032695277732454\n",
      "TData F1 Score:  0.8797321676380795\n"
     ]
    }
   ],
   "source": [
    "# #Using best parameters to make predictions\n",
    "rs_rf = RandomForestClassifier(n_estimators= 800, min_samples_split= 2, min_samples_leaf= 1, max_features= 'sqrt', max_depth= None)\n",
    "rs_rf.fit(Xsmote, ysmote.values.ravel())\n",
    "\n",
    "#Accuracy\n",
    "y_pred = rs_rf.predict(X_test)\n",
    "\n",
    "accuracy = accuracy_score(y_pred , y_test)\n",
    "print(\"Accuracy Score :\", accuracy) \n",
    "#Precision\n",
    "test_precision = precision_score(y_test, y_pred,  average='macro')\n",
    "print(\"Precision Score :\", test_precision) \n",
    "#Recall\n",
    "test_recall = recall_score(y_test, y_pred,  average='macro')\n",
    "print(\"Recall Score : \", test_recall)\n",
    "#F1 Score\n",
    "test_f1 = f1_score(y_test, y_pred,average='macro')\n",
    "print(\"TData F1 Score: \", test_f1)"
   ]
  },
  {
   "cell_type": "code",
   "execution_count": 126,
   "metadata": {},
   "outputs": [
    {
     "data": {
      "text/plain": [
       "(2498, 12)"
      ]
     },
     "execution_count": 126,
     "metadata": {},
     "output_type": "execute_result"
    }
   ],
   "source": [
    "X.shape"
   ]
  },
  {
   "cell_type": "code",
   "execution_count": 127,
   "metadata": {},
   "outputs": [],
   "source": [
    "from sklearn.model_selection import GridSearchCV\n",
    "# Create the parameter grid based on the results of random search \n",
    "param_grid = {\n",
    "    'max_depth': [None, 20, 40, 60, 100],\n",
    "    'max_features': [2, 3],\n",
    "    'min_samples_leaf': [1, 2, 3, 4, 5],\n",
    "    'min_samples_split': [2, 4, 8, 10, 12],\n",
    "    'n_estimators': [600, 700, 800, 1000, 1200, 1300]\n",
    "}\n",
    "# Create a based model\n",
    "gs_rf = RandomForestClassifier()\n",
    "# Instantiate the grid search model\n",
    "grid_search = GridSearchCV(estimator = gs_rf, param_grid = param_grid, \n",
    "                          cv = 3, n_jobs = -1, verbose = 2)"
   ]
  },
  {
   "cell_type": "code",
   "execution_count": 129,
   "metadata": {},
   "outputs": [
    {
     "name": "stdout",
     "output_type": "stream",
     "text": [
      "Fitting 3 folds for each of 1500 candidates, totalling 4500 fits\n"
     ]
    },
    {
     "name": "stderr",
     "output_type": "stream",
     "text": [
      "C:\\Users\\RAHUL\\AppData\\Local\\Programs\\Python\\Python39\\lib\\site-packages\\sklearn\\model_selection\\_search.py:926: DataConversionWarning: A column-vector y was passed when a 1d array was expected. Please change the shape of y to (n_samples,), for example using ravel().\n",
      "  self.best_estimator_.fit(X, y, **fit_params)\n"
     ]
    },
    {
     "name": "stdout",
     "output_type": "stream",
     "text": [
      "Best Parameters:  {'max_depth': None, 'max_features': 3, 'min_samples_leaf': 1, 'min_samples_split': 4, 'n_estimators': 600}  \n",
      "\n"
     ]
    }
   ],
   "source": [
    "# Fit the grid search to the data\n",
    "grid_search.fit(Xsmote, ysmote)\n",
    "#Grid Search Best Paramters\n",
    "print ('Best Parameters: ', grid_search.best_params_, ' \\n')"
   ]
  },
  {
   "cell_type": "code",
   "execution_count": 130,
   "metadata": {},
   "outputs": [
    {
     "name": "stdout",
     "output_type": "stream",
     "text": [
      "Best Parameters:  {'max_depth': None, 'max_features': 3, 'min_samples_leaf': 1, 'min_samples_split': 4, 'n_estimators': 600}  \n",
      "\n"
     ]
    }
   ],
   "source": [
    "print ('Best Parameters: ', grid_search.best_params_, ' \\n')"
   ]
  },
  {
   "cell_type": "code",
   "execution_count": 136,
   "metadata": {},
   "outputs": [
    {
     "name": "stdout",
     "output_type": "stream",
     "text": [
      "Accuracy Score : 0.9426666666666667\n",
      "Precision Score : 0.8592040564938523\n",
      "Recall Score :  0.9056665886830525\n",
      "F1 Score:  0.8800809917802693\n"
     ]
    }
   ],
   "source": [
    "# #Using best parameters to make predictions\n",
    "gs_rf = RandomForestClassifier(max_depth= None, max_features= 3, min_samples_leaf= 1, min_samples_split= 2, n_estimators= 600)\n",
    "gs_rf.fit(Xsmote, ysmote.values.ravel())\n",
    "\n",
    "# max_depth= None, max_features= 'sqrt', min_samples_leaf= 1, min_samples_split= 4, n_estimators= 600\n",
    "# n_estimators= 800, min_samples_split= 2, min_samples_leaf= 1, max_features= 'sqrt', max_depth= None\n",
    "\n",
    "#Accuracy\n",
    "y_pred = gs_rf.predict(X_test)\n",
    "\n",
    "accuracy = accuracy_score(y_pred , y_test)\n",
    "print(\"Accuracy Score :\", accuracy) \n",
    "#Precision\n",
    "test_precision = precision_score(y_test, y_pred,  average='macro')\n",
    "print(\"Precision Score :\", test_precision) \n",
    "#Recall\n",
    "test_recall = recall_score(y_test, y_pred,  average='macro')\n",
    "print(\"Recall Score : \", test_recall)\n",
    "#F1 Score\n",
    "test_f1 = f1_score(y_test, y_pred,average='macro')\n",
    "print(\"F1 Score: \", test_f1)"
   ]
  },
  {
   "cell_type": "markdown",
   "metadata": {},
   "source": [
    "Saving Model and Testing Model on Google Stock Data"
   ]
  },
  {
   "cell_type": "code",
   "execution_count": 138,
   "metadata": {},
   "outputs": [],
   "source": [
    "import pickle\n",
    "\n",
    "rf_tuned_model = 'rf_tuned_model.sav'\n",
    "pickle.dump(gs_rf, open(rf_tuned_model, 'wb'))"
   ]
  },
  {
   "cell_type": "code",
   "execution_count": 200,
   "metadata": {},
   "outputs": [],
   "source": [
    "#Testing Model with different stock data\n",
    "\n",
    "#Scraping Dataset from Yahoo Finance using yfinance\n",
    "#Getting data for the Google Stock\n",
    "goog = yf.Ticker(\"GOOG\")\n",
    "\n",
    "\n",
    "# Google Historical Stock Prices (10 Year Period)\n",
    "goog.dataset = goog.history(period=\"10y\")\n"
   ]
  },
  {
   "cell_type": "code",
   "execution_count": 201,
   "metadata": {},
   "outputs": [
    {
     "data": {
      "text/html": [
       "<div>\n",
       "<style scoped>\n",
       "    .dataframe tbody tr th:only-of-type {\n",
       "        vertical-align: middle;\n",
       "    }\n",
       "\n",
       "    .dataframe tbody tr th {\n",
       "        vertical-align: top;\n",
       "    }\n",
       "\n",
       "    .dataframe thead th {\n",
       "        text-align: right;\n",
       "    }\n",
       "</style>\n",
       "<table border=\"1\" class=\"dataframe\">\n",
       "  <thead>\n",
       "    <tr style=\"text-align: right;\">\n",
       "      <th></th>\n",
       "      <th>Open</th>\n",
       "      <th>Close</th>\n",
       "      <th>High</th>\n",
       "      <th>Low</th>\n",
       "      <th>Volume</th>\n",
       "    </tr>\n",
       "    <tr>\n",
       "      <th>Date</th>\n",
       "      <th></th>\n",
       "      <th></th>\n",
       "      <th></th>\n",
       "      <th></th>\n",
       "      <th></th>\n",
       "    </tr>\n",
       "  </thead>\n",
       "  <tbody>\n",
       "    <tr>\n",
       "      <th>2022-04-28</th>\n",
       "      <td>2342.300049</td>\n",
       "      <td>2388.229980</td>\n",
       "      <td>2408.770020</td>\n",
       "      <td>2302.877930</td>\n",
       "      <td>1839500</td>\n",
       "    </tr>\n",
       "    <tr>\n",
       "      <th>2022-04-29</th>\n",
       "      <td>2351.560059</td>\n",
       "      <td>2299.330078</td>\n",
       "      <td>2379.199951</td>\n",
       "      <td>2293.879883</td>\n",
       "      <td>1683500</td>\n",
       "    </tr>\n",
       "    <tr>\n",
       "      <th>2022-05-02</th>\n",
       "      <td>2278.129883</td>\n",
       "      <td>2343.139893</td>\n",
       "      <td>2346.790039</td>\n",
       "      <td>2267.989990</td>\n",
       "      <td>1514000</td>\n",
       "    </tr>\n",
       "    <tr>\n",
       "      <th>2022-05-03</th>\n",
       "      <td>2335.300049</td>\n",
       "      <td>2362.590088</td>\n",
       "      <td>2386.000000</td>\n",
       "      <td>2332.540039</td>\n",
       "      <td>1060800</td>\n",
       "    </tr>\n",
       "    <tr>\n",
       "      <th>2022-05-04</th>\n",
       "      <td>2360.070068</td>\n",
       "      <td>2451.500000</td>\n",
       "      <td>2462.860107</td>\n",
       "      <td>2314.770020</td>\n",
       "      <td>1632735</td>\n",
       "    </tr>\n",
       "  </tbody>\n",
       "</table>\n",
       "</div>"
      ],
      "text/plain": [
       "                   Open        Close         High          Low   Volume\n",
       "Date                                                                   \n",
       "2022-04-28  2342.300049  2388.229980  2408.770020  2302.877930  1839500\n",
       "2022-04-29  2351.560059  2299.330078  2379.199951  2293.879883  1683500\n",
       "2022-05-02  2278.129883  2343.139893  2346.790039  2267.989990  1514000\n",
       "2022-05-03  2335.300049  2362.590088  2386.000000  2332.540039  1060800\n",
       "2022-05-04  2360.070068  2451.500000  2462.860107  2314.770020  1632735"
      ]
     },
     "execution_count": 201,
     "metadata": {},
     "output_type": "execute_result"
    }
   ],
   "source": [
    "#YFinance Bug- Dropped columns appears after being dropped so copying into new dataset\n",
    "dataset = goog.dataset [['Open', 'Close', 'High', 'Low','Volume']].copy()\n",
    "dataset.tail()\n"
   ]
  },
  {
   "cell_type": "code",
   "execution_count": 202,
   "metadata": {},
   "outputs": [],
   "source": [
    "# Calculating %K and %D\n",
    "dataset['14-high'] = dataset['High'].rolling(14).max()\n",
    "dataset['14-low'] = dataset['Low'].rolling(14).min()\n",
    "dataset['%K'] = (dataset['Close'] - dataset['14-low'])*100/(dataset['14-high'] - dataset['14-low'])\n",
    "dataset['%D'] = dataset['%K'].rolling(3).mean()\n",
    "\n",
    "#Dropping 14-HIGH AND 14-LOW COLUMNS\n",
    "dataset.drop(['14-high', '14-low'], axis = 1, inplace=True)"
   ]
  },
  {
   "cell_type": "code",
   "execution_count": 203,
   "metadata": {},
   "outputs": [],
   "source": [
    "def categorise_so(row):  \n",
    "    if row['%K'] <= 20 and row['%D'] <= 20:\n",
    "        return 'Buy'\n",
    "    elif row['%K'] >= 80 and  row['%D']>= 80:\n",
    "        return 'Sell'\n",
    "    else:\n",
    "        return 'Hold'\n",
    "\n",
    "    \n",
    "   \n",
    "dataset['SO Indicator'] = dataset.apply(lambda row: categorise_so(row), axis=1)"
   ]
  },
  {
   "cell_type": "code",
   "execution_count": 204,
   "metadata": {},
   "outputs": [],
   "source": [
    "delta = dataset['Close'].diff()\n",
    "up = delta.clip(lower=0)\n",
    "down = -1*delta.clip(upper=0)\n",
    "ema_up = up.ewm(com=13, adjust=False).mean()\n",
    "ema_down = down.ewm(com=13, adjust=False).mean()\n",
    "rs = ema_up/ema_down\n",
    "dataset['RSI'] = 100 - (100/(1 + rs))\n"
   ]
  },
  {
   "cell_type": "code",
   "execution_count": 205,
   "metadata": {},
   "outputs": [],
   "source": [
    "def categorise_rsi(row):  \n",
    "    if row['RSI'] <= 30:\n",
    "        return 'Buy'\n",
    "    elif row['RSI'] >= 70:\n",
    "        return 'Sell'\n",
    "    else:\n",
    "        return 'Hold'\n",
    "  \n",
    "dataset['RSI Indicator'] = dataset.apply(lambda row: categorise_rsi(row), axis=1)\n"
   ]
  },
  {
   "cell_type": "code",
   "execution_count": 206,
   "metadata": {},
   "outputs": [],
   "source": [
    "\n",
    "def get_sma(prices, rate):\n",
    "    return prices.rolling(rate).mean()\n",
    "\n",
    "def get_bollinger_bands(prices, rate=20):\n",
    "    # SMA for 20 Days (Middle Band)\n",
    "    sma = get_sma(prices, rate)\n",
    "    std = prices.rolling(rate).std()\n",
    "\n",
    "    # Calculating Upper Band\n",
    "    bollinger_upper = sma + (std * 2 )\n",
    "\n",
    "    # Calculate Lower Band\n",
    "    bollinger_lower = sma - (std * 2 )\n",
    "\n",
    "    #Middle Band\n",
    "    bollinger_middle = sma\n",
    "    return bollinger_upper, bollinger_lower, bollinger_middle\n",
    "\n",
    "closing_prices = dataset['Close']\n",
    "bollinger_upper, bollinger_lower, bollinger_middle = get_bollinger_bands(closing_prices)\n",
    "\n",
    "#Adding Bollinger Bands to the Dataset\n",
    "dataset['Bollinger_Upper'] = bollinger_upper\n",
    "dataset['Bollinger_Lower'] = bollinger_lower\n",
    "\n"
   ]
  },
  {
   "cell_type": "code",
   "execution_count": 207,
   "metadata": {},
   "outputs": [],
   "source": [
    "\n",
    "# Adding Buy/Sell Signals from Bollinger Bands Indicator\n",
    "def categorise_bollinger(row):  \n",
    "    if row['Close'] < row['Bollinger_Lower']:\n",
    "        return 'Buy'\n",
    "    elif row['Close'] > row['Bollinger_Upper']:\n",
    "        return 'Sell'\n",
    "    else:\n",
    "        return 'Hold'\n",
    "    \n",
    "   \n",
    "dataset['Bollinger Indicator'] = dataset.apply(lambda row: categorise_bollinger(row), axis=1)\n"
   ]
  },
  {
   "cell_type": "code",
   "execution_count": 208,
   "metadata": {},
   "outputs": [],
   "source": [
    "# Calculating the MACD Line and the Signal Line\n",
    "ema12 = dataset['Close'].ewm(span=12, adjust=False).mean()\n",
    "ema26 = dataset['Close'].ewm(span=26, adjust=False).mean()\n",
    "macd = ema12 - ema26\n",
    "signal = macd.ewm(span=9, adjust=False).mean()\n",
    "\n",
    "#Appeding the MACD and Signal Data to Dataset\n",
    "dataset['MACD'] = macd\n",
    "dataset['Signal'] = signal\n",
    "# Recommender Based on the three indicators\n",
    "def recommender(row): \n",
    "    # If All Share the Same Signal OutPut That Signal (Buy)\n",
    "    if row['RSI Indicator'] == \"Buy\" and row['SO Indicator'] == 'Buy' and  row['Bollinger Indicator'] == 'Buy':\n",
    "        return 'Buy'\n",
    "     # If Any 2 Indicators Share the Same Signal Output That Signal (buy)\n",
    "    elif row['RSI Indicator'] == 'Buy' and row['SO Indicator'] == 'Buy':\n",
    "        return 'Buy'\n",
    "    elif row['RSI Indicator'] == 'Buy' and row['Bollinger Indicator'] == 'Buy':\n",
    "        return 'Buy'\n",
    "    elif row['SO Indicator'] == 'Buy' and row['Bollinger Indicator'] == 'Buy':\n",
    "        return 'Buy'   \n",
    "    # If All Share the Same Signal Output That Signal (Sell)\n",
    "    elif row['RSI Indicator'] == 'Sell' and row['SO Indicator'] == 'Sell' and  row['Bollinger Indicator'] == 'Sell':\n",
    "        return 'Sell'\n",
    "    # If Any 2 Indicators Share the Same Signal Output That Signal (Sell)\n",
    "    elif row['RSI Indicator'] == 'Sell' and row['SO Indicator'] == 'Sell':\n",
    "        return 'Sell'\n",
    "    elif row['RSI Indicator'] == 'Sell' and row['Bollinger Indicator'] == 'Sell':\n",
    "        return 'Sell'\n",
    "    elif row['SO Indicator'] == 'Sell' and row['Bollinger Indicator'] == 'Sell':\n",
    "        return 'Sell'    \n",
    "    # If All Share the Same Signal OutPut That Signal (Hold)\n",
    "    elif row['RSI Indicator'] == 'Hold' and row['SO Indicator'] == 'Hold' and  row['Bollinger Indicator'] == 'Hold':\n",
    "        return 'Hold'\n",
    "    # If Any 2 Indicators Share the Same Signal Output That Signal (Hold)\n",
    "    elif row['RSI Indicator'] == 'Hold' and row['SO Indicator'] == 'Hold':\n",
    "        return 'Hold'\n",
    "    elif row['RSI Indicator'] == 'Hold' and row['Bollinger Indicator'] == 'Hold':\n",
    "        return 'Hold'\n",
    "    elif row['SO Indicator'] == 'Hold' and row['Bollinger Indicator'] == 'Hold':\n",
    "        return 'Hold'      \n",
    "    else:\n",
    "        return 'Unclassed'\n",
    "\n",
    "dataset['Recommender'] = dataset.apply(lambda row: recommender(row), axis=1)\n"
   ]
  },
  {
   "cell_type": "code",
   "execution_count": 209,
   "metadata": {},
   "outputs": [
    {
     "data": {
      "text/plain": [
       "Open                   0\n",
       "Close                  0\n",
       "High                   0\n",
       "Low                    0\n",
       "Volume                 0\n",
       "%K                     0\n",
       "%D                     0\n",
       "SO Indicator           0\n",
       "RSI                    0\n",
       "RSI Indicator          0\n",
       "Bollinger_Upper        0\n",
       "Bollinger_Lower        0\n",
       "Bollinger Indicator    0\n",
       "MACD                   0\n",
       "Signal                 0\n",
       "Recommender            0\n",
       "dtype: int64"
      ]
     },
     "execution_count": 209,
     "metadata": {},
     "output_type": "execute_result"
    }
   ],
   "source": [
    "#Dropping Null Values\n",
    "dataset = dataset.dropna()\n",
    "dataset.isna().sum()\n"
   ]
  },
  {
   "cell_type": "code",
   "execution_count": 210,
   "metadata": {},
   "outputs": [],
   "source": [
    "dataset.drop(['RSI Indicator', 'SO Indicator', 'Bollinger Indicator'], axis = 1, inplace=True)"
   ]
  },
  {
   "cell_type": "code",
   "execution_count": 211,
   "metadata": {},
   "outputs": [],
   "source": [
    "# #Encode Categorical Variables\n",
    "signal_dict = {'Hold': 0, 'Sell': 1, 'Buy': 2}\n",
    "\n",
    "dataset['Recommender'] = dataset['Recommender'].map(signal_dict)\n",
    "\n"
   ]
  },
  {
   "cell_type": "code",
   "execution_count": 212,
   "metadata": {},
   "outputs": [],
   "source": [
    "# #Splitting the dataset into training and test sets\n",
    "# #Feature Scaling\n",
    "from sklearn.preprocessing import MinMaxScaler\n",
    "from sklearn.model_selection import train_test_split\n",
    "# from imblearn.over_sampling import SMOTE\n",
    "\n",
    "#Independant and Dependent Variable\n",
    "y=dataset.iloc[:,12:13] #Dependent variable\n",
    "X=dataset.iloc[:,0:12] #Independent variable\n"
   ]
  },
  {
   "cell_type": "code",
   "execution_count": 214,
   "metadata": {},
   "outputs": [
    {
     "name": "stdout",
     "output_type": "stream",
     "text": [
      "<class 'pandas.core.frame.DataFrame'>\n",
      "DatetimeIndex: 2497 entries, 2012-06-04 to 2022-05-04\n",
      "Data columns (total 13 columns):\n",
      " #   Column           Non-Null Count  Dtype  \n",
      "---  ------           --------------  -----  \n",
      " 0   Open             2497 non-null   float64\n",
      " 1   Close            2497 non-null   float64\n",
      " 2   High             2497 non-null   float64\n",
      " 3   Low              2497 non-null   float64\n",
      " 4   Volume           2497 non-null   int64  \n",
      " 5   %K               2497 non-null   float64\n",
      " 6   %D               2497 non-null   float64\n",
      " 7   RSI              2497 non-null   float64\n",
      " 8   Bollinger_Upper  2497 non-null   float64\n",
      " 9   Bollinger_Lower  2497 non-null   float64\n",
      " 10  MACD             2497 non-null   float64\n",
      " 11  Signal           2497 non-null   float64\n",
      " 12  Recommender      2497 non-null   int64  \n",
      "dtypes: float64(11), int64(2)\n",
      "memory usage: 273.1 KB\n"
     ]
    }
   ],
   "source": [
    "#Dataframe after dopping null values\n",
    "dataset.info()"
   ]
  },
  {
   "cell_type": "code",
   "execution_count": 216,
   "metadata": {},
   "outputs": [],
   "source": [
    "#Spliting the data into train and test\n",
    "X_train, X_test, y_train, y_test = train_test_split( X, y, test_size=0.3, random_state=42)\n",
    "\n",
    "#Scaling\n",
    "scaler = MinMaxScaler(feature_range=(0,1))\n",
    "X_train = scaler.fit_transform(X_train)\n",
    "X_test = scaler.transform(X_test)"
   ]
  },
  {
   "cell_type": "code",
   "execution_count": 222,
   "metadata": {},
   "outputs": [
    {
     "name": "stdout",
     "output_type": "stream",
     "text": [
      "Accuracy Score : 0.9373333333333334\n",
      "Precision Score : 0.7941407821111945\n",
      "Recall Score :  0.9145034466520734\n",
      "F1 Score:  0.8252154717777175\n"
     ]
    }
   ],
   "source": [
    "#Loading Model\n",
    "loaded_model = pickle.load(open(rf_tuned_model, 'rb'))\n",
    "\n",
    "#Making Prediction with Model\n",
    "y_pred = loaded_model.predict(X_test)\n",
    "\n",
    "#Evaluate\n",
    "accuracy = accuracy_score(y_pred , y_test)\n",
    "print(\"Accuracy Score :\", accuracy) \n",
    "#Precision\n",
    "test_precision = precision_score(y_test, y_pred,  average='macro')\n",
    "print(\"Precision Score :\", test_precision) \n",
    "#Recall\n",
    "test_recall = recall_score(y_test, y_pred,  average='macro')\n",
    "print(\"Recall Score : \", test_recall)\n",
    "#F1 Score\n",
    "test_f1 = f1_score(y_test, y_pred,average='macro')\n",
    "print(\"F1 Score: \", test_f1)"
   ]
  },
  {
   "cell_type": "code",
   "execution_count": null,
   "metadata": {},
   "outputs": [],
   "source": []
  },
  {
   "cell_type": "code",
   "execution_count": null,
   "metadata": {},
   "outputs": [],
   "source": []
  },
  {
   "cell_type": "code",
   "execution_count": null,
   "metadata": {},
   "outputs": [],
   "source": []
  },
  {
   "cell_type": "code",
   "execution_count": null,
   "metadata": {},
   "outputs": [],
   "source": []
  },
  {
   "cell_type": "code",
   "execution_count": null,
   "metadata": {},
   "outputs": [],
   "source": []
  }
 ],
 "metadata": {
  "interpreter": {
   "hash": "e9292ea86ddae4deca668d01fcf516d5d89bf271153c9a9a4d4b10b3d781426d"
  },
  "kernelspec": {
   "display_name": "Python 3.9.7 64-bit",
   "language": "python",
   "name": "python3"
  },
  "language_info": {
   "codemirror_mode": {
    "name": "ipython",
    "version": 3
   },
   "file_extension": ".py",
   "mimetype": "text/x-python",
   "name": "python",
   "nbconvert_exporter": "python",
   "pygments_lexer": "ipython3",
   "version": "3.9.7"
  },
  "orig_nbformat": 4
 },
 "nbformat": 4,
 "nbformat_minor": 2
}
