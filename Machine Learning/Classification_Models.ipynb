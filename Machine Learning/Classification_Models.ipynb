{
 "cells": [
  {
   "cell_type": "code",
   "execution_count": 391,
   "metadata": {},
   "outputs": [],
   "source": [
    "#Libraries\n",
    "import numpy as np \n",
    "import pandas as pd \n",
    "import yfinance as yf\n",
    "import matplotlib.pyplot as plt\n",
    "from datetime import date\n",
    "import pandas_datareader as data\n",
    "from pandas_datareader import *\n",
    "import math\n",
    "import seaborn as sns\n",
    "import warnings\n",
    "warnings.simplefilter(action='ignore', category=FutureWarning)\n",
    "\n",
    "#Model\n",
    "#Models\n",
    "from sklearn.linear_model import LogisticRegression\n",
    "from sklearn.naive_bayes import GaussianNB\n",
    "from sklearn.linear_model import SGDClassifier\n",
    "from sklearn.neighbors import KNeighborsClassifier\n",
    "from sklearn.tree import DecisionTreeClassifier\n",
    "from sklearn.ensemble import RandomForestClassifier\n",
    "from sklearn.svm import SVC\n",
    "from sklearn.neural_network import MLPClassifier"
   ]
  },
  {
   "cell_type": "code",
   "execution_count": 392,
   "metadata": {},
   "outputs": [
    {
     "data": {
      "text/html": [
       "<div>\n",
       "<style scoped>\n",
       "    .dataframe tbody tr th:only-of-type {\n",
       "        vertical-align: middle;\n",
       "    }\n",
       "\n",
       "    .dataframe tbody tr th {\n",
       "        vertical-align: top;\n",
       "    }\n",
       "\n",
       "    .dataframe thead th {\n",
       "        text-align: right;\n",
       "    }\n",
       "</style>\n",
       "<table border=\"1\" class=\"dataframe\">\n",
       "  <thead>\n",
       "    <tr style=\"text-align: right;\">\n",
       "      <th></th>\n",
       "      <th>Open</th>\n",
       "      <th>High</th>\n",
       "      <th>Low</th>\n",
       "      <th>Close</th>\n",
       "      <th>Volume</th>\n",
       "      <th>Dividends</th>\n",
       "      <th>Stock Splits</th>\n",
       "    </tr>\n",
       "    <tr>\n",
       "      <th>Date</th>\n",
       "      <th></th>\n",
       "      <th></th>\n",
       "      <th></th>\n",
       "      <th></th>\n",
       "      <th></th>\n",
       "      <th></th>\n",
       "      <th></th>\n",
       "    </tr>\n",
       "  </thead>\n",
       "  <tbody>\n",
       "    <tr>\n",
       "      <th>2022-04-18</th>\n",
       "      <td>163.919998</td>\n",
       "      <td>166.600006</td>\n",
       "      <td>163.570007</td>\n",
       "      <td>165.070007</td>\n",
       "      <td>69023900</td>\n",
       "      <td>0.0</td>\n",
       "      <td>0.0</td>\n",
       "    </tr>\n",
       "    <tr>\n",
       "      <th>2022-04-19</th>\n",
       "      <td>165.020004</td>\n",
       "      <td>167.820007</td>\n",
       "      <td>163.910004</td>\n",
       "      <td>167.399994</td>\n",
       "      <td>67723800</td>\n",
       "      <td>0.0</td>\n",
       "      <td>0.0</td>\n",
       "    </tr>\n",
       "    <tr>\n",
       "      <th>2022-04-20</th>\n",
       "      <td>168.759995</td>\n",
       "      <td>168.880005</td>\n",
       "      <td>166.100006</td>\n",
       "      <td>167.229996</td>\n",
       "      <td>67929800</td>\n",
       "      <td>0.0</td>\n",
       "      <td>0.0</td>\n",
       "    </tr>\n",
       "    <tr>\n",
       "      <th>2022-04-21</th>\n",
       "      <td>168.910004</td>\n",
       "      <td>171.529999</td>\n",
       "      <td>165.910004</td>\n",
       "      <td>166.419998</td>\n",
       "      <td>87227800</td>\n",
       "      <td>0.0</td>\n",
       "      <td>0.0</td>\n",
       "    </tr>\n",
       "    <tr>\n",
       "      <th>2022-04-22</th>\n",
       "      <td>166.460007</td>\n",
       "      <td>167.869995</td>\n",
       "      <td>161.500000</td>\n",
       "      <td>161.789993</td>\n",
       "      <td>84775200</td>\n",
       "      <td>0.0</td>\n",
       "      <td>0.0</td>\n",
       "    </tr>\n",
       "    <tr>\n",
       "      <th>2022-04-25</th>\n",
       "      <td>161.119995</td>\n",
       "      <td>163.169998</td>\n",
       "      <td>158.460007</td>\n",
       "      <td>162.880005</td>\n",
       "      <td>96046400</td>\n",
       "      <td>0.0</td>\n",
       "      <td>0.0</td>\n",
       "    </tr>\n",
       "    <tr>\n",
       "      <th>2022-04-26</th>\n",
       "      <td>162.250000</td>\n",
       "      <td>162.339996</td>\n",
       "      <td>156.720001</td>\n",
       "      <td>156.800003</td>\n",
       "      <td>95623200</td>\n",
       "      <td>0.0</td>\n",
       "      <td>0.0</td>\n",
       "    </tr>\n",
       "    <tr>\n",
       "      <th>2022-04-27</th>\n",
       "      <td>155.910004</td>\n",
       "      <td>159.789993</td>\n",
       "      <td>155.380005</td>\n",
       "      <td>156.570007</td>\n",
       "      <td>88063200</td>\n",
       "      <td>0.0</td>\n",
       "      <td>0.0</td>\n",
       "    </tr>\n",
       "    <tr>\n",
       "      <th>2022-04-28</th>\n",
       "      <td>159.250000</td>\n",
       "      <td>164.520004</td>\n",
       "      <td>158.929993</td>\n",
       "      <td>163.639999</td>\n",
       "      <td>115586400</td>\n",
       "      <td>0.0</td>\n",
       "      <td>0.0</td>\n",
       "    </tr>\n",
       "    <tr>\n",
       "      <th>2022-04-29</th>\n",
       "      <td>161.839996</td>\n",
       "      <td>166.199997</td>\n",
       "      <td>159.589996</td>\n",
       "      <td>159.750000</td>\n",
       "      <td>79660339</td>\n",
       "      <td>0.0</td>\n",
       "      <td>0.0</td>\n",
       "    </tr>\n",
       "  </tbody>\n",
       "</table>\n",
       "</div>"
      ],
      "text/plain": [
       "                  Open        High         Low       Close     Volume  \\\n",
       "Date                                                                    \n",
       "2022-04-18  163.919998  166.600006  163.570007  165.070007   69023900   \n",
       "2022-04-19  165.020004  167.820007  163.910004  167.399994   67723800   \n",
       "2022-04-20  168.759995  168.880005  166.100006  167.229996   67929800   \n",
       "2022-04-21  168.910004  171.529999  165.910004  166.419998   87227800   \n",
       "2022-04-22  166.460007  167.869995  161.500000  161.789993   84775200   \n",
       "2022-04-25  161.119995  163.169998  158.460007  162.880005   96046400   \n",
       "2022-04-26  162.250000  162.339996  156.720001  156.800003   95623200   \n",
       "2022-04-27  155.910004  159.789993  155.380005  156.570007   88063200   \n",
       "2022-04-28  159.250000  164.520004  158.929993  163.639999  115586400   \n",
       "2022-04-29  161.839996  166.199997  159.589996  159.750000   79660339   \n",
       "\n",
       "            Dividends  Stock Splits  \n",
       "Date                                 \n",
       "2022-04-18        0.0           0.0  \n",
       "2022-04-19        0.0           0.0  \n",
       "2022-04-20        0.0           0.0  \n",
       "2022-04-21        0.0           0.0  \n",
       "2022-04-22        0.0           0.0  \n",
       "2022-04-25        0.0           0.0  \n",
       "2022-04-26        0.0           0.0  \n",
       "2022-04-27        0.0           0.0  \n",
       "2022-04-28        0.0           0.0  \n",
       "2022-04-29        0.0           0.0  "
      ]
     },
     "execution_count": 392,
     "metadata": {},
     "output_type": "execute_result"
    }
   ],
   "source": [
    "#Scraping Dataset from Yahoo Finance using yfinance\n",
    "#Getting data for the Apple Stock\n",
    "aapl = yf.Ticker(\"AAPL\")\n",
    "\n",
    "# Apple Company Information\n",
    "# aapl.info\n",
    "\n",
    "# Apple's Historical Stock Prices (10 Year Period)\n",
    "aapl.dataset = aapl.history(period=\"10y\")\n",
    "\n",
    "aapl.dataset.tail(10)"
   ]
  },
  {
   "cell_type": "code",
   "execution_count": 393,
   "metadata": {},
   "outputs": [
    {
     "data": {
      "text/plain": [
       "(2518, 7)"
      ]
     },
     "execution_count": 393,
     "metadata": {},
     "output_type": "execute_result"
    }
   ],
   "source": [
    "#Dataframe basic information on rows and columns\n",
    "aapl.dataset.shape"
   ]
  },
  {
   "cell_type": "code",
   "execution_count": 394,
   "metadata": {},
   "outputs": [
    {
     "data": {
      "text/html": [
       "<div>\n",
       "<style scoped>\n",
       "    .dataframe tbody tr th:only-of-type {\n",
       "        vertical-align: middle;\n",
       "    }\n",
       "\n",
       "    .dataframe tbody tr th {\n",
       "        vertical-align: top;\n",
       "    }\n",
       "\n",
       "    .dataframe thead th {\n",
       "        text-align: right;\n",
       "    }\n",
       "</style>\n",
       "<table border=\"1\" class=\"dataframe\">\n",
       "  <thead>\n",
       "    <tr style=\"text-align: right;\">\n",
       "      <th></th>\n",
       "      <th>Open</th>\n",
       "      <th>High</th>\n",
       "      <th>Low</th>\n",
       "      <th>Close</th>\n",
       "      <th>Volume</th>\n",
       "    </tr>\n",
       "    <tr>\n",
       "      <th>Date</th>\n",
       "      <th></th>\n",
       "      <th></th>\n",
       "      <th></th>\n",
       "      <th></th>\n",
       "      <th></th>\n",
       "    </tr>\n",
       "  </thead>\n",
       "  <tbody>\n",
       "    <tr>\n",
       "      <th>2012-04-30</th>\n",
       "      <td>18.281457</td>\n",
       "      <td>18.299806</td>\n",
       "      <td>17.828854</td>\n",
       "      <td>17.858824</td>\n",
       "      <td>506144800</td>\n",
       "    </tr>\n",
       "    <tr>\n",
       "      <th>2012-05-01</th>\n",
       "      <td>17.886958</td>\n",
       "      <td>18.249651</td>\n",
       "      <td>17.774725</td>\n",
       "      <td>17.802248</td>\n",
       "      <td>610999200</td>\n",
       "    </tr>\n",
       "    <tr>\n",
       "      <th>2012-05-02</th>\n",
       "      <td>17.744443</td>\n",
       "      <td>17.963405</td>\n",
       "      <td>17.702241</td>\n",
       "      <td>17.919979</td>\n",
       "      <td>427389200</td>\n",
       "    </tr>\n",
       "    <tr>\n",
       "      <th>2012-05-03</th>\n",
       "      <td>18.058217</td>\n",
       "      <td>18.085740</td>\n",
       "      <td>17.746287</td>\n",
       "      <td>17.792770</td>\n",
       "      <td>390549600</td>\n",
       "    </tr>\n",
       "    <tr>\n",
       "      <th>2012-05-04</th>\n",
       "      <td>17.647810</td>\n",
       "      <td>17.686953</td>\n",
       "      <td>17.283587</td>\n",
       "      <td>17.286034</td>\n",
       "      <td>529992400</td>\n",
       "    </tr>\n",
       "    <tr>\n",
       "      <th>...</th>\n",
       "      <td>...</td>\n",
       "      <td>...</td>\n",
       "      <td>...</td>\n",
       "      <td>...</td>\n",
       "      <td>...</td>\n",
       "    </tr>\n",
       "    <tr>\n",
       "      <th>2022-04-25</th>\n",
       "      <td>161.119995</td>\n",
       "      <td>163.169998</td>\n",
       "      <td>158.460007</td>\n",
       "      <td>162.880005</td>\n",
       "      <td>96046400</td>\n",
       "    </tr>\n",
       "    <tr>\n",
       "      <th>2022-04-26</th>\n",
       "      <td>162.250000</td>\n",
       "      <td>162.339996</td>\n",
       "      <td>156.720001</td>\n",
       "      <td>156.800003</td>\n",
       "      <td>95623200</td>\n",
       "    </tr>\n",
       "    <tr>\n",
       "      <th>2022-04-27</th>\n",
       "      <td>155.910004</td>\n",
       "      <td>159.789993</td>\n",
       "      <td>155.380005</td>\n",
       "      <td>156.570007</td>\n",
       "      <td>88063200</td>\n",
       "    </tr>\n",
       "    <tr>\n",
       "      <th>2022-04-28</th>\n",
       "      <td>159.250000</td>\n",
       "      <td>164.520004</td>\n",
       "      <td>158.929993</td>\n",
       "      <td>163.639999</td>\n",
       "      <td>115586400</td>\n",
       "    </tr>\n",
       "    <tr>\n",
       "      <th>2022-04-29</th>\n",
       "      <td>161.839996</td>\n",
       "      <td>166.199997</td>\n",
       "      <td>159.589996</td>\n",
       "      <td>159.750000</td>\n",
       "      <td>79660339</td>\n",
       "    </tr>\n",
       "  </tbody>\n",
       "</table>\n",
       "<p>2518 rows × 5 columns</p>\n",
       "</div>"
      ],
      "text/plain": [
       "                  Open        High         Low       Close     Volume\n",
       "Date                                                                 \n",
       "2012-04-30   18.281457   18.299806   17.828854   17.858824  506144800\n",
       "2012-05-01   17.886958   18.249651   17.774725   17.802248  610999200\n",
       "2012-05-02   17.744443   17.963405   17.702241   17.919979  427389200\n",
       "2012-05-03   18.058217   18.085740   17.746287   17.792770  390549600\n",
       "2012-05-04   17.647810   17.686953   17.283587   17.286034  529992400\n",
       "...                ...         ...         ...         ...        ...\n",
       "2022-04-25  161.119995  163.169998  158.460007  162.880005   96046400\n",
       "2022-04-26  162.250000  162.339996  156.720001  156.800003   95623200\n",
       "2022-04-27  155.910004  159.789993  155.380005  156.570007   88063200\n",
       "2022-04-28  159.250000  164.520004  158.929993  163.639999  115586400\n",
       "2022-04-29  161.839996  166.199997  159.589996  159.750000   79660339\n",
       "\n",
       "[2518 rows x 5 columns]"
      ]
     },
     "execution_count": 394,
     "metadata": {},
     "output_type": "execute_result"
    }
   ],
   "source": [
    "#Dropped Columns 'Dividends' and 'Stock Splits'\n",
    "aapl.dataset.drop(['Dividends', 'Stock Splits'], axis=1)"
   ]
  },
  {
   "cell_type": "code",
   "execution_count": 395,
   "metadata": {},
   "outputs": [
    {
     "data": {
      "text/html": [
       "<div>\n",
       "<style scoped>\n",
       "    .dataframe tbody tr th:only-of-type {\n",
       "        vertical-align: middle;\n",
       "    }\n",
       "\n",
       "    .dataframe tbody tr th {\n",
       "        vertical-align: top;\n",
       "    }\n",
       "\n",
       "    .dataframe thead th {\n",
       "        text-align: right;\n",
       "    }\n",
       "</style>\n",
       "<table border=\"1\" class=\"dataframe\">\n",
       "  <thead>\n",
       "    <tr style=\"text-align: right;\">\n",
       "      <th></th>\n",
       "      <th>Open</th>\n",
       "      <th>Close</th>\n",
       "      <th>High</th>\n",
       "      <th>Low</th>\n",
       "      <th>Volume</th>\n",
       "    </tr>\n",
       "    <tr>\n",
       "      <th>Date</th>\n",
       "      <th></th>\n",
       "      <th></th>\n",
       "      <th></th>\n",
       "      <th></th>\n",
       "      <th></th>\n",
       "    </tr>\n",
       "  </thead>\n",
       "  <tbody>\n",
       "    <tr>\n",
       "      <th>2022-04-25</th>\n",
       "      <td>161.119995</td>\n",
       "      <td>162.880005</td>\n",
       "      <td>163.169998</td>\n",
       "      <td>158.460007</td>\n",
       "      <td>96046400</td>\n",
       "    </tr>\n",
       "    <tr>\n",
       "      <th>2022-04-26</th>\n",
       "      <td>162.250000</td>\n",
       "      <td>156.800003</td>\n",
       "      <td>162.339996</td>\n",
       "      <td>156.720001</td>\n",
       "      <td>95623200</td>\n",
       "    </tr>\n",
       "    <tr>\n",
       "      <th>2022-04-27</th>\n",
       "      <td>155.910004</td>\n",
       "      <td>156.570007</td>\n",
       "      <td>159.789993</td>\n",
       "      <td>155.380005</td>\n",
       "      <td>88063200</td>\n",
       "    </tr>\n",
       "    <tr>\n",
       "      <th>2022-04-28</th>\n",
       "      <td>159.250000</td>\n",
       "      <td>163.639999</td>\n",
       "      <td>164.520004</td>\n",
       "      <td>158.929993</td>\n",
       "      <td>115586400</td>\n",
       "    </tr>\n",
       "    <tr>\n",
       "      <th>2022-04-29</th>\n",
       "      <td>161.839996</td>\n",
       "      <td>159.750000</td>\n",
       "      <td>166.199997</td>\n",
       "      <td>159.589996</td>\n",
       "      <td>79660339</td>\n",
       "    </tr>\n",
       "  </tbody>\n",
       "</table>\n",
       "</div>"
      ],
      "text/plain": [
       "                  Open       Close        High         Low     Volume\n",
       "Date                                                                 \n",
       "2022-04-25  161.119995  162.880005  163.169998  158.460007   96046400\n",
       "2022-04-26  162.250000  156.800003  162.339996  156.720001   95623200\n",
       "2022-04-27  155.910004  156.570007  159.789993  155.380005   88063200\n",
       "2022-04-28  159.250000  163.639999  164.520004  158.929993  115586400\n",
       "2022-04-29  161.839996  159.750000  166.199997  159.589996   79660339"
      ]
     },
     "execution_count": 395,
     "metadata": {},
     "output_type": "execute_result"
    }
   ],
   "source": [
    "#YFinance Bug- Dropped columns appears after being dropped so copying into new dataset\n",
    "dataset = aapl.dataset [['Open', 'Close', 'High', 'Low','Volume']].copy()\n",
    "dataset.tail()"
   ]
  },
  {
   "cell_type": "markdown",
   "metadata": {},
   "source": [
    "ADDING TECHNICAL INDICATORS TO DATASET"
   ]
  },
  {
   "cell_type": "markdown",
   "metadata": {},
   "source": [
    "Stochastic Oscillator Indicator"
   ]
  },
  {
   "cell_type": "code",
   "execution_count": 396,
   "metadata": {},
   "outputs": [],
   "source": [
    "# Calculating %K and %D\n",
    "dataset['14-high'] = dataset['High'].rolling(14).max()\n",
    "dataset['14-low'] = dataset['Low'].rolling(14).min()\n",
    "dataset['%K'] = (dataset['Close'] - dataset['14-low'])*100/(dataset['14-high'] - dataset['14-low'])\n",
    "dataset['%D'] = dataset['%K'].rolling(3).mean()\n"
   ]
  },
  {
   "cell_type": "code",
   "execution_count": 397,
   "metadata": {},
   "outputs": [],
   "source": [
    "#Dropping 14-HIGH AND 14-LOW COLUMNS\n",
    "dataset.drop(['14-high', '14-low'], axis = 1, inplace=True)"
   ]
  },
  {
   "cell_type": "code",
   "execution_count": 398,
   "metadata": {},
   "outputs": [
    {
     "data": {
      "image/png": "[encoded data removed]",
      "text/plain": [
       "<Figure size 864x360 with 1 Axes>"
      ]
     },
     "metadata": {},
     "output_type": "display_data"
    }
   ],
   "source": [
    "#Plotting SO Graph\n",
    "plt.figure(figsize=(12, 5))\n",
    "plt.title(' Stochastic Oscillator for AAPL')\n",
    "plt.xlabel('Months')\n",
    "plt.plot(dataset['%K'], label='%K', c='black')\n",
    "plt.plot(dataset['%D'], label='%D',  c='yellow')\n",
    "plt.axhline(20, linestyle='--', color=\"r\")\n",
    "plt.axhline(80, linestyle=\"--\", color=\"r\")\n",
    "plt.legend()\n",
    "plt.show()\n"
   ]
  },
  {
   "cell_type": "code",
   "execution_count": 399,
   "metadata": {},
   "outputs": [],
   "source": [
    "# Adding Buy/Sell Signals from Sotchastic Oscillator Indicator\n",
    "def categorise_so(row):  \n",
    "    if row['%K'] <= 20 and row['%D'] <= 20:\n",
    "        return 'Buy'\n",
    "    elif row['%K'] >= 80 and  row['%D']>= 80:\n",
    "        return 'Sell'\n",
    "    else:\n",
    "        return 'Hold'\n",
    "\n",
    "    \n",
    "   \n",
    "dataset['SO Indicator'] = dataset.apply(lambda row: categorise_so(row), axis=1)\n"
   ]
  },
  {
   "cell_type": "code",
   "execution_count": 400,
   "metadata": {},
   "outputs": [
    {
     "name": "stdout",
     "output_type": "stream",
     "text": [
      "Hold    1553\n",
      "Sell     725\n",
      "Buy      240\n",
      "Name: SO Indicator, dtype: int64\n"
     ]
    }
   ],
   "source": [
    "# Distrubition of the Indicator\n",
    "print(dataset['SO Indicator'].value_counts())"
   ]
  },
  {
   "cell_type": "code",
   "execution_count": 401,
   "metadata": {},
   "outputs": [
    {
     "data": {
      "image/png": "[encoded data removed]",
      "text/plain": [
       "<Figure size 576x396 with 1 Axes>"
      ]
     },
     "metadata": {},
     "output_type": "display_data"
    }
   ],
   "source": [
    "#Distrubition of the SO Indicator\n",
    "labels = [\"Hold\", \"Sell\", \"Buy\"]\n",
    "values = dataset['SO Indicator'].value_counts().tolist()\n",
    "colours = sns.color_palette(\"pastel\")\n",
    "plt.pie(x=values, labels=labels, autopct='%.0f%%', colors= colours, shadow=True, rotatelabels='true')\n",
    "plt.title(\"Distribution of Buy/Sell/Hold Signals from SO\")\n",
    "plt.show()"
   ]
  },
  {
   "cell_type": "markdown",
   "metadata": {},
   "source": [
    "Relative Strength Index"
   ]
  },
  {
   "cell_type": "code",
   "execution_count": 402,
   "metadata": {},
   "outputs": [],
   "source": [
    "delta = dataset['Close'].diff()\n",
    "up = delta.clip(lower=0)\n",
    "down = -1*delta.clip(upper=0)\n",
    "ema_up = up.ewm(com=13, adjust=False).mean()\n",
    "ema_down = down.ewm(com=13, adjust=False).mean()\n",
    "rs = ema_up/ema_down\n",
    "dataset['RSI'] = 100 - (100/(1 + rs))"
   ]
  },
  {
   "cell_type": "code",
   "execution_count": 403,
   "metadata": {},
   "outputs": [
    {
     "data": {
      "image/png": "[encoded data removed]",
      "text/plain": [
       "<Figure size 864x360 with 1 Axes>"
      ]
     },
     "metadata": {},
     "output_type": "display_data"
    }
   ],
   "source": [
    "#Plotting RSI Graph\n",
    "plt.figure(figsize=(12, 5))\n",
    "plt.title(' RSI for AAPL')\n",
    "plt.xlabel('Months')\n",
    "plt.plot(dataset['RSI'], label='RSI')\n",
    "plt.axhline(30, linestyle='--', color=\"r\")\n",
    "plt.axhline(70, linestyle=\"--\", color=\"r\")\n",
    "plt.legend()\n",
    "plt.show()\n",
    "\n"
   ]
  },
  {
   "cell_type": "code",
   "execution_count": 404,
   "metadata": {},
   "outputs": [],
   "source": [
    "# Adding Buy/Sell Signals from RSI Indicator\n",
    "def categorise_rsi(row):  \n",
    "    if row['RSI'] <= 30:\n",
    "        return 'Buy'\n",
    "    elif row['RSI'] >= 70:\n",
    "        return 'Sell'\n",
    "    else:\n",
    "        return 'Hold'\n",
    "  \n",
    "dataset['RSI Indicator'] = dataset.apply(lambda row: categorise_rsi(row), axis=1)"
   ]
  },
  {
   "cell_type": "code",
   "execution_count": 405,
   "metadata": {},
   "outputs": [
    {
     "name": "stdout",
     "output_type": "stream",
     "text": [
      "Hold    2080\n",
      "Sell     362\n",
      "Buy       76\n",
      "Name: RSI Indicator, dtype: int64\n"
     ]
    }
   ],
   "source": [
    "# Distrubition of the Indicator\n",
    "print(dataset['RSI Indicator'].value_counts())"
   ]
  },
  {
   "cell_type": "code",
   "execution_count": 406,
   "metadata": {},
   "outputs": [
    {
     "data": {
      "image/png": "[encoded data removed]",
      "text/plain": [
       "<Figure size 576x396 with 1 Axes>"
      ]
     },
     "metadata": {},
     "output_type": "display_data"
    }
   ],
   "source": [
    "#Distrubition of the Indicator\n",
    "labels = [\"Hold\", \"Sell\", \"Buy\"]\n",
    "values = dataset['RSI Indicator'].value_counts().tolist()\n",
    "plt.style.use(\"seaborn\")\n",
    "colours = sns.color_palette(\"Set3\")\n",
    "plt.pie(x=values, labels=labels, autopct='%.0f%%', colors= colours, shadow=True, rotatelabels='true')\n",
    "plt.title(\"Distribution of Buy/Sell/Hold Signals from RSI\", fontdict={'fontsize': 14})\n",
    "plt.show()"
   ]
  },
  {
   "cell_type": "markdown",
   "metadata": {},
   "source": [
    "Bollinger Bands"
   ]
  },
  {
   "cell_type": "code",
   "execution_count": 407,
   "metadata": {},
   "outputs": [
    {
     "data": {
      "image/png": "[encoded data removed]",
      "text/plain": [
       "<Figure size 864x360 with 1 Axes>"
      ]
     },
     "metadata": {},
     "output_type": "display_data"
    }
   ],
   "source": [
    "def get_sma(prices, rate):\n",
    "    return prices.rolling(rate).mean()\n",
    "\n",
    "def get_bollinger_bands(prices, rate=20):\n",
    "    # SMA for 20 Days (Middle Band)\n",
    "    sma = get_sma(prices, rate)\n",
    "    std = prices.rolling(rate).std()\n",
    "\n",
    "    # Calculating Upper Band\n",
    "    bollinger_upper = sma + (std * 2 )\n",
    "\n",
    "    # Calculate Lower Band\n",
    "    bollinger_lower = sma - (std * 2 )\n",
    "\n",
    "    #Middle Band\n",
    "    bollinger_middle = sma\n",
    "    return bollinger_upper, bollinger_lower, bollinger_middle\n",
    "\n",
    "\n",
    "closing_prices = dataset['Close']\n",
    "bollinger_upper, bollinger_lower, bollinger_middle = get_bollinger_bands(closing_prices)\n",
    "\n",
    "#Plotting the  Bollinger Bands\n",
    "plt.figure(figsize=(12, 5))\n",
    "plt.title(' Bollinger Bands for AAPL')\n",
    "plt.xlabel('Months')\n",
    "plt.ylabel('Closing Prices')\n",
    "plt.plot(closing_prices, label='Price')\n",
    "plt.plot(bollinger_upper, label='Upper Band', c='g')\n",
    "plt.plot(bollinger_lower, label='Lower Band', c='r')\n",
    "plt.plot(bollinger_middle, label='Middle Band', c='y')\n",
    "\n",
    "plt.legend()\n",
    "plt.show()"
   ]
  },
  {
   "cell_type": "code",
   "execution_count": 408,
   "metadata": {},
   "outputs": [],
   "source": [
    "#Adding Bollinger Bands to the Dataset\n",
    "dataset['Bollinger_Upper'] = bollinger_upper\n",
    "dataset['Bollinger_Lower'] = bollinger_lower\n"
   ]
  },
  {
   "cell_type": "code",
   "execution_count": 409,
   "metadata": {},
   "outputs": [],
   "source": [
    "# Adding Buy/Sell Signals from Bollinger Bands Indicator\n",
    "def categorise_bollinger(row):  \n",
    "    if row['Close'] < row['Bollinger_Lower']:\n",
    "        return 'Buy'\n",
    "    elif row['Close'] > row['Bollinger_Upper']:\n",
    "        return 'Sell'\n",
    "    else:\n",
    "        return 'Hold'\n",
    "    \n",
    "   \n",
    "dataset['Bollinger Indicator'] = dataset.apply(lambda row: categorise_bollinger(row), axis=1)\n"
   ]
  },
  {
   "cell_type": "code",
   "execution_count": 410,
   "metadata": {},
   "outputs": [
    {
     "name": "stdout",
     "output_type": "stream",
     "text": [
      "Hold    2220\n",
      "Sell     188\n",
      "Buy      110\n",
      "Name: Bollinger Indicator, dtype: int64\n"
     ]
    }
   ],
   "source": [
    "# Distrubition of the Indicator\n",
    "print(dataset['Bollinger Indicator'].value_counts())"
   ]
  },
  {
   "cell_type": "code",
   "execution_count": 411,
   "metadata": {},
   "outputs": [
    {
     "data": {
      "image/png": "[encoded data removed]",
      "text/plain": [
       "<Figure size 576x396 with 1 Axes>"
      ]
     },
     "metadata": {},
     "output_type": "display_data"
    }
   ],
   "source": [
    "#Distrubition of the Indicator\n",
    "labels = [\"Hold\", \"Sell\", \"Buy\"]\n",
    "values = dataset['Bollinger Indicator'].value_counts().tolist()\n",
    "plt.style.use(\"seaborn\")\n",
    "colours = sns.color_palette(\"Set2\")\n",
    "plt.pie(x=values, labels=labels, autopct='%.0f%%', colors= colours, shadow=True, rotatelabels='true')\n",
    "plt.title(\"Distribution of Buy/Sell/Hold Signals from Bollinger Indicator\", fontdict={'fontsize': 14})\n",
    "plt.show()"
   ]
  },
  {
   "cell_type": "markdown",
   "metadata": {},
   "source": [
    "Moving Average Convergence Divergence"
   ]
  },
  {
   "cell_type": "code",
   "execution_count": 412,
   "metadata": {},
   "outputs": [],
   "source": [
    "# Calculating the MACD Line and the Signal Line\n",
    "ema12 = dataset['Close'].ewm(span=12, adjust=False).mean()\n",
    "ema26 = dataset['Close'].ewm(span=26, adjust=False).mean()\n",
    "macd = ema12 - ema26\n",
    "signal = macd.ewm(span=9, adjust=False).mean()\n",
    "\n",
    "\n",
    "#Appeding the MACD and Signal Data to Dataset\n",
    "dataset['MACD'] = macd\n",
    "dataset['Signal'] = signal\n"
   ]
  },
  {
   "cell_type": "code",
   "execution_count": 413,
   "metadata": {},
   "outputs": [],
   "source": [
    "# Adding Buy/Sell Signals from MACD\n",
    "signal = []\n",
    "\n",
    "for i in range(len(dataset)):\n",
    "   if dataset['MACD'][i] > dataset['Signal'][i] and dataset['MACD'][i-1] < dataset['Signal'][i-1]:\n",
    "      signal.append('Buy')\n",
    "   elif dataset['MACD'][i] < dataset['Signal'][i] and dataset['MACD'][i-1] > dataset['Signal'][i-1]:\n",
    "      signal.append('Sell')\n",
    "   else:\n",
    "      signal.append('Hold')\n",
    "\n",
    "  \n",
    "    \n",
    "dataset['MACD Indicator'] = signal"
   ]
  },
  {
   "cell_type": "code",
   "execution_count": 414,
   "metadata": {},
   "outputs": [
    {
     "name": "stdout",
     "output_type": "stream",
     "text": [
      "Hold    2342\n",
      "Buy       88\n",
      "Sell      88\n",
      "Name: MACD Indicator, dtype: int64\n"
     ]
    }
   ],
   "source": [
    "# Distrubition of the Indicator\n",
    "print(dataset['MACD Indicator'].value_counts())"
   ]
  },
  {
   "cell_type": "code",
   "execution_count": 415,
   "metadata": {},
   "outputs": [
    {
     "data": {
      "image/png": "[encoded data removed]",
      "text/plain": [
       "<Figure size 576x396 with 1 Axes>"
      ]
     },
     "metadata": {},
     "output_type": "display_data"
    }
   ],
   "source": [
    "#Distrubition of the MACD Indicator\n",
    "labels = [\"Hold\", \"Sell\", \"Buy\"]\n",
    "values = dataset['MACD Indicator'].value_counts().tolist()\n",
    "colours = sns.color_palette(\"pastel\", 10)\n",
    "plt.pie(x=values, labels=labels, autopct='%.0f%%', colors= colours, shadow=True, rotatelabels='true')\n",
    "plt.title(\"Distribution of Buy/Sell/Hold Signals from MACD Indicator\", fontdict={'fontsize': 14})\n",
    "plt.show()"
   ]
  },
  {
   "cell_type": "markdown",
   "metadata": {},
   "source": [
    "Addding Target Variable"
   ]
  },
  {
   "cell_type": "code",
   "execution_count": 416,
   "metadata": {},
   "outputs": [],
   "source": [
    "# Recommender Based on the three indicators\n",
    "def recommender(row): \n",
    "    # If All Share the Same Signal OutPut That Signal (Buy)\n",
    "    if row['RSI Indicator'] == \"Buy\" and row['SO Indicator'] == 'Buy' and  row['Bollinger Indicator'] == 'Buy':\n",
    "        return 'Buy'\n",
    "     # If Any 2 Indicators Share the Same Signal Output That Signal (buy)\n",
    "    elif row['RSI Indicator'] == 'Buy' and row['SO Indicator'] == 'Buy':\n",
    "        return 'Buy'\n",
    "    elif row['RSI Indicator'] == 'Buy' and row['Bollinger Indicator'] == 'Buy':\n",
    "        return 'Buy'\n",
    "    elif row['SO Indicator'] == 'Buy' and row['Bollinger Indicator'] == 'Buy':\n",
    "        return 'Buy'   \n",
    "    # If All Share the Same Signal Output That Signal (Sell)\n",
    "    elif row['RSI Indicator'] == 'Sell' and row['SO Indicator'] == 'Sell' and  row['Bollinger Indicator'] == 'Sell':\n",
    "        return 'Sell'\n",
    "    # If Any 2 Indicators Share the Same Signal Output That Signal (Sell)\n",
    "    elif row['RSI Indicator'] == 'Sell' and row['SO Indicator'] == 'Sell':\n",
    "        return 'Sell'\n",
    "    elif row['RSI Indicator'] == 'Sell' and row['Bollinger Indicator'] == 'Sell':\n",
    "        return 'Sell'\n",
    "    elif row['SO Indicator'] == 'Sell' and row['Bollinger Indicator'] == 'Sell':\n",
    "        return 'Sell'    \n",
    "    # If All Share the Same Signal OutPut That Signal (Hold)\n",
    "    elif row['RSI Indicator'] == 'Hold' and row['SO Indicator'] == 'Hold' and  row['Bollinger Indicator'] == 'Hold':\n",
    "        return 'Hold'\n",
    "    # If Any 2 Indicators Share the Same Signal Output That Signal (Hold)\n",
    "    elif row['RSI Indicator'] == 'Hold' and row['SO Indicator'] == 'Hold':\n",
    "        return 'Hold'\n",
    "    elif row['RSI Indicator'] == 'Hold' and row['Bollinger Indicator'] == 'Hold':\n",
    "        return 'Hold'\n",
    "    elif row['SO Indicator'] == 'Hold' and row['Bollinger Indicator'] == 'Hold':\n",
    "        return 'Hold'      \n",
    "    else:\n",
    "        return 'Unclassed'\n",
    "\n",
    "dataset['Recommender'] = dataset.apply(lambda row: recommender(row), axis=1)"
   ]
  },
  {
   "cell_type": "code",
   "execution_count": 417,
   "metadata": {},
   "outputs": [
    {
     "name": "stdout",
     "output_type": "stream",
     "text": [
      "Hold    2018\n",
      "Sell     389\n",
      "Buy      111\n",
      "Name: Recommender, dtype: int64\n"
     ]
    }
   ],
   "source": [
    "# Distrubition of the Recommender\n",
    "print(dataset['Recommender'].value_counts())\n"
   ]
  },
  {
   "cell_type": "code",
   "execution_count": 418,
   "metadata": {},
   "outputs": [
    {
     "data": {
      "image/png": "[encoded data removed]",
      "text/plain": [
       "<Figure size 576x396 with 1 Axes>"
      ]
     },
     "metadata": {},
     "output_type": "display_data"
    }
   ],
   "source": [
    "#Distrubition of the Recommender\n",
    "labels = [\"Hold\", \"Sell\", \"Buy\"]\n",
    "values = dataset['Recommender'].value_counts().tolist()\n",
    "plt.style.use(\"seaborn\")\n",
    "colours = sns.color_palette(\"colorblind\" )\n",
    "plt.pie(x=values, labels=labels, autopct='%.0f%%', colors= colours, shadow=True, rotatelabels='true')\n",
    "plt.title(\"Distribution of Buy/Sell/Hold Signals: Recommender\", fontdict={'fontsize': 14})\n",
    "plt.show()"
   ]
  },
  {
   "cell_type": "markdown",
   "metadata": {},
   "source": [
    "Data Cleaning and Preprocessing"
   ]
  },
  {
   "cell_type": "code",
   "execution_count": 419,
   "metadata": {},
   "outputs": [],
   "source": [
    "dataset.drop(['RSI Indicator', 'SO Indicator', 'MACD Indicator' , 'Bollinger Indicator'], axis = 1, inplace=True)"
   ]
  },
  {
   "cell_type": "code",
   "execution_count": 420,
   "metadata": {},
   "outputs": [
    {
     "data": {
      "text/plain": [
       "(2518, 13)"
      ]
     },
     "execution_count": 420,
     "metadata": {},
     "output_type": "execute_result"
    }
   ],
   "source": [
    "#Dataset shape after adding all the technical indicators \n",
    "dataset.shape"
   ]
  },
  {
   "cell_type": "code",
   "execution_count": 421,
   "metadata": {},
   "outputs": [
    {
     "data": {
      "text/plain": [
       "Index(['Open', 'Close', 'High', 'Low', 'Volume', '%K', '%D', 'RSI',\n",
       "       'Bollinger_Upper', 'Bollinger_Lower', 'MACD', 'Signal', 'Recommender'],\n",
       "      dtype='object')"
      ]
     },
     "execution_count": 421,
     "metadata": {},
     "output_type": "execute_result"
    }
   ],
   "source": [
    "#Columns After Adding All The Technical Indicators\n",
    "dataset.columns"
   ]
  },
  {
   "cell_type": "code",
   "execution_count": 422,
   "metadata": {},
   "outputs": [
    {
     "name": "stdout",
     "output_type": "stream",
     "text": [
      "<class 'pandas.core.frame.DataFrame'>\n",
      "DatetimeIndex: 2518 entries, 2012-04-30 to 2022-04-29\n",
      "Data columns (total 13 columns):\n",
      " #   Column           Non-Null Count  Dtype  \n",
      "---  ------           --------------  -----  \n",
      " 0   Open             2518 non-null   float64\n",
      " 1   Close            2518 non-null   float64\n",
      " 2   High             2518 non-null   float64\n",
      " 3   Low              2518 non-null   float64\n",
      " 4   Volume           2518 non-null   int64  \n",
      " 5   %K               2505 non-null   float64\n",
      " 6   %D               2503 non-null   float64\n",
      " 7   RSI              2517 non-null   float64\n",
      " 8   Bollinger_Upper  2499 non-null   float64\n",
      " 9   Bollinger_Lower  2499 non-null   float64\n",
      " 10  MACD             2518 non-null   float64\n",
      " 11  Signal           2518 non-null   float64\n",
      " 12  Recommender      2518 non-null   object \n",
      "dtypes: float64(11), int64(1), object(1)\n",
      "memory usage: 275.4+ KB\n"
     ]
    }
   ],
   "source": [
    "#Information regarding the dataset\n",
    "dataset.info()"
   ]
  },
  {
   "cell_type": "code",
   "execution_count": 423,
   "metadata": {},
   "outputs": [
    {
     "data": {
      "text/plain": [
       "Open                0\n",
       "Close               0\n",
       "High                0\n",
       "Low                 0\n",
       "Volume              0\n",
       "%K                 13\n",
       "%D                 15\n",
       "RSI                 1\n",
       "Bollinger_Upper    19\n",
       "Bollinger_Lower    19\n",
       "MACD                0\n",
       "Signal              0\n",
       "Recommender         0\n",
       "dtype: int64"
      ]
     },
     "execution_count": 423,
     "metadata": {},
     "output_type": "execute_result"
    }
   ],
   "source": [
    "#Checking for Null Values\n",
    "dataset.isna().sum()"
   ]
  },
  {
   "cell_type": "code",
   "execution_count": 424,
   "metadata": {},
   "outputs": [
    {
     "data": {
      "text/plain": [
       "Open               0\n",
       "Close              0\n",
       "High               0\n",
       "Low                0\n",
       "Volume             0\n",
       "%K                 0\n",
       "%D                 0\n",
       "RSI                0\n",
       "Bollinger_Upper    0\n",
       "Bollinger_Lower    0\n",
       "MACD               0\n",
       "Signal             0\n",
       "Recommender        0\n",
       "dtype: int64"
      ]
     },
     "execution_count": 424,
     "metadata": {},
     "output_type": "execute_result"
    }
   ],
   "source": [
    "#Dropping Null Values\n",
    "dataset = dataset.dropna()\n",
    "dataset.isna().sum()"
   ]
  },
  {
   "cell_type": "code",
   "execution_count": 425,
   "metadata": {},
   "outputs": [
    {
     "name": "stdout",
     "output_type": "stream",
     "text": [
      "False\n",
      "0\n"
     ]
    }
   ],
   "source": [
    "#let's check if there is any duplicate data\n",
    "print(dataset.duplicated().any())\n",
    "print(dataset.duplicated().sum())"
   ]
  },
  {
   "cell_type": "code",
   "execution_count": 426,
   "metadata": {},
   "outputs": [
    {
     "name": "stdout",
     "output_type": "stream",
     "text": [
      "<class 'pandas.core.frame.DataFrame'>\n",
      "DatetimeIndex: 2499 entries, 2012-05-25 to 2022-04-29\n",
      "Data columns (total 13 columns):\n",
      " #   Column           Non-Null Count  Dtype  \n",
      "---  ------           --------------  -----  \n",
      " 0   Open             2499 non-null   float64\n",
      " 1   Close            2499 non-null   float64\n",
      " 2   High             2499 non-null   float64\n",
      " 3   Low              2499 non-null   float64\n",
      " 4   Volume           2499 non-null   int64  \n",
      " 5   %K               2499 non-null   float64\n",
      " 6   %D               2499 non-null   float64\n",
      " 7   RSI              2499 non-null   float64\n",
      " 8   Bollinger_Upper  2499 non-null   float64\n",
      " 9   Bollinger_Lower  2499 non-null   float64\n",
      " 10  MACD             2499 non-null   float64\n",
      " 11  Signal           2499 non-null   float64\n",
      " 12  Recommender      2499 non-null   object \n",
      "dtypes: float64(11), int64(1), object(1)\n",
      "memory usage: 273.3+ KB\n"
     ]
    }
   ],
   "source": [
    "#Dataframe after dopping null values\n",
    "dataset.info()"
   ]
  },
  {
   "cell_type": "code",
   "execution_count": 427,
   "metadata": {},
   "outputs": [
    {
     "name": "stdout",
     "output_type": "stream",
     "text": [
      "<class 'pandas.core.frame.DataFrame'>\n",
      "DatetimeIndex: 2499 entries, 2012-05-25 to 2022-04-29\n",
      "Data columns (total 13 columns):\n",
      " #   Column           Non-Null Count  Dtype  \n",
      "---  ------           --------------  -----  \n",
      " 0   Open             2499 non-null   float64\n",
      " 1   Close            2499 non-null   float64\n",
      " 2   High             2499 non-null   float64\n",
      " 3   Low              2499 non-null   float64\n",
      " 4   Volume           2499 non-null   int64  \n",
      " 5   %K               2499 non-null   float64\n",
      " 6   %D               2499 non-null   float64\n",
      " 7   RSI              2499 non-null   float64\n",
      " 8   Bollinger_Upper  2499 non-null   float64\n",
      " 9   Bollinger_Lower  2499 non-null   float64\n",
      " 10  MACD             2499 non-null   float64\n",
      " 11  Signal           2499 non-null   float64\n",
      " 12  Recommender      2499 non-null   int64  \n",
      "dtypes: float64(11), int64(2)\n",
      "memory usage: 273.3 KB\n"
     ]
    }
   ],
   "source": [
    "# #Encode Categorical Variables\n",
    "signal_dict = {'Hold': 0, 'Sell': 1, 'Buy': 2}\n",
    "\n",
    "dataset['Recommender'] = dataset['Recommender'].map(signal_dict)\n",
    "\n",
    "dataset.info()"
   ]
  },
  {
   "cell_type": "code",
   "execution_count": 428,
   "metadata": {},
   "outputs": [],
   "source": [
    "#Splitting the dataset into training and test sets\n",
    "#Feature Scaling\n",
    "from sklearn.preprocessing import MinMaxScaler\n",
    "from sklearn.model_selection import train_test_split\n",
    "from imblearn.over_sampling import SMOTE\n",
    "\n",
    "#Independant and Dependent Variable\n",
    "y = dataset[\"Recommender\"] #Dependent variable\n",
    "x = dataset.drop([\"Recommender\"], axis=1) #Independent variable\n",
    "\n",
    "#Splitting Data\n",
    "X_train, X_test, y_train, y_test = train_test_split(x, y, test_size= 0.3, random_state= 0)\n",
    "\n",
    "\n",
    "#Scaling\n",
    "scaler = MinMaxScaler(feature_range=(0,1))\n",
    "X_train = scaler.fit_transform(X_train)\n",
    "X_test = scaler.transform(X_test)"
   ]
  },
  {
   "cell_type": "code",
   "execution_count": 444,
   "metadata": {},
   "outputs": [
    {
     "data": {
      "text/html": [
       "<div>\n",
       "<style scoped>\n",
       "    .dataframe tbody tr th:only-of-type {\n",
       "        vertical-align: middle;\n",
       "    }\n",
       "\n",
       "    .dataframe tbody tr th {\n",
       "        vertical-align: top;\n",
       "    }\n",
       "\n",
       "    .dataframe thead th {\n",
       "        text-align: right;\n",
       "    }\n",
       "</style>\n",
       "<table border=\"1\" class=\"dataframe\">\n",
       "  <thead>\n",
       "    <tr style=\"text-align: right;\">\n",
       "      <th></th>\n",
       "      <th>Open</th>\n",
       "      <th>Close</th>\n",
       "      <th>High</th>\n",
       "      <th>Low</th>\n",
       "      <th>Volume</th>\n",
       "      <th>%K</th>\n",
       "      <th>%D</th>\n",
       "      <th>RSI</th>\n",
       "      <th>Bollinger_Upper</th>\n",
       "      <th>Bollinger_Lower</th>\n",
       "      <th>MACD</th>\n",
       "      <th>Signal</th>\n",
       "    </tr>\n",
       "    <tr>\n",
       "      <th>Date</th>\n",
       "      <th></th>\n",
       "      <th></th>\n",
       "      <th></th>\n",
       "      <th></th>\n",
       "      <th></th>\n",
       "      <th></th>\n",
       "      <th></th>\n",
       "      <th></th>\n",
       "      <th></th>\n",
       "      <th></th>\n",
       "      <th></th>\n",
       "      <th></th>\n",
       "    </tr>\n",
       "  </thead>\n",
       "  <tbody>\n",
       "    <tr>\n",
       "      <th>2012-05-25</th>\n",
       "      <td>17.265852</td>\n",
       "      <td>17.195515</td>\n",
       "      <td>17.304385</td>\n",
       "      <td>17.078694</td>\n",
       "      <td>328507200</td>\n",
       "      <td>73.840217</td>\n",
       "      <td>79.791647</td>\n",
       "      <td>44.076228</td>\n",
       "      <td>18.186331</td>\n",
       "      <td>16.302008</td>\n",
       "      <td>-0.172952</td>\n",
       "      <td>-0.215631</td>\n",
       "    </tr>\n",
       "    <tr>\n",
       "      <th>2012-05-29</th>\n",
       "      <td>17.458816</td>\n",
       "      <td>17.500711</td>\n",
       "      <td>17.553618</td>\n",
       "      <td>17.287868</td>\n",
       "      <td>380508800</td>\n",
       "      <td>92.212657</td>\n",
       "      <td>81.823680</td>\n",
       "      <td>50.208212</td>\n",
       "      <td>18.132154</td>\n",
       "      <td>16.320373</td>\n",
       "      <td>-0.130183</td>\n",
       "      <td>-0.198541</td>\n",
       "    </tr>\n",
       "    <tr>\n",
       "      <th>2012-05-30</th>\n",
       "      <td>17.406830</td>\n",
       "      <td>17.711725</td>\n",
       "      <td>17.736802</td>\n",
       "      <td>17.326096</td>\n",
       "      <td>529429600</td>\n",
       "      <td>98.581570</td>\n",
       "      <td>88.211481</td>\n",
       "      <td>53.966532</td>\n",
       "      <td>18.116345</td>\n",
       "      <td>16.327130</td>\n",
       "      <td>-0.078358</td>\n",
       "      <td>-0.174505</td>\n",
       "    </tr>\n",
       "    <tr>\n",
       "      <th>2012-05-31</th>\n",
       "      <td>17.759736</td>\n",
       "      <td>17.667688</td>\n",
       "      <td>17.782979</td>\n",
       "      <td>17.475944</td>\n",
       "      <td>491674400</td>\n",
       "      <td>93.644678</td>\n",
       "      <td>94.812968</td>\n",
       "      <td>53.066319</td>\n",
       "      <td>18.068705</td>\n",
       "      <td>16.349541</td>\n",
       "      <td>-0.040374</td>\n",
       "      <td>-0.147679</td>\n",
       "    </tr>\n",
       "    <tr>\n",
       "      <th>2012-06-01</th>\n",
       "      <td>17.405609</td>\n",
       "      <td>17.155760</td>\n",
       "      <td>17.512338</td>\n",
       "      <td>17.141388</td>\n",
       "      <td>520987600</td>\n",
       "      <td>65.424827</td>\n",
       "      <td>85.883692</td>\n",
       "      <td>43.898813</td>\n",
       "      <td>17.991824</td>\n",
       "      <td>16.362721</td>\n",
       "      <td>-0.050992</td>\n",
       "      <td>-0.128341</td>\n",
       "    </tr>\n",
       "    <tr>\n",
       "      <th>...</th>\n",
       "      <td>...</td>\n",
       "      <td>...</td>\n",
       "      <td>...</td>\n",
       "      <td>...</td>\n",
       "      <td>...</td>\n",
       "      <td>...</td>\n",
       "      <td>...</td>\n",
       "      <td>...</td>\n",
       "      <td>...</td>\n",
       "      <td>...</td>\n",
       "      <td>...</td>\n",
       "      <td>...</td>\n",
       "    </tr>\n",
       "    <tr>\n",
       "      <th>2022-04-25</th>\n",
       "      <td>161.119995</td>\n",
       "      <td>162.880005</td>\n",
       "      <td>163.169998</td>\n",
       "      <td>158.460007</td>\n",
       "      <td>96046400</td>\n",
       "      <td>22.278221</td>\n",
       "      <td>14.362295</td>\n",
       "      <td>41.927588</td>\n",
       "      <td>180.981810</td>\n",
       "      <td>159.888189</td>\n",
       "      <td>-1.131611</td>\n",
       "      <td>-0.008625</td>\n",
       "    </tr>\n",
       "    <tr>\n",
       "      <th>2022-04-26</th>\n",
       "      <td>162.250000</td>\n",
       "      <td>156.800003</td>\n",
       "      <td>162.339996</td>\n",
       "      <td>156.720001</td>\n",
       "      <td>95623200</td>\n",
       "      <td>0.473104</td>\n",
       "      <td>8.152724</td>\n",
       "      <td>34.919440</td>\n",
       "      <td>181.370947</td>\n",
       "      <td>157.619052</td>\n",
       "      <td>-1.831394</td>\n",
       "      <td>-0.373179</td>\n",
       "    </tr>\n",
       "    <tr>\n",
       "      <th>2022-04-27</th>\n",
       "      <td>155.910004</td>\n",
       "      <td>156.570007</td>\n",
       "      <td>159.789993</td>\n",
       "      <td>155.380005</td>\n",
       "      <td>88063200</td>\n",
       "      <td>6.618480</td>\n",
       "      <td>9.789935</td>\n",
       "      <td>34.683271</td>\n",
       "      <td>180.707184</td>\n",
       "      <td>156.043816</td>\n",
       "      <td>-2.377134</td>\n",
       "      <td>-0.773970</td>\n",
       "    </tr>\n",
       "    <tr>\n",
       "      <th>2022-04-28</th>\n",
       "      <td>159.250000</td>\n",
       "      <td>163.639999</td>\n",
       "      <td>164.520004</td>\n",
       "      <td>158.929993</td>\n",
       "      <td>115586400</td>\n",
       "      <td>50.365839</td>\n",
       "      <td>19.152474</td>\n",
       "      <td>46.631998</td>\n",
       "      <td>179.335595</td>\n",
       "      <td>156.002403</td>\n",
       "      <td>-2.213630</td>\n",
       "      <td>-1.061902</td>\n",
       "    </tr>\n",
       "    <tr>\n",
       "      <th>2022-04-29</th>\n",
       "      <td>161.839996</td>\n",
       "      <td>159.750000</td>\n",
       "      <td>166.199997</td>\n",
       "      <td>159.589996</td>\n",
       "      <td>79660339</td>\n",
       "      <td>27.058804</td>\n",
       "      <td>28.014374</td>\n",
       "      <td>42.071611</td>\n",
       "      <td>178.624061</td>\n",
       "      <td>155.227938</td>\n",
       "      <td>-2.370616</td>\n",
       "      <td>-1.323645</td>\n",
       "    </tr>\n",
       "  </tbody>\n",
       "</table>\n",
       "<p>2499 rows × 12 columns</p>\n",
       "</div>"
      ],
      "text/plain": [
       "                  Open       Close        High         Low     Volume  \\\n",
       "Date                                                                    \n",
       "2012-05-25   17.265852   17.195515   17.304385   17.078694  328507200   \n",
       "2012-05-29   17.458816   17.500711   17.553618   17.287868  380508800   \n",
       "2012-05-30   17.406830   17.711725   17.736802   17.326096  529429600   \n",
       "2012-05-31   17.759736   17.667688   17.782979   17.475944  491674400   \n",
       "2012-06-01   17.405609   17.155760   17.512338   17.141388  520987600   \n",
       "...                ...         ...         ...         ...        ...   \n",
       "2022-04-25  161.119995  162.880005  163.169998  158.460007   96046400   \n",
       "2022-04-26  162.250000  156.800003  162.339996  156.720001   95623200   \n",
       "2022-04-27  155.910004  156.570007  159.789993  155.380005   88063200   \n",
       "2022-04-28  159.250000  163.639999  164.520004  158.929993  115586400   \n",
       "2022-04-29  161.839996  159.750000  166.199997  159.589996   79660339   \n",
       "\n",
       "                   %K         %D        RSI  Bollinger_Upper  Bollinger_Lower  \\\n",
       "Date                                                                            \n",
       "2012-05-25  73.840217  79.791647  44.076228        18.186331        16.302008   \n",
       "2012-05-29  92.212657  81.823680  50.208212        18.132154        16.320373   \n",
       "2012-05-30  98.581570  88.211481  53.966532        18.116345        16.327130   \n",
       "2012-05-31  93.644678  94.812968  53.066319        18.068705        16.349541   \n",
       "2012-06-01  65.424827  85.883692  43.898813        17.991824        16.362721   \n",
       "...               ...        ...        ...              ...              ...   \n",
       "2022-04-25  22.278221  14.362295  41.927588       180.981810       159.888189   \n",
       "2022-04-26   0.473104   8.152724  34.919440       181.370947       157.619052   \n",
       "2022-04-27   6.618480   9.789935  34.683271       180.707184       156.043816   \n",
       "2022-04-28  50.365839  19.152474  46.631998       179.335595       156.002403   \n",
       "2022-04-29  27.058804  28.014374  42.071611       178.624061       155.227938   \n",
       "\n",
       "                MACD    Signal  \n",
       "Date                            \n",
       "2012-05-25 -0.172952 -0.215631  \n",
       "2012-05-29 -0.130183 -0.198541  \n",
       "2012-05-30 -0.078358 -0.174505  \n",
       "2012-05-31 -0.040374 -0.147679  \n",
       "2012-06-01 -0.050992 -0.128341  \n",
       "...              ...       ...  \n",
       "2022-04-25 -1.131611 -0.008625  \n",
       "2022-04-26 -1.831394 -0.373179  \n",
       "2022-04-27 -2.377134 -0.773970  \n",
       "2022-04-28 -2.213630 -1.061902  \n",
       "2022-04-29 -2.370616 -1.323645  \n",
       "\n",
       "[2499 rows x 12 columns]"
      ]
     },
     "execution_count": 444,
     "metadata": {},
     "output_type": "execute_result"
    }
   ],
   "source": [
    "x"
   ]
  },
  {
   "cell_type": "code",
   "execution_count": 429,
   "metadata": {},
   "outputs": [
    {
     "name": "stdout",
     "output_type": "stream",
     "text": [
      "x_train dataset:  (1749, 12)\n",
      " y_train dataset:  (1749,)\n",
      " x_test dataset:  (750, 12)\n",
      "y_test dataset:  (750,)\n"
     ]
    }
   ],
   "source": [
    "print(\"x_train dataset: \", X_train.shape)\n",
    "print(\" y_train dataset: \", y_train.shape)\n",
    "print(\" x_test dataset: \", X_test.shape)\n",
    "print(\"y_test dataset: \", y_test.shape)"
   ]
  },
  {
   "cell_type": "code",
   "execution_count": 430,
   "metadata": {},
   "outputs": [
    {
     "data": {
      "text/plain": [
       "Text(0.5, 0, 'Trade Signals')"
      ]
     },
     "execution_count": 430,
     "metadata": {},
     "output_type": "execute_result"
    },
    {
     "data": {
      "image/png": "[encoded data removed]",
      "text/plain": [
       "<Figure size 576x396 with 2 Axes>"
      ]
     },
     "metadata": {},
     "output_type": "display_data"
    }
   ],
   "source": [
    "#Handling Imbalance datausing SMOTE\n",
    "#Synthetic Minority Oversampling Technique\n",
    "#Stroke (Dependant Variable) before SMOTE\n",
    "fig, (ax1, ax2) = plt.subplots(1, 2)\n",
    "sns.barplot(x=['0', '1','2'], y =[sum(y_train == 0), sum(y_train == 1), sum(y_train == 2)], ax = ax1)\n",
    "ax1.set_title(\"Y-Train\")\n",
    "ax1.set_xlabel('Trade Signals')\n",
    "\n",
    "sns.barplot(x=['0', '1', '2'], y =[sum(y_test == 0), sum(y_test == 1), sum(y_test == 2)], ax = ax2)\n",
    "ax2.set_title(\"Y-Test\")\n",
    "ax2.set_xlabel('Trade Signals')"
   ]
  },
  {
   "cell_type": "code",
   "execution_count": 431,
   "metadata": {},
   "outputs": [
    {
     "data": {
      "text/plain": [
       "Text(0.5, 0, 'Trade Signals')"
      ]
     },
     "execution_count": 431,
     "metadata": {},
     "output_type": "execute_result"
    },
    {
     "data": {
      "image/png": "[encoded data removed]",
      "text/plain": [
       "<Figure size 576x396 with 1 Axes>"
      ]
     },
     "metadata": {},
     "output_type": "display_data"
    }
   ],
   "source": [
    "#Handling Imbalance datausing SMOTE\n",
    "#Synthetic Minority Oversampling Technique\n",
    "#Stroke (Dependant Variable) After SMOTE\n",
    "sm = SMOTE(random_state=42)\n",
    "X_train_smote, Y_train_smote = sm.fit_resample(X_train, y_train)\n",
    "\n",
    "X_test_smote, y_test_smote = sm.fit_resample(X_test, y_test)\n",
    "\n",
    "fig = sns.barplot(x=['0', '1', '2'], y =[sum(Y_train_smote == 0), sum(Y_train_smote == 1), sum(Y_train_smote == 2)])\n",
    "fig.set_xlabel('Trade Signals')"
   ]
  },
  {
   "cell_type": "code",
   "execution_count": 432,
   "metadata": {},
   "outputs": [
    {
     "name": "stdout",
     "output_type": "stream",
     "text": [
      "(4149, 12)\n",
      "(4149,)\n"
     ]
    }
   ],
   "source": [
    "print(X_train_smote.shape)\n",
    "print(Y_train_smote.shape)"
   ]
  },
  {
   "cell_type": "markdown",
   "metadata": {},
   "source": [
    "Logistic Regression with SMOTE"
   ]
  },
  {
   "cell_type": "code",
   "execution_count": 433,
   "metadata": {},
   "outputs": [
    {
     "name": "stdout",
     "output_type": "stream",
     "text": [
      "Test Data Confusion Matrix :\n",
      "[[514  65  37]\n",
      " [  6 101   0]\n",
      " [  0   0  27]]\n",
      "Test Data Precision Score : 0.6729234244670992\n",
      "Test Data Recall Score :  0.9261136060201481\n",
      "Test  Data F1 Score:  0.7460876369327073\n"
     ]
    }
   ],
   "source": [
    "#Models\n",
    "from sklearn.linear_model import LogisticRegression\n",
    "#Model Result Analysis\n",
    "from sklearn.metrics import accuracy_score, confusion_matrix, roc_auc_score, ConfusionMatrixDisplay, precision_score, recall_score, f1_score, classification_report, roc_curve, plot_roc_curve, auc, precision_recall_curve, plot_precision_recall_curve, average_precision_score\n",
    "from sklearn.model_selection import cross_val_score\n",
    "\n",
    "#Data Modelling\n",
    "#Logistic Regresion\n",
    "lr = LogisticRegression()\n",
    "lr.fit(X_train_smote,Y_train_smote)\n",
    "\n",
    "\n",
    "#Predictions\n",
    "y_pred = lr.predict(X_test)\n",
    "y_pred_train = lr.predict(X_train)\n",
    "\n",
    "#Confusion Matrix\n",
    "cm_test = confusion_matrix(y_test, y_pred)  \n",
    "print(\"Test Data Confusion Matrix :\")\n",
    "print(cm_test)\n",
    "#Precision\n",
    "test_precision = precision_score(y_test, y_pred,  average='macro')\n",
    "print(\"Test Data Precision Score :\", test_precision) \n",
    "#Recall\n",
    "test_recall = recall_score(y_test, y_pred,  average='macro')\n",
    "print(\"Test Data Recall Score : \", test_recall)\n",
    "#F1 Score\n",
    "test_f1 = f1_score(y_test, y_pred,average='macro')\n",
    "print(\"Test  Data F1 Score: \", test_f1)\n",
    "\n",
    "\n",
    "# #Confusion Matrix\n",
    "# cm_train = confusion_matrix(y_train, y_pred_train)  \n",
    "# print(\"Train Data Confusion Matrix :\")\n",
    "# print(cm_test)\n",
    "# #Precision\n",
    "# train_precision = precision_score(y_train, y_pred_train,  average='macro')\n",
    "# print(\"Train Dat Precision Score : \", train_precision)\n",
    "# #Recall\n",
    "# train_recall = recall_score(y_train, y_pred_train,  average='macro')\n",
    "# print(\"Train Data Recall Score : \", train_recall)\n",
    "# #F1\n",
    "# train_f1 = f1_score(y_train, y_pred_train,average='macro')\n",
    "# print(\"Train  Data F1 Score: \", train_f1)\n",
    "\n",
    "\n",
    "#Storing Results for the Model\n",
    "list_1 = []\n",
    "list_2 = []\n",
    "\n",
    "list_2.append(\"Logistic Regression\")\n",
    "list_2.append((accuracy_score(y_test, y_pred))*100) \n",
    "list_2.append(test_precision)\n",
    "list_2.append(test_recall)\n",
    "list_2.append(test_f1)\n",
    "list_1.append(list_2)\n",
    "list_2 = []\n",
    "\n",
    "# list_2.append(\"Logistic Regression Train Data\")\n",
    "# list_2.append(train_precision)\n",
    "# list_2.append(train_recall)\n",
    "# list_2.append(train_f1)\n",
    "# list_1.append(list_2)\n",
    "# list_2 = []\n"
   ]
  },
  {
   "cell_type": "code",
   "execution_count": 434,
   "metadata": {},
   "outputs": [
    {
     "name": "stdout",
     "output_type": "stream",
     "text": [
      "Test Data Confusion Matrix :\n",
      "[[514  65  37]\n",
      " [ 21 595   0]\n",
      " [  0   0 616]]\n",
      "Test Data Precision Score : 0.9352004176817047\n",
      "Test Data Recall Score :  0.9334415584415584\n",
      "Test  Data F1 Score:  0.9321938225381997\n"
     ]
    }
   ],
   "source": [
    "#Models\n",
    "from sklearn.linear_model import LogisticRegression\n",
    "#Model Result Analysis\n",
    "from sklearn.metrics import accuracy_score, confusion_matrix, roc_auc_score, ConfusionMatrixDisplay, precision_score, recall_score, f1_score, classification_report, roc_curve, plot_roc_curve, auc, precision_recall_curve, plot_precision_recall_curve, average_precision_score\n",
    "from sklearn.model_selection import cross_val_score\n",
    "\n",
    "#Data Modelling\n",
    "#Logistic Regresion\n",
    "lr = LogisticRegression()\n",
    "lr.fit(X_train_smote,Y_train_smote)\n",
    "\n",
    "\n",
    "#Predictions\n",
    "y_pred = lr.predict(X_test_smote)\n",
    "y_pred_train = lr.predict(X_train)\n",
    "\n",
    "#Confusion Matrix\n",
    "cm_test = confusion_matrix(y_test_smote, y_pred)  \n",
    "print(\"Test Data Confusion Matrix :\")\n",
    "print(cm_test)\n",
    "#Precision\n",
    "test_precision = precision_score(y_test_smote, y_pred,  average='macro')\n",
    "print(\"Test Data Precision Score :\", test_precision) \n",
    "#Recall\n",
    "test_recall = recall_score(y_test_smote, y_pred,  average='macro')\n",
    "print(\"Test Data Recall Score : \", test_recall)\n",
    "#F1 Score\n",
    "test_f1 = f1_score(y_test_smote, y_pred,average='macro')\n",
    "print(\"Test  Data F1 Score: \", test_f1)\n",
    "\n",
    "\n",
    "\n",
    "list_2.append(\"Logistic Regression with Test SMOTE\")\n",
    "list_2.append((accuracy_score(y_test_smote, y_pred))*100) \n",
    "list_2.append(test_precision)\n",
    "list_2.append(test_recall)\n",
    "list_2.append(test_f1)\n",
    "list_1.append(list_2)\n",
    "list_2 = []\n"
   ]
  },
  {
   "cell_type": "markdown",
   "metadata": {},
   "source": [
    "Logistic Regression without SMOTE"
   ]
  },
  {
   "cell_type": "code",
   "execution_count": 435,
   "metadata": {},
   "outputs": [],
   "source": [
    "\n",
    "# #Splitting Data\n",
    "# # X_train, X_test, y_train, y_test = train_test_split(x, y, test_size= 0.3, random_state= 0)\n",
    "# #Logistic Regresion\n",
    "# lr = LogisticRegression(solver='lbfgs')\n",
    "# lr.fit(X_train,y_train)\n",
    "\n",
    "# y_pred = lr.predict(X_test)\n",
    "\n",
    "\n",
    "# #Confusion Matrix\n",
    "# cm_test = confusion_matrix(y_test, y_pred)  \n",
    "# print(\"Test Data Confusion Matrix :\")\n",
    "# print(cm_test)\n",
    "# #Precision\n",
    "# test_precision = precision_score(y_test, y_pred,  average='macro')\n",
    "# print(\"Test Data Precision Score :\", test_precision) \n",
    "# #Recall\n",
    "# test_recall = recall_score(y_test, y_pred,  average='macro')\n",
    "# print(\"Test Data Recall Score : \", test_recall)\n",
    "# #F1 Score\n",
    "# test_f1 = f1_score(y_test, y_pred,average='macro')\n",
    "# print(\"Test  Data F1 Score: \", test_f1)\n",
    "\n",
    "\n",
    "\n",
    "# #Storing results\n",
    "# list_2.append(\"Logistic Regression without SMOTE\")\n",
    "# list_2.append((accuracy_score(y_test, y_pred))*100) \n",
    "# list_2.append(test_precision)\n",
    "# list_2.append(test_recall)\n",
    "# list_2.append(test_f1)\n",
    "# list_1.append(list_2)\n",
    "# list_2 = []"
   ]
  },
  {
   "cell_type": "markdown",
   "metadata": {},
   "source": [
    "Decision Tree"
   ]
  },
  {
   "cell_type": "code",
   "execution_count": 436,
   "metadata": {},
   "outputs": [
    {
     "name": "stdout",
     "output_type": "stream",
     "text": [
      "Test Data Confusion Matrix :\n",
      "[[568  33  15]\n",
      " [ 16  91   0]\n",
      " [  2   0  25]]\n",
      "Test Data Precision Score : 0.7760514147308157\n",
      "Test Data Recall Score :  0.899490379241158\n",
      "Test  Data F1 Score:  0.8264129862461002\n"
     ]
    }
   ],
   "source": [
    "#Data Modelling\n",
    "#Decision Tree\n",
    "decision_tree = DecisionTreeClassifier()\n",
    "decision_tree.fit(X_train_smote,Y_train_smote)\n",
    "\n",
    "\n",
    "#Predictions\n",
    "y_pred = decision_tree.predict(X_test)\n",
    "y_pred_train = decision_tree.predict(X_train_smote)\n",
    "\n",
    "\n",
    "#Confusion Matrix\n",
    "cm_test = confusion_matrix(y_test, y_pred)  \n",
    "print(\"Test Data Confusion Matrix :\")\n",
    "print(cm_test)\n",
    "#Precision\n",
    "test_precision = precision_score(y_test, y_pred,  average='macro')\n",
    "print(\"Test Data Precision Score :\", test_precision) \n",
    "#Recall\n",
    "test_recall = recall_score(y_test, y_pred,  average='macro')\n",
    "print(\"Test Data Recall Score : \", test_recall)\n",
    "#F1 Score\n",
    "test_f1 = f1_score(y_test, y_pred,average='macro')\n",
    "print(\"Test  Data F1 Score: \", test_f1)\n",
    "\n",
    "\n",
    "# #Confusion Matrix\n",
    "# cm_train = confusion_matrix(y_train, y_pred_train)  \n",
    "# print(\"Train Data Confusion Matrix :\")\n",
    "# print(cm_test)\n",
    "# #Precision\n",
    "# train_precision = precision_score(y_train, y_pred_train,  average='macro')\n",
    "# print(\"Train Dat Precision Score : \", train_precision)\n",
    "# #Recall\n",
    "# train_recall = recall_score(y_train, y_pred_train,  average='macro')\n",
    "# print(\"Train Data Recall Score : \", train_recall)\n",
    "# #F1\n",
    "# train_f1 = f1_score(y_train, y_pred_train,average='macro')\n",
    "# print(\"Train  Data F1 Score: \", train_f1)\n",
    "\n",
    "\n",
    "list_2.append(\"Decision Tree\")\n",
    "list_2.append((accuracy_score(y_test, y_pred))*100) \n",
    "list_2.append(test_precision)\n",
    "list_2.append(test_recall)\n",
    "list_2.append(test_f1)\n",
    "list_1.append(list_2)\n",
    "list_2 = []\n",
    "\n",
    "# list_2.append(\"Decision Tree Train Data\")\n",
    "# list_2.append(train_precision)\n",
    "# list_2.append(train_recall)\n",
    "# list_2.append(train_f1)\n",
    "# list_1.append(list_2)\n",
    "# list_2 = []\n"
   ]
  },
  {
   "cell_type": "markdown",
   "metadata": {},
   "source": [
    "Decision Tree without SMOTE"
   ]
  },
  {
   "cell_type": "code",
   "execution_count": 437,
   "metadata": {},
   "outputs": [],
   "source": [
    "# #Data Modelling\n",
    "# #Decision Tree\n",
    "# decision_tree = DecisionTreeClassifier()\n",
    "# decision_tree.fit(X_train, y_train)\n",
    "# y_pred = decision_tree.predict(X_test)\n",
    "\n",
    "# #Confusion Matrix\n",
    "# cm_test = confusion_matrix(y_test, y_pred)  \n",
    "# print(\"Test Data Confusion Matrix :\")\n",
    "# print(cm_test)\n",
    "# #Precision\n",
    "# test_precision = precision_score(y_test, y_pred,  average='macro')\n",
    "# print(\"Test Data Precision Score :\", test_precision) \n",
    "# #Recall\n",
    "# test_recall = recall_score(y_test, y_pred,  average='macro')\n",
    "# print(\"Test Data Recall Score : \", test_recall)\n",
    "# #F1 Score\n",
    "# test_f1 = f1_score(y_test, y_pred,average='macro')\n",
    "# print(\"Test  Data F1 Score: \", test_f1)\n",
    "\n",
    "\n",
    "\n",
    "# #Storing results\n",
    "# list_2.append(\"Decision Tree without SMOTE\")\n",
    "# list_2.append((accuracy_score(y_test, y_pred))*100) \n",
    "# list_2.append(test_precision)\n",
    "# list_2.append(test_recall)\n",
    "# list_2.append(test_f1)\n",
    "# list_1.append(list_2)\n",
    "list_2 = []"
   ]
  },
  {
   "cell_type": "markdown",
   "metadata": {},
   "source": [
    "Random  Forest "
   ]
  },
  {
   "cell_type": "code",
   "execution_count": 438,
   "metadata": {},
   "outputs": [
    {
     "name": "stdout",
     "output_type": "stream",
     "text": [
      "Test Data Confusion Matrix :\n",
      "[[591  11  14]\n",
      " [ 14  93   0]\n",
      " [  2   0  25]]\n",
      "Test Data Precision Score : 0.8362990889761894\n",
      "Test Data Recall Score :  0.9181667962820611\n",
      "Test  Data F1 Score:  0.8685227414131941\n"
     ]
    }
   ],
   "source": [
    "#Data Modelling\n",
    "#Random Forest\n",
    "random_forest = RandomForestClassifier()\n",
    "random_forest.fit(X_train_smote,Y_train_smote)\n",
    "\n",
    "\n",
    "#Predictions\n",
    "y_pred = random_forest.predict(X_test)\n",
    "y_pred_train = random_forest.predict(X_train_smote)\n",
    "\n",
    "#Confusion Matrix\n",
    "cm_test = confusion_matrix(y_test, y_pred)  \n",
    "print(\"Test Data Confusion Matrix :\")\n",
    "print(cm_test)\n",
    "#Precision\n",
    "test_precision = precision_score(y_test, y_pred,  average='macro')\n",
    "print(\"Test Data Precision Score :\", test_precision) \n",
    "#Recall\n",
    "test_recall = recall_score(y_test, y_pred,  average='macro')\n",
    "print(\"Test Data Recall Score : \", test_recall)\n",
    "#F1 Score\n",
    "test_f1 = f1_score(y_test, y_pred,average='macro')\n",
    "print(\"Test  Data F1 Score: \", test_f1)\n",
    "\n",
    "\n",
    "# #Confusion Matrix\n",
    "# cm_train = confusion_matrix(y_train, y_pred_train)  \n",
    "# print(\"Train Data Confusion Matrix :\")\n",
    "# print(cm_test)\n",
    "# #Precision\n",
    "# train_precision = precision_score(y_train, y_pred_train,  average='macro')\n",
    "# print(\"Train Dat Precision Score : \", train_precision)\n",
    "# #Recall\n",
    "# train_recall = recall_score(y_train, y_pred_train,  average='macro')\n",
    "# print(\"Train Data Recall Score : \", train_recall)\n",
    "# #F1\n",
    "# train_f1 = f1_score(y_train, y_pred_train,average='macro')\n",
    "# print(\"Train  Data F1 Score: \", train_f1)\n",
    "\n",
    "\n",
    "\n",
    "\n",
    "list_2.append(\"Random Forest\")\n",
    "list_2.append((accuracy_score(y_test, y_pred))*100) \n",
    "list_2.append(test_precision)\n",
    "list_2.append(test_recall)\n",
    "list_2.append(test_f1)\n",
    "list_1.append(list_2)\n",
    "list_2 = []\n",
    "\n",
    "# list_2.append(\"Logistic Regression Train Data\")\n",
    "# list_2.append(train_precision)\n",
    "# list_2.append(train_recall)\n",
    "# list_2.append(train_f1)\n",
    "# list_1.append(list_2)\n",
    "# list_2 = []"
   ]
  },
  {
   "cell_type": "markdown",
   "metadata": {},
   "source": [
    "Random Forest without SMOTE"
   ]
  },
  {
   "cell_type": "code",
   "execution_count": 439,
   "metadata": {},
   "outputs": [],
   "source": [
    "# #Data Modelling\n",
    "# #Random Forest\n",
    "# random_forest = RandomForestClassifier()\n",
    "# random_forest.fit(X_train, y_train)\n",
    "# y_pred = random_forest.predict(X_test)\n",
    "\n",
    "# #Confusion Matrix\n",
    "# cm_test = confusion_matrix(y_test, y_pred)  \n",
    "# print(\"Test Data Confusion Matrix :\")\n",
    "# print(cm_test)\n",
    "# #Precision\n",
    "# test_precision = precision_score(y_test, y_pred,  average='macro')\n",
    "# print(\"Test Data Precision Score :\", test_precision) \n",
    "# #Recall\n",
    "# test_recall = recall_score(y_test, y_pred,  average='macro')\n",
    "# print(\"Test Data Recall Score : \", test_recall)\n",
    "# #F1 Score\n",
    "# test_f1 = f1_score(y_test, y_pred,average='macro')\n",
    "# print(\"Test  Data F1 Score: \", test_f1)\n",
    "\n",
    "\n",
    "\n",
    "# #Storing results\n",
    "# list_2.append(\"Random Forest without SMOTE\")\n",
    "# list_2.append((accuracy_score(y_test, y_pred))*100) \n",
    "# list_2.append(test_precision)\n",
    "# list_2.append(test_recall)\n",
    "# list_2.append(test_f1)\n",
    "# list_1.append(list_2)\n",
    "list_2 = []"
   ]
  },
  {
   "cell_type": "code",
   "execution_count": 440,
   "metadata": {},
   "outputs": [
    {
     "name": "stdout",
     "output_type": "stream",
     "text": [
      "Test Data Confusion Matrix :\n",
      "[[531  57  28]\n",
      " [  4 103   0]\n",
      " [  1   0  26]]\n",
      "Test Data Precision Score : 0.7053010410908421\n",
      "Test Data Recall Score :  0.9291975908019521\n",
      "Test  Data F1 Score:  0.7784619630554399\n"
     ]
    }
   ],
   "source": [
    "from sklearn.svm import SVC\n",
    "\n",
    "#Data Modelling\n",
    "#Support Vector Machine\n",
    "svc = SVC()\n",
    "svc.fit(X_train_smote,Y_train_smote)\n",
    "\n",
    "\n",
    "#Predictions\n",
    "y_pred = svc.predict(X_test)\n",
    "y_pred_train = svc.predict(X_train_smote)\n",
    "\n",
    "#Confusion Matrix\n",
    "cm_test = confusion_matrix(y_test, y_pred)  \n",
    "print(\"Test Data Confusion Matrix :\")\n",
    "print(cm_test)\n",
    "#Precision\n",
    "test_precision = precision_score(y_test, y_pred,  average='macro')\n",
    "print(\"Test Data Precision Score :\", test_precision) \n",
    "#Recall\n",
    "test_recall = recall_score(y_test, y_pred,  average='macro')\n",
    "print(\"Test Data Recall Score : \", test_recall)\n",
    "#F1 Score\n",
    "test_f1 = f1_score(y_test, y_pred,average='macro')\n",
    "print(\"Test  Data F1 Score: \", test_f1)\n",
    "\n",
    "#Appending Results \n",
    "list_2.append(\"SVM\")\n",
    "list_2.append((accuracy_score(y_test, y_pred))*100) \n",
    "list_2.append(test_precision)\n",
    "list_2.append(test_recall)\n",
    "list_2.append(test_f1)\n",
    "list_1.append(list_2)\n",
    "list_2 = []\n"
   ]
  },
  {
   "cell_type": "code",
   "execution_count": 441,
   "metadata": {},
   "outputs": [
    {
     "name": "stdout",
     "output_type": "stream",
     "text": [
      "Test Data Confusion Matrix :\n",
      "[[549  41  26]\n",
      " [ 11  96   0]\n",
      " [  0   0  27]]\n",
      "Test Data Precision Score : 0.7301736773761976\n",
      "Test Data Recall Score :  0.929476675972003\n",
      "Test  Data F1 Score:  0.7985195717631314\n"
     ]
    }
   ],
   "source": [
    "#Data Modelling\n",
    "#K Nearest Neighbours\n",
    "\n",
    "from sklearn.neighbors import KNeighborsClassifier\n",
    "knn = KNeighborsClassifier()\n",
    "knn.fit(X_train_smote, Y_train_smote)\n",
    "y_pred = knn.predict(X_test)\n",
    "\n",
    "#Confusion Matrix\n",
    "cm_test = confusion_matrix(y_test, y_pred)  \n",
    "print(\"Test Data Confusion Matrix :\")\n",
    "print(cm_test)\n",
    "#Precision\n",
    "test_precision = precision_score(y_test, y_pred,  average='macro')\n",
    "print(\"Test Data Precision Score :\", test_precision) \n",
    "#Recall\n",
    "test_recall = recall_score(y_test, y_pred,  average='macro')\n",
    "print(\"Test Data Recall Score : \", test_recall)\n",
    "#F1 Score\n",
    "test_f1 = f1_score(y_test, y_pred,average='macro')\n",
    "print(\"Test  Data F1 Score: \", test_f1)\n",
    "\n",
    "#Appending Results \n",
    "list_2.append(\"KNN\")\n",
    "list_2.append((accuracy_score(y_test, y_pred))*100) \n",
    "list_2.append(test_precision)\n",
    "list_2.append(test_recall)\n",
    "list_2.append(test_f1)\n",
    "list_1.append(list_2)\n",
    "list_2 = []\n"
   ]
  },
  {
   "cell_type": "code",
   "execution_count": 442,
   "metadata": {},
   "outputs": [
    {
     "name": "stdout",
     "output_type": "stream",
     "text": [
      "Test Data Confusion Matrix :\n",
      "[[549  41  26]\n",
      " [ 11  96   0]\n",
      " [  0   0  27]]\n",
      "Test Data Precision Score : 0.7301736773761976\n",
      "Test Data Recall Score :  0.929476675972003\n",
      "Test  Data F1 Score:  0.7985195717631314\n"
     ]
    }
   ],
   "source": [
    "#Data Modelling\n",
    "#Niave Bayes\n",
    "from sklearn.naive_bayes import GaussianNB\n",
    "gnb = GaussianNB()\n",
    "gnb.fit(X_train_smote, Y_train_smote)\n",
    "y_pred = gnb.predict(X_test)\n",
    "\n",
    "\n",
    "#Confusion Matrix\n",
    "cm_test = confusion_matrix(y_test, y_pred)  \n",
    "print(\"Test Data Confusion Matrix :\")\n",
    "print(cm_test)\n",
    "#Precision\n",
    "test_precision = precision_score(y_test, y_pred,  average='macro')\n",
    "print(\"Test Data Precision Score :\", test_precision) \n",
    "#Recall\n",
    "test_recall = recall_score(y_test, y_pred,  average='macro')\n",
    "print(\"Test Data Recall Score : \", test_recall)\n",
    "#F1 Score\n",
    "test_f1 = f1_score(y_test, y_pred,average='macro')\n",
    "print(\"Test  Data F1 Score: \", test_f1)\n",
    "\n",
    "#Appending Results \n",
    "list_2.append(\"Niave Byaes\")\n",
    "list_2.append((accuracy_score(y_test, y_pred))*100) \n",
    "list_2.append(test_precision)\n",
    "list_2.append(test_recall)\n",
    "list_2.append(test_f1)\n",
    "list_1.append(list_2)\n",
    "list_2 = []"
   ]
  },
  {
   "cell_type": "code",
   "execution_count": 443,
   "metadata": {},
   "outputs": [
    {
     "data": {
      "text/html": [
       "<div>\n",
       "<style scoped>\n",
       "    .dataframe tbody tr th:only-of-type {\n",
       "        vertical-align: middle;\n",
       "    }\n",
       "\n",
       "    .dataframe tbody tr th {\n",
       "        vertical-align: top;\n",
       "    }\n",
       "\n",
       "    .dataframe thead th {\n",
       "        text-align: right;\n",
       "    }\n",
       "</style>\n",
       "<table border=\"1\" class=\"dataframe\">\n",
       "  <thead>\n",
       "    <tr style=\"text-align: right;\">\n",
       "      <th></th>\n",
       "      <th>Model</th>\n",
       "      <th>Accuracy</th>\n",
       "      <th>Precision</th>\n",
       "      <th>Recall</th>\n",
       "      <th>F1</th>\n",
       "    </tr>\n",
       "  </thead>\n",
       "  <tbody>\n",
       "    <tr>\n",
       "      <th>1</th>\n",
       "      <td>Logistic Regression with Test SMOTE</td>\n",
       "      <td>93.344156</td>\n",
       "      <td>0.935200</td>\n",
       "      <td>0.933442</td>\n",
       "      <td>0.932194</td>\n",
       "    </tr>\n",
       "    <tr>\n",
       "      <th>3</th>\n",
       "      <td>Random Forest</td>\n",
       "      <td>94.533333</td>\n",
       "      <td>0.836299</td>\n",
       "      <td>0.918167</td>\n",
       "      <td>0.868523</td>\n",
       "    </tr>\n",
       "    <tr>\n",
       "      <th>2</th>\n",
       "      <td>Decision Tree</td>\n",
       "      <td>91.200000</td>\n",
       "      <td>0.776051</td>\n",
       "      <td>0.899490</td>\n",
       "      <td>0.826413</td>\n",
       "    </tr>\n",
       "    <tr>\n",
       "      <th>5</th>\n",
       "      <td>KNN</td>\n",
       "      <td>89.600000</td>\n",
       "      <td>0.730174</td>\n",
       "      <td>0.929477</td>\n",
       "      <td>0.798520</td>\n",
       "    </tr>\n",
       "    <tr>\n",
       "      <th>6</th>\n",
       "      <td>Niave Byaes</td>\n",
       "      <td>89.600000</td>\n",
       "      <td>0.730174</td>\n",
       "      <td>0.929477</td>\n",
       "      <td>0.798520</td>\n",
       "    </tr>\n",
       "    <tr>\n",
       "      <th>4</th>\n",
       "      <td>SVM</td>\n",
       "      <td>88.000000</td>\n",
       "      <td>0.705301</td>\n",
       "      <td>0.929198</td>\n",
       "      <td>0.778462</td>\n",
       "    </tr>\n",
       "    <tr>\n",
       "      <th>0</th>\n",
       "      <td>Logistic Regression</td>\n",
       "      <td>85.600000</td>\n",
       "      <td>0.672923</td>\n",
       "      <td>0.926114</td>\n",
       "      <td>0.746088</td>\n",
       "    </tr>\n",
       "  </tbody>\n",
       "</table>\n",
       "</div>"
      ],
      "text/plain": [
       "                                 Model   Accuracy  Precision    Recall  \\\n",
       "1  Logistic Regression with Test SMOTE  93.344156   0.935200  0.933442   \n",
       "3                        Random Forest  94.533333   0.836299  0.918167   \n",
       "2                        Decision Tree  91.200000   0.776051  0.899490   \n",
       "5                                  KNN  89.600000   0.730174  0.929477   \n",
       "6                          Niave Byaes  89.600000   0.730174  0.929477   \n",
       "4                                  SVM  88.000000   0.705301  0.929198   \n",
       "0                  Logistic Regression  85.600000   0.672923  0.926114   \n",
       "\n",
       "         F1  \n",
       "1  0.932194  \n",
       "3  0.868523  \n",
       "2  0.826413  \n",
       "5  0.798520  \n",
       "6  0.798520  \n",
       "4  0.778462  \n",
       "0  0.746088  "
      ]
     },
     "execution_count": 443,
     "metadata": {},
     "output_type": "execute_result"
    }
   ],
   "source": [
    "#Displaying all the results from the model\n",
    "model_results = pd.DataFrame(list_1, columns= ['Model', 'Accuracy', 'Precision', 'Recall', 'F1'])\n",
    "model_results.sort_values(by= ['F1'], inplace= True, ascending= False)\n",
    "model_results\n"
   ]
  },
  {
   "cell_type": "code",
   "execution_count": null,
   "metadata": {},
   "outputs": [],
   "source": []
  },
  {
   "cell_type": "code",
   "execution_count": null,
   "metadata": {},
   "outputs": [],
   "source": []
  },
  {
   "cell_type": "code",
   "execution_count": null,
   "metadata": {},
   "outputs": [],
   "source": []
  },
  {
   "cell_type": "code",
   "execution_count": null,
   "metadata": {},
   "outputs": [],
   "source": []
  },
  {
   "cell_type": "code",
   "execution_count": null,
   "metadata": {},
   "outputs": [],
   "source": []
  }
 ],
 "metadata": {
  "interpreter": {
   "hash": "e9292ea86ddae4deca668d01fcf516d5d89bf271153c9a9a4d4b10b3d781426d"
  },
  "kernelspec": {
   "display_name": "Python 3.9.7 64-bit",
   "language": "python",
   "name": "python3"
  },
  "language_info": {
   "codemirror_mode": {
    "name": "ipython",
    "version": 3
   },
   "file_extension": ".py",
   "mimetype": "text/x-python",
   "name": "python",
   "nbconvert_exporter": "python",
   "pygments_lexer": "ipython3",
   "version": "3.9.7"
  },
  "orig_nbformat": 4
 },
 "nbformat": 4,
 "nbformat_minor": 2
}
