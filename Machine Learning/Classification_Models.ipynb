{
 "cells": [
  {
   "cell_type": "code",
   "execution_count": 2,
   "metadata": {},
   "outputs": [],
   "source": [
    "#Libraries\n",
    "import numpy as np \n",
    "import pandas as pd \n",
    "import yfinance as yf\n",
    "import matplotlib.pyplot as plt\n",
    "from datetime import date\n",
    "import pandas_datareader as data\n",
    "from pandas_datareader import *\n",
    "import math\n",
    "import seaborn as sns\n",
    "import warnings\n",
    "warnings.simplefilter(action='ignore', category=FutureWarning)\n",
    "\n",
    "#Models\n",
    "from sklearn.linear_model import LogisticRegression\n",
    "from sklearn.naive_bayes import GaussianNB\n",
    "from sklearn.linear_model import SGDClassifier\n",
    "from sklearn.neighbors import KNeighborsClassifier\n",
    "from sklearn.tree import DecisionTreeClassifier\n",
    "from sklearn.ensemble import RandomForestClassifier\n",
    "from sklearn.svm import SVC\n",
    "from sklearn.neural_network import MLPClassifier\n",
    "from sklearn.model_selection import StratifiedKFold\n",
    "from sklearn.model_selection import KFold\n",
    "\n",
    "\n",
    "#Model Result Analysis\n",
    "from sklearn.metrics import accuracy_score, confusion_matrix, roc_auc_score, ConfusionMatrixDisplay, precision_score, recall_score, f1_score, classification_report, roc_curve, plot_roc_curve, auc, precision_recall_curve, plot_precision_recall_curve, average_precision_score\n",
    "from sklearn.model_selection import cross_val_score"
   ]
  },
  {
   "cell_type": "code",
   "execution_count": 3,
   "metadata": {},
   "outputs": [
    {
     "data": {
      "text/html": [
       "<div>\n",
       "<style scoped>\n",
       "    .dataframe tbody tr th:only-of-type {\n",
       "        vertical-align: middle;\n",
       "    }\n",
       "\n",
       "    .dataframe tbody tr th {\n",
       "        vertical-align: top;\n",
       "    }\n",
       "\n",
       "    .dataframe thead th {\n",
       "        text-align: right;\n",
       "    }\n",
       "</style>\n",
       "<table border=\"1\" class=\"dataframe\">\n",
       "  <thead>\n",
       "    <tr style=\"text-align: right;\">\n",
       "      <th></th>\n",
       "      <th>Open</th>\n",
       "      <th>High</th>\n",
       "      <th>Low</th>\n",
       "      <th>Close</th>\n",
       "      <th>Volume</th>\n",
       "      <th>Dividends</th>\n",
       "      <th>Stock Splits</th>\n",
       "    </tr>\n",
       "    <tr>\n",
       "      <th>Date</th>\n",
       "      <th></th>\n",
       "      <th></th>\n",
       "      <th></th>\n",
       "      <th></th>\n",
       "      <th></th>\n",
       "      <th></th>\n",
       "      <th></th>\n",
       "    </tr>\n",
       "  </thead>\n",
       "  <tbody>\n",
       "    <tr>\n",
       "      <th>2022-04-20</th>\n",
       "      <td>168.759995</td>\n",
       "      <td>168.880005</td>\n",
       "      <td>166.100006</td>\n",
       "      <td>167.229996</td>\n",
       "      <td>67929800</td>\n",
       "      <td>0.0</td>\n",
       "      <td>0.0</td>\n",
       "    </tr>\n",
       "    <tr>\n",
       "      <th>2022-04-21</th>\n",
       "      <td>168.910004</td>\n",
       "      <td>171.529999</td>\n",
       "      <td>165.910004</td>\n",
       "      <td>166.419998</td>\n",
       "      <td>87227800</td>\n",
       "      <td>0.0</td>\n",
       "      <td>0.0</td>\n",
       "    </tr>\n",
       "    <tr>\n",
       "      <th>2022-04-22</th>\n",
       "      <td>166.460007</td>\n",
       "      <td>167.869995</td>\n",
       "      <td>161.500000</td>\n",
       "      <td>161.789993</td>\n",
       "      <td>84882400</td>\n",
       "      <td>0.0</td>\n",
       "      <td>0.0</td>\n",
       "    </tr>\n",
       "    <tr>\n",
       "      <th>2022-04-25</th>\n",
       "      <td>161.119995</td>\n",
       "      <td>163.169998</td>\n",
       "      <td>158.460007</td>\n",
       "      <td>162.880005</td>\n",
       "      <td>96046400</td>\n",
       "      <td>0.0</td>\n",
       "      <td>0.0</td>\n",
       "    </tr>\n",
       "    <tr>\n",
       "      <th>2022-04-26</th>\n",
       "      <td>162.250000</td>\n",
       "      <td>162.339996</td>\n",
       "      <td>156.720001</td>\n",
       "      <td>156.800003</td>\n",
       "      <td>95623200</td>\n",
       "      <td>0.0</td>\n",
       "      <td>0.0</td>\n",
       "    </tr>\n",
       "    <tr>\n",
       "      <th>2022-04-27</th>\n",
       "      <td>155.910004</td>\n",
       "      <td>159.789993</td>\n",
       "      <td>155.380005</td>\n",
       "      <td>156.570007</td>\n",
       "      <td>88063200</td>\n",
       "      <td>0.0</td>\n",
       "      <td>0.0</td>\n",
       "    </tr>\n",
       "    <tr>\n",
       "      <th>2022-04-28</th>\n",
       "      <td>159.250000</td>\n",
       "      <td>164.520004</td>\n",
       "      <td>158.929993</td>\n",
       "      <td>163.639999</td>\n",
       "      <td>130216800</td>\n",
       "      <td>0.0</td>\n",
       "      <td>0.0</td>\n",
       "    </tr>\n",
       "    <tr>\n",
       "      <th>2022-04-29</th>\n",
       "      <td>161.839996</td>\n",
       "      <td>166.199997</td>\n",
       "      <td>157.250000</td>\n",
       "      <td>157.649994</td>\n",
       "      <td>131587100</td>\n",
       "      <td>0.0</td>\n",
       "      <td>0.0</td>\n",
       "    </tr>\n",
       "    <tr>\n",
       "      <th>2022-05-02</th>\n",
       "      <td>156.710007</td>\n",
       "      <td>158.229996</td>\n",
       "      <td>153.270004</td>\n",
       "      <td>157.960007</td>\n",
       "      <td>123055300</td>\n",
       "      <td>0.0</td>\n",
       "      <td>0.0</td>\n",
       "    </tr>\n",
       "    <tr>\n",
       "      <th>2022-05-03</th>\n",
       "      <td>158.149994</td>\n",
       "      <td>160.649994</td>\n",
       "      <td>156.320007</td>\n",
       "      <td>159.479996</td>\n",
       "      <td>86935951</td>\n",
       "      <td>0.0</td>\n",
       "      <td>0.0</td>\n",
       "    </tr>\n",
       "  </tbody>\n",
       "</table>\n",
       "</div>"
      ],
      "text/plain": [
       "                  Open        High         Low       Close     Volume  \\\n",
       "Date                                                                    \n",
       "2022-04-20  168.759995  168.880005  166.100006  167.229996   67929800   \n",
       "2022-04-21  168.910004  171.529999  165.910004  166.419998   87227800   \n",
       "2022-04-22  166.460007  167.869995  161.500000  161.789993   84882400   \n",
       "2022-04-25  161.119995  163.169998  158.460007  162.880005   96046400   \n",
       "2022-04-26  162.250000  162.339996  156.720001  156.800003   95623200   \n",
       "2022-04-27  155.910004  159.789993  155.380005  156.570007   88063200   \n",
       "2022-04-28  159.250000  164.520004  158.929993  163.639999  130216800   \n",
       "2022-04-29  161.839996  166.199997  157.250000  157.649994  131587100   \n",
       "2022-05-02  156.710007  158.229996  153.270004  157.960007  123055300   \n",
       "2022-05-03  158.149994  160.649994  156.320007  159.479996   86935951   \n",
       "\n",
       "            Dividends  Stock Splits  \n",
       "Date                                 \n",
       "2022-04-20        0.0           0.0  \n",
       "2022-04-21        0.0           0.0  \n",
       "2022-04-22        0.0           0.0  \n",
       "2022-04-25        0.0           0.0  \n",
       "2022-04-26        0.0           0.0  \n",
       "2022-04-27        0.0           0.0  \n",
       "2022-04-28        0.0           0.0  \n",
       "2022-04-29        0.0           0.0  \n",
       "2022-05-02        0.0           0.0  \n",
       "2022-05-03        0.0           0.0  "
      ]
     },
     "execution_count": 3,
     "metadata": {},
     "output_type": "execute_result"
    }
   ],
   "source": [
    "#Scraping Dataset from Yahoo Finance using yfinance\n",
    "#Getting data for the Apple Stock\n",
    "aapl = yf.Ticker(\"AAPL\")\n",
    "\n",
    "# Apple Company Information\n",
    "# aapl.info\n",
    "\n",
    "# Apple's Historical Stock Prices (10 Year Period)\n",
    "aapl.dataset = aapl.history(period=\"10y\")\n",
    "\n",
    "aapl.dataset.tail(10)"
   ]
  },
  {
   "cell_type": "code",
   "execution_count": 4,
   "metadata": {},
   "outputs": [
    {
     "data": {
      "text/plain": [
       "(2516, 7)"
      ]
     },
     "execution_count": 4,
     "metadata": {},
     "output_type": "execute_result"
    }
   ],
   "source": [
    "#Dataframe basic information on rows and columns\n",
    "aapl.dataset.shape"
   ]
  },
  {
   "cell_type": "code",
   "execution_count": 5,
   "metadata": {},
   "outputs": [
    {
     "data": {
      "text/html": [
       "<div>\n",
       "<style scoped>\n",
       "    .dataframe tbody tr th:only-of-type {\n",
       "        vertical-align: middle;\n",
       "    }\n",
       "\n",
       "    .dataframe tbody tr th {\n",
       "        vertical-align: top;\n",
       "    }\n",
       "\n",
       "    .dataframe thead th {\n",
       "        text-align: right;\n",
       "    }\n",
       "</style>\n",
       "<table border=\"1\" class=\"dataframe\">\n",
       "  <thead>\n",
       "    <tr style=\"text-align: right;\">\n",
       "      <th></th>\n",
       "      <th>Open</th>\n",
       "      <th>High</th>\n",
       "      <th>Low</th>\n",
       "      <th>Close</th>\n",
       "      <th>Volume</th>\n",
       "    </tr>\n",
       "    <tr>\n",
       "      <th>Date</th>\n",
       "      <th></th>\n",
       "      <th></th>\n",
       "      <th></th>\n",
       "      <th></th>\n",
       "      <th></th>\n",
       "    </tr>\n",
       "  </thead>\n",
       "  <tbody>\n",
       "    <tr>\n",
       "      <th>2012-05-04</th>\n",
       "      <td>17.647808</td>\n",
       "      <td>17.686951</td>\n",
       "      <td>17.283585</td>\n",
       "      <td>17.286032</td>\n",
       "      <td>529992400</td>\n",
       "    </tr>\n",
       "    <tr>\n",
       "      <th>2012-05-07</th>\n",
       "      <td>17.171361</td>\n",
       "      <td>17.516012</td>\n",
       "      <td>17.163104</td>\n",
       "      <td>17.415400</td>\n",
       "      <td>460118400</td>\n",
       "    </tr>\n",
       "    <tr>\n",
       "      <th>2012-05-08</th>\n",
       "      <td>17.418454</td>\n",
       "      <td>17.477170</td>\n",
       "      <td>17.086649</td>\n",
       "      <td>17.375641</td>\n",
       "      <td>497252000</td>\n",
       "    </tr>\n",
       "    <tr>\n",
       "      <th>2012-05-09</th>\n",
       "      <td>17.238635</td>\n",
       "      <td>17.553011</td>\n",
       "      <td>17.151479</td>\n",
       "      <td>17.406219</td>\n",
       "      <td>480704000</td>\n",
       "    </tr>\n",
       "    <tr>\n",
       "      <th>2012-05-10</th>\n",
       "      <td>17.571363</td>\n",
       "      <td>17.611119</td>\n",
       "      <td>17.383596</td>\n",
       "      <td>17.447203</td>\n",
       "      <td>333200000</td>\n",
       "    </tr>\n",
       "    <tr>\n",
       "      <th>...</th>\n",
       "      <td>...</td>\n",
       "      <td>...</td>\n",
       "      <td>...</td>\n",
       "      <td>...</td>\n",
       "      <td>...</td>\n",
       "    </tr>\n",
       "    <tr>\n",
       "      <th>2022-04-27</th>\n",
       "      <td>155.910004</td>\n",
       "      <td>159.789993</td>\n",
       "      <td>155.380005</td>\n",
       "      <td>156.570007</td>\n",
       "      <td>88063200</td>\n",
       "    </tr>\n",
       "    <tr>\n",
       "      <th>2022-04-28</th>\n",
       "      <td>159.250000</td>\n",
       "      <td>164.520004</td>\n",
       "      <td>158.929993</td>\n",
       "      <td>163.639999</td>\n",
       "      <td>130216800</td>\n",
       "    </tr>\n",
       "    <tr>\n",
       "      <th>2022-04-29</th>\n",
       "      <td>161.839996</td>\n",
       "      <td>166.199997</td>\n",
       "      <td>157.250000</td>\n",
       "      <td>157.649994</td>\n",
       "      <td>131587100</td>\n",
       "    </tr>\n",
       "    <tr>\n",
       "      <th>2022-05-02</th>\n",
       "      <td>156.710007</td>\n",
       "      <td>158.229996</td>\n",
       "      <td>153.270004</td>\n",
       "      <td>157.960007</td>\n",
       "      <td>123055300</td>\n",
       "    </tr>\n",
       "    <tr>\n",
       "      <th>2022-05-03</th>\n",
       "      <td>158.149994</td>\n",
       "      <td>160.649994</td>\n",
       "      <td>156.320007</td>\n",
       "      <td>159.479996</td>\n",
       "      <td>86935951</td>\n",
       "    </tr>\n",
       "  </tbody>\n",
       "</table>\n",
       "<p>2516 rows × 5 columns</p>\n",
       "</div>"
      ],
      "text/plain": [
       "                  Open        High         Low       Close     Volume\n",
       "Date                                                                 \n",
       "2012-05-04   17.647808   17.686951   17.283585   17.286032  529992400\n",
       "2012-05-07   17.171361   17.516012   17.163104   17.415400  460118400\n",
       "2012-05-08   17.418454   17.477170   17.086649   17.375641  497252000\n",
       "2012-05-09   17.238635   17.553011   17.151479   17.406219  480704000\n",
       "2012-05-10   17.571363   17.611119   17.383596   17.447203  333200000\n",
       "...                ...         ...         ...         ...        ...\n",
       "2022-04-27  155.910004  159.789993  155.380005  156.570007   88063200\n",
       "2022-04-28  159.250000  164.520004  158.929993  163.639999  130216800\n",
       "2022-04-29  161.839996  166.199997  157.250000  157.649994  131587100\n",
       "2022-05-02  156.710007  158.229996  153.270004  157.960007  123055300\n",
       "2022-05-03  158.149994  160.649994  156.320007  159.479996   86935951\n",
       "\n",
       "[2516 rows x 5 columns]"
      ]
     },
     "execution_count": 5,
     "metadata": {},
     "output_type": "execute_result"
    }
   ],
   "source": [
    "#Dropped Columns 'Dividends' and 'Stock Splits'\n",
    "aapl.dataset.drop(['Dividends', 'Stock Splits'], axis=1)"
   ]
  },
  {
   "cell_type": "code",
   "execution_count": 6,
   "metadata": {},
   "outputs": [
    {
     "data": {
      "text/html": [
       "<div>\n",
       "<style scoped>\n",
       "    .dataframe tbody tr th:only-of-type {\n",
       "        vertical-align: middle;\n",
       "    }\n",
       "\n",
       "    .dataframe tbody tr th {\n",
       "        vertical-align: top;\n",
       "    }\n",
       "\n",
       "    .dataframe thead th {\n",
       "        text-align: right;\n",
       "    }\n",
       "</style>\n",
       "<table border=\"1\" class=\"dataframe\">\n",
       "  <thead>\n",
       "    <tr style=\"text-align: right;\">\n",
       "      <th></th>\n",
       "      <th>Open</th>\n",
       "      <th>Close</th>\n",
       "      <th>High</th>\n",
       "      <th>Low</th>\n",
       "      <th>Volume</th>\n",
       "    </tr>\n",
       "    <tr>\n",
       "      <th>Date</th>\n",
       "      <th></th>\n",
       "      <th></th>\n",
       "      <th></th>\n",
       "      <th></th>\n",
       "      <th></th>\n",
       "    </tr>\n",
       "  </thead>\n",
       "  <tbody>\n",
       "    <tr>\n",
       "      <th>2022-04-27</th>\n",
       "      <td>155.910004</td>\n",
       "      <td>156.570007</td>\n",
       "      <td>159.789993</td>\n",
       "      <td>155.380005</td>\n",
       "      <td>88063200</td>\n",
       "    </tr>\n",
       "    <tr>\n",
       "      <th>2022-04-28</th>\n",
       "      <td>159.250000</td>\n",
       "      <td>163.639999</td>\n",
       "      <td>164.520004</td>\n",
       "      <td>158.929993</td>\n",
       "      <td>130216800</td>\n",
       "    </tr>\n",
       "    <tr>\n",
       "      <th>2022-04-29</th>\n",
       "      <td>161.839996</td>\n",
       "      <td>157.649994</td>\n",
       "      <td>166.199997</td>\n",
       "      <td>157.250000</td>\n",
       "      <td>131587100</td>\n",
       "    </tr>\n",
       "    <tr>\n",
       "      <th>2022-05-02</th>\n",
       "      <td>156.710007</td>\n",
       "      <td>157.960007</td>\n",
       "      <td>158.229996</td>\n",
       "      <td>153.270004</td>\n",
       "      <td>123055300</td>\n",
       "    </tr>\n",
       "    <tr>\n",
       "      <th>2022-05-03</th>\n",
       "      <td>158.149994</td>\n",
       "      <td>159.479996</td>\n",
       "      <td>160.649994</td>\n",
       "      <td>156.320007</td>\n",
       "      <td>86935951</td>\n",
       "    </tr>\n",
       "  </tbody>\n",
       "</table>\n",
       "</div>"
      ],
      "text/plain": [
       "                  Open       Close        High         Low     Volume\n",
       "Date                                                                 \n",
       "2022-04-27  155.910004  156.570007  159.789993  155.380005   88063200\n",
       "2022-04-28  159.250000  163.639999  164.520004  158.929993  130216800\n",
       "2022-04-29  161.839996  157.649994  166.199997  157.250000  131587100\n",
       "2022-05-02  156.710007  157.960007  158.229996  153.270004  123055300\n",
       "2022-05-03  158.149994  159.479996  160.649994  156.320007   86935951"
      ]
     },
     "execution_count": 6,
     "metadata": {},
     "output_type": "execute_result"
    }
   ],
   "source": [
    "#YFinance Bug- Dropped columns appears after being dropped so copying into new dataset\n",
    "dataset = aapl.dataset [['Open', 'Close', 'High', 'Low','Volume']].copy()\n",
    "dataset.tail()"
   ]
  },
  {
   "cell_type": "markdown",
   "metadata": {},
   "source": [
    "ADDING TECHNICAL INDICATORS TO DATASET"
   ]
  },
  {
   "cell_type": "markdown",
   "metadata": {},
   "source": [
    "Stochastic Oscillator Indicator"
   ]
  },
  {
   "cell_type": "code",
   "execution_count": 7,
   "metadata": {},
   "outputs": [],
   "source": [
    "# Calculating %K and %D\n",
    "dataset['14-high'] = dataset['High'].rolling(14).max()\n",
    "dataset['14-low'] = dataset['Low'].rolling(14).min()\n",
    "dataset['%K'] = (dataset['Close'] - dataset['14-low'])*100/(dataset['14-high'] - dataset['14-low'])\n",
    "dataset['%D'] = dataset['%K'].rolling(3).mean()\n"
   ]
  },
  {
   "cell_type": "code",
   "execution_count": 8,
   "metadata": {},
   "outputs": [],
   "source": [
    "#Dropping 14-HIGH AND 14-LOW COLUMNS\n",
    "dataset.drop(['14-high', '14-low'], axis = 1, inplace=True)"
   ]
  },
  {
   "cell_type": "code",
   "execution_count": 9,
   "metadata": {},
   "outputs": [
    {
     "data": {
      "image/png": "[encoded data removed]",
      "text/plain": [
       "<Figure size 864x360 with 1 Axes>"
      ]
     },
     "metadata": {
      "needs_background": "light"
     },
     "output_type": "display_data"
    }
   ],
   "source": [
    "#Plotting SO Graph\n",
    "plt.figure(figsize=(12, 5))\n",
    "plt.title(' Stochastic Oscillator for AAPL')\n",
    "plt.xlabel('Months')\n",
    "plt.plot(dataset['%K'], label='%K', c='black')\n",
    "plt.plot(dataset['%D'], label='%D',  c='yellow')\n",
    "plt.axhline(20, linestyle='--', color=\"r\")\n",
    "plt.axhline(80, linestyle=\"--\", color=\"r\")\n",
    "plt.legend()\n",
    "plt.show()\n"
   ]
  },
  {
   "cell_type": "code",
   "execution_count": 10,
   "metadata": {},
   "outputs": [],
   "source": [
    "# Adding Buy/Sell Signals from Sotchastic Oscillator Indicator\n",
    "def categorise_so(row):  \n",
    "    if row['%K'] <= 20 and row['%D'] <= 20:\n",
    "        return 'Buy'\n",
    "    elif row['%K'] >= 80 and  row['%D']>= 80:\n",
    "        return 'Sell'\n",
    "    else:\n",
    "        return 'Hold'\n",
    "\n",
    "    \n",
    "   \n",
    "dataset['SO Indicator'] = dataset.apply(lambda row: categorise_so(row), axis=1)\n"
   ]
  },
  {
   "cell_type": "code",
   "execution_count": 11,
   "metadata": {},
   "outputs": [
    {
     "name": "stdout",
     "output_type": "stream",
     "text": [
      "Hold    1552\n",
      "Sell     725\n",
      "Buy      239\n",
      "Name: SO Indicator, dtype: int64\n"
     ]
    }
   ],
   "source": [
    "# Distrubition of the Indicator\n",
    "print(dataset['SO Indicator'].value_counts())"
   ]
  },
  {
   "cell_type": "code",
   "execution_count": 12,
   "metadata": {},
   "outputs": [
    {
     "data": {
      "image/png": "[encoded data removed]",
      "text/plain": [
       "<Figure size 432x288 with 1 Axes>"
      ]
     },
     "metadata": {},
     "output_type": "display_data"
    }
   ],
   "source": [
    "#Distrubition of the SO Indicator\n",
    "labels = [\"Hold\", \"Sell\", \"Buy\"]\n",
    "values = dataset['SO Indicator'].value_counts().tolist()\n",
    "colours = sns.color_palette(\"pastel\")\n",
    "plt.pie(x=values, labels=labels, autopct='%.0f%%', colors= colours, shadow=True, rotatelabels='true')\n",
    "plt.title(\"Distribution of Buy/Sell/Hold Signals from SO\")\n",
    "plt.show()"
   ]
  },
  {
   "cell_type": "markdown",
   "metadata": {},
   "source": [
    "Relative Strength Index"
   ]
  },
  {
   "cell_type": "code",
   "execution_count": 13,
   "metadata": {},
   "outputs": [],
   "source": [
    "delta = dataset['Close'].diff()\n",
    "up = delta.clip(lower=0)\n",
    "down = -1*delta.clip(upper=0)\n",
    "ema_up = up.ewm(com=13, adjust=False).mean()\n",
    "ema_down = down.ewm(com=13, adjust=False).mean()\n",
    "rs = ema_up/ema_down\n",
    "dataset['RSI'] = 100 - (100/(1 + rs))"
   ]
  },
  {
   "cell_type": "code",
   "execution_count": 14,
   "metadata": {},
   "outputs": [
    {
     "data": {
      "image/png": "[encoded data removed]",
      "text/plain": [
       "<Figure size 864x360 with 1 Axes>"
      ]
     },
     "metadata": {
      "needs_background": "light"
     },
     "output_type": "display_data"
    }
   ],
   "source": [
    "#Plotting RSI Graph\n",
    "plt.figure(figsize=(12, 5))\n",
    "plt.title(' RSI for AAPL')\n",
    "plt.xlabel('Months')\n",
    "plt.plot(dataset['RSI'], label='RSI')\n",
    "plt.axhline(30, linestyle='--', color=\"r\")\n",
    "plt.axhline(70, linestyle=\"--\", color=\"r\")\n",
    "plt.legend()\n",
    "plt.show()\n",
    "\n"
   ]
  },
  {
   "cell_type": "code",
   "execution_count": 15,
   "metadata": {},
   "outputs": [],
   "source": [
    "# Adding Buy/Sell Signals from RSI Indicator\n",
    "def categorise_rsi(row):  \n",
    "    if row['RSI'] <= 30:\n",
    "        return 'Buy'\n",
    "    elif row['RSI'] >= 70:\n",
    "        return 'Sell'\n",
    "    else:\n",
    "        return 'Hold'\n",
    "  \n",
    "dataset['RSI Indicator'] = dataset.apply(lambda row: categorise_rsi(row), axis=1)"
   ]
  },
  {
   "cell_type": "code",
   "execution_count": 16,
   "metadata": {},
   "outputs": [
    {
     "name": "stdout",
     "output_type": "stream",
     "text": [
      "Hold    2085\n",
      "Sell     369\n",
      "Buy       62\n",
      "Name: RSI Indicator, dtype: int64\n"
     ]
    }
   ],
   "source": [
    "# Distrubition of the Indicator\n",
    "print(dataset['RSI Indicator'].value_counts())"
   ]
  },
  {
   "cell_type": "code",
   "execution_count": 17,
   "metadata": {},
   "outputs": [
    {
     "data": {
      "image/png": "[encoded data removed]",
      "text/plain": [
       "<Figure size 576x396 with 1 Axes>"
      ]
     },
     "metadata": {},
     "output_type": "display_data"
    }
   ],
   "source": [
    "#Distrubition of the Indicator\n",
    "labels = [\"Hold\", \"Sell\", \"Buy\"]\n",
    "values = dataset['RSI Indicator'].value_counts().tolist()\n",
    "plt.style.use(\"seaborn\")\n",
    "colours = sns.color_palette(\"Set3\")\n",
    "plt.pie(x=values, labels=labels, autopct='%.0f%%', colors= colours, shadow=True, rotatelabels='true')\n",
    "plt.title(\"Distribution of Buy/Sell/Hold Signals from RSI\", fontdict={'fontsize': 14})\n",
    "plt.show()"
   ]
  },
  {
   "cell_type": "markdown",
   "metadata": {},
   "source": [
    "Bollinger Bands"
   ]
  },
  {
   "cell_type": "code",
   "execution_count": 18,
   "metadata": {},
   "outputs": [
    {
     "data": {
      "image/png": "[encoded data removed]",
      "text/plain": [
       "<Figure size 864x360 with 1 Axes>"
      ]
     },
     "metadata": {},
     "output_type": "display_data"
    }
   ],
   "source": [
    "def get_sma(prices, rate):\n",
    "    return prices.rolling(rate).mean()\n",
    "\n",
    "def get_bollinger_bands(prices, rate=20):\n",
    "    # SMA for 20 Days (Middle Band)\n",
    "    sma = get_sma(prices, rate)\n",
    "    std = prices.rolling(rate).std()\n",
    "\n",
    "    # Calculating Upper Band\n",
    "    bollinger_upper = sma + (std * 2 )\n",
    "\n",
    "    # Calculate Lower Band\n",
    "    bollinger_lower = sma - (std * 2 )\n",
    "\n",
    "    #Middle Band\n",
    "    bollinger_middle = sma\n",
    "    return bollinger_upper, bollinger_lower, bollinger_middle\n",
    "\n",
    "\n",
    "closing_prices = dataset['Close']\n",
    "bollinger_upper, bollinger_lower, bollinger_middle = get_bollinger_bands(closing_prices)\n",
    "\n",
    "#Plotting the  Bollinger Bands\n",
    "plt.figure(figsize=(12, 5))\n",
    "plt.title(' Bollinger Bands for AAPL')\n",
    "plt.xlabel('Months')\n",
    "plt.ylabel('Closing Prices')\n",
    "plt.plot(closing_prices, label='Price')\n",
    "plt.plot(bollinger_upper, label='Upper Band', c='g')\n",
    "plt.plot(bollinger_lower, label='Lower Band', c='r')\n",
    "plt.plot(bollinger_middle, label='Middle Band', c='y')\n",
    "\n",
    "plt.legend()\n",
    "plt.show()"
   ]
  },
  {
   "cell_type": "code",
   "execution_count": 19,
   "metadata": {},
   "outputs": [],
   "source": [
    "#Adding Bollinger Bands to the Dataset\n",
    "dataset['Bollinger_Upper'] = bollinger_upper\n",
    "dataset['Bollinger_Lower'] = bollinger_lower\n"
   ]
  },
  {
   "cell_type": "code",
   "execution_count": 20,
   "metadata": {},
   "outputs": [],
   "source": [
    "# Adding Buy/Sell Signals from Bollinger Bands Indicator\n",
    "def categorise_bollinger(row):  \n",
    "    if row['Close'] < row['Bollinger_Lower']:\n",
    "        return 'Buy'\n",
    "    elif row['Close'] > row['Bollinger_Upper']:\n",
    "        return 'Sell'\n",
    "    else:\n",
    "        return 'Hold'\n",
    "    \n",
    "   \n",
    "dataset['Bollinger Indicator'] = dataset.apply(lambda row: categorise_bollinger(row), axis=1)\n"
   ]
  },
  {
   "cell_type": "code",
   "execution_count": 21,
   "metadata": {},
   "outputs": [
    {
     "name": "stdout",
     "output_type": "stream",
     "text": [
      "Hold    2218\n",
      "Sell     188\n",
      "Buy      110\n",
      "Name: Bollinger Indicator, dtype: int64\n"
     ]
    }
   ],
   "source": [
    "# Distrubition of the Indicator\n",
    "print(dataset['Bollinger Indicator'].value_counts())"
   ]
  },
  {
   "cell_type": "code",
   "execution_count": 22,
   "metadata": {},
   "outputs": [
    {
     "data": {
      "image/png": "[encoded data removed]",
      "text/plain": [
       "<Figure size 576x396 with 1 Axes>"
      ]
     },
     "metadata": {},
     "output_type": "display_data"
    }
   ],
   "source": [
    "#Distrubition of the Indicator\n",
    "labels = [\"Hold\", \"Sell\", \"Buy\"]\n",
    "values = dataset['Bollinger Indicator'].value_counts().tolist()\n",
    "plt.style.use(\"seaborn\")\n",
    "colours = sns.color_palette(\"Set2\")\n",
    "plt.pie(x=values, labels=labels, autopct='%.0f%%', colors= colours, shadow=True, rotatelabels='true')\n",
    "plt.title(\"Distribution of Buy/Sell/Hold Signals from Bollinger Indicator\", fontdict={'fontsize': 14})\n",
    "plt.show()"
   ]
  },
  {
   "cell_type": "markdown",
   "metadata": {},
   "source": [
    "Moving Average Convergence Divergence"
   ]
  },
  {
   "cell_type": "code",
   "execution_count": 23,
   "metadata": {},
   "outputs": [],
   "source": [
    "# Calculating the MACD Line and the Signal Line\n",
    "ema12 = dataset['Close'].ewm(span=12, adjust=False).mean()\n",
    "ema26 = dataset['Close'].ewm(span=26, adjust=False).mean()\n",
    "macd = ema12 - ema26\n",
    "signal = macd.ewm(span=9, adjust=False).mean()\n",
    "\n",
    "\n",
    "#Appeding the MACD and Signal Data to Dataset\n",
    "dataset['MACD'] = macd\n",
    "dataset['Signal'] = signal\n"
   ]
  },
  {
   "cell_type": "code",
   "execution_count": 24,
   "metadata": {},
   "outputs": [],
   "source": [
    "# Adding Buy/Sell Signals from MACD\n",
    "signal = []\n",
    "\n",
    "for i in range(len(dataset)):\n",
    "   if dataset['MACD'][i] > dataset['Signal'][i] and dataset['MACD'][i-1] < dataset['Signal'][i-1]:\n",
    "      signal.append('Buy')\n",
    "   elif dataset['MACD'][i] < dataset['Signal'][i] and dataset['MACD'][i-1] > dataset['Signal'][i-1]:\n",
    "      signal.append('Sell')\n",
    "   else:\n",
    "      signal.append('Hold')\n",
    "\n",
    "  \n",
    "    \n",
    "dataset['MACD Indicator'] = signal"
   ]
  },
  {
   "cell_type": "code",
   "execution_count": 25,
   "metadata": {},
   "outputs": [
    {
     "name": "stdout",
     "output_type": "stream",
     "text": [
      "Hold    2341\n",
      "Sell      88\n",
      "Buy       87\n",
      "Name: MACD Indicator, dtype: int64\n"
     ]
    }
   ],
   "source": [
    "# Distrubition of the Indicator\n",
    "print(dataset['MACD Indicator'].value_counts())"
   ]
  },
  {
   "cell_type": "code",
   "execution_count": 26,
   "metadata": {},
   "outputs": [
    {
     "data": {
      "image/png": "[encoded data removed]",
      "text/plain": [
       "<Figure size 576x396 with 1 Axes>"
      ]
     },
     "metadata": {},
     "output_type": "display_data"
    }
   ],
   "source": [
    "#Distrubition of the MACD Indicator\n",
    "labels = [\"Hold\", \"Sell\", \"Buy\"]\n",
    "values = dataset['MACD Indicator'].value_counts().tolist()\n",
    "colours = sns.color_palette(\"pastel\", 10)\n",
    "plt.pie(x=values, labels=labels, autopct='%.0f%%', colors= colours, shadow=True, rotatelabels='true')\n",
    "plt.title(\"Distribution of Buy/Sell/Hold Signals from MACD Indicator\", fontdict={'fontsize': 14})\n",
    "plt.show()"
   ]
  },
  {
   "cell_type": "markdown",
   "metadata": {},
   "source": [
    "Addding Target Variable"
   ]
  },
  {
   "cell_type": "code",
   "execution_count": 27,
   "metadata": {},
   "outputs": [],
   "source": [
    "# Recommender Based on the three indicators\n",
    "def recommender(row): \n",
    "    # If All Share the Same Signal OutPut That Signal (Buy)\n",
    "    if row['RSI Indicator'] == \"Buy\" and row['SO Indicator'] == 'Buy' and  row['Bollinger Indicator'] == 'Buy':\n",
    "        return 'Buy'\n",
    "     # If Any 2 Indicators Share the Same Signal Output That Signal (buy)\n",
    "    elif row['RSI Indicator'] == 'Buy' and row['SO Indicator'] == 'Buy':\n",
    "        return 'Buy'\n",
    "    elif row['RSI Indicator'] == 'Buy' and row['Bollinger Indicator'] == 'Buy':\n",
    "        return 'Buy'\n",
    "    elif row['SO Indicator'] == 'Buy' and row['Bollinger Indicator'] == 'Buy':\n",
    "        return 'Buy'   \n",
    "    # If All Share the Same Signal Output That Signal (Sell)\n",
    "    elif row['RSI Indicator'] == 'Sell' and row['SO Indicator'] == 'Sell' and  row['Bollinger Indicator'] == 'Sell':\n",
    "        return 'Sell'\n",
    "    # If Any 2 Indicators Share the Same Signal Output That Signal (Sell)\n",
    "    elif row['RSI Indicator'] == 'Sell' and row['SO Indicator'] == 'Sell':\n",
    "        return 'Sell'\n",
    "    elif row['RSI Indicator'] == 'Sell' and row['Bollinger Indicator'] == 'Sell':\n",
    "        return 'Sell'\n",
    "    elif row['SO Indicator'] == 'Sell' and row['Bollinger Indicator'] == 'Sell':\n",
    "        return 'Sell'    \n",
    "    # If All Share the Same Signal OutPut That Signal (Hold)\n",
    "    elif row['RSI Indicator'] == 'Hold' and row['SO Indicator'] == 'Hold' and  row['Bollinger Indicator'] == 'Hold':\n",
    "        return 'Hold'\n",
    "    # If Any 2 Indicators Share the Same Signal Output That Signal (Hold)\n",
    "    elif row['RSI Indicator'] == 'Hold' and row['SO Indicator'] == 'Hold':\n",
    "        return 'Hold'\n",
    "    elif row['RSI Indicator'] == 'Hold' and row['Bollinger Indicator'] == 'Hold':\n",
    "        return 'Hold'\n",
    "    elif row['SO Indicator'] == 'Hold' and row['Bollinger Indicator'] == 'Hold':\n",
    "        return 'Hold'      \n",
    "    else:\n",
    "        return 'Unclassed'\n",
    "\n",
    "dataset['Recommender'] = dataset.apply(lambda row: recommender(row), axis=1)"
   ]
  },
  {
   "cell_type": "code",
   "execution_count": 28,
   "metadata": {},
   "outputs": [
    {
     "name": "stdout",
     "output_type": "stream",
     "text": [
      "Hold    2015\n",
      "Sell     390\n",
      "Buy      111\n",
      "Name: Recommender, dtype: int64\n"
     ]
    }
   ],
   "source": [
    "# Distrubition of the Recommender\n",
    "print(dataset['Recommender'].value_counts())\n"
   ]
  },
  {
   "cell_type": "code",
   "execution_count": 29,
   "metadata": {},
   "outputs": [
    {
     "data": {
      "image/png": "[encoded data removed]",
      "text/plain": [
       "<Figure size 576x396 with 1 Axes>"
      ]
     },
     "metadata": {},
     "output_type": "display_data"
    }
   ],
   "source": [
    "#Distrubition of the Recommender\n",
    "labels = [\"Hold\", \"Sell\", \"Buy\"]\n",
    "values = dataset['Recommender'].value_counts().tolist()\n",
    "plt.style.use(\"seaborn\")\n",
    "colours = sns.color_palette(\"colorblind\" )\n",
    "plt.pie(x=values, labels=labels, autopct='%.0f%%', colors= colours, shadow=True, rotatelabels='true')\n",
    "plt.title(\"Distribution of Buy/Sell/Hold Signals: Recommender\", fontdict={'fontsize': 14})\n",
    "plt.show()"
   ]
  },
  {
   "cell_type": "markdown",
   "metadata": {},
   "source": [
    "Data Cleaning and Preprocessing"
   ]
  },
  {
   "cell_type": "code",
   "execution_count": 30,
   "metadata": {},
   "outputs": [],
   "source": [
    "dataset.drop(['RSI Indicator', 'SO Indicator', 'MACD Indicator' , 'Bollinger Indicator'], axis = 1, inplace=True)"
   ]
  },
  {
   "cell_type": "code",
   "execution_count": 31,
   "metadata": {},
   "outputs": [
    {
     "data": {
      "text/plain": [
       "(2516, 13)"
      ]
     },
     "execution_count": 31,
     "metadata": {},
     "output_type": "execute_result"
    }
   ],
   "source": [
    "#Dataset shape after adding all the technical indicators \n",
    "dataset.shape"
   ]
  },
  {
   "cell_type": "code",
   "execution_count": 32,
   "metadata": {},
   "outputs": [
    {
     "data": {
      "text/plain": [
       "Index(['Open', 'Close', 'High', 'Low', 'Volume', '%K', '%D', 'RSI',\n",
       "       'Bollinger_Upper', 'Bollinger_Lower', 'MACD', 'Signal', 'Recommender'],\n",
       "      dtype='object')"
      ]
     },
     "execution_count": 32,
     "metadata": {},
     "output_type": "execute_result"
    }
   ],
   "source": [
    "#Columns After Adding All The Technical Indicators\n",
    "dataset.columns"
   ]
  },
  {
   "cell_type": "code",
   "execution_count": 33,
   "metadata": {},
   "outputs": [
    {
     "name": "stdout",
     "output_type": "stream",
     "text": [
      "<class 'pandas.core.frame.DataFrame'>\n",
      "DatetimeIndex: 2516 entries, 2012-05-04 to 2022-05-03\n",
      "Data columns (total 13 columns):\n",
      " #   Column           Non-Null Count  Dtype  \n",
      "---  ------           --------------  -----  \n",
      " 0   Open             2516 non-null   float64\n",
      " 1   Close            2516 non-null   float64\n",
      " 2   High             2516 non-null   float64\n",
      " 3   Low              2516 non-null   float64\n",
      " 4   Volume           2516 non-null   int64  \n",
      " 5   %K               2503 non-null   float64\n",
      " 6   %D               2501 non-null   float64\n",
      " 7   RSI              2515 non-null   float64\n",
      " 8   Bollinger_Upper  2497 non-null   float64\n",
      " 9   Bollinger_Lower  2497 non-null   float64\n",
      " 10  MACD             2516 non-null   float64\n",
      " 11  Signal           2516 non-null   float64\n",
      " 12  Recommender      2516 non-null   object \n",
      "dtypes: float64(11), int64(1), object(1)\n",
      "memory usage: 275.2+ KB\n"
     ]
    }
   ],
   "source": [
    "#Information regarding the dataset\n",
    "dataset.info()"
   ]
  },
  {
   "cell_type": "code",
   "execution_count": 34,
   "metadata": {},
   "outputs": [
    {
     "data": {
      "text/plain": [
       "Open                0\n",
       "Close               0\n",
       "High                0\n",
       "Low                 0\n",
       "Volume              0\n",
       "%K                 13\n",
       "%D                 15\n",
       "RSI                 1\n",
       "Bollinger_Upper    19\n",
       "Bollinger_Lower    19\n",
       "MACD                0\n",
       "Signal              0\n",
       "Recommender         0\n",
       "dtype: int64"
      ]
     },
     "execution_count": 34,
     "metadata": {},
     "output_type": "execute_result"
    }
   ],
   "source": [
    "#Checking for Null Values\n",
    "dataset.isna().sum()"
   ]
  },
  {
   "cell_type": "code",
   "execution_count": 35,
   "metadata": {},
   "outputs": [
    {
     "data": {
      "text/plain": [
       "Open               0\n",
       "Close              0\n",
       "High               0\n",
       "Low                0\n",
       "Volume             0\n",
       "%K                 0\n",
       "%D                 0\n",
       "RSI                0\n",
       "Bollinger_Upper    0\n",
       "Bollinger_Lower    0\n",
       "MACD               0\n",
       "Signal             0\n",
       "Recommender        0\n",
       "dtype: int64"
      ]
     },
     "execution_count": 35,
     "metadata": {},
     "output_type": "execute_result"
    }
   ],
   "source": [
    "#Dropping Null Values\n",
    "dataset = dataset.dropna()\n",
    "dataset.isna().sum()"
   ]
  },
  {
   "cell_type": "code",
   "execution_count": 36,
   "metadata": {},
   "outputs": [
    {
     "name": "stdout",
     "output_type": "stream",
     "text": [
      "False\n",
      "0\n"
     ]
    }
   ],
   "source": [
    "#let's check if there is any duplicate data\n",
    "print(dataset.duplicated().any())\n",
    "print(dataset.duplicated().sum())"
   ]
  },
  {
   "cell_type": "code",
   "execution_count": 37,
   "metadata": {},
   "outputs": [
    {
     "name": "stdout",
     "output_type": "stream",
     "text": [
      "<class 'pandas.core.frame.DataFrame'>\n",
      "DatetimeIndex: 2497 entries, 2012-06-01 to 2022-05-03\n",
      "Data columns (total 13 columns):\n",
      " #   Column           Non-Null Count  Dtype  \n",
      "---  ------           --------------  -----  \n",
      " 0   Open             2497 non-null   float64\n",
      " 1   Close            2497 non-null   float64\n",
      " 2   High             2497 non-null   float64\n",
      " 3   Low              2497 non-null   float64\n",
      " 4   Volume           2497 non-null   int64  \n",
      " 5   %K               2497 non-null   float64\n",
      " 6   %D               2497 non-null   float64\n",
      " 7   RSI              2497 non-null   float64\n",
      " 8   Bollinger_Upper  2497 non-null   float64\n",
      " 9   Bollinger_Lower  2497 non-null   float64\n",
      " 10  MACD             2497 non-null   float64\n",
      " 11  Signal           2497 non-null   float64\n",
      " 12  Recommender      2497 non-null   object \n",
      "dtypes: float64(11), int64(1), object(1)\n",
      "memory usage: 273.1+ KB\n"
     ]
    }
   ],
   "source": [
    "#Dataframe after dopping null values\n",
    "dataset.info()"
   ]
  },
  {
   "cell_type": "code",
   "execution_count": 38,
   "metadata": {},
   "outputs": [
    {
     "name": "stdout",
     "output_type": "stream",
     "text": [
      "<class 'pandas.core.frame.DataFrame'>\n",
      "DatetimeIndex: 2497 entries, 2012-06-01 to 2022-05-03\n",
      "Data columns (total 13 columns):\n",
      " #   Column           Non-Null Count  Dtype  \n",
      "---  ------           --------------  -----  \n",
      " 0   Open             2497 non-null   float64\n",
      " 1   Close            2497 non-null   float64\n",
      " 2   High             2497 non-null   float64\n",
      " 3   Low              2497 non-null   float64\n",
      " 4   Volume           2497 non-null   int64  \n",
      " 5   %K               2497 non-null   float64\n",
      " 6   %D               2497 non-null   float64\n",
      " 7   RSI              2497 non-null   float64\n",
      " 8   Bollinger_Upper  2497 non-null   float64\n",
      " 9   Bollinger_Lower  2497 non-null   float64\n",
      " 10  MACD             2497 non-null   float64\n",
      " 11  Signal           2497 non-null   float64\n",
      " 12  Recommender      2497 non-null   int64  \n",
      "dtypes: float64(11), int64(2)\n",
      "memory usage: 273.1 KB\n"
     ]
    }
   ],
   "source": [
    "# #Encode Categorical Variables\n",
    "signal_dict = {'Hold': 0, 'Sell': 1, 'Buy': 2}\n",
    "\n",
    "dataset['Recommender'] = dataset['Recommender'].map(signal_dict)\n",
    "\n",
    "dataset.info()"
   ]
  },
  {
   "cell_type": "code",
   "execution_count": 39,
   "metadata": {},
   "outputs": [],
   "source": [
    "# #Splitting the dataset into training and test sets\n",
    "# #Feature Scaling\n",
    "from sklearn.preprocessing import MinMaxScaler\n",
    "from sklearn.model_selection import train_test_split\n",
    "# from imblearn.over_sampling import SMOTE\n",
    "\n",
    "#Independant and Dependent Variable\n",
    "y=dataset.iloc[:,12:13] #Dependent variable\n",
    "X=dataset.iloc[:,0:12] #Independent variable\n",
    "\n",
    "#Spliting the data into train and test\n",
    "X_train, X_test, y_train, y_test = train_test_split( X, y, test_size=0.3, random_state=42)\n",
    "\n",
    "\n",
    "#Scaling\n",
    "scaler = MinMaxScaler(feature_range=(0,1))\n",
    "X_train = scaler.fit_transform(X_train)\n",
    "X_test = scaler.transform(X_test)"
   ]
  },
  {
   "cell_type": "code",
   "execution_count": 40,
   "metadata": {},
   "outputs": [
    {
     "name": "stdout",
     "output_type": "stream",
     "text": [
      "x_train dataset:  (1747, 12)\n",
      " y_train dataset:  (1747, 1)\n",
      " x_test dataset:  (750, 12)\n",
      "y_test dataset:  (750, 1)\n"
     ]
    }
   ],
   "source": [
    "# Shape of Training and Test sets\n",
    "print(\"x_train dataset: \", X_train.shape)\n",
    "print(\" y_train dataset: \", y_train.shape)\n",
    "print(\" x_test dataset: \", X_test.shape)\n",
    "print(\"y_test dataset: \", y_test.shape)"
   ]
  },
  {
   "cell_type": "code",
   "execution_count": 41,
   "metadata": {},
   "outputs": [
    {
     "data": {
      "text/plain": [
       "0    1401\n",
       "1     265\n",
       "2      81\n",
       "Name: Recommender, dtype: int64"
      ]
     },
     "execution_count": 41,
     "metadata": {},
     "output_type": "execute_result"
    }
   ],
   "source": [
    "y_train['Recommender'].value_counts()\n"
   ]
  },
  {
   "cell_type": "code",
   "execution_count": 42,
   "metadata": {},
   "outputs": [
    {
     "data": {
      "text/plain": [
       "0    595\n",
       "1    125\n",
       "2     30\n",
       "Name: Recommender, dtype: int64"
      ]
     },
     "execution_count": 42,
     "metadata": {},
     "output_type": "execute_result"
    }
   ],
   "source": [
    "y_test['Recommender'].value_counts()"
   ]
  },
  {
   "cell_type": "code",
   "execution_count": 43,
   "metadata": {},
   "outputs": [
    {
     "data": {
      "text/plain": [
       "Text(0.5, 0, 'Trade Signals')"
      ]
     },
     "execution_count": 43,
     "metadata": {},
     "output_type": "execute_result"
    },
    {
     "data": {
      "image/png": "[encoded data removed]",
      "text/plain": [
       "<Figure size 576x396 with 2 Axes>"
      ]
     },
     "metadata": {},
     "output_type": "display_data"
    }
   ],
   "source": [
    "#Original Dataset  \n",
    "fig, (ax1, ax2) = plt.subplots(1, 2)\n",
    "sns.barplot(x=['0', '1','2'], y =[sum(y_train['Recommender'] == 0), sum(y_train['Recommender'] == 1), sum(y_train['Recommender'] == 2)], ax = ax1)\n",
    "ax1.set_title(\"Y-Train\")\n",
    "ax1.set_xlabel('Trade Signals')\n",
    "\n",
    "sns.barplot(x=['0', '1', '2'], y =[sum(y_test['Recommender'] == 0), sum(y_test['Recommender'] == 1), sum(y_test['Recommender'] == 2)], ax = ax2)\n",
    "ax2.set_title(\"Y-Test\")\n",
    "ax2.set_xlabel('Trade Signals')"
   ]
  },
  {
   "cell_type": "code",
   "execution_count": 44,
   "metadata": {},
   "outputs": [
    {
     "data": {
      "text/plain": [
       "Text(0.5, 0, 'Trade Signals')"
      ]
     },
     "execution_count": 44,
     "metadata": {},
     "output_type": "execute_result"
    },
    {
     "data": {
      "image/png": "[encoded data removed]",
      "text/plain": [
       "<Figure size 576x396 with 1 Axes>"
      ]
     },
     "metadata": {},
     "output_type": "display_data"
    }
   ],
   "source": [
    "#Handling Imbalance data using SMOTE\n",
    "from imblearn import under_sampling, over_sampling\n",
    "from imblearn.over_sampling import SMOTE\n",
    "\n",
    "\n",
    "oversample = SMOTE()\n",
    "Xsmote, ysmote = oversample.fit_resample(X_train, y_train)\n",
    "\n",
    "\n",
    "fig = sns.barplot(x=['0', '1', '2'],  y =[sum(ysmote['Recommender'] == 0), sum(ysmote['Recommender'] == 1), sum(ysmote['Recommender'] == 2)])\n",
    "fig.set_title(\"Y-Train\")\n",
    "fig.set_xlabel('Trade Signals')"
   ]
  },
  {
   "cell_type": "markdown",
   "metadata": {},
   "source": [
    "Exploring Models on Original Dataset without using SMOTE"
   ]
  },
  {
   "cell_type": "code",
   "execution_count": 45,
   "metadata": {},
   "outputs": [
    {
     "name": "stderr",
     "output_type": "stream",
     "text": [
      "C:\\Users\\RAHUL\\AppData\\Local\\Programs\\Python\\Python39\\lib\\site-packages\\sklearn\\metrics\\_classification.py:1308: UndefinedMetricWarning: Precision is ill-defined and being set to 0.0 in labels with no predicted samples. Use `zero_division` parameter to control this behavior.\n",
      "  _warn_prf(average, modifier, msg_start, len(result))\n",
      "C:\\Users\\RAHUL\\AppData\\Local\\Programs\\Python\\Python39\\lib\\site-packages\\sklearn\\metrics\\_classification.py:1308: UndefinedMetricWarning: Precision is ill-defined and being set to 0.0 in labels with no predicted samples. Use `zero_division` parameter to control this behavior.\n",
      "  _warn_prf(average, modifier, msg_start, len(result))\n",
      "C:\\Users\\RAHUL\\AppData\\Local\\Programs\\Python\\Python39\\lib\\site-packages\\sklearn\\metrics\\_classification.py:1308: UndefinedMetricWarning: Precision is ill-defined and being set to 0.0 in labels with no predicted samples. Use `zero_division` parameter to control this behavior.\n",
      "  _warn_prf(average, modifier, msg_start, len(result))\n",
      "C:\\Users\\RAHUL\\AppData\\Local\\Programs\\Python\\Python39\\lib\\site-packages\\sklearn\\metrics\\_classification.py:1308: UndefinedMetricWarning: Precision is ill-defined and being set to 0.0 in labels with no predicted samples. Use `zero_division` parameter to control this behavior.\n",
      "  _warn_prf(average, modifier, msg_start, len(result))\n",
      "C:\\Users\\RAHUL\\AppData\\Local\\Programs\\Python\\Python39\\lib\\site-packages\\sklearn\\metrics\\_classification.py:1308: UndefinedMetricWarning: Precision is ill-defined and being set to 0.0 in labels with no predicted samples. Use `zero_division` parameter to control this behavior.\n",
      "  _warn_prf(average, modifier, msg_start, len(result))\n",
      "C:\\Users\\RAHUL\\AppData\\Local\\Programs\\Python\\Python39\\lib\\site-packages\\sklearn\\metrics\\_classification.py:1308: UndefinedMetricWarning: Precision is ill-defined and being set to 0.0 in labels with no predicted samples. Use `zero_division` parameter to control this behavior.\n",
      "  _warn_prf(average, modifier, msg_start, len(result))\n",
      "C:\\Users\\RAHUL\\AppData\\Local\\Programs\\Python\\Python39\\lib\\site-packages\\sklearn\\metrics\\_classification.py:1308: UndefinedMetricWarning: Precision is ill-defined and being set to 0.0 in labels with no predicted samples. Use `zero_division` parameter to control this behavior.\n",
      "  _warn_prf(average, modifier, msg_start, len(result))\n",
      "C:\\Users\\RAHUL\\AppData\\Local\\Programs\\Python\\Python39\\lib\\site-packages\\sklearn\\metrics\\_classification.py:1308: UndefinedMetricWarning: Precision is ill-defined and being set to 0.0 in labels with no predicted samples. Use `zero_division` parameter to control this behavior.\n",
      "  _warn_prf(average, modifier, msg_start, len(result))\n"
     ]
    },
    {
     "name": "stdout",
     "output_type": "stream",
     "text": [
      "Accuracy of each fold - [0.892, 0.908, 0.896, 0.908, 0.884, 0.868, 0.856, 0.9076305220883534, 0.9036144578313253, 0.9196787148594378]\n",
      "Precision of each fold - [0.6270190895741556, 0.632286995515695, 0.6283185840707964, 0.6219899100223644, 0.6110579071697632, 0.5897969085742011, 0.582516898306372, 0.6321321321321322, 0.6031586021505376, 0.6362252663622526]\n",
      "Recall of each fold - [0.5299145299145299, 0.5641025641025641, 0.5384615384615384, 0.570982905982906, 0.5197008547008547, 0.4923931623931624, 0.4752823948803848, 0.5641025641025641, 0.5761714555684405, 0.5897435897435898]\n",
      "F1 of each fold - [0.5595678779179573, 0.5879360985743964, 0.5669572993516656, 0.5896325275953612, 0.5472539094961094, 0.5188034188034188, 0.500828655439722, 0.5878499964010652, 0.5864030335861322, 0.6072394424797171]\n",
      "Avg Accuracy : 0.8943\n",
      "Avg Recall : 0.5421\n",
      "Avg Precision: 0.6165\n",
      "Avg F1 : 0.5652\n"
     ]
    },
    {
     "name": "stderr",
     "output_type": "stream",
     "text": [
      "C:\\Users\\RAHUL\\AppData\\Local\\Programs\\Python\\Python39\\lib\\site-packages\\sklearn\\metrics\\_classification.py:1308: UndefinedMetricWarning: Precision is ill-defined and being set to 0.0 in labels with no predicted samples. Use `zero_division` parameter to control this behavior.\n",
      "  _warn_prf(average, modifier, msg_start, len(result))\n",
      "C:\\Users\\RAHUL\\AppData\\Local\\Programs\\Python\\Python39\\lib\\site-packages\\sklearn\\metrics\\_classification.py:1308: UndefinedMetricWarning: Precision is ill-defined and being set to 0.0 in labels with no predicted samples. Use `zero_division` parameter to control this behavior.\n",
      "  _warn_prf(average, modifier, msg_start, len(result))\n"
     ]
    }
   ],
   "source": [
    "#SKFOLD Cross Validation\n",
    "skf = StratifiedKFold(n_splits=10, shuffle=True, random_state=1)\n",
    "k = 10\n",
    "#Logistic Regression\n",
    "lr = LogisticRegression(multi_class = \"ovr\")\n",
    " \n",
    "acc_score = []\n",
    "prec_score = []\n",
    "rec_score = []\n",
    "f1_scor = []\n",
    " \n",
    "for train_index , test_index in skf.split(X,y):\n",
    "    X_train , X_test = X.iloc[train_index,:],X.iloc[test_index,:]\n",
    "    y_train , y_test = y.iloc[train_index] , y.iloc[test_index]\n",
    "\n",
    "    #Scaling\n",
    "    scaler = MinMaxScaler(feature_range=(0,1))\n",
    "    X_train = scaler.fit_transform(X_train)\n",
    "    X_test = scaler.transform(X_test)    \n",
    "     \n",
    "    lr.fit(X_train,y_train.values.ravel())\n",
    "    y_pred = lr.predict(X_test)\n",
    "\n",
    "    #Accuracy Score \n",
    "    acc = accuracy_score(y_pred , y_test)\n",
    "    acc_score.append(acc)\n",
    "    #Precision\n",
    "    precision = precision_score(y_test, y_pred,  average='macro')\n",
    "    prec_score.append(precision)\n",
    "    #Recall\n",
    "    recall = recall_score(y_test, y_pred,  average='macro')\n",
    "    rec_score.append(recall)\n",
    "    #F1 Score\n",
    "    f1 = f1_score(y_test, y_pred,average='macro')\n",
    "    f1_scor.append(f1)\n",
    "\n",
    "\n",
    "#Displaying Results    \n",
    "avg_acc_score = sum(acc_score)/k\n",
    "avg_acc_score = round(avg_acc_score, 4)\n",
    "print('Accuracy of each fold - {}'.format(acc_score))\n",
    "\n",
    "avg_prec_score = sum(prec_score)/k\n",
    "avg_prec_score = round(avg_prec_score, 4)\n",
    "print('Precision of each fold - {}'.format(prec_score))\n",
    "\n",
    "avg_rec_score = sum(rec_score)/k\n",
    "avg_rec_score = round(avg_rec_score, 4)\n",
    "print('Recall of each fold - {}'.format(rec_score))\n",
    "\n",
    "\n",
    "\n",
    "avg_f1_score = sum(f1_scor)/k\n",
    "avg_f1_score = round(avg_f1_score, 4)\n",
    "print('F1 of each fold - {}'.format(f1_scor))\n",
    "\n",
    "print('Avg Accuracy : {}'.format(avg_acc_score))\n",
    "print('Avg Recall : {}'.format(avg_rec_score))\n",
    "print('Avg Precision: {}'.format(avg_prec_score))\n",
    "print('Avg F1 : {}'.format(avg_f1_score))\n",
    "\n",
    "#Storing Results for the Model\n",
    "list_1 = []\n",
    "list_2 = []\n",
    "\n",
    "#Results\n",
    "list_2.append(\"Logistic Regression\")\n",
    "list_2.append(avg_acc_score) \n",
    "list_2.append(avg_prec_score) \n",
    "list_2.append(avg_rec_score)\n",
    "list_2.append(avg_f1_score)\n",
    "list_1.append(list_2)\n",
    "list_2 = []\n",
    "\n"
   ]
  },
  {
   "cell_type": "code",
   "execution_count": 46,
   "metadata": {},
   "outputs": [
    {
     "name": "stdout",
     "output_type": "stream",
     "text": [
      "Accuracy of each fold - [0.944, 0.916, 0.932, 0.952, 0.924, 0.92, 0.92, 0.8955823293172691, 0.9558232931726908, 0.9678714859437751]\n",
      "Precision of each fold - [0.8813041743734812, 0.8254720731464918, 0.862151067323481, 0.8649999999999999, 0.850937619594336, 0.8581790611493583, 0.8407665505226479, 0.7674510650546921, 0.9030781499202551, 0.8849664991624792]\n",
      "Recall of each fold - [0.8998679098679099, 0.8664452214452215, 0.8593512043512043, 0.8516938616938616, 0.8777738927738928, 0.8474708624708626, 0.7810097496027145, 0.7571931139770336, 0.8968306958256708, 0.8720877112836911]\n",
      "F1 of each fold - [0.8877907758504774, 0.8447740624902121, 0.8594209702204091, 0.8577918424753866, 0.8619839290662233, 0.8526347528704167, 0.8082321745688082, 0.7548623200036215, 0.899901268322321, 0.8779693121020008]\n",
      "Avg Accuracy : 0.9327\n",
      "Avg Recall : 0.851\n",
      "Avg Precision: 0.8539\n",
      "Avg F1 : 0.8505\n"
     ]
    }
   ],
   "source": [
    "#SKFOLD Cross Validation\n",
    "skf = StratifiedKFold(n_splits=10, shuffle=True, random_state=1)\n",
    "k = 10\n",
    "\n",
    "#Decision Tree\n",
    "decision_tree = DecisionTreeClassifier()\n",
    " \n",
    "acc_score = []\n",
    "prec_score = []\n",
    "rec_score = []\n",
    "f1_scor = []\n",
    " \n",
    "for train_index , test_index in skf.split(X,y):\n",
    "    X_train , X_test = X.iloc[train_index,:],X.iloc[test_index,:]\n",
    "    y_train , y_test = y.iloc[train_index] , y.iloc[test_index]\n",
    "\n",
    "    #Scaling\n",
    "    scaler = MinMaxScaler(feature_range=(0,1))\n",
    "    X_train = scaler.fit_transform(X_train)\n",
    "    X_test = scaler.transform(X_test)    \n",
    "     \n",
    "    decision_tree.fit(X_train,y_train)\n",
    "    y_pred = decision_tree.predict(X_test)\n",
    "\n",
    "    #Accuracy Score \n",
    "    acc = accuracy_score(y_pred , y_test)\n",
    "    acc_score.append(acc)\n",
    "    #Precision\n",
    "    precision = precision_score(y_test, y_pred,  average='macro')\n",
    "    prec_score.append(precision)\n",
    "    #Recall\n",
    "    recall = recall_score(y_test, y_pred,  average='macro')\n",
    "    rec_score.append(recall)\n",
    "    #F1 Score\n",
    "    f1 = f1_score(y_test, y_pred,average='macro')\n",
    "    f1_scor.append(f1)\n",
    "\n",
    "\n",
    "#Displaying Results    \n",
    "avg_acc_score = sum(acc_score)/k\n",
    "avg_acc_score = round(avg_acc_score, 4)\n",
    "print('Accuracy of each fold - {}'.format(acc_score))\n",
    "\n",
    "avg_prec_score = sum(prec_score)/k\n",
    "avg_prec_score = round(avg_prec_score, 4)\n",
    "print('Precision of each fold - {}'.format(prec_score))\n",
    "\n",
    "avg_rec_score = sum(rec_score)/k\n",
    "avg_rec_score = round(avg_rec_score, 4)\n",
    "print('Recall of each fold - {}'.format(rec_score))\n",
    "\n",
    "\n",
    "\n",
    "avg_f1_score = sum(f1_scor)/k\n",
    "avg_f1_score = round(avg_f1_score, 4)\n",
    "print('F1 of each fold - {}'.format(f1_scor))\n",
    "\n",
    "print('Avg Accuracy : {}'.format(avg_acc_score))\n",
    "print('Avg Recall : {}'.format(avg_rec_score))\n",
    "print('Avg Precision: {}'.format(avg_prec_score))\n",
    "print('Avg F1 : {}'.format(avg_f1_score))\n",
    "\n",
    "\n",
    "#Results\n",
    "list_2.append(\"Decision Tree\")\n",
    "list_2.append(avg_acc_score) \n",
    "list_2.append(avg_prec_score) \n",
    "list_2.append(avg_rec_score)\n",
    "list_2.append(avg_f1_score)\n",
    "list_1.append(list_2)\n",
    "list_2 = []\n",
    "\n"
   ]
  },
  {
   "cell_type": "code",
   "execution_count": 47,
   "metadata": {},
   "outputs": [
    {
     "name": "stdout",
     "output_type": "stream",
     "text": [
      "Accuracy of each fold - [0.944, 0.956, 0.956, 0.976, 0.948, 0.924, 0.948, 0.9518072289156626, 0.9558232931726908, 0.963855421686747]\n",
      "Precision of each fold - [0.9601190476190476, 0.9470139996455785, 0.9165818877440112, 0.9501633986928105, 0.9096082779009609, 0.849960876369327, 0.9795597484276729, 0.9583388266315095, 0.9825396825396826, 0.9072530060023546]\n",
      "Recall of each fold - [0.828834498834499, 0.8475951825951826, 0.8831118881118881, 0.8685742035742036, 0.8946542346542347, 0.7277117327117327, 0.8311965811965812, 0.8310277104246954, 0.7536907536907537, 0.8566687360657209]\n",
      "F1 of each fold - [0.8843431147432305, 0.891504528392851, 0.8983769711319178, 0.9030012023758767, 0.8995258543567722, 0.77775070777642, 0.8928179544323812, 0.8809372165286704, 0.8174614712512023, 0.8795316902548823]\n",
      "Avg Accuracy : 0.9523\n",
      "Avg Recall : 0.8323\n",
      "Avg Precision: 0.9361\n",
      "Avg F1 : 0.8725\n"
     ]
    }
   ],
   "source": [
    "#SKFOLD Cross Validation\n",
    "skf = StratifiedKFold(n_splits=10, shuffle=True, random_state=1)\n",
    "k = 10\n",
    "\n",
    "#Random Forest\n",
    "rf= RandomForestClassifier()\n",
    " \n",
    "acc_score = []\n",
    "prec_score = []\n",
    "rec_score = []\n",
    "f1_scor = []\n",
    " \n",
    "for train_index , test_index in skf.split(X,y):\n",
    "    X_train , X_test = X.iloc[train_index,:],X.iloc[test_index,:]\n",
    "    y_train , y_test = y.iloc[train_index] , y.iloc[test_index]\n",
    "\n",
    "    #Scaling\n",
    "    scaler = MinMaxScaler(feature_range=(0,1))\n",
    "    X_train = scaler.fit_transform(X_train)\n",
    "    X_test = scaler.transform(X_test)    \n",
    "     \n",
    "    rf.fit(X_train,y_train.values.ravel())\n",
    "    y_pred = rf.predict(X_test)\n",
    "\n",
    "    #Accuracy Score \n",
    "    acc = accuracy_score(y_pred , y_test)\n",
    "    acc_score.append(acc)\n",
    "    #Precision\n",
    "    precision = precision_score(y_test, y_pred,  average='macro')\n",
    "    prec_score.append(precision)\n",
    "    #Recall\n",
    "    recall = recall_score(y_test, y_pred,  average='macro')\n",
    "    rec_score.append(recall)\n",
    "    #F1 Score\n",
    "    f1 = f1_score(y_test, y_pred,average='macro')\n",
    "    f1_scor.append(f1)\n",
    "\n",
    "\n",
    "#Displaying Results    \n",
    "avg_acc_score = sum(acc_score)/k\n",
    "avg_acc_score = round(avg_acc_score, 4)\n",
    "print('Accuracy of each fold - {}'.format(acc_score))\n",
    "\n",
    "avg_prec_score = sum(prec_score)/k\n",
    "avg_prec_score = round(avg_prec_score, 4)\n",
    "print('Precision of each fold - {}'.format(prec_score))\n",
    "\n",
    "avg_rec_score = sum(rec_score)/k\n",
    "avg_rec_score = round(avg_rec_score, 4)\n",
    "print('Recall of each fold - {}'.format(rec_score))\n",
    "\n",
    "\n",
    "\n",
    "avg_f1_score = sum(f1_scor)/k\n",
    "avg_f1_score = round(avg_f1_score, 4)\n",
    "print('F1 of each fold - {}'.format(f1_scor))\n",
    "\n",
    "print('Avg Accuracy : {}'.format(avg_acc_score))\n",
    "print('Avg Recall : {}'.format(avg_rec_score))\n",
    "print('Avg Precision: {}'.format(avg_prec_score))\n",
    "print('Avg F1 : {}'.format(avg_f1_score))\n",
    "\n",
    "\n",
    "#Results\n",
    "list_2.append(\"Random Forest\")\n",
    "list_2.append(avg_acc_score) \n",
    "list_2.append(avg_prec_score) \n",
    "list_2.append(avg_rec_score)\n",
    "list_2.append(avg_f1_score)\n",
    "list_1.append(list_2)\n",
    "list_2 = []"
   ]
  },
  {
   "cell_type": "code",
   "execution_count": 48,
   "metadata": {},
   "outputs": [
    {
     "name": "stdout",
     "output_type": "stream",
     "text": [
      "Accuracy of each fold - [0.904, 0.944, 0.936, 0.948, 0.932, 0.892, 0.9, 0.9477911646586346, 0.9317269076305221, 0.9357429718875502]\n",
      "Precision of each fold - [0.9050314465408805, 0.9414344685242518, 0.9070683721169157, 0.950278134360291, 0.8933680877907114, 0.8122461069735952, 0.869138634046891, 0.9102451966529638, 0.9440789473684211, 0.8777351520318272]\n",
      "Recall of each fold - [0.7708857808857809, 0.8494755244755244, 0.8323815073815073, 0.8293861693861694, 0.887987567987568, 0.6937373737373737, 0.6915560709530558, 0.7789686583656433, 0.7081405473365271, 0.7819556211516011]\n",
      "F1 of each fold - [0.8265016699621573, 0.8881982183180724, 0.8661429902809212, 0.8762652984875207, 0.8906305664410402, 0.7407521636986014, 0.7567355639298086, 0.8257297200881654, 0.7566397566397566, 0.8229608030468235]\n",
      "Avg Accuracy : 0.9271\n",
      "Avg Recall : 0.7824\n",
      "Avg Precision: 0.9011\n",
      "Avg F1 : 0.8251\n"
     ]
    }
   ],
   "source": [
    "#SKFOLD Cross Validation\n",
    "skf = StratifiedKFold(n_splits=10, shuffle=True, random_state=1)\n",
    "k = 10 \n",
    "#Support Vector Machine\n",
    "svc = SVC()\n",
    " \n",
    "acc_score = []\n",
    "prec_score = []\n",
    "rec_score = []\n",
    "f1_scor = []\n",
    " \n",
    "for train_index , test_index in skf.split(X,y):\n",
    "    X_train , X_test = X.iloc[train_index,:],X.iloc[test_index,:]\n",
    "    y_train , y_test = y.iloc[train_index] , y.iloc[test_index]\n",
    "\n",
    "    #Scaling\n",
    "    scaler = MinMaxScaler(feature_range=(0,1))\n",
    "    X_train = scaler.fit_transform(X_train)\n",
    "    X_test = scaler.transform(X_test)    \n",
    "     \n",
    "    svc.fit(X_train,y_train.values.ravel())\n",
    "    y_pred = svc.predict(X_test)\n",
    "    #Accuracy Score \n",
    "    acc = accuracy_score(y_pred , y_test)\n",
    "    acc_score.append(acc)\n",
    "    #Precision\n",
    "    precision = precision_score(y_test, y_pred,  average='macro')\n",
    "    prec_score.append(precision)\n",
    "    #Recall\n",
    "    recall = recall_score(y_test, y_pred,  average='macro')\n",
    "    rec_score.append(recall)\n",
    "    #F1 Score\n",
    "    f1 = f1_score(y_test, y_pred,average='macro')\n",
    "    f1_scor.append(f1)\n",
    "\n",
    "\n",
    "#Displaying Results    \n",
    "avg_acc_score = sum(acc_score)/k\n",
    "avg_acc_score = round(avg_acc_score, 4)\n",
    "print('Accuracy of each fold - {}'.format(acc_score))\n",
    "\n",
    "avg_prec_score = sum(prec_score)/k\n",
    "avg_prec_score = round(avg_prec_score, 4)\n",
    "print('Precision of each fold - {}'.format(prec_score))\n",
    "\n",
    "avg_rec_score = sum(rec_score)/k\n",
    "avg_rec_score = round(avg_rec_score, 4)\n",
    "print('Recall of each fold - {}'.format(rec_score))\n",
    "\n",
    "\n",
    "\n",
    "avg_f1_score = sum(f1_scor)/k\n",
    "avg_f1_score = round(avg_f1_score, 4)\n",
    "print('F1 of each fold - {}'.format(f1_scor))\n",
    "\n",
    "print('Avg Accuracy : {}'.format(avg_acc_score))\n",
    "print('Avg Recall : {}'.format(avg_rec_score))\n",
    "print('Avg Precision: {}'.format(avg_prec_score))\n",
    "print('Avg F1 : {}'.format(avg_f1_score))\n",
    "\n",
    "\n",
    "#Results\n",
    "list_2.append(\"Support Vector Machine\")\n",
    "list_2.append(avg_acc_score) \n",
    "list_2.append(avg_prec_score) \n",
    "list_2.append(avg_rec_score)\n",
    "list_2.append(avg_f1_score)\n",
    "list_1.append(list_2)\n",
    "list_2 = []"
   ]
  },
  {
   "cell_type": "code",
   "execution_count": 49,
   "metadata": {},
   "outputs": [
    {
     "name": "stdout",
     "output_type": "stream",
     "text": [
      "Accuracy of each fold - [0.936, 0.956, 0.924, 0.928, 0.916, 0.904, 0.912, 0.9437751004016064, 0.9397590361445783, 0.9518072289156626]\n",
      "Precision of each fold - [0.9294561314730476, 0.9534180278281911, 0.8262733949301113, 0.9293004729897935, 0.8550522648083625, 0.7993589743589743, 0.9030664171509243, 0.9424866321418045, 0.8836601307189543, 0.9072100313479624]\n",
      "Recall of each fold - [0.8117404817404816, 0.88999222999223, 0.8560178710178711, 0.7568997668997669, 0.8102874902874904, 0.7411344211344212, 0.8009921401881201, 0.8276776266726015, 0.7538625528575277, 0.8814117206077006]\n",
      "F1 of each fold - [0.8615648201027984, 0.9186071992523606, 0.8368187639010581, 0.808939623594796, 0.8312788979455646, 0.7671124787943345, 0.8412864889437283, 0.8715822596419612, 0.7913905204636115, 0.8934076546016846]\n",
      "Avg Accuracy : 0.9311\n",
      "Avg Recall : 0.813\n",
      "Avg Precision: 0.8929\n",
      "Avg F1 : 0.8422\n"
     ]
    }
   ],
   "source": [
    "#SKFOLD Cross Validation\n",
    "skf = StratifiedKFold(n_splits=10, shuffle=True, random_state=1)\n",
    "k = 10\n",
    "#K-Nearest Neighbour\n",
    "knn = KNeighborsClassifier()\n",
    " \n",
    "acc_score = []\n",
    "prec_score = []\n",
    "rec_score = []\n",
    "f1_scor = []\n",
    " \n",
    "for train_index , test_index in skf.split(X,y):\n",
    "    X_train , X_test = X.iloc[train_index,:],X.iloc[test_index,:]\n",
    "    y_train , y_test = y.iloc[train_index] , y.iloc[test_index]\n",
    "\n",
    "    #Scaling\n",
    "    scaler = MinMaxScaler(feature_range=(0,1))\n",
    "    X_train = scaler.fit_transform(X_train)\n",
    "    X_test = scaler.transform(X_test)    \n",
    "     \n",
    "    knn.fit(X_train, y_train.values.ravel())\n",
    "    y_pred = knn.predict(X_test)\n",
    "    #Accuracy Score \n",
    "    acc = accuracy_score(y_pred , y_test)\n",
    "    acc_score.append(acc)\n",
    "    #Precision\n",
    "    precision = precision_score(y_test, y_pred,  average='macro')\n",
    "    prec_score.append(precision)\n",
    "    #Recall\n",
    "    recall = recall_score(y_test, y_pred,  average='macro')\n",
    "    rec_score.append(recall)\n",
    "    #F1 Score\n",
    "    f1 = f1_score(y_test, y_pred,average='macro')\n",
    "    f1_scor.append(f1)\n",
    "\n",
    "\n",
    "#Displaying Results    \n",
    "avg_acc_score = sum(acc_score)/k\n",
    "avg_acc_score = round(avg_acc_score, 4)\n",
    "print('Accuracy of each fold - {}'.format(acc_score))\n",
    "\n",
    "avg_prec_score = sum(prec_score)/k\n",
    "avg_prec_score = round(avg_prec_score, 4)\n",
    "print('Precision of each fold - {}'.format(prec_score))\n",
    "\n",
    "avg_rec_score = sum(rec_score)/k\n",
    "avg_rec_score = round(avg_rec_score, 4)\n",
    "print('Recall of each fold - {}'.format(rec_score))\n",
    "\n",
    "\n",
    "\n",
    "avg_f1_score = sum(f1_scor)/k\n",
    "avg_f1_score = round(avg_f1_score, 4)\n",
    "print('F1 of each fold - {}'.format(f1_scor))\n",
    "\n",
    "print('Avg Accuracy : {}'.format(avg_acc_score))\n",
    "print('Avg Recall : {}'.format(avg_rec_score))\n",
    "print('Avg Precision: {}'.format(avg_prec_score))\n",
    "print('Avg F1 : {}'.format(avg_f1_score))\n",
    "\n",
    "\n",
    "#Results\n",
    "list_2.append(\"K-Nearest Neighbour\")\n",
    "list_2.append(avg_acc_score) \n",
    "list_2.append(avg_prec_score) \n",
    "list_2.append(avg_rec_score)\n",
    "list_2.append(avg_f1_score)\n",
    "list_1.append(list_2)\n",
    "list_2 = []"
   ]
  },
  {
   "cell_type": "code",
   "execution_count": 50,
   "metadata": {},
   "outputs": [
    {
     "name": "stdout",
     "output_type": "stream",
     "text": [
      "Accuracy of each fold - [0.808, 0.828, 0.848, 0.824, 0.772, 0.776, 0.828, 0.8313253012048193, 0.8393574297188755, 0.8353413654618473]\n",
      "Precision of each fold - [0.6463604417670682, 0.6584558758471801, 0.6793172690763051, 0.6645569620253163, 0.6151183007489543, 0.604946419700518, 0.6623772089480954, 0.6548323471400394, 0.6672214003944773, 0.6679582682526334]\n",
      "Recall of each fold - [0.8283255633255634, 0.8928166278166279, 0.9011499611499612, 0.8980303030303031, 0.8843589743589743, 0.8287529137529138, 0.8606386634024825, 0.823148375912195, 0.8116144045792287, 0.9107073830691922]\n",
      "F1 of each fold - [0.7032305983546658, 0.7221750021163414, 0.7450934008311058, 0.7291841628023028, 0.6716569304694846, 0.6510374191435355, 0.7150322472216971, 0.7097571082493944, 0.7158956480048361, 0.7316490261466337]\n",
      "Avg Accuracy : 0.819\n",
      "Avg Recall : 0.864\n",
      "Avg Precision: 0.6521\n",
      "Avg F1 : 0.7095\n"
     ]
    }
   ],
   "source": [
    "#SKFOLD Cross Validation\n",
    "skf = StratifiedKFold(n_splits=10, shuffle=True, random_state=1)\n",
    "k = 10\n",
    "\n",
    "#GaussianNB\n",
    "gnb = GaussianNB()\n",
    " \n",
    "acc_score = []\n",
    "prec_score = []\n",
    "rec_score = []\n",
    "f1_scor = []\n",
    " \n",
    "for train_index , test_index in skf.split(X,y):\n",
    "    X_train , X_test = X.iloc[train_index,:],X.iloc[test_index,:]\n",
    "    y_train , y_test = y.iloc[train_index] , y.iloc[test_index]\n",
    "\n",
    "    #Scaling\n",
    "    scaler = MinMaxScaler(feature_range=(0,1))\n",
    "    X_train = scaler.fit_transform(X_train)\n",
    "    X_test = scaler.transform(X_test)    \n",
    "     \n",
    "    gnb.fit(X_train, y_train.values.ravel())\n",
    "    y_pred = gnb.predict(X_test)\n",
    "    #Accuracy Score \n",
    "    acc = accuracy_score(y_pred , y_test)\n",
    "    acc_score.append(acc)\n",
    "    #Precision\n",
    "    precision = precision_score(y_test, y_pred,  average='macro')\n",
    "    prec_score.append(precision)\n",
    "    #Recall\n",
    "    recall = recall_score(y_test, y_pred,  average='macro')\n",
    "    rec_score.append(recall)\n",
    "    #F1 Score\n",
    "    f1 = f1_score(y_test, y_pred,average='macro')\n",
    "    f1_scor.append(f1)\n",
    "\n",
    "\n",
    "#Displaying Results    \n",
    "avg_acc_score = sum(acc_score)/k\n",
    "avg_acc_score = round(avg_acc_score, 4)\n",
    "print('Accuracy of each fold - {}'.format(acc_score))\n",
    "\n",
    "avg_prec_score = sum(prec_score)/k\n",
    "avg_prec_score = round(avg_prec_score, 4)\n",
    "print('Precision of each fold - {}'.format(prec_score))\n",
    "\n",
    "avg_rec_score = sum(rec_score)/k\n",
    "avg_rec_score = round(avg_rec_score, 4)\n",
    "print('Recall of each fold - {}'.format(rec_score))\n",
    "\n",
    "\n",
    "\n",
    "avg_f1_score = sum(f1_scor)/k\n",
    "avg_f1_score = round(avg_f1_score, 4)\n",
    "print('F1 of each fold - {}'.format(f1_scor))\n",
    "\n",
    "print('Avg Accuracy : {}'.format(avg_acc_score))\n",
    "print('Avg Recall : {}'.format(avg_rec_score))\n",
    "print('Avg Precision: {}'.format(avg_prec_score))\n",
    "print('Avg F1 : {}'.format(avg_f1_score))\n",
    "\n",
    "\n",
    "#Results\n",
    "list_2.append(\"GaussianNB\")\n",
    "list_2.append(avg_acc_score) \n",
    "list_2.append(avg_prec_score) \n",
    "list_2.append(avg_rec_score)\n",
    "list_2.append(avg_f1_score)\n",
    "list_1.append(list_2)\n",
    "list_2 = []"
   ]
  },
  {
   "cell_type": "code",
   "execution_count": 51,
   "metadata": {},
   "outputs": [
    {
     "name": "stderr",
     "output_type": "stream",
     "text": [
      "C:\\Users\\RAHUL\\AppData\\Local\\Programs\\Python\\Python39\\lib\\site-packages\\sklearn\\neural_network\\_multilayer_perceptron.py:692: ConvergenceWarning: Stochastic Optimizer: Maximum iterations (200) reached and the optimization hasn't converged yet.\n",
      "  warnings.warn(\n",
      "C:\\Users\\RAHUL\\AppData\\Local\\Programs\\Python\\Python39\\lib\\site-packages\\sklearn\\neural_network\\_multilayer_perceptron.py:692: ConvergenceWarning: Stochastic Optimizer: Maximum iterations (200) reached and the optimization hasn't converged yet.\n",
      "  warnings.warn(\n",
      "C:\\Users\\RAHUL\\AppData\\Local\\Programs\\Python\\Python39\\lib\\site-packages\\sklearn\\neural_network\\_multilayer_perceptron.py:692: ConvergenceWarning: Stochastic Optimizer: Maximum iterations (200) reached and the optimization hasn't converged yet.\n",
      "  warnings.warn(\n",
      "C:\\Users\\RAHUL\\AppData\\Local\\Programs\\Python\\Python39\\lib\\site-packages\\sklearn\\neural_network\\_multilayer_perceptron.py:692: ConvergenceWarning: Stochastic Optimizer: Maximum iterations (200) reached and the optimization hasn't converged yet.\n",
      "  warnings.warn(\n",
      "C:\\Users\\RAHUL\\AppData\\Local\\Programs\\Python\\Python39\\lib\\site-packages\\sklearn\\neural_network\\_multilayer_perceptron.py:692: ConvergenceWarning: Stochastic Optimizer: Maximum iterations (200) reached and the optimization hasn't converged yet.\n",
      "  warnings.warn(\n",
      "C:\\Users\\RAHUL\\AppData\\Local\\Programs\\Python\\Python39\\lib\\site-packages\\sklearn\\neural_network\\_multilayer_perceptron.py:692: ConvergenceWarning: Stochastic Optimizer: Maximum iterations (200) reached and the optimization hasn't converged yet.\n",
      "  warnings.warn(\n",
      "C:\\Users\\RAHUL\\AppData\\Local\\Programs\\Python\\Python39\\lib\\site-packages\\sklearn\\neural_network\\_multilayer_perceptron.py:692: ConvergenceWarning: Stochastic Optimizer: Maximum iterations (200) reached and the optimization hasn't converged yet.\n",
      "  warnings.warn(\n",
      "C:\\Users\\RAHUL\\AppData\\Local\\Programs\\Python\\Python39\\lib\\site-packages\\sklearn\\neural_network\\_multilayer_perceptron.py:692: ConvergenceWarning: Stochastic Optimizer: Maximum iterations (200) reached and the optimization hasn't converged yet.\n",
      "  warnings.warn(\n",
      "C:\\Users\\RAHUL\\AppData\\Local\\Programs\\Python\\Python39\\lib\\site-packages\\sklearn\\neural_network\\_multilayer_perceptron.py:692: ConvergenceWarning: Stochastic Optimizer: Maximum iterations (200) reached and the optimization hasn't converged yet.\n",
      "  warnings.warn(\n"
     ]
    },
    {
     "name": "stdout",
     "output_type": "stream",
     "text": [
      "Accuracy of each fold - [0.908, 0.928, 0.932, 0.948, 0.928, 0.896, 0.916, 0.9678714859437751, 0.9236947791164659, 0.9558232931726908]\n",
      "Precision of each fold - [0.8996549344375432, 0.8797275076344843, 0.845473487264532, 0.9396108886461999, 0.8430002028659426, 0.7720898303422575, 0.8674603174603175, 0.9333747927031508, 0.9183561213264184, 0.8756734006734007]\n",
      "Recall of each fold - [0.7931934731934732, 0.8496891996891996, 0.8662315462315462, 0.864902874902875, 0.906961926961927, 0.7378010878010878, 0.797180346175321, 0.8652157446127294, 0.7620464404384002, 0.8819466407406106]\n",
      "F1 of each fold - [0.8384413121255226, 0.86134738734322, 0.8536464394569133, 0.8948954368464803, 0.872305448942814, 0.7530643047884427, 0.8249248865695971, 0.892955807239618, 0.8057082089016143, 0.8787579264893296]\n",
      "Avg Accuracy : 0.9303\n",
      "Avg Recall : 0.8325\n",
      "Avg Precision: 0.8774\n",
      "Avg F1 : 0.8476\n"
     ]
    },
    {
     "name": "stderr",
     "output_type": "stream",
     "text": [
      "C:\\Users\\RAHUL\\AppData\\Local\\Programs\\Python\\Python39\\lib\\site-packages\\sklearn\\neural_network\\_multilayer_perceptron.py:692: ConvergenceWarning: Stochastic Optimizer: Maximum iterations (200) reached and the optimization hasn't converged yet.\n",
      "  warnings.warn(\n"
     ]
    }
   ],
   "source": [
    "\n",
    "#SKFOLD Cross Validation\n",
    "skf = StratifiedKFold(n_splits=10, shuffle=True, random_state=1)\n",
    "k = 10\n",
    "\n",
    "\n",
    "#MLP\n",
    "mlp = MLPClassifier()\n",
    "\n",
    "\n",
    "acc_score = []\n",
    "prec_score = []\n",
    "rec_score = []\n",
    "f1_scor = []\n",
    " \n",
    "for train_index , test_index in skf.split(X,y):\n",
    "    X_train , X_test = X.iloc[train_index,:],X.iloc[test_index,:]\n",
    "    y_train , y_test = y.iloc[train_index] , y.iloc[test_index]\n",
    "\n",
    "    #Scaling\n",
    "    scaler = MinMaxScaler(feature_range=(0,1))\n",
    "    X_train = scaler.fit_transform(X_train)\n",
    "    X_test = scaler.transform(X_test)    \n",
    "     \n",
    "    mlp.fit(X_train,y_train.values.ravel())\n",
    "    y_pred = mlp.predict(X_test)\n",
    "    #Accuracy Score \n",
    "    acc = accuracy_score(y_pred , y_test.values.ravel())\n",
    "    acc_score.append(acc)\n",
    "    #Precision\n",
    "    precision = precision_score(y_test, y_pred,  average='macro')\n",
    "    prec_score.append(precision)\n",
    "    #Recall\n",
    "    recall = recall_score(y_test.values.ravel(), y_pred,  average='macro')\n",
    "    rec_score.append(recall)\n",
    "    #F1 Score\n",
    "    f1 = f1_score(y_test, y_pred,average='macro')\n",
    "    f1_scor.append(f1)\n",
    "\n",
    "\n",
    "#Displaying Results    \n",
    "avg_acc_score = sum(acc_score)/k\n",
    "avg_acc_score = round(avg_acc_score, 4)\n",
    "print('Accuracy of each fold - {}'.format(acc_score))\n",
    "\n",
    "avg_prec_score = sum(prec_score)/k\n",
    "avg_prec_score = round(avg_prec_score, 4)\n",
    "print('Precision of each fold - {}'.format(prec_score))\n",
    "\n",
    "avg_rec_score = sum(rec_score)/k\n",
    "avg_rec_score = round(avg_rec_score, 4)\n",
    "print('Recall of each fold - {}'.format(rec_score))\n",
    "\n",
    "\n",
    "\n",
    "avg_f1_score = sum(f1_scor)/k\n",
    "avg_f1_score = round(avg_f1_score, 4)\n",
    "print('F1 of each fold - {}'.format(f1_scor))\n",
    "\n",
    "print('Avg Accuracy : {}'.format(avg_acc_score))\n",
    "print('Avg Recall : {}'.format(avg_rec_score))\n",
    "print('Avg Precision: {}'.format(avg_prec_score))\n",
    "print('Avg F1 : {}'.format(avg_f1_score))\n",
    "\n",
    "\n",
    "#Results\n",
    "list_2.append(\"MLP\")\n",
    "list_2.append(avg_acc_score) \n",
    "list_2.append(avg_prec_score) \n",
    "list_2.append(avg_rec_score)\n",
    "list_2.append(avg_f1_score)\n",
    "list_1.append(list_2)\n",
    "list_2 = []"
   ]
  },
  {
   "cell_type": "code",
   "execution_count": 52,
   "metadata": {},
   "outputs": [
    {
     "data": {
      "text/html": [
       "<div>\n",
       "<style scoped>\n",
       "    .dataframe tbody tr th:only-of-type {\n",
       "        vertical-align: middle;\n",
       "    }\n",
       "\n",
       "    .dataframe tbody tr th {\n",
       "        vertical-align: top;\n",
       "    }\n",
       "\n",
       "    .dataframe thead th {\n",
       "        text-align: right;\n",
       "    }\n",
       "</style>\n",
       "<table border=\"1\" class=\"dataframe\">\n",
       "  <thead>\n",
       "    <tr style=\"text-align: right;\">\n",
       "      <th></th>\n",
       "      <th>Model</th>\n",
       "      <th>Accuracy</th>\n",
       "      <th>Precision</th>\n",
       "      <th>Recall</th>\n",
       "      <th>F1</th>\n",
       "    </tr>\n",
       "  </thead>\n",
       "  <tbody>\n",
       "    <tr>\n",
       "      <th>2</th>\n",
       "      <td>Random Forest</td>\n",
       "      <td>0.9523</td>\n",
       "      <td>0.9361</td>\n",
       "      <td>0.8323</td>\n",
       "      <td>0.8725</td>\n",
       "    </tr>\n",
       "    <tr>\n",
       "      <th>1</th>\n",
       "      <td>Decision Tree</td>\n",
       "      <td>0.9327</td>\n",
       "      <td>0.8539</td>\n",
       "      <td>0.8510</td>\n",
       "      <td>0.8505</td>\n",
       "    </tr>\n",
       "    <tr>\n",
       "      <th>6</th>\n",
       "      <td>MLP</td>\n",
       "      <td>0.9303</td>\n",
       "      <td>0.8774</td>\n",
       "      <td>0.8325</td>\n",
       "      <td>0.8476</td>\n",
       "    </tr>\n",
       "    <tr>\n",
       "      <th>4</th>\n",
       "      <td>K-Nearest Neighbour</td>\n",
       "      <td>0.9311</td>\n",
       "      <td>0.8929</td>\n",
       "      <td>0.8130</td>\n",
       "      <td>0.8422</td>\n",
       "    </tr>\n",
       "    <tr>\n",
       "      <th>3</th>\n",
       "      <td>Support Vector Machine</td>\n",
       "      <td>0.9271</td>\n",
       "      <td>0.9011</td>\n",
       "      <td>0.7824</td>\n",
       "      <td>0.8251</td>\n",
       "    </tr>\n",
       "    <tr>\n",
       "      <th>5</th>\n",
       "      <td>GaussianNB</td>\n",
       "      <td>0.8190</td>\n",
       "      <td>0.6521</td>\n",
       "      <td>0.8640</td>\n",
       "      <td>0.7095</td>\n",
       "    </tr>\n",
       "    <tr>\n",
       "      <th>0</th>\n",
       "      <td>Logistic Regression</td>\n",
       "      <td>0.8943</td>\n",
       "      <td>0.6165</td>\n",
       "      <td>0.5421</td>\n",
       "      <td>0.5652</td>\n",
       "    </tr>\n",
       "  </tbody>\n",
       "</table>\n",
       "</div>"
      ],
      "text/plain": [
       "                    Model  Accuracy  Precision  Recall      F1\n",
       "2           Random Forest    0.9523     0.9361  0.8323  0.8725\n",
       "1           Decision Tree    0.9327     0.8539  0.8510  0.8505\n",
       "6                     MLP    0.9303     0.8774  0.8325  0.8476\n",
       "4     K-Nearest Neighbour    0.9311     0.8929  0.8130  0.8422\n",
       "3  Support Vector Machine    0.9271     0.9011  0.7824  0.8251\n",
       "5              GaussianNB    0.8190     0.6521  0.8640  0.7095\n",
       "0     Logistic Regression    0.8943     0.6165  0.5421  0.5652"
      ]
     },
     "execution_count": 52,
     "metadata": {},
     "output_type": "execute_result"
    }
   ],
   "source": [
    "#Displaying all the results from the model\n",
    "model_results = pd.DataFrame(list_1, columns= ['Model', 'Accuracy', 'Precision', 'Recall', 'F1'])\n",
    "model_results.sort_values(by= ['F1'], inplace= True, ascending= False)\n",
    "model_results"
   ]
  },
  {
   "cell_type": "markdown",
   "metadata": {},
   "source": [
    "Models using SMOTE to balance dataset so there are equal amount of trading signals"
   ]
  },
  {
   "cell_type": "code",
   "execution_count": 53,
   "metadata": {},
   "outputs": [
    {
     "name": "stdout",
     "output_type": "stream",
     "text": [
      "Accuracy of each fold - [0.768, 0.792, 0.788, 0.812, 0.748, 0.744, 0.788, 0.7911646586345381, 0.8313253012048193, 0.7871485943775101]\n",
      "Precision of each fold - [0.608983983983984, 0.6321250888415068, 0.6253705489481767, 0.6485826001955034, 0.6001498501498501, 0.599549611836517, 0.630523545777783, 0.6347114947751024, 0.6664903534958313, 0.6387530387530388]\n",
      "Recall of each fold - [0.8609362859362859, 0.9133333333333334, 0.8910256410256411, 0.9216666666666667, 0.8743589743589744, 0.8726923076923078, 0.8837349138856677, 0.9128978224455612, 0.9227762745350686, 0.9043508138985525]\n",
      "F1 of each fold - [0.6626016260162602, 0.6882282129375564, 0.6793144877744962, 0.7111740635819955, 0.6407362945178071, 0.6372338988284793, 0.684646663197857, 0.6942038051864641, 0.7330864586243756, 0.6800397968985865]\n",
      "Avg Accuracy : 0.785\n",
      "Avg Recall : 0.8958\n",
      "Avg Precision: 0.6285\n",
      "Avg F1 : 0.6811\n"
     ]
    }
   ],
   "source": [
    "#SKFOLD Cross Validation\n",
    "skf = StratifiedKFold(n_splits=10, shuffle=True, random_state=1)\n",
    "kf = KFold(n_splits=10, shuffle=True, random_state=None)\n",
    "k = 10\n",
    "\n",
    "#Logistic Regression\n",
    "lr = LogisticRegression(multi_class = \"ovr\")\n",
    " \n",
    "acc_score = []\n",
    "prec_score = []\n",
    "rec_score = []\n",
    "f1_scor = []\n",
    " \n",
    "for train_index , test_index in skf.split(X,y):\n",
    "    X_train , X_test = X.iloc[train_index,:],X.iloc[test_index,:]\n",
    "    y_train , y_test = y.iloc[train_index] , y.iloc[test_index]\n",
    "\n",
    "    #Scaling\n",
    "    scaler = MinMaxScaler(feature_range=(0,1))\n",
    "    X_train = scaler.fit_transform(X_train)\n",
    "    X_test = scaler.transform(X_test)   \n",
    "\n",
    "    #Smote\n",
    "    oversample = SMOTE()\n",
    "    Xsmote, ysmote = oversample.fit_resample(X_train, y_train) \n",
    "\n",
    "     \n",
    "    lr.fit(Xsmote,ysmote.values.ravel())\n",
    "    y_pred = lr.predict(X_test)\n",
    "\n",
    "    #Accuracy Score \n",
    "    acc = accuracy_score(y_pred , y_test)\n",
    "    acc_score.append(acc)\n",
    "    #Precision\n",
    "    precision = precision_score(y_test, y_pred,  average='macro')\n",
    "    prec_score.append(precision)\n",
    "    #Recall\n",
    "    recall = recall_score(y_test, y_pred,  average='macro')\n",
    "    rec_score.append(recall)\n",
    "    #F1 Score\n",
    "    f1 = f1_score(y_test, y_pred,average='macro')\n",
    "    f1_scor.append(f1)\n",
    "\n",
    "#Displaying Results    \n",
    "avg_acc_score = sum(acc_score)/k\n",
    "avg_acc_score = round(avg_acc_score, 4)\n",
    "print('Accuracy of each fold - {}'.format(acc_score))\n",
    "\n",
    "avg_prec_score = sum(prec_score)/k\n",
    "avg_prec_score = round(avg_prec_score, 4)\n",
    "print('Precision of each fold - {}'.format(prec_score))\n",
    "\n",
    "avg_rec_score = sum(rec_score)/k\n",
    "avg_rec_score = round(avg_rec_score, 4)\n",
    "print('Recall of each fold - {}'.format(rec_score))\n",
    "\n",
    "\n",
    "\n",
    "avg_f1_score = sum(f1_scor)/k\n",
    "avg_f1_score = round(avg_f1_score, 4)\n",
    "print('F1 of each fold - {}'.format(f1_scor))\n",
    "\n",
    "print('Avg Accuracy : {}'.format(avg_acc_score))\n",
    "print('Avg Recall : {}'.format(avg_rec_score))\n",
    "print('Avg Precision: {}'.format(avg_prec_score))\n",
    "print('Avg F1 : {}'.format(avg_f1_score))\n",
    "\n",
    "#Storing Results for the Model\n",
    "list_1 = []\n",
    "list_2 = []\n",
    "\n",
    "#Results\n",
    "list_2.append(\"Logistic Regression\")\n",
    "list_2.append(avg_acc_score) \n",
    "list_2.append(avg_prec_score) \n",
    "list_2.append(avg_rec_score)\n",
    "list_2.append(avg_f1_score)\n",
    "list_1.append(list_2)\n",
    "list_2 = []\n"
   ]
  },
  {
   "cell_type": "code",
   "execution_count": 54,
   "metadata": {},
   "outputs": [
    {
     "name": "stdout",
     "output_type": "stream",
     "text": [
      "Accuracy of each fold - [0.924, 0.936, 0.92, 0.944, 0.9, 0.916, 0.916, 0.9357429718875502, 0.927710843373494, 0.9397590361445783]\n",
      "Precision of each fold - [0.8434348848982994, 0.8372113997113998, 0.8213058419243987, 0.8432821183393266, 0.7679317420250062, 0.7906569886469383, 0.8229365079365079, 0.8624708624708625, 0.8425242270419936, 0.8139335755059678]\n",
      "Recall of each fold - [0.9201709401709403, 0.924055944055944, 0.8967482517482518, 0.9411499611499612, 0.8746542346542346, 0.830928515928516, 0.8507709487608985, 0.8666994646894145, 0.8060934040833537, 0.9611304385173732]\n",
      "F1 of each fold - [0.8772995780590717, 0.8755511843291535, 0.8546844644983392, 0.8860734037204625, 0.8069712452444749, 0.8053621232568601, 0.8329733242013945, 0.8629218347889989, 0.8178647604773159, 0.865305909810786]\n",
      "Avg Accuracy : 0.9259\n",
      "Avg Recall : 0.8872\n",
      "Avg Precision: 0.8246\n",
      "Avg F1 : 0.8485\n"
     ]
    }
   ],
   "source": [
    "#SKFOLD Cross Validation\n",
    "skf = StratifiedKFold(n_splits=10, shuffle=True, random_state=1)\n",
    "kf = KFold(n_splits=10, shuffle=True, random_state=1)\n",
    "k = 10\n",
    "\n",
    "#Decision Tree\n",
    "decision_tree = DecisionTreeClassifier()\n",
    " \n",
    "acc_score = []\n",
    "prec_score = []\n",
    "rec_score = []\n",
    "f1_scor = []\n",
    " \n",
    "for train_index , test_index in skf.split(X,y):\n",
    "    X_train , X_test = X.iloc[train_index,:],X.iloc[test_index,:]\n",
    "    y_train , y_test = y.iloc[train_index] , y.iloc[test_index]\n",
    "\n",
    "    #Scaling\n",
    "    scaler = MinMaxScaler(feature_range=(0,1))\n",
    "    X_train = scaler.fit_transform(X_train)\n",
    "    X_test = scaler.transform(X_test)   \n",
    "\n",
    "    #Smote\n",
    "    oversample = SMOTE()\n",
    "    Xsmote, ysmote = oversample.fit_resample(X_train, y_train)  \n",
    "     \n",
    "    decision_tree.fit(Xsmote,ysmote)\n",
    "    y_pred = decision_tree.predict(X_test)\n",
    "\n",
    "    #Accuracy Score \n",
    "    acc = accuracy_score(y_pred , y_test)\n",
    "    acc_score.append(acc)\n",
    "    #Precision\n",
    "    precision = precision_score(y_test, y_pred,  average='macro')\n",
    "    prec_score.append(precision)\n",
    "    #Recall\n",
    "    recall = recall_score(y_test, y_pred,  average='macro')\n",
    "    rec_score.append(recall)\n",
    "    #F1 Score\n",
    "    f1 = f1_score(y_test, y_pred,average='macro')\n",
    "    f1_scor.append(f1)\n",
    "\n",
    "#Displaying Results    \n",
    "avg_acc_score = sum(acc_score)/k\n",
    "avg_acc_score = round(avg_acc_score, 4)\n",
    "print('Accuracy of each fold - {}'.format(acc_score))\n",
    "\n",
    "avg_prec_score = sum(prec_score)/k\n",
    "avg_prec_score = round(avg_prec_score, 4)\n",
    "print('Precision of each fold - {}'.format(prec_score))\n",
    "\n",
    "avg_rec_score = sum(rec_score)/k\n",
    "avg_rec_score = round(avg_rec_score, 4)\n",
    "print('Recall of each fold - {}'.format(rec_score))\n",
    "\n",
    "\n",
    "\n",
    "avg_f1_score = sum(f1_scor)/k\n",
    "avg_f1_score = round(avg_f1_score, 4)\n",
    "print('F1 of each fold - {}'.format(f1_scor))\n",
    "\n",
    "print('Avg Accuracy : {}'.format(avg_acc_score))\n",
    "print('Avg Recall : {}'.format(avg_rec_score))\n",
    "print('Avg Precision: {}'.format(avg_prec_score))\n",
    "print('Avg F1 : {}'.format(avg_f1_score))\n",
    "\n",
    "#Results\n",
    "list_2.append(\"Decision Tree\")\n",
    "list_2.append(avg_acc_score) \n",
    "list_2.append(avg_prec_score) \n",
    "list_2.append(avg_rec_score)\n",
    "list_2.append(avg_f1_score)\n",
    "list_1.append(list_2)\n",
    "list_2 = []\n"
   ]
  },
  {
   "cell_type": "code",
   "execution_count": 55,
   "metadata": {},
   "outputs": [
    {
     "name": "stdout",
     "output_type": "stream",
     "text": [
      "Accuracy of each fold - [0.956, 0.956, 0.936, 0.964, 0.932, 0.94, 0.948, 0.9397590361445783, 0.963855421686747, 0.9518072289156626]\n",
      "Precision of each fold - [0.910989922183952, 0.8671133744304477, 0.8641553378395482, 0.8879120879120879, 0.8286324786324787, 0.816884693372395, 0.8900560224089636, 0.8626915412629699, 0.9249123891981035, 0.8348644527406162]\n",
      "Recall of each fold - [0.9403846153846155, 0.9392696192696192, 0.9251709401709401, 0.9494832944832945, 0.9086285936285936, 0.8398135198135198, 0.8779152171111971, 0.8466184848094396, 0.9425527013466711, 0.9443995423894922]\n",
      "F1 of each fold - [0.9230784150734275, 0.8990506329113924, 0.8903226087145685, 0.9162733760483409, 0.862317429406037, 0.8269347611452874, 0.8794603851396219, 0.8511971938386457, 0.933295448625969, 0.8778388278388278]\n",
      "Avg Accuracy : 0.9487\n",
      "Avg Recall : 0.9114\n",
      "Avg Precision: 0.8688\n",
      "Avg F1 : 0.886\n"
     ]
    }
   ],
   "source": [
    "#SKFOLD Cross Validation\n",
    "skf = StratifiedKFold(n_splits=10, shuffle=True, random_state=1)\n",
    "kf = KFold(n_splits=10, shuffle=True, random_state=1)\n",
    "k = 10\n",
    "\n",
    "\n",
    "#Random Forest\n",
    "rf= RandomForestClassifier()\n",
    " \n",
    "acc_score = []\n",
    "prec_score = []\n",
    "rec_score = []\n",
    "f1_scor = []\n",
    " \n",
    "for train_index , test_index in skf.split(X,y):\n",
    "    X_train , X_test = X.iloc[train_index,:],X.iloc[test_index,:]\n",
    "    y_train , y_test = y.iloc[train_index] , y.iloc[test_index]\n",
    "\n",
    "    #Scaling\n",
    "    scaler = MinMaxScaler(feature_range=(0,1))\n",
    "    X_train = scaler.fit_transform(X_train)\n",
    "    X_test = scaler.transform(X_test)    \n",
    "\n",
    "    oversample = SMOTE()\n",
    "    Xsmote, ysmote = oversample.fit_resample(X_train, y_train)  \n",
    "     \n",
    "    rf.fit(Xsmote,ysmote.values.ravel())\n",
    "    y_pred = rf.predict(X_test)\n",
    "\n",
    "    #Accuracy Score \n",
    "    acc = accuracy_score(y_pred , y_test)\n",
    "    acc_score.append(acc)\n",
    "    #Precision\n",
    "    precision = precision_score(y_test, y_pred,  average='macro')\n",
    "    prec_score.append(precision)\n",
    "    #Recall\n",
    "    recall = recall_score(y_test, y_pred,  average='macro')\n",
    "    rec_score.append(recall)\n",
    "    #F1 Score\n",
    "    f1 = f1_score(y_test, y_pred,average='macro')\n",
    "    f1_scor.append(f1)\n",
    "\n",
    "#Displaying Results    \n",
    "avg_acc_score = sum(acc_score)/k\n",
    "avg_acc_score = round(avg_acc_score, 4)\n",
    "print('Accuracy of each fold - {}'.format(acc_score))\n",
    "\n",
    "avg_prec_score = sum(prec_score)/k\n",
    "avg_prec_score = round(avg_prec_score, 4)\n",
    "print('Precision of each fold - {}'.format(prec_score))\n",
    "\n",
    "avg_rec_score = sum(rec_score)/k\n",
    "avg_rec_score = round(avg_rec_score, 4)\n",
    "print('Recall of each fold - {}'.format(rec_score))\n",
    "\n",
    "\n",
    "\n",
    "avg_f1_score = sum(f1_scor)/k\n",
    "avg_f1_score = round(avg_f1_score, 4)\n",
    "print('F1 of each fold - {}'.format(f1_scor))\n",
    "\n",
    "print('Avg Accuracy : {}'.format(avg_acc_score))\n",
    "print('Avg Recall : {}'.format(avg_rec_score))\n",
    "print('Avg Precision: {}'.format(avg_prec_score))\n",
    "print('Avg F1 : {}'.format(avg_f1_score))\n",
    "\n",
    "#Results\n",
    "list_2.append(\"Random Forest\")\n",
    "list_2.append(avg_acc_score) \n",
    "list_2.append(avg_prec_score) \n",
    "list_2.append(avg_rec_score)\n",
    "list_2.append(avg_f1_score)\n",
    "list_1.append(list_2)\n",
    "list_2 = []\n"
   ]
  },
  {
   "cell_type": "code",
   "execution_count": 56,
   "metadata": {},
   "outputs": [
    {
     "name": "stdout",
     "output_type": "stream",
     "text": [
      "Accuracy of each fold - [0.848, 0.868, 0.856, 0.88, 0.852, 0.86, 0.876, 0.8714859437751004, 0.8955823293172691, 0.8714859437751004]\n",
      "Precision of each fold - [0.6813480366354353, 0.7164769625916289, 0.6909660107334527, 0.7282754909873553, 0.6890909090909091, 0.6906166932482721, 0.7267478152309613, 0.7076684177487033, 0.7543859649122807, 0.7079166666666667]\n",
      "Recall of each fold - [0.8942696192696192, 0.9163636363636364, 0.9124786324786326, 0.9500000000000001, 0.9314529914529914, 0.8992696192696193, 0.9137138684877378, 0.8891426831125324, 0.9564489112227806, 0.9463986599664992]\n",
      "F1 of each fold - [0.7466921551229189, 0.7831710000268318, 0.7556837234256589, 0.8007790954219526, 0.7591393385913934, 0.7547743304467512, 0.78868258178603, 0.769810626953484, 0.8253136200716846, 0.7668669024565652]\n",
      "Avg Accuracy : 0.8679\n",
      "Avg Recall : 0.921\n",
      "Avg Precision: 0.7093\n",
      "Avg F1 : 0.7751\n"
     ]
    }
   ],
   "source": [
    "#SKFOLD Cross Validation\n",
    "skf = StratifiedKFold(n_splits=10, shuffle=True, random_state=1)\n",
    "kf = KFold(n_splits=10, shuffle=True, random_state=1)\n",
    "k = 10\n",
    "\n",
    "#Support Vector Machine\n",
    "svc = SVC()\n",
    " \n",
    "acc_score = []\n",
    "prec_score = []\n",
    "rec_score = []\n",
    "f1_scor = []\n",
    " \n",
    "for train_index , test_index in skf.split(X,y):\n",
    "    X_train , X_test = X.iloc[train_index,:],X.iloc[test_index,:]\n",
    "    y_train , y_test = y.iloc[train_index] , y.iloc[test_index]\n",
    "\n",
    "    #Scaling\n",
    "    scaler = MinMaxScaler(feature_range=(0,1))\n",
    "    X_train = scaler.fit_transform(X_train)\n",
    "    X_test = scaler.transform(X_test)  \n",
    "\n",
    "    oversample = SMOTE()\n",
    "    Xsmote, ysmote = oversample.fit_resample(X_train, y_train)    \n",
    "     \n",
    "    svc.fit(Xsmote,ysmote.values.ravel())\n",
    "    y_pred = svc.predict(X_test)\n",
    "    #Accuracy Score \n",
    "    acc = accuracy_score(y_pred , y_test)\n",
    "    acc_score.append(acc)\n",
    "    #Precision\n",
    "    precision = precision_score(y_test, y_pred,  average='macro')\n",
    "    prec_score.append(precision)\n",
    "    #Recall\n",
    "    recall = recall_score(y_test, y_pred,  average='macro')\n",
    "    rec_score.append(recall)\n",
    "    #F1 Score\n",
    "    f1 = f1_score(y_test, y_pred,average='macro')\n",
    "    f1_scor.append(f1)\n",
    "\n",
    "#Displaying Results    \n",
    "avg_acc_score = sum(acc_score)/k\n",
    "avg_acc_score = round(avg_acc_score, 4)\n",
    "print('Accuracy of each fold - {}'.format(acc_score))\n",
    "\n",
    "avg_prec_score = sum(prec_score)/k\n",
    "avg_prec_score = round(avg_prec_score, 4)\n",
    "print('Precision of each fold - {}'.format(prec_score))\n",
    "\n",
    "avg_rec_score = sum(rec_score)/k\n",
    "avg_rec_score = round(avg_rec_score, 4)\n",
    "print('Recall of each fold - {}'.format(rec_score))\n",
    "\n",
    "\n",
    "\n",
    "avg_f1_score = sum(f1_scor)/k\n",
    "avg_f1_score = round(avg_f1_score, 4)\n",
    "print('F1 of each fold - {}'.format(f1_scor))\n",
    "\n",
    "print('Avg Accuracy : {}'.format(avg_acc_score))\n",
    "print('Avg Recall : {}'.format(avg_rec_score))\n",
    "print('Avg Precision: {}'.format(avg_prec_score))\n",
    "print('Avg F1 : {}'.format(avg_f1_score))\n",
    "\n",
    "#Results\n",
    "list_2.append(\"Support Vector Machine\")\n",
    "list_2.append(avg_acc_score) \n",
    "list_2.append(avg_prec_score) \n",
    "list_2.append(avg_rec_score)\n",
    "list_2.append(avg_f1_score)\n",
    "list_1.append(list_2)\n",
    "list_2 = []\n"
   ]
  },
  {
   "cell_type": "code",
   "execution_count": 57,
   "metadata": {},
   "outputs": [
    {
     "name": "stdout",
     "output_type": "stream",
     "text": [
      "Accuracy of each fold - [0.876, 0.896, 0.884, 0.896, 0.892, 0.872, 0.888, 0.9236947791164659, 0.9116465863453815, 0.9076305220883534]\n",
      "Precision of each fold - [0.7260534508462685, 0.764111824505083, 0.743225974260964, 0.7487674362674364, 0.7375314766790694, 0.7074074074074074, 0.7486669978473257, 0.8069667583345393, 0.7671500920810314, 0.7514172335600907]\n",
      "Recall of each fold - [0.907051282051282, 0.9211499611499612, 0.9241452991452991, 0.9280303030303031, 0.9057226107226107, 0.8836285936285937, 0.9118670274449169, 0.875418272403197, 0.9058931018730014, 0.9614740368509214]\n",
      "F1 of each fold - [0.7882519534196156, 0.8239858906525573, 0.8086823173894414, 0.8138529559408426, 0.7974923222573719, 0.7602896129211919, 0.80609940311203, 0.8367309767714216, 0.8219715956558061, 0.8178672438672439]\n",
      "Avg Accuracy : 0.8947\n",
      "Avg Recall : 0.9124\n",
      "Avg Precision: 0.7501\n",
      "Avg F1 : 0.8075\n"
     ]
    }
   ],
   "source": [
    "#SKFOLD Cross Validation\n",
    "skf = StratifiedKFold(n_splits=10, shuffle=True, random_state=1)\n",
    "kf = KFold(n_splits=10, shuffle=True, random_state=1)\n",
    "k = 10\n",
    "\n",
    "#K-Nearest Neighbour\n",
    "knn = KNeighborsClassifier()\n",
    " \n",
    "acc_score = []\n",
    "prec_score = []\n",
    "rec_score = []\n",
    "f1_scor = []\n",
    " \n",
    "for train_index , test_index in skf.split(X,y):\n",
    "    X_train , X_test = X.iloc[train_index,:],X.iloc[test_index,:]\n",
    "    y_train , y_test = y.iloc[train_index] , y.iloc[test_index]\n",
    "\n",
    "    #Scaling\n",
    "    scaler = MinMaxScaler(feature_range=(0,1))\n",
    "    X_train = scaler.fit_transform(X_train)\n",
    "    X_test = scaler.transform(X_test)    \n",
    "\n",
    "    oversample = SMOTE()\n",
    "    Xsmote, ysmote = oversample.fit_resample(X_train, y_train)    \n",
    "     \n",
    "    knn.fit(Xsmote, ysmote.values.ravel())\n",
    "    y_pred = knn.predict(X_test)\n",
    "    #Accuracy Score \n",
    "    acc = accuracy_score(y_pred , y_test)\n",
    "    acc_score.append(acc)\n",
    "    #Precision\n",
    "    precision = precision_score(y_test, y_pred,  average='macro')\n",
    "    prec_score.append(precision)\n",
    "    #Recall\n",
    "    recall = recall_score(y_test, y_pred,  average='macro')\n",
    "    rec_score.append(recall)\n",
    "    #F1 Score\n",
    "    f1 = f1_score(y_test, y_pred,average='macro')\n",
    "    f1_scor.append(f1)\n",
    "\n",
    "#Displaying Results    \n",
    "avg_acc_score = sum(acc_score)/k\n",
    "avg_acc_score = round(avg_acc_score, 4)\n",
    "print('Accuracy of each fold - {}'.format(acc_score))\n",
    "\n",
    "avg_prec_score = sum(prec_score)/k\n",
    "avg_prec_score = round(avg_prec_score, 4)\n",
    "print('Precision of each fold - {}'.format(prec_score))\n",
    "\n",
    "avg_rec_score = sum(rec_score)/k\n",
    "avg_rec_score = round(avg_rec_score, 4)\n",
    "print('Recall of each fold - {}'.format(rec_score))\n",
    "\n",
    "\n",
    "\n",
    "avg_f1_score = sum(f1_scor)/k\n",
    "avg_f1_score = round(avg_f1_score, 4)\n",
    "print('F1 of each fold - {}'.format(f1_scor))\n",
    "\n",
    "print('Avg Accuracy : {}'.format(avg_acc_score))\n",
    "print('Avg Recall : {}'.format(avg_rec_score))\n",
    "print('Avg Precision: {}'.format(avg_prec_score))\n",
    "print('Avg F1 : {}'.format(avg_f1_score))\n",
    "\n",
    "#Results\n",
    "list_2.append(\"K-Nearest Neighbour\")\n",
    "list_2.append(avg_acc_score) \n",
    "list_2.append(avg_prec_score) \n",
    "list_2.append(avg_rec_score)\n",
    "list_2.append(avg_f1_score)\n",
    "list_1.append(list_2)\n",
    "list_2 = []\n",
    "\n"
   ]
  },
  {
   "cell_type": "code",
   "execution_count": 58,
   "metadata": {},
   "outputs": [
    {
     "name": "stdout",
     "output_type": "stream",
     "text": [
      "Accuracy of each fold - [0.804, 0.804, 0.832, 0.804, 0.748, 0.764, 0.816, 0.8232931726907631, 0.8232931726907631, 0.8032128514056225]\n",
      "Precision of each fold - [0.6468944099378883, 0.6456819442752947, 0.6671085858585859, 0.6517578960034203, 0.6000337723741979, 0.5961053295490382, 0.6491793088760445, 0.6492739898989899, 0.6382764773483337, 0.6382277217318201]\n",
      "Recall of each fold - [0.8404195804195805, 0.9114529914529914, 0.9013636363636364, 0.8896969696969697, 0.8812393162393163, 0.8237529137529137, 0.8556135377743418, 0.8266702588310629, 0.7762862486480576, 0.8973070480608168]\n",
      "F1 of each fold - [0.7038592519782761, 0.7096653565019949, 0.7325396825396826, 0.7132301941810092, 0.6494591310215184, 0.6402566360847546, 0.7037398573807266, 0.7045655044402305, 0.6826784630063317, 0.6978665793208866]\n",
      "Avg Accuracy : 0.8022\n",
      "Avg Recall : 0.8604\n",
      "Avg Precision: 0.6383\n",
      "Avg F1 : 0.6938\n"
     ]
    }
   ],
   "source": [
    "#SKFOLD Cross Validation\n",
    "skf = StratifiedKFold(n_splits=10, shuffle=True, random_state=1)\n",
    "kf = KFold(n_splits=10, shuffle=True, random_state=1)\n",
    "k = 10 \n",
    "#GaussianNB\n",
    "gnb = GaussianNB()\n",
    " \n",
    "acc_score = []\n",
    "prec_score = []\n",
    "rec_score = []\n",
    "f1_scor = []\n",
    " \n",
    "for train_index , test_index in skf.split(X,y):\n",
    "    X_train , X_test = X.iloc[train_index,:],X.iloc[test_index,:]\n",
    "    y_train , y_test = y.iloc[train_index] , y.iloc[test_index]\n",
    "\n",
    "    #Scaling\n",
    "    scaler = MinMaxScaler(feature_range=(0,1))\n",
    "    X_train = scaler.fit_transform(X_train)\n",
    "    X_test = scaler.transform(X_test)    \n",
    "\n",
    "    oversample = SMOTE()\n",
    "    Xsmote, ysmote = oversample.fit_resample(X_train, y_train)    \n",
    "     \n",
    "    gnb.fit(Xsmote, ysmote.values.ravel())\n",
    "    y_pred = gnb.predict(X_test)\n",
    "    #Accuracy Score \n",
    "    acc = accuracy_score(y_pred , y_test)\n",
    "    acc_score.append(acc)\n",
    "    #Precision\n",
    "    precision = precision_score(y_test, y_pred,  average='macro')\n",
    "    prec_score.append(precision)\n",
    "    #Recall\n",
    "    recall = recall_score(y_test, y_pred,  average='macro')\n",
    "    rec_score.append(recall)\n",
    "    #F1 Score\n",
    "    f1 = f1_score(y_test, y_pred,average='macro')\n",
    "    f1_scor.append(f1)\n",
    "\n",
    "#Displaying Results    \n",
    "avg_acc_score = sum(acc_score)/k\n",
    "avg_acc_score = round(avg_acc_score, 4)\n",
    "print('Accuracy of each fold - {}'.format(acc_score))\n",
    "\n",
    "avg_prec_score = sum(prec_score)/k\n",
    "avg_prec_score = round(avg_prec_score, 4)\n",
    "print('Precision of each fold - {}'.format(prec_score))\n",
    "\n",
    "avg_rec_score = sum(rec_score)/k\n",
    "avg_rec_score = round(avg_rec_score, 4)\n",
    "print('Recall of each fold - {}'.format(rec_score))\n",
    "\n",
    "\n",
    "\n",
    "avg_f1_score = sum(f1_scor)/k\n",
    "avg_f1_score = round(avg_f1_score, 4)\n",
    "print('F1 of each fold - {}'.format(f1_scor))\n",
    "\n",
    "print('Avg Accuracy : {}'.format(avg_acc_score))\n",
    "print('Avg Recall : {}'.format(avg_rec_score))\n",
    "print('Avg Precision: {}'.format(avg_prec_score))\n",
    "print('Avg F1 : {}'.format(avg_f1_score))\n",
    "\n",
    "#Results\n",
    "list_2.append(\"GaussianNB\")\n",
    "list_2.append(avg_acc_score) \n",
    "list_2.append(avg_prec_score) \n",
    "list_2.append(avg_rec_score)\n",
    "list_2.append(avg_f1_score)\n",
    "list_1.append(list_2)\n",
    "list_2 = []\n",
    "\n"
   ]
  },
  {
   "cell_type": "code",
   "execution_count": 59,
   "metadata": {},
   "outputs": [
    {
     "name": "stderr",
     "output_type": "stream",
     "text": [
      "C:\\Users\\RAHUL\\AppData\\Local\\Programs\\Python\\Python39\\lib\\site-packages\\sklearn\\neural_network\\_multilayer_perceptron.py:692: ConvergenceWarning: Stochastic Optimizer: Maximum iterations (200) reached and the optimization hasn't converged yet.\n",
      "  warnings.warn(\n",
      "C:\\Users\\RAHUL\\AppData\\Local\\Programs\\Python\\Python39\\lib\\site-packages\\sklearn\\neural_network\\_multilayer_perceptron.py:692: ConvergenceWarning: Stochastic Optimizer: Maximum iterations (200) reached and the optimization hasn't converged yet.\n",
      "  warnings.warn(\n"
     ]
    },
    {
     "name": "stdout",
     "output_type": "stream",
     "text": [
      "Accuracy of each fold - [0.884, 0.884, 0.864, 0.892, 0.864, 0.876, 0.888, 0.9116465863453815, 0.9076305220883534, 0.8795180722891566]\n",
      "Precision of each fold - [0.7371112252468185, 0.7439930454940598, 0.7018228200371057, 0.7464461536609733, 0.705458761741002, 0.7202427932498967, 0.7415966592974699, 0.7900569945262682, 0.7905701754385964, 0.7144188213370604]\n",
      "Recall of each fold - [0.9092696192696192, 0.9161499611499612, 0.908931623931624, 0.9057226107226107, 0.9364529914529914, 0.8852952602952603, 0.9324829274578018, 0.9345210902999849, 0.9614740368509214, 0.949748743718593]\n",
      "F1 of each fold - [0.7999887126813027, 0.8068191785305188, 0.7644709506411634, 0.8062630102271701, 0.7767259077544061, 0.778841244551176, 0.8067449882176154, 0.8469389816907548, 0.8553271604938272, 0.7817505720823799]\n",
      "Avg Accuracy : 0.8851\n",
      "Avg Recall : 0.924\n",
      "Avg Precision: 0.7392\n",
      "Avg F1 : 0.8024\n"
     ]
    }
   ],
   "source": [
    "#SKFOLD Cross Validation\n",
    "skf = StratifiedKFold(n_splits=10, shuffle=True, random_state=1)\n",
    "kf = KFold(n_splits=10, shuffle=True, random_state=1)\n",
    "kf = KFold\n",
    "k = 10\n",
    "#MLP\n",
    "mlp = MLPClassifier()\n",
    "\n",
    "\n",
    "acc_score = []\n",
    "prec_score = []\n",
    "rec_score = []\n",
    "f1_scor = []\n",
    "\n",
    "\n",
    " \n",
    "for train_index , test_index in skf.split(X,y):\n",
    "    X_train , X_test = X.iloc[train_index,:],X.iloc[test_index,:]\n",
    "    y_train , y_test = y.iloc[train_index] , y.iloc[test_index]\n",
    "\n",
    "    #Scaling\n",
    "    scaler = MinMaxScaler(feature_range=(0,1))\n",
    "    X_train = scaler.fit_transform(X_train)\n",
    "    X_test = scaler.transform(X_test)  \n",
    "\n",
    "    oversample = SMOTE()\n",
    "    Xsmote, ysmote = oversample.fit_resample(X_train, y_train)    \n",
    "     \n",
    "    mlp.fit(Xsmote,ysmote.values.ravel())\n",
    "    y_pred = mlp.predict(X_test)\n",
    "    #Accuracy Score \n",
    "    acc = accuracy_score(y_pred , y_test.values.ravel())\n",
    "    acc_score.append(acc)\n",
    "    #Precision\n",
    "    precision = precision_score(y_test, y_pred,  average='macro')\n",
    "    prec_score.append(precision)\n",
    "    #Recall\n",
    "    recall = recall_score(y_test.values.ravel(), y_pred,  average='macro')\n",
    "    rec_score.append(recall)\n",
    "    #F1 Score\n",
    "    f1 = f1_score(y_test, y_pred,average='macro')\n",
    "    f1_scor.append(f1)\n",
    "\n",
    "#Displaying Results    \n",
    "avg_acc_score = sum(acc_score)/k\n",
    "avg_acc_score = round(avg_acc_score, 4)\n",
    "print('Accuracy of each fold - {}'.format(acc_score))\n",
    "\n",
    "avg_prec_score = sum(prec_score)/k\n",
    "avg_prec_score = round(avg_prec_score, 4)\n",
    "print('Precision of each fold - {}'.format(prec_score))\n",
    "\n",
    "avg_rec_score = sum(rec_score)/k\n",
    "avg_rec_score = round(avg_rec_score, 4)\n",
    "print('Recall of each fold - {}'.format(rec_score))\n",
    "\n",
    "\n",
    "\n",
    "avg_f1_score = sum(f1_scor)/k\n",
    "avg_f1_score = round(avg_f1_score, 4)\n",
    "print('F1 of each fold - {}'.format(f1_scor))\n",
    "\n",
    "print('Avg Accuracy : {}'.format(avg_acc_score))\n",
    "print('Avg Recall : {}'.format(avg_rec_score))\n",
    "print('Avg Precision: {}'.format(avg_prec_score))\n",
    "print('Avg F1 : {}'.format(avg_f1_score))\n",
    "\n",
    "#Results\n",
    "list_2.append(\"MLP\")\n",
    "list_2.append(avg_acc_score) \n",
    "list_2.append(avg_prec_score) \n",
    "list_2.append(avg_rec_score)\n",
    "list_2.append(avg_f1_score)\n",
    "list_1.append(list_2)\n",
    "list_2 = []\n",
    "\n"
   ]
  },
  {
   "cell_type": "code",
   "execution_count": 60,
   "metadata": {},
   "outputs": [
    {
     "data": {
      "text/html": [
       "<div>\n",
       "<style scoped>\n",
       "    .dataframe tbody tr th:only-of-type {\n",
       "        vertical-align: middle;\n",
       "    }\n",
       "\n",
       "    .dataframe tbody tr th {\n",
       "        vertical-align: top;\n",
       "    }\n",
       "\n",
       "    .dataframe thead th {\n",
       "        text-align: right;\n",
       "    }\n",
       "</style>\n",
       "<table border=\"1\" class=\"dataframe\">\n",
       "  <thead>\n",
       "    <tr style=\"text-align: right;\">\n",
       "      <th></th>\n",
       "      <th>Models with SMOTE</th>\n",
       "      <th>Accuracy</th>\n",
       "      <th>Precision</th>\n",
       "      <th>Recall</th>\n",
       "      <th>F1</th>\n",
       "    </tr>\n",
       "  </thead>\n",
       "  <tbody>\n",
       "    <tr>\n",
       "      <th>2</th>\n",
       "      <td>Random Forest</td>\n",
       "      <td>0.9487</td>\n",
       "      <td>0.8688</td>\n",
       "      <td>0.9114</td>\n",
       "      <td>0.8860</td>\n",
       "    </tr>\n",
       "    <tr>\n",
       "      <th>1</th>\n",
       "      <td>Decision Tree</td>\n",
       "      <td>0.9259</td>\n",
       "      <td>0.8246</td>\n",
       "      <td>0.8872</td>\n",
       "      <td>0.8485</td>\n",
       "    </tr>\n",
       "    <tr>\n",
       "      <th>4</th>\n",
       "      <td>K-Nearest Neighbour</td>\n",
       "      <td>0.8947</td>\n",
       "      <td>0.7501</td>\n",
       "      <td>0.9124</td>\n",
       "      <td>0.8075</td>\n",
       "    </tr>\n",
       "    <tr>\n",
       "      <th>6</th>\n",
       "      <td>MLP</td>\n",
       "      <td>0.8851</td>\n",
       "      <td>0.7392</td>\n",
       "      <td>0.9240</td>\n",
       "      <td>0.8024</td>\n",
       "    </tr>\n",
       "    <tr>\n",
       "      <th>3</th>\n",
       "      <td>Support Vector Machine</td>\n",
       "      <td>0.8679</td>\n",
       "      <td>0.7093</td>\n",
       "      <td>0.9210</td>\n",
       "      <td>0.7751</td>\n",
       "    </tr>\n",
       "    <tr>\n",
       "      <th>5</th>\n",
       "      <td>GaussianNB</td>\n",
       "      <td>0.8022</td>\n",
       "      <td>0.6383</td>\n",
       "      <td>0.8604</td>\n",
       "      <td>0.6938</td>\n",
       "    </tr>\n",
       "    <tr>\n",
       "      <th>0</th>\n",
       "      <td>Logistic Regression</td>\n",
       "      <td>0.7850</td>\n",
       "      <td>0.6285</td>\n",
       "      <td>0.8958</td>\n",
       "      <td>0.6811</td>\n",
       "    </tr>\n",
       "  </tbody>\n",
       "</table>\n",
       "</div>"
      ],
      "text/plain": [
       "        Models with SMOTE  Accuracy  Precision  Recall      F1\n",
       "2           Random Forest    0.9487     0.8688  0.9114  0.8860\n",
       "1           Decision Tree    0.9259     0.8246  0.8872  0.8485\n",
       "4     K-Nearest Neighbour    0.8947     0.7501  0.9124  0.8075\n",
       "6                     MLP    0.8851     0.7392  0.9240  0.8024\n",
       "3  Support Vector Machine    0.8679     0.7093  0.9210  0.7751\n",
       "5              GaussianNB    0.8022     0.6383  0.8604  0.6938\n",
       "0     Logistic Regression    0.7850     0.6285  0.8958  0.6811"
      ]
     },
     "execution_count": 60,
     "metadata": {},
     "output_type": "execute_result"
    }
   ],
   "source": [
    "#Displaying all the results from the model\n",
    "model_results = pd.DataFrame(list_1, columns= ['Models with SMOTE', 'Accuracy', 'Precision', 'Recall', 'F1'])\n",
    "model_results.sort_values(by= ['F1'], inplace= True, ascending= False)\n",
    "model_results"
   ]
  },
  {
   "cell_type": "markdown",
   "metadata": {},
   "source": [
    "Expirement: Trading Signal: 60% Hold, 20% Buy , 20% Sell."
   ]
  },
  {
   "cell_type": "code",
   "execution_count": 61,
   "metadata": {},
   "outputs": [],
   "source": [
    "#Spliting the data into train and test\n",
    "from sklearn.model_selection import train_test_split\n",
    "X_train, X_test, y_train, y_test = train_test_split( X, y, test_size=0.3, random_state=42)"
   ]
  },
  {
   "cell_type": "code",
   "execution_count": 62,
   "metadata": {},
   "outputs": [
    {
     "data": {
      "text/plain": [
       "0    1401\n",
       "1     265\n",
       "2      81\n",
       "Name: Recommender, dtype: int64"
      ]
     },
     "execution_count": 62,
     "metadata": {},
     "output_type": "execute_result"
    }
   ],
   "source": [
    "y_train['Recommender'].value_counts()"
   ]
  },
  {
   "cell_type": "code",
   "execution_count": 63,
   "metadata": {},
   "outputs": [
    {
     "data": {
      "text/plain": [
       "0    595\n",
       "1    125\n",
       "2     30\n",
       "Name: Recommender, dtype: int64"
      ]
     },
     "execution_count": 63,
     "metadata": {},
     "output_type": "execute_result"
    }
   ],
   "source": [
    "y_test['Recommender'].value_counts()"
   ]
  },
  {
   "cell_type": "code",
   "execution_count": 64,
   "metadata": {},
   "outputs": [
    {
     "name": "stderr",
     "output_type": "stream",
     "text": [
      "C:\\Users\\RAHUL\\AppData\\Local\\Programs\\Python\\Python39\\lib\\site-packages\\imblearn\\utils\\_validation.py:299: UserWarning: After over-sampling, the number of samples (1799) in class 0 will be larger than the number of samples in the majority class (class #0 -> 1401)\n",
      "  warnings.warn(\n"
     ]
    }
   ],
   "source": [
    "#Scaling\n",
    "scaler = MinMaxScaler(feature_range=(0,1))\n",
    "X_train = scaler.fit_transform(X_train)\n",
    "X_test = scaler.transform(X_test) \n",
    "\n",
    "#SMOTE\n",
    "strategy = {0:1799, 1:899, 2:899}\n",
    "oversample = SMOTE(sampling_strategy=strategy)\n",
    "\n",
    "Xsmote, ysmote = oversample.fit_resample(X_train, y_train)"
   ]
  },
  {
   "cell_type": "code",
   "execution_count": 65,
   "metadata": {},
   "outputs": [
    {
     "data": {
      "text/plain": [
       "0    1799\n",
       "2     899\n",
       "1     899\n",
       "Name: Recommender, dtype: int64"
      ]
     },
     "execution_count": 65,
     "metadata": {},
     "output_type": "execute_result"
    }
   ],
   "source": [
    "ysmote['Recommender'].value_counts()"
   ]
  },
  {
   "cell_type": "code",
   "execution_count": 66,
   "metadata": {},
   "outputs": [
    {
     "data": {
      "text/plain": [
       "Text(0.5, 0, 'Trade Signals')"
      ]
     },
     "execution_count": 66,
     "metadata": {},
     "output_type": "execute_result"
    },
    {
     "data": {
      "image/png": "[encoded data removed]",
      "text/plain": [
       "<Figure size 576x396 with 1 Axes>"
      ]
     },
     "metadata": {},
     "output_type": "display_data"
    }
   ],
   "source": [
    "fig = sns.barplot(x=['0', '1', '2'],  y =[sum(ysmote['Recommender'] == 0), sum(ysmote['Recommender'] == 1), sum(ysmote['Recommender'] == 2)])\n",
    "fig.set_title(\"Y-Train\")\n",
    "fig.set_xlabel('Trade Signals')"
   ]
  },
  {
   "cell_type": "code",
   "execution_count": 67,
   "metadata": {},
   "outputs": [
    {
     "name": "stderr",
     "output_type": "stream",
     "text": [
      "C:\\Users\\RAHUL\\AppData\\Local\\Programs\\Python\\Python39\\lib\\site-packages\\sklearn\\utils\\validation.py:985: DataConversionWarning: A column-vector y was passed when a 1d array was expected. Please change the shape of y to (n_samples, ), for example using ravel().\n",
      "  y = column_or_1d(y, warn=True)\n"
     ]
    },
    {
     "name": "stdout",
     "output_type": "stream",
     "text": [
      "0.8653333333333333\n",
      "Test Data Precision Score : 0.6990578865578866\n",
      "Test Data Recall Score :  0.8907189542483659\n",
      "Test  Data F1 Score:  0.7587712719453448\n"
     ]
    },
    {
     "name": "stderr",
     "output_type": "stream",
     "text": [
      "C:\\Users\\RAHUL\\AppData\\Local\\Programs\\Python\\Python39\\lib\\site-packages\\sklearn\\utils\\validation.py:985: DataConversionWarning: A column-vector y was passed when a 1d array was expected. Please change the shape of y to (n_samples, ), for example using ravel().\n",
      "  y = column_or_1d(y, warn=True)\n"
     ]
    },
    {
     "name": "stdout",
     "output_type": "stream",
     "text": [
      "0.8853333333333333\n",
      "Test Data Precision Score : 0.7312473011529877\n",
      "Test Data Recall Score :  0.8780205415499532\n",
      "Test  Data F1 Score:  0.7853137702929608\n",
      "0.8933333333333333\n",
      "Test Data Precision Score : 0.7577624989389694\n",
      "Test Data Recall Score :  0.8898450046685341\n",
      "Test  Data F1 Score:  0.8081874225406315\n",
      "0.816\n",
      "Test Data Precision Score : 0.6440527496865526\n",
      "Test Data Recall Score :  0.8636339869281047\n",
      "Test  Data F1 Score:  0.7036856337929303\n"
     ]
    },
    {
     "name": "stderr",
     "output_type": "stream",
     "text": [
      "C:\\Users\\RAHUL\\AppData\\Local\\Programs\\Python\\Python39\\lib\\site-packages\\sklearn\\neighbors\\_classification.py:198: DataConversionWarning: A column-vector y was passed when a 1d array was expected. Please change the shape of y to (n_samples,), for example using ravel().\n",
      "  return self._fit(X, y)\n",
      "C:\\Users\\RAHUL\\AppData\\Local\\Programs\\Python\\Python39\\lib\\site-packages\\sklearn\\utils\\validation.py:985: DataConversionWarning: A column-vector y was passed when a 1d array was expected. Please change the shape of y to (n_samples, ), for example using ravel().\n",
      "  y = column_or_1d(y, warn=True)\n"
     ]
    },
    {
     "name": "stdout",
     "output_type": "stream",
     "text": [
      "0.9133333333333333\n",
      "Test Data Precision Score : 0.7899808557302702\n",
      "Test Data Recall Score :  0.8433874883286648\n",
      "Test  Data F1 Score:  0.8120686331212648\n"
     ]
    },
    {
     "name": "stderr",
     "output_type": "stream",
     "text": [
      "C:\\Users\\RAHUL\\AppData\\Local\\Temp/ipykernel_22376/1504728737.py:17: DataConversionWarning: A column-vector y was passed when a 1d array was expected. Please change the shape of y to (n_samples,), for example using ravel().\n",
      "  model.fit(Xsmote, ysmote)\n"
     ]
    },
    {
     "name": "stdout",
     "output_type": "stream",
     "text": [
      "0.9386666666666666\n",
      "Test Data Precision Score : 0.8379267005291867\n",
      "Test Data Recall Score :  0.8730084033613444\n",
      "Test  Data F1 Score:  0.8508196864753156\n"
     ]
    },
    {
     "name": "stderr",
     "output_type": "stream",
     "text": [
      "C:\\Users\\RAHUL\\AppData\\Local\\Programs\\Python\\Python39\\lib\\site-packages\\sklearn\\neural_network\\_multilayer_perceptron.py:1109: DataConversionWarning: A column-vector y was passed when a 1d array was expected. Please change the shape of y to (n_samples, ), for example using ravel().\n",
      "  y = column_or_1d(y, warn=True)\n"
     ]
    },
    {
     "name": "stdout",
     "output_type": "stream",
     "text": [
      "0.8853333333333333\n",
      "Test Data Precision Score : 0.7420996231789037\n",
      "Test Data Recall Score :  0.8632567693744164\n",
      "Test  Data F1 Score:  0.7905123893941365\n"
     ]
    },
    {
     "name": "stderr",
     "output_type": "stream",
     "text": [
      "C:\\Users\\RAHUL\\AppData\\Local\\Programs\\Python\\Python39\\lib\\site-packages\\sklearn\\neural_network\\_multilayer_perceptron.py:692: ConvergenceWarning: Stochastic Optimizer: Maximum iterations (200) reached and the optimization hasn't converged yet.\n",
      "  warnings.warn(\n"
     ]
    }
   ],
   "source": [
    "models = []\n",
    "models.append(['Logistic Regreesion', LogisticRegression()])\n",
    "models.append(['SVM', SVC()])\n",
    "models.append(['KNeighbors', KNeighborsClassifier()])\n",
    "models.append(['GaussianNB', GaussianNB()])\n",
    "models.append(['Decision Tree', DecisionTreeClassifier()])\n",
    "models.append(['Random Forest', RandomForestClassifier()])\n",
    "models.append(['MLP', MLPClassifier()])\n",
    "\n",
    "\n",
    "list_1= []\n",
    "\n",
    "for m in range(len(models)):\n",
    "    list_2= []\n",
    "    \n",
    "    model = models[m][1]\n",
    "    model.fit(Xsmote, ysmote)\n",
    "    y_pred = model.predict(X_test)\n",
    "\n",
    "    #Accuracy\n",
    "    accuracy = accuracy_score(y_pred , y_test.values.ravel())\n",
    "    print(accuracy)\n",
    "    #Precision\n",
    "    test_precision = precision_score(y_test, y_pred,  average='macro')\n",
    "    print(\"Test Data Precision Score :\", test_precision) \n",
    "    #Recall\n",
    "    test_recall = recall_score(y_test, y_pred,  average='macro')\n",
    "    print(\"Test Data Recall Score : \", test_recall)\n",
    "    #F1 Score\n",
    "    test_f1 = f1_score(y_test, y_pred,average='macro')\n",
    "    print(\"Test  Data F1 Score: \", test_f1)\n",
    "\n",
    "    list_2.append(models[m][0])\n",
    "    list_2.append(accuracy) \n",
    "    list_2.append(test_precision)\n",
    "    list_2.append(test_recall)\n",
    "    list_2.append(test_f1)\n",
    "    list_1.append(list_2)\n",
    "\n",
    "\n",
    "\n"
   ]
  },
  {
   "cell_type": "code",
   "execution_count": 68,
   "metadata": {},
   "outputs": [
    {
     "data": {
      "text/html": [
       "<div>\n",
       "<style scoped>\n",
       "    .dataframe tbody tr th:only-of-type {\n",
       "        vertical-align: middle;\n",
       "    }\n",
       "\n",
       "    .dataframe tbody tr th {\n",
       "        vertical-align: top;\n",
       "    }\n",
       "\n",
       "    .dataframe thead th {\n",
       "        text-align: right;\n",
       "    }\n",
       "</style>\n",
       "<table border=\"1\" class=\"dataframe\">\n",
       "  <thead>\n",
       "    <tr style=\"text-align: right;\">\n",
       "      <th></th>\n",
       "      <th>Models with SMOTE 2</th>\n",
       "      <th>Accuracy</th>\n",
       "      <th>Precision</th>\n",
       "      <th>Recall</th>\n",
       "      <th>F1</th>\n",
       "    </tr>\n",
       "  </thead>\n",
       "  <tbody>\n",
       "    <tr>\n",
       "      <th>5</th>\n",
       "      <td>Random Forest</td>\n",
       "      <td>0.938667</td>\n",
       "      <td>0.837927</td>\n",
       "      <td>0.873008</td>\n",
       "      <td>0.850820</td>\n",
       "    </tr>\n",
       "    <tr>\n",
       "      <th>4</th>\n",
       "      <td>Decision Tree</td>\n",
       "      <td>0.913333</td>\n",
       "      <td>0.789981</td>\n",
       "      <td>0.843387</td>\n",
       "      <td>0.812069</td>\n",
       "    </tr>\n",
       "    <tr>\n",
       "      <th>2</th>\n",
       "      <td>KNeighbors</td>\n",
       "      <td>0.893333</td>\n",
       "      <td>0.757762</td>\n",
       "      <td>0.889845</td>\n",
       "      <td>0.808187</td>\n",
       "    </tr>\n",
       "    <tr>\n",
       "      <th>6</th>\n",
       "      <td>MLP</td>\n",
       "      <td>0.885333</td>\n",
       "      <td>0.742100</td>\n",
       "      <td>0.863257</td>\n",
       "      <td>0.790512</td>\n",
       "    </tr>\n",
       "    <tr>\n",
       "      <th>1</th>\n",
       "      <td>SVM</td>\n",
       "      <td>0.885333</td>\n",
       "      <td>0.731247</td>\n",
       "      <td>0.878021</td>\n",
       "      <td>0.785314</td>\n",
       "    </tr>\n",
       "    <tr>\n",
       "      <th>0</th>\n",
       "      <td>Logistic Regreesion</td>\n",
       "      <td>0.865333</td>\n",
       "      <td>0.699058</td>\n",
       "      <td>0.890719</td>\n",
       "      <td>0.758771</td>\n",
       "    </tr>\n",
       "    <tr>\n",
       "      <th>3</th>\n",
       "      <td>GaussianNB</td>\n",
       "      <td>0.816000</td>\n",
       "      <td>0.644053</td>\n",
       "      <td>0.863634</td>\n",
       "      <td>0.703686</td>\n",
       "    </tr>\n",
       "  </tbody>\n",
       "</table>\n",
       "</div>"
      ],
      "text/plain": [
       "   Models with SMOTE 2  Accuracy  Precision    Recall        F1\n",
       "5        Random Forest  0.938667   0.837927  0.873008  0.850820\n",
       "4        Decision Tree  0.913333   0.789981  0.843387  0.812069\n",
       "2           KNeighbors  0.893333   0.757762  0.889845  0.808187\n",
       "6                  MLP  0.885333   0.742100  0.863257  0.790512\n",
       "1                  SVM  0.885333   0.731247  0.878021  0.785314\n",
       "0  Logistic Regreesion  0.865333   0.699058  0.890719  0.758771\n",
       "3           GaussianNB  0.816000   0.644053  0.863634  0.703686"
      ]
     },
     "execution_count": 68,
     "metadata": {},
     "output_type": "execute_result"
    }
   ],
   "source": [
    "#Displaying all the results from the model\n",
    "model_results = pd.DataFrame(list_1, columns= ['Models with SMOTE 2', 'Accuracy', 'Precision', 'Recall', 'F1'])\n",
    "model_results.sort_values(by= ['F1'], inplace= True, ascending= False)\n",
    "model_results"
   ]
  },
  {
   "cell_type": "markdown",
   "metadata": {},
   "source": [
    "Hyperparameter Tuning The Best Performing Model: Random Forest"
   ]
  },
  {
   "cell_type": "code",
   "execution_count": 73,
   "metadata": {},
   "outputs": [
    {
     "data": {
      "text/plain": [
       "(2497, 12)"
      ]
     },
     "execution_count": 73,
     "metadata": {},
     "output_type": "execute_result"
    }
   ],
   "source": [
    "X.shape\n"
   ]
  },
  {
   "cell_type": "code",
   "execution_count": 74,
   "metadata": {},
   "outputs": [
    {
     "data": {
      "text/plain": [
       "(2497, 1)"
      ]
     },
     "execution_count": 74,
     "metadata": {},
     "output_type": "execute_result"
    }
   ],
   "source": [
    "y.shape"
   ]
  },
  {
   "cell_type": "code",
   "execution_count": null,
   "metadata": {},
   "outputs": [],
   "source": []
  },
  {
   "cell_type": "code",
   "execution_count": 77,
   "metadata": {},
   "outputs": [
    {
     "name": "stdout",
     "output_type": "stream",
     "text": [
      "Accuracy of each fold - [0.952, 0.928, 0.944, 0.952, 0.928, 0.924, 0.948, 0.9357429718875502, 0.963855421686747, 0.9477911646586346]\n",
      "Precision of each fold - [0.9051155115511551, 0.810763888888889, 0.8746107693476115, 0.8677528490028491, 0.8216690414326823, 0.7912309294218843, 0.8756875687568756, 0.8598180283931671, 0.927412334729408, 0.8238367064521709]\n",
      "Recall of each fold - [0.910081585081585, 0.9138422688422688, 0.9353846153846154, 0.9444832944832945, 0.906961926961927, 0.8193861693861694, 0.8847871837821587, 0.8380714762624311, 0.9139247129196878, 0.9713524889404286]\n",
      "F1 of each fold - [0.9065714903742158, 0.8530066347526665, 0.9006556592486241, 0.9024943310657596, 0.857848496680984, 0.8023725981620718, 0.8749961515963179, 0.8458815800279216, 0.91982427731798, 0.8753618960295629]\n",
      "Avg Accuracy Score:  0.9423\n",
      "Avg Recall Score:  0.9038\n",
      "Avg Precision Score:  0.8558\n",
      "Avg F1 Score:  0.8739\n"
     ]
    }
   ],
   "source": [
    "#This Setup Achieved best performing model, we are running it again to check the models parameteres.\n",
    "\n",
    "#SKFOLD Cross Validation\n",
    "skf = StratifiedKFold(n_splits=10, shuffle=True, random_state=1)\n",
    "kf = KFold(n_splits=10, shuffle=True, random_state=1)\n",
    "k = 10\n",
    "\n",
    "\n",
    "#Random Forest\n",
    "rf= RandomForestClassifier()\n",
    "\n",
    "acc_score = []\n",
    "prec_score = []\n",
    "rec_score = []\n",
    "f1_scor = []\n",
    " \n",
    "\n",
    "for train_index , test_index in skf.split(X,y):\n",
    "    X_train , X_test = X.iloc[train_index,:],X.iloc[test_index,:]\n",
    "    y_train , y_test = y.iloc[train_index] , y.iloc[test_index]\n",
    "\n",
    "    #Scaling\n",
    "    scaler = MinMaxScaler(feature_range=(0,1))\n",
    "    X_train = scaler.fit_transform(X_train)\n",
    "    X_test = scaler.transform(X_test)    \n",
    "\n",
    "    oversample = SMOTE()\n",
    "    Xsmote, ysmote = oversample.fit_resample(X_train, y_train)  \n",
    "     \n",
    "    rf.fit(Xsmote,ysmote.values.ravel())\n",
    "    y_pred = rf.predict(X_test)\n",
    "\n",
    "    #Accuracy Score \n",
    "    acc = accuracy_score(y_pred , y_test)\n",
    "    acc_score.append(acc)\n",
    "    #Precision\n",
    "    precision = precision_score(y_test, y_pred,  average='macro')\n",
    "    prec_score.append(precision)\n",
    "    #Recall\n",
    "    recall = recall_score(y_test, y_pred,  average='macro')\n",
    "    rec_score.append(recall)\n",
    "    #F1 Score\n",
    "    f1 = f1_score(y_test, y_pred,average='macro')\n",
    "    f1_scor.append(f1)\n",
    "\n",
    "#Displaying Results    \n",
    "avg_acc_score = sum(acc_score)/k\n",
    "avg_acc_score = round(avg_acc_score, 4)\n",
    "print('Accuracy of each fold - {}'.format(acc_score))\n",
    "\n",
    "avg_prec_score = sum(prec_score)/k\n",
    "avg_prec_score = round(avg_prec_score, 4)\n",
    "print('Precision of each fold - {}'.format(prec_score))\n",
    "\n",
    "avg_rec_score = sum(rec_score)/k\n",
    "avg_rec_score = round(avg_rec_score, 4)\n",
    "print('Recall of each fold - {}'.format(rec_score))\n",
    "\n",
    "avg_f1_score = sum(f1_scor)/k\n",
    "avg_f1_score = round(avg_f1_score, 4)\n",
    "print('F1 of each fold - {}'.format(f1_scor))\n",
    "\n",
    "print(\"Avg Accuracy Score: \", avg_acc_score)\n",
    "print(\"Avg Recall Score: \", avg_rec_score)\n",
    "print(\"Avg Precision Score: \", avg_prec_score)\n",
    "print(\"Avg F1 Score: \", avg_f1_score)\n",
    "\n",
    "\n",
    "\n",
    "\n",
    "\n"
   ]
  },
  {
   "cell_type": "code",
   "execution_count": 84,
   "metadata": {},
   "outputs": [],
   "source": [
    "#Independant and Dependent Variable\n",
    "y=dataset.iloc[:,12:13] #Dependent variable\n",
    "X=dataset.iloc[:,0:12] #Independent variable\n",
    "\n",
    "\n",
    "#Spliting the data into train and test\n",
    "from sklearn.model_selection import train_test_split\n",
    "X_train, X_test, y_train, y_test = train_test_split( X, y, test_size=0.3, random_state=42)\n",
    "\n",
    "#Scaling\n",
    "scaler = MinMaxScaler(feature_range=(0,1))\n",
    "X_train = scaler.fit_transform(X_train)\n",
    "X_test = scaler.transform(X_test) \n",
    "\n",
    "oversample = SMOTE()\n",
    "Xsmote, ysmote = oversample.fit_resample(X_train, y_train)"
   ]
  },
  {
   "cell_type": "code",
   "execution_count": 85,
   "metadata": {},
   "outputs": [
    {
     "data": {
      "text/plain": [
       "0    1401\n",
       "2    1401\n",
       "1    1401\n",
       "Name: Recommender, dtype: int64"
      ]
     },
     "execution_count": 85,
     "metadata": {},
     "output_type": "execute_result"
    }
   ],
   "source": [
    "ysmote['Recommender'].value_counts()"
   ]
  },
  {
   "cell_type": "code",
   "execution_count": 78,
   "metadata": {},
   "outputs": [
    {
     "name": "stdout",
     "output_type": "stream",
     "text": [
      "Parameters currently in use:\n",
      "\n",
      "{'bootstrap': True, 'ccp_alpha': 0.0, 'class_weight': None, 'criterion': 'gini', 'max_depth': None, 'max_features': 'auto', 'max_leaf_nodes': None, 'max_samples': None, 'min_impurity_decrease': 0.0, 'min_samples_leaf': 1, 'min_samples_split': 2, 'min_weight_fraction_leaf': 0.0, 'n_estimators': 100, 'n_jobs': None, 'oob_score': False, 'random_state': None, 'verbose': 0, 'warm_start': False}\n"
     ]
    }
   ],
   "source": [
    "# Look at parameters used by our current RF Model\n",
    "print('Parameters currently in use:\\n')\n",
    "print(rf.get_params())\n"
   ]
  },
  {
   "cell_type": "code",
   "execution_count": 86,
   "metadata": {},
   "outputs": [
    {
     "name": "stdout",
     "output_type": "stream",
     "text": [
      "Fitting 3 folds for each of 100 candidates, totalling 300 fits\n"
     ]
    },
    {
     "name": "stderr",
     "output_type": "stream",
     "text": [
      "C:\\Users\\RAHUL\\AppData\\Local\\Programs\\Python\\Python39\\lib\\site-packages\\sklearn\\model_selection\\_search.py:926: DataConversionWarning: A column-vector y was passed when a 1d array was expected. Please change the shape of y to (n_samples,), for example using ravel().\n",
      "  self.best_estimator_.fit(X, y, **fit_params)\n"
     ]
    },
    {
     "data": {
      "text/plain": [
       "RandomizedSearchCV(cv=3, estimator=RandomForestClassifier(), n_iter=100,\n",
       "                   n_jobs=-1,\n",
       "                   param_distributions={'bootstrap': [True, False],\n",
       "                                        'max_depth': [10, 20, 30, 40, 50, 60,\n",
       "                                                      70, 80, 90, 100, 110,\n",
       "                                                      None],\n",
       "                                        'max_features': ['auto', 'sqrt'],\n",
       "                                        'min_samples_leaf': [1, 2, 4],\n",
       "                                        'min_samples_split': [2, 5, 10],\n",
       "                                        'n_estimators': [200, 400, 600, 800,\n",
       "                                                         1000, 1200, 1400, 1600,\n",
       "                                                         1800, 2000]},\n",
       "                   random_state=42, verbose=2)"
      ]
     },
     "execution_count": 86,
     "metadata": {},
     "output_type": "execute_result"
    }
   ],
   "source": [
    "from sklearn.model_selection import RandomizedSearchCV\n",
    "\n",
    "# Number of trees in random forest\n",
    "n_estimators = [int(x) for x in np.linspace(start = 200, stop = 2000, num = 10)]\n",
    "\n",
    "# Number of features to consider at every split\n",
    "max_features = ['auto', 'sqrt']\n",
    "\n",
    "# Maximum number of levels in tree\n",
    "max_depth = [int(x) for x in np.linspace(10, 110, num = 11)]\n",
    "max_depth.append(None)\n",
    "\n",
    "# Minimum number of samples required to split a node\n",
    "min_samples_split = [2, 5, 10]\n",
    "\n",
    "# Minimum number of samples required at each leaf node\n",
    "min_samples_leaf = [1, 2, 4]\n",
    "\n",
    "# Method of selecting samples for training each tree\n",
    "bootstrap = [True, False]\n",
    "\n",
    "# Create the random grid\n",
    "random_grid = {'n_estimators': n_estimators,\n",
    "               'max_features': max_features,\n",
    "               'max_depth': max_depth,\n",
    "               'min_samples_split': min_samples_split,\n",
    "               'min_samples_leaf': min_samples_leaf,\n",
    "               'bootstrap': bootstrap}\n",
    "\n",
    "\n",
    "# Use the random grid to search for best hyperparameters\n",
    "# First create the base model to tune\n",
    "rf= RandomForestClassifier()\n",
    "# Random search of parameters, using 3 fold cross validation, \n",
    "# search across 100 different combinations, and use all available cores\n",
    "rf_random = RandomizedSearchCV(estimator = rf, param_distributions = random_grid, n_iter = 100, cv = 3, verbose=2, random_state=42, n_jobs = -1)\n",
    "# Fit the random search model\n",
    "rf_random.fit(Xsmote, ysmote)"
   ]
  },
  {
   "cell_type": "code",
   "execution_count": null,
   "metadata": {},
   "outputs": [],
   "source": []
  }
 ],
 "metadata": {
  "interpreter": {
   "hash": "e9292ea86ddae4deca668d01fcf516d5d89bf271153c9a9a4d4b10b3d781426d"
  },
  "kernelspec": {
   "display_name": "Python 3.9.7 64-bit",
   "language": "python",
   "name": "python3"
  },
  "language_info": {
   "codemirror_mode": {
    "name": "ipython",
    "version": 3
   },
   "file_extension": ".py",
   "mimetype": "text/x-python",
   "name": "python",
   "nbconvert_exporter": "python",
   "pygments_lexer": "ipython3",
   "version": "3.9.7"
  },
  "orig_nbformat": 4
 },
 "nbformat": 4,
 "nbformat_minor": 2
}
