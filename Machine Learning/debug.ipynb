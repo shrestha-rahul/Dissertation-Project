{
 "cells": [
  {
   "cell_type": "code",
   "execution_count": 43,
   "metadata": {},
   "outputs": [],
   "source": [
    "#Libraries\n",
    "import numpy as np \n",
    "import pandas as pd \n",
    "import matplotlib.pyplot as plts\n",
    "from datetime import date\n",
    "import pandas_datareader as data\n",
    "from pandas_datareader import *\n",
    "import math\n",
    "from PIL import Image\n",
    "import yfinance as yf\n",
    "import pickle\n",
    "\n",
    "#Scaler\n",
    "from sklearn.metrics import classification_report\n",
    "from sklearn.model_selection import RandomizedSearchCV\n",
    "from sklearn.preprocessing import MinMaxScaler\n",
    "from sklearn.preprocessing import StandardScaler \n",
    "from sklearn.metrics import mean_squared_error\n",
    "from numpy import sqrt \n",
    "\n",
    "\n",
    "#Model import\n",
    "from sklearn.model_selection import train_test_split\n",
    "from keras.models import load_model\n",
    "from sklearn.tree import DecisionTreeRegressor\n",
    "from sklearn.tree import DecisionTreeClassifier\n",
    "from sklearn.linear_model import LinearRegression\n",
    "from statsmodels.tsa.arima.model import ARIMA\n",
    "from pmdarima.arima import auto_arima\n",
    "from sklearn.metrics import mean_squared_error\n",
    "from statsmodels.tsa.arima_model import ARIMAResults\n",
    "from sklearn import tree \n",
    "\n",
    "#Model Result Analysis\n",
    "from sklearn.metrics import accuracy_score, confusion_matrix, roc_auc_score, ConfusionMatrixDisplay, precision_score, recall_score, f1_score, classification_report, roc_curve, plot_roc_curve, auc, precision_recall_curve, plot_precision_recall_curve, average_precision_score\n",
    "from sklearn.model_selection import cross_val_score\n",
    "\n",
    "#Streamlit\n",
    "import streamlit as st\n",
    "from plotly import graph_objs as plt"
   ]
  },
  {
   "cell_type": "code",
   "execution_count": 44,
   "metadata": {},
   "outputs": [],
   "source": [
    "#Default-Setting Dates for scarping Dataset\n",
    "START = '2019-01-01'\n",
    "END = date.today().strftime(\"%Y-%m-%d\")\n",
    "\n",
    "stock_dataset = data.DataReader('AAPL', 'yahoo', START, END)"
   ]
  },
  {
   "cell_type": "code",
   "execution_count": 45,
   "metadata": {},
   "outputs": [],
   "source": [
    "#Stochastic Oscillator\n",
    "stock_dataset['14-high'] = stock_dataset['High'].rolling(14).max()\n",
    "stock_dataset['14-low'] = stock_dataset['Low'].rolling(14).min()\n",
    "stock_dataset['%K'] = (stock_dataset['Close'] - stock_dataset['14-low'])*100/(stock_dataset['14-high'] - stock_dataset['14-low'])\n",
    "stock_dataset['%D'] = stock_dataset['%K'].rolling(3).mean()\n",
    "\n",
    "stock_dataset.drop(['14-high', '14-low'], axis = 1, inplace=True)\n",
    "\n",
    "# Adding Buy/Sell Signals from Sotchastic Oscillator Indicator\n",
    "def categorise_so(row):  \n",
    "    if row['%K'] <= 20 and row['%D'] <= 20:\n",
    "        return 'Buy'\n",
    "    elif row['%K'] >= 80 and  row['%D']>= 80:\n",
    "        return 'Sell'\n",
    "    else:\n",
    "        return 'Hold'\n",
    "   \n",
    "stock_dataset['SO Indicator'] = stock_dataset.apply(lambda row: categorise_so(row), axis=1)"
   ]
  },
  {
   "cell_type": "code",
   "execution_count": 46,
   "metadata": {},
   "outputs": [],
   "source": [
    "#RSI\n",
    "delta = stock_dataset['Close'].diff()\n",
    "up = delta.clip(lower=0)\n",
    "down = -1*delta.clip(upper=0)\n",
    "ema_up = up.ewm(com=13, adjust=False).mean()\n",
    "ema_down = down.ewm(com=13, adjust=False).mean()\n",
    "rs = ema_up/ema_down\n",
    "stock_dataset['RSI'] = 100 - (100/(1 + rs))\n",
    "\n",
    "# Adding Buy/Sell Signals from RSI Indicator\n",
    "def categorise_rsi(row):  \n",
    "    if row['RSI'] <= 30:\n",
    "        return 'Buy'\n",
    "    elif row['RSI'] >= 70:\n",
    "        return 'Sell'\n",
    "    else:\n",
    "        return 'Hold'\n",
    "  \n",
    "stock_dataset['RSI Indicator'] = stock_dataset.apply(lambda row: categorise_rsi(row), axis=1)"
   ]
  },
  {
   "cell_type": "code",
   "execution_count": 47,
   "metadata": {},
   "outputs": [],
   "source": [
    "#Bollinger Bands\n",
    "def get_sma(prices, rate):\n",
    "    return prices.rolling(rate).mean()\n",
    "\n",
    "def get_bollinger_bands(prices, rate=20):\n",
    "    # SMA for 20 Days (Middle Band)\n",
    "    sma = get_sma(prices, rate)\n",
    "    std = prices.rolling(rate).std()\n",
    "\n",
    "    # Calculating Upper Band\n",
    "    bollinger_upper = sma + (std * 2 )\n",
    "\n",
    "    # Calculate Lower Band\n",
    "    bollinger_lower = sma - (std * 2 )\n",
    "\n",
    "    #Middle Band\n",
    "    bollinger_middle = sma\n",
    "    return bollinger_upper, bollinger_lower, bollinger_middle\n",
    "\n",
    "\n",
    "closing_prices = stock_dataset['Close']\n",
    "bollinger_upper, bollinger_lower, bollinger_middle = get_bollinger_bands(closing_prices)\n",
    "\n",
    "#Adding Bollinger Bands to the Dataset\n",
    "stock_dataset['Bollinger_Upper'] = bollinger_upper\n",
    "stock_dataset['Bollinger_Lower'] = bollinger_lower\n",
    "\n",
    "# Adding Buy/Sell Signals from Bollinger Bands Indicator\n",
    "def categorise_bollinger(row):  \n",
    "    if row['Close'] < row['Bollinger_Lower']:\n",
    "        return 'Buy'\n",
    "    elif row['Close'] > row['Bollinger_Upper']:\n",
    "        return 'Sell'\n",
    "    else:\n",
    "        return 'Hold'\n",
    "    \n",
    "   \n",
    "stock_dataset['Bollinger Indicator'] = stock_dataset.apply(lambda row: categorise_bollinger(row), axis=1)"
   ]
  },
  {
   "cell_type": "code",
   "execution_count": 48,
   "metadata": {},
   "outputs": [],
   "source": [
    "#MACD Inidicator\n",
    "# Calculating the MACD Line and the Signal Line\n",
    "ema12 = stock_dataset['Close'].ewm(span=12, adjust=False).mean()\n",
    "ema26 = stock_dataset['Close'].ewm(span=26, adjust=False).mean()\n",
    "macd = ema12 - ema26\n",
    "signal = macd.ewm(span=9, adjust=False).mean()\n",
    "\n",
    "\n",
    "#Appeding the MACD and Signal Data to Dataset\n",
    "stock_dataset['MACD'] = macd\n",
    "stock_dataset['Signal'] = signal\n",
    "\n",
    "#Adding Target Variable\n",
    "# Recommender Based on the three indicators\n",
    "def recommender(row): \n",
    "    # If All Share the Same Signal OutPut That Signal (Buy)\n",
    "    if row['RSI Indicator'] == \"Buy\" and row['SO Indicator'] == 'Buy' and  row['Bollinger Indicator'] == 'Buy':\n",
    "        return 'Buy'\n",
    "     # If Any 2 Indicators Share the Same Signal Output That Signal (buy)\n",
    "    elif row['RSI Indicator'] == 'Buy' and row['SO Indicator'] == 'Buy':\n",
    "        return 'Buy'\n",
    "    elif row['RSI Indicator'] == 'Buy' and row['Bollinger Indicator'] == 'Buy':\n",
    "        return 'Buy'\n",
    "    elif row['SO Indicator'] == 'Buy' and row['Bollinger Indicator'] == 'Buy':\n",
    "        return 'Buy'   \n",
    "    # If All Share the Same Signal Output That Signal (Sell)\n",
    "    elif row['RSI Indicator'] == 'Sell' and row['SO Indicator'] == 'Sell' and  row['Bollinger Indicator'] == 'Sell':\n",
    "        return 'Sell'\n",
    "    # If Any 2 Indicators Share the Same Signal Output That Signal (Sell)\n",
    "    elif row['RSI Indicator'] == 'Sell' and row['SO Indicator'] == 'Sell':\n",
    "        return 'Sell'\n",
    "    elif row['RSI Indicator'] == 'Sell' and row['Bollinger Indicator'] == 'Sell':\n",
    "        return 'Sell'\n",
    "    elif row['SO Indicator'] == 'Sell' and row['Bollinger Indicator'] == 'Sell':\n",
    "        return 'Sell'    \n",
    "    # If All Share the Same Signal OutPut That Signal (Hold)\n",
    "    elif row['RSI Indicator'] == 'Hold' and row['SO Indicator'] == 'Hold' and  row['Bollinger Indicator'] == 'Hold':\n",
    "        return 'Hold'\n",
    "    # If Any 2 Indicators Share the Same Signal Output That Signal (Hold)\n",
    "    elif row['RSI Indicator'] == 'Hold' and row['SO Indicator'] == 'Hold':\n",
    "        return 'Hold'\n",
    "    elif row['RSI Indicator'] == 'Hold' and row['Bollinger Indicator'] == 'Hold':\n",
    "        return 'Hold'\n",
    "    elif row['SO Indicator'] == 'Hold' and row['Bollinger Indicator'] == 'Hold':\n",
    "        return 'Hold'      \n",
    "    else:\n",
    "        return 'Unclassed'\n",
    "\n",
    "stock_dataset['Recommender'] = stock_dataset.apply(lambda row: recommender(row), axis=1)"
   ]
  },
  {
   "cell_type": "code",
   "execution_count": 51,
   "metadata": {},
   "outputs": [
    {
     "name": "stderr",
     "output_type": "stream",
     "text": [
      "C:\\Users\\RAHUL\\AppData\\Local\\Temp/ipykernel_18832/3435696030.py:10: SettingWithCopyWarning: \n",
      "A value is trying to be set on a copy of a slice from a DataFrame.\n",
      "Try using .loc[row_indexer,col_indexer] = value instead\n",
      "\n",
      "See the caveats in the documentation: https://pandas.pydata.org/pandas-docs/stable/user_guide/indexing.html#returning-a-view-versus-a-copy\n",
      "  stock_dataset['Recommender'] = stock_dataset['Recommender'].map(signal_dict)\n"
     ]
    }
   ],
   "source": [
    "\n",
    "#Dropping Other Trading Signals from Indicators\n",
    "stock_dataset.drop(['RSI Indicator', 'SO Indicator', 'Bollinger Indicator', 'Adj Close'], axis = 1, inplace=True)\n",
    "\n",
    "#Dropping Null Values\n",
    "stock_dataset = stock_dataset.dropna()\n",
    "\n",
    "#Encoding Categorical Variables\n",
    "\n",
    "signal_dict = {'Hold': 0, 'Sell': 1, 'Buy': 2}\n",
    "stock_dataset['Recommender'] = stock_dataset['Recommender'].map(signal_dict)"
   ]
  },
  {
   "cell_type": "code",
   "execution_count": 52,
   "metadata": {},
   "outputs": [],
   "source": [
    "#Dropping Null Values\n",
    "stock_dataset = stock_dataset.dropna()"
   ]
  },
  {
   "cell_type": "code",
   "execution_count": 53,
   "metadata": {},
   "outputs": [
    {
     "name": "stdout",
     "output_type": "stream",
     "text": [
      "<class 'pandas.core.frame.DataFrame'>\n",
      "DatetimeIndex: 822 entries, 2019-01-31 to 2022-05-04\n",
      "Data columns (total 13 columns):\n",
      " #   Column           Non-Null Count  Dtype  \n",
      "---  ------           --------------  -----  \n",
      " 0   High             822 non-null    float64\n",
      " 1   Low              822 non-null    float64\n",
      " 2   Open             822 non-null    float64\n",
      " 3   Close            822 non-null    float64\n",
      " 4   Volume           822 non-null    float64\n",
      " 5   %K               822 non-null    float64\n",
      " 6   %D               822 non-null    float64\n",
      " 7   RSI              822 non-null    float64\n",
      " 8   Bollinger_Upper  822 non-null    float64\n",
      " 9   Bollinger_Lower  822 non-null    float64\n",
      " 10  MACD             822 non-null    float64\n",
      " 11  Signal           822 non-null    float64\n",
      " 12  Recommender      822 non-null    float64\n",
      "dtypes: float64(13)\n",
      "memory usage: 89.9 KB\n"
     ]
    }
   ],
   "source": [
    "stock_dataset.info()"
   ]
  },
  {
   "cell_type": "code",
   "execution_count": 54,
   "metadata": {},
   "outputs": [],
   "source": [
    "# converting 'Weight' from float to int\n",
    "stock_dataset['Recommender'] = stock_dataset['Recommender'].astype(int)"
   ]
  },
  {
   "cell_type": "code",
   "execution_count": 55,
   "metadata": {},
   "outputs": [
    {
     "name": "stdout",
     "output_type": "stream",
     "text": [
      "<class 'pandas.core.frame.DataFrame'>\n",
      "DatetimeIndex: 822 entries, 2019-01-31 to 2022-05-04\n",
      "Data columns (total 13 columns):\n",
      " #   Column           Non-Null Count  Dtype  \n",
      "---  ------           --------------  -----  \n",
      " 0   High             822 non-null    float64\n",
      " 1   Low              822 non-null    float64\n",
      " 2   Open             822 non-null    float64\n",
      " 3   Close            822 non-null    float64\n",
      " 4   Volume           822 non-null    float64\n",
      " 5   %K               822 non-null    float64\n",
      " 6   %D               822 non-null    float64\n",
      " 7   RSI              822 non-null    float64\n",
      " 8   Bollinger_Upper  822 non-null    float64\n",
      " 9   Bollinger_Lower  822 non-null    float64\n",
      " 10  MACD             822 non-null    float64\n",
      " 11  Signal           822 non-null    float64\n",
      " 12  Recommender      822 non-null    int32  \n",
      "dtypes: float64(12), int32(1)\n",
      "memory usage: 86.7 KB\n"
     ]
    }
   ],
   "source": [
    "stock_dataset.info()"
   ]
  },
  {
   "cell_type": "code",
   "execution_count": 58,
   "metadata": {},
   "outputs": [],
   "source": [
    "#Independant and Dependent Variable\n",
    "y=stock_dataset.iloc[:,12:13] #Dependent variable\n",
    "X=stock_dataset.iloc[:,0:12] #Independent variable"
   ]
  },
  {
   "cell_type": "code",
   "execution_count": null,
   "metadata": {},
   "outputs": [],
   "source": []
  },
  {
   "cell_type": "code",
   "execution_count": null,
   "metadata": {},
   "outputs": [],
   "source": []
  },
  {
   "cell_type": "code",
   "execution_count": 59,
   "metadata": {},
   "outputs": [],
   "source": [
    "#Spliting the data into train and test\n",
    "X_train, X_test, y_train, y_test = train_test_split( X, y, test_size=0.3, random_state=42)\n",
    "\n",
    "#Scaling\n",
    "scaler = MinMaxScaler(feature_range=(0,1))\n",
    "X_train = scaler.fit_transform(X_train)\n",
    "X_test = scaler.transform(X_test)\n"
   ]
  },
  {
   "cell_type": "code",
   "execution_count": 62,
   "metadata": {},
   "outputs": [
    {
     "name": "stdout",
     "output_type": "stream",
     "text": [
      "Accuracy Score : 0.8906882591093117\n",
      "Precision Score : 0.6679556475571656\n",
      "Recall Score :  0.9222085385878489\n",
      "F1 Score:  0.7149589913086057\n"
     ]
    }
   ],
   "source": [
    "rf_tuned_model = 'rf_tuned_model.sav'\n",
    "loaded_model = pickle.load(open(rf_tuned_model, 'rb'))\n",
    "\n",
    "#Making Prediction with Model\n",
    "y_pred = loaded_model.predict(X_test)\n",
    "\n",
    "#Evaluate\n",
    "accuracy = accuracy_score(y_pred , y_test)\n",
    "print(\"Accuracy Score :\", accuracy)\n",
    "\n",
    "#Precision\n",
    "test_precision = precision_score(y_test, y_pred,  average='macro')\n",
    "print(\"Precision Score :\", test_precision) \n",
    "#Recall\n",
    "test_recall = recall_score(y_test, y_pred,  average='macro')\n",
    "print(\"Recall Score : \", test_recall)\n",
    "#F1 Score\n",
    "test_f1 = f1_score(y_test, y_pred,average='macro')\n",
    "print(\"F1 Score: \", test_f1)"
   ]
  },
  {
   "cell_type": "code",
   "execution_count": null,
   "metadata": {},
   "outputs": [],
   "source": []
  },
  {
   "cell_type": "code",
   "execution_count": null,
   "metadata": {},
   "outputs": [],
   "source": []
  },
  {
   "cell_type": "code",
   "execution_count": null,
   "metadata": {},
   "outputs": [],
   "source": []
  },
  {
   "cell_type": "code",
   "execution_count": null,
   "metadata": {},
   "outputs": [],
   "source": []
  },
  {
   "cell_type": "code",
   "execution_count": null,
   "metadata": {},
   "outputs": [],
   "source": []
  },
  {
   "cell_type": "code",
   "execution_count": null,
   "metadata": {},
   "outputs": [],
   "source": []
  },
  {
   "cell_type": "code",
   "execution_count": null,
   "metadata": {},
   "outputs": [],
   "source": []
  },
  {
   "cell_type": "code",
   "execution_count": null,
   "metadata": {},
   "outputs": [],
   "source": []
  },
  {
   "cell_type": "code",
   "execution_count": null,
   "metadata": {},
   "outputs": [],
   "source": []
  },
  {
   "cell_type": "code",
   "execution_count": null,
   "metadata": {},
   "outputs": [],
   "source": []
  },
  {
   "cell_type": "code",
   "execution_count": null,
   "metadata": {},
   "outputs": [],
   "source": []
  },
  {
   "cell_type": "code",
   "execution_count": null,
   "metadata": {},
   "outputs": [],
   "source": []
  },
  {
   "cell_type": "code",
   "execution_count": null,
   "metadata": {},
   "outputs": [],
   "source": []
  },
  {
   "cell_type": "code",
   "execution_count": null,
   "metadata": {},
   "outputs": [],
   "source": []
  },
  {
   "cell_type": "code",
   "execution_count": null,
   "metadata": {},
   "outputs": [],
   "source": []
  }
 ],
 "metadata": {
  "interpreter": {
   "hash": "e9292ea86ddae4deca668d01fcf516d5d89bf271153c9a9a4d4b10b3d781426d"
  },
  "kernelspec": {
   "display_name": "Python 3.9.7 64-bit",
   "language": "python",
   "name": "python3"
  },
  "language_info": {
   "codemirror_mode": {
    "name": "ipython",
    "version": 3
   },
   "file_extension": ".py",
   "mimetype": "text/x-python",
   "name": "python",
   "nbconvert_exporter": "python",
   "pygments_lexer": "ipython3",
   "version": "3.9.7"
  },
  "orig_nbformat": 4
 },
 "nbformat": 4,
 "nbformat_minor": 2
}
