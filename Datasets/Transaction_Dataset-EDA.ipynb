{
 "cells": [
  {
   "cell_type": "code",
   "execution_count": 2,
   "metadata": {},
   "outputs": [
    {
     "data": {
      "text/html": [
       "<div>\n",
       "<style scoped>\n",
       "    .dataframe tbody tr th:only-of-type {\n",
       "        vertical-align: middle;\n",
       "    }\n",
       "\n",
       "    .dataframe tbody tr th {\n",
       "        vertical-align: top;\n",
       "    }\n",
       "\n",
       "    .dataframe thead th {\n",
       "        text-align: right;\n",
       "    }\n",
       "</style>\n",
       "<table border=\"1\" class=\"dataframe\">\n",
       "  <thead>\n",
       "    <tr style=\"text-align: right;\">\n",
       "      <th></th>\n",
       "      <th>year</th>\n",
       "      <th>level_1</th>\n",
       "      <th>level_2</th>\n",
       "      <th>level_3</th>\n",
       "      <th>level_4</th>\n",
       "      <th>value</th>\n",
       "    </tr>\n",
       "  </thead>\n",
       "  <tbody>\n",
       "    <tr>\n",
       "      <th>0</th>\n",
       "      <td>2013</td>\n",
       "      <td>Total</td>\n",
       "      <td>FOOD AND NON-ALCOHOLIC BEVERAGES</td>\n",
       "      <td>FOOD</td>\n",
       "      <td>Bread and Cereals</td>\n",
       "      <td>78.2</td>\n",
       "    </tr>\n",
       "    <tr>\n",
       "      <th>1</th>\n",
       "      <td>2013</td>\n",
       "      <td>Total</td>\n",
       "      <td>FOOD AND NON-ALCOHOLIC BEVERAGES</td>\n",
       "      <td>FOOD</td>\n",
       "      <td>Meat</td>\n",
       "      <td>66.3</td>\n",
       "    </tr>\n",
       "    <tr>\n",
       "      <th>2</th>\n",
       "      <td>2013</td>\n",
       "      <td>Total</td>\n",
       "      <td>FOOD AND NON-ALCOHOLIC BEVERAGES</td>\n",
       "      <td>FOOD</td>\n",
       "      <td>Fish and Seafood</td>\n",
       "      <td>64.3</td>\n",
       "    </tr>\n",
       "    <tr>\n",
       "      <th>3</th>\n",
       "      <td>2013</td>\n",
       "      <td>Total</td>\n",
       "      <td>FOOD AND NON-ALCOHOLIC BEVERAGES</td>\n",
       "      <td>FOOD</td>\n",
       "      <td>Milk, Cheese and Eggs</td>\n",
       "      <td>49.4</td>\n",
       "    </tr>\n",
       "    <tr>\n",
       "      <th>4</th>\n",
       "      <td>2013</td>\n",
       "      <td>Total</td>\n",
       "      <td>FOOD AND NON-ALCOHOLIC BEVERAGES</td>\n",
       "      <td>FOOD</td>\n",
       "      <td>Oils and Fats</td>\n",
       "      <td>8.9</td>\n",
       "    </tr>\n",
       "  </tbody>\n",
       "</table>\n",
       "</div>"
      ],
      "text/plain": [
       "   year level_1                           level_2 level_3  \\\n",
       "0  2013   Total  FOOD AND NON-ALCOHOLIC BEVERAGES    FOOD   \n",
       "1  2013   Total  FOOD AND NON-ALCOHOLIC BEVERAGES    FOOD   \n",
       "2  2013   Total  FOOD AND NON-ALCOHOLIC BEVERAGES    FOOD   \n",
       "3  2013   Total  FOOD AND NON-ALCOHOLIC BEVERAGES    FOOD   \n",
       "4  2013   Total  FOOD AND NON-ALCOHOLIC BEVERAGES    FOOD   \n",
       "\n",
       "                 level_4  value  \n",
       "0      Bread and Cereals   78.2  \n",
       "1                   Meat   66.3  \n",
       "2       Fish and Seafood   64.3  \n",
       "3  Milk, Cheese and Eggs   49.4  \n",
       "4          Oils and Fats    8.9  "
      ]
     },
     "execution_count": 2,
     "metadata": {},
     "output_type": "execute_result"
    }
   ],
   "source": [
    "##Importing Packages\n",
    "import numpy as np\n",
    "import pandas as pd\n",
    "import matplotlib.pyplot as plt\n",
    "import seaborn as sns\n",
    "import random\n",
    "import warnings\n",
    "warnings.simplefilter(action='ignore', category=FutureWarning)\n",
    "\n",
    "import plotly\n",
    "import plotly.figure_factory as ff\n",
    "from sklearn.preprocessing import StandardScaler \n",
    "from sklearn.model_selection import train_test_split\n",
    "from imblearn.datasets import make_imbalance\n",
    "from imblearn.over_sampling import SMOTE\n",
    "\n",
    "#Models\n",
    "from sklearn.linear_model import LogisticRegression\n",
    "from sklearn.naive_bayes import GaussianNB\n",
    "from sklearn.linear_model import SGDClassifier\n",
    "from sklearn.neighbors import KNeighborsClassifier\n",
    "from sklearn.tree import DecisionTreeClassifier\n",
    "from sklearn.ensemble import RandomForestClassifier\n",
    "from sklearn.svm import SVC\n",
    "from sklearn.neural_network import MLPClassifier\n",
    "\n",
    "#Model Result Analysis\n",
    "from sklearn.metrics import accuracy_score, confusion_matrix, roc_auc_score, ConfusionMatrixDisplay, precision_score, recall_score, f1_score, classification_report, roc_curve, plot_roc_curve, auc, precision_recall_curve, plot_precision_recall_curve, average_precision_score\n",
    "from sklearn.model_selection import cross_val_score\n",
    "\n",
    "\n",
    "#Loading data into dataframe\n",
    "dataset = pd.read_csv('Transaction-Dataset.csv')\n",
    "\n",
    "#Getting top 5 rows of the dataframe\n",
    "dataset.head()"
   ]
  },
  {
   "cell_type": "code",
   "execution_count": 10,
   "metadata": {},
   "outputs": [
    {
     "name": "stdout",
     "output_type": "stream",
     "text": [
      "['FOOD AND NON-ALCOHOLIC BEVERAGES' 'ALCOHOLIC BEVERAGES AND TOBACCO'\n",
      " 'CLOTHING AND FOOTWEAR' 'HOUSING AND UTILITIES'\n",
      " 'FURNISHINGS, HOUSEHOLD EQUIPMENT AND ROUTINE HOUSEHOLD MAINTENANCE'\n",
      " 'HEALTH' 'TRANSPORT' 'COMMUNICATION' 'RECREATION AND CULTURE'\n",
      " 'EDUCATIONAL SERVICES' 'MISCELLANEOUS GOODS AND SERVICES']\n"
     ]
    }
   ],
   "source": [
    "#Categories Level 2\n",
    "# unique values in column \"Team\"\n",
    "print(dataset['level_2'].unique())\n",
    "\n"
   ]
  },
  {
   "cell_type": "code",
   "execution_count": 9,
   "metadata": {},
   "outputs": [
    {
     "name": "stdout",
     "output_type": "stream",
     "text": [
      "RECREATION AND CULTURE                                                152\n",
      "TRANSPORT                                                             140\n",
      "FOOD AND NON-ALCOHOLIC BEVERAGES                                      121\n",
      "MISCELLANEOUS GOODS AND SERVICES                                      118\n",
      "EDUCATIONAL SERVICES                                                   99\n",
      "FURNISHINGS, HOUSEHOLD EQUIPMENT AND ROUTINE HOUSEHOLD MAINTENANCE     92\n",
      "HEALTH                                                                 88\n",
      "CLOTHING AND FOOTWEAR                                                  65\n",
      "HOUSING AND UTILITIES                                                  44\n",
      "ALCOHOLIC BEVERAGES AND TOBACCO                                        33\n",
      "COMMUNICATION                                                          20\n",
      "Name: level_2, dtype: int64\n"
     ]
    }
   ],
   "source": [
    "#Categories Level 2\n",
    "# value counts of each unique value\n",
    "print(dataset['level_2'].value_counts())"
   ]
  },
  {
   "cell_type": "code",
   "execution_count": 5,
   "metadata": {},
   "outputs": [
    {
     "name": "stdout",
     "output_type": "stream",
     "text": [
      "['FOOD' 'NON-ALCOHOLIC BEVERAGES' 'ALCOHOLIC BEVERAGES' 'CLOTHING'\n",
      " 'FOOTWEAR' 'MAINTENANCE AND REPAIR OF DWELLING'\n",
      " 'UTILITIES AND OTHER FUELS'\n",
      " 'FURNITURE AND FURNISHINGS, CARPETS AND OTHER FLOOR COVERINGS'\n",
      " 'HOUSEHOLD APPLIANCES' 'TOOLS AND EQUIPMENT FOR HOUSE AND GARDEN'\n",
      " 'GOODS AND SERVICES FOR ROUTINE HOUSEHOLD MAINTENANCE'\n",
      " 'MEDICAL PRODUCTS, APPLIANCES AND EQUIPMENT' 'OUTPATIENT SERVICES'\n",
      " 'HOSPITAL, CONVALESCENT AND REHABILITATION SERVICES'\n",
      " 'PURCHASE OF VEHICLES' 'OPERATION OF PERSONAL TRANSPORT EQUIPMENT'\n",
      " 'LAND TRANSPORT SERVICES' 'OTHER TRANSPORT SERVICES'\n",
      " 'POSTAL AND COURIER/DELIVERY SERVICES'\n",
      " 'AUDIO-VISUAL, PHOTOGRAPHIC AND INFORMATION PROCESSING EQUIPMENT'\n",
      " 'OTHER RECREATIONAL GOODS, GARDENS AND PETS'\n",
      " 'RECREATIONAL AND CULTURAL SERVICES' 'NEWSPAPERS, BOOKS AND STATIONERY'\n",
      " 'GENERAL, VOCATIONAL AND HIGHER EDUCATION'\n",
      " 'PRIVATE TUITION AND OTHER EDUCATIONAL COURSES' 'PERSONAL CARE'\n",
      " 'OTHER PERSONAL EFFECTS' 'INSURANCE' 'OTHER FINANCIAL SERVICES']\n"
     ]
    }
   ],
   "source": [
    "#Categories Level 3\n",
    "# unique values in column \"Team\"\n",
    "print(dataset['level_3'].unique())"
   ]
  },
  {
   "cell_type": "code",
   "execution_count": 11,
   "metadata": {},
   "outputs": [
    {
     "name": "stdout",
     "output_type": "stream",
     "text": [
      "FOOD                                                               99\n",
      "GENERAL, VOCATIONAL AND HIGHER EDUCATION                           66\n",
      "INSURANCE                                                          55\n",
      "AUDIO-VISUAL, PHOTOGRAPHIC AND INFORMATION PROCESSING EQUIPMENT    55\n",
      "CLOTHING                                                           44\n",
      "NEWSPAPERS, BOOKS AND STATIONERY                                   44\n",
      "OPERATION OF PERSONAL TRANSPORT EQUIPMENT                          44\n",
      "LAND TRANSPORT SERVICES                                            33\n",
      "ALCOHOLIC BEVERAGES                                                33\n",
      "PERSONAL CARE                                                      33\n",
      "PRIVATE TUITION AND OTHER EDUCATIONAL COURSES                      33\n",
      "HOUSEHOLD APPLIANCES                                               33\n",
      "RECREATIONAL AND CULTURAL SERVICES                                 33\n",
      "MEDICAL PRODUCTS, APPLIANCES AND EQUIPMENT                         33\n",
      "OUTPATIENT SERVICES                                                33\n",
      "OTHER TRANSPORT SERVICES                                           32\n",
      "PURCHASE OF VEHICLES                                               31\n",
      "NON-ALCOHOLIC BEVERAGES                                            22\n",
      "HOSPITAL, CONVALESCENT AND REHABILITATION SERVICES                 22\n",
      "GOODS AND SERVICES FOR ROUTINE HOUSEHOLD MAINTENANCE               22\n",
      "FURNITURE AND FURNISHINGS, CARPETS AND OTHER FLOOR COVERINGS       22\n",
      "UTILITIES AND OTHER FUELS                                          22\n",
      "MAINTENANCE AND REPAIR OF DWELLING                                 22\n",
      "OTHER PERSONAL EFFECTS                                             22\n",
      "FOOTWEAR                                                           21\n",
      "POSTAL AND COURIER/DELIVERY SERVICES                               20\n",
      "OTHER RECREATIONAL GOODS, GARDENS AND PETS                         20\n",
      "TOOLS AND EQUIPMENT FOR HOUSE AND GARDEN                           15\n",
      "OTHER FINANCIAL SERVICES                                            8\n",
      "Name: level_3, dtype: int64\n"
     ]
    }
   ],
   "source": [
    "#Categories Level 3\n",
    "# value counts of each unique value\n",
    "print(dataset['level_3'].value_counts())"
   ]
  },
  {
   "cell_type": "code",
   "execution_count": 6,
   "metadata": {},
   "outputs": [
    {
     "name": "stdout",
     "output_type": "stream",
     "text": [
      "['Bread and Cereals' 'Meat' 'Fish and Seafood' 'Milk, Cheese and Eggs'\n",
      " 'Oils and Fats' 'Fruits' 'Vegetables'\n",
      " 'Sugar, Jam, Honey, Chocolate and Confectionery' 'Food Products n.e.c'\n",
      " 'Coffee, Tea and Cocoa'\n",
      " 'Mineral Water, Soft Drinks, Fruit and Vegetable Juices' 'Spirits' 'Wine'\n",
      " 'Beer' 'Clothing Materials' 'Garments'\n",
      " 'Other Clothing and Clothing Accessories'\n",
      " 'Cleaning, Repair and Hire of Clothing' 'Shoes and Other Footwear'\n",
      " 'Repair and Hire of Footwear'\n",
      " 'Materials for Maintenance and Repair of Dwelling'\n",
      " 'Services for Maintenance and Repair of Dwelling'\n",
      " 'Water Supply and Miscellaneous Services Related to Dwelling'\n",
      " 'Electricity, Gas and Other Fuels' 'Furniture and Furnishings'\n",
      " 'Repair of Furniture, Furnishings and Floor Coverings'\n",
      " 'Major Household Appliances' 'Small Electrical Household Appliances'\n",
      " 'Repair of Household Appliances' 'Major Tools and Equipment'\n",
      " 'Small Tools and Miscellaneous Accessories' 'Non-Durable Household Goods'\n",
      " 'Domestic Services and Household Services' 'Pharmaceutical Products'\n",
      " 'Other Medical Products' 'Therapeutic Appliances and Equipment'\n",
      " 'Medical Services' 'Dental Services' 'Paramedical Services'\n",
      " 'Hospital Services' 'Intermediate and Long-Term Care Services'\n",
      " 'Motor Cars' 'Motorcycles' 'Bicycles'\n",
      " 'Spare Parts and Accessories for Vehicles'\n",
      " 'Fuels and Lubricants for Vehicles' 'Maintenance and Repair of Vehicles'\n",
      " 'Other Services in respect of Vehicles' 'Passenger Transport by Railway'\n",
      " 'Passenger Transport by Road'\n",
      " 'Combined Passenger Transport by Railway and Road'\n",
      " 'Passenger Transport by Air' 'Passenger Transport by Sea'\n",
      " 'Other Transport Services' 'Postal Services' 'Courier/Delivery Services'\n",
      " 'Audio-Visual Equipment and Accessories' 'Optical and Photographic Goods'\n",
      " 'Information Processing Equipment' 'Recording Media'\n",
      " 'Repair of Audio-Visual, Photographic and Information Processing Equipment'\n",
      " 'Other Major Durables for Recreation and Culture'\n",
      " 'Other Recreational Items and Equipment, Gardens and Pets'\n",
      " 'Recreational and Sporting Services' 'Cultural Services'\n",
      " 'Games of Chance' 'Books' 'Newspapers and Periodicals'\n",
      " 'Miscellaneous Printed Materials' 'Stationery and Drawing Materials'\n",
      " 'Pre-Primary and Primary Education' 'Secondary Education'\n",
      " 'Post-Secondary Education (Non-Tertiary)' 'Polytechnic Education'\n",
      " 'Professional Qualification and Other Diploma Courses'\n",
      " 'University Education' 'Home-Based Tuition' 'Centre-Based Tuition'\n",
      " 'Other Courses'\n",
      " 'Hairdressing Salons and Personal Grooming Establishments'\n",
      " 'Electrical Appliances for Personal Care'\n",
      " 'Other Appliances, Articles and Products for Personal Care'\n",
      " 'Jewellery, Clocks and Watches' 'Other Personal Effects'\n",
      " 'Life Insurance (Term only, excluding premiums for whole-life plans with saving component)'\n",
      " 'Housing Insurance' 'Health Insurance' 'Transport Insurance'\n",
      " 'Other Insurance' 'Other Financial Services n.e.c'\n",
      " 'Combined Passenger Transport, Except by Railway and Road only'\n",
      " 'Carpets and Other Floor Coverings']\n"
     ]
    }
   ],
   "source": [
    "#Categories Level 4\n",
    "# unique values in column \"Team\"\n",
    "print(dataset['level_4'].unique())"
   ]
  },
  {
   "cell_type": "code",
   "execution_count": null,
   "metadata": {},
   "outputs": [],
   "source": []
  }
 ],
 "metadata": {
  "interpreter": {
   "hash": "e9292ea86ddae4deca668d01fcf516d5d89bf271153c9a9a4d4b10b3d781426d"
  },
  "kernelspec": {
   "display_name": "Python 3.9.7 64-bit",
   "language": "python",
   "name": "python3"
  },
  "language_info": {
   "codemirror_mode": {
    "name": "ipython",
    "version": 3
   },
   "file_extension": ".py",
   "mimetype": "text/x-python",
   "name": "python",
   "nbconvert_exporter": "python",
   "pygments_lexer": "ipython3",
   "version": "3.9.7"
  },
  "orig_nbformat": 4
 },
 "nbformat": 4,
 "nbformat_minor": 2
}
